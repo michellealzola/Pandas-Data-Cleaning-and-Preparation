{
 "cells": [
  {
   "metadata": {},
   "cell_type": "markdown",
   "source": [
    "### **Problem 2: Sales Tax Compliance and Anomaly Detection**\n",
    "\n",
    "The accounting department suspects some receipts may have incorrect tax calculations. Your tasks:\n",
    "\n",
    "* Verify if `Tax` equals `Price × Quantity × 0.07`. Round to 2 decimals.\n",
    "* Flag any entries where the computed tax doesn't match the stored value.\n",
    "* Clean all invalid tax records by re-calculating them from `Price` and `Quantity`.\n",
    "* Generate a summary: count of corrected entries, and average difference in tax.\n",
    "* Split receipt numbers and count unique customers per store location.\n",
    "* From those records, extract and standardize the store’s street name and zip code.\n",
    "\n",
    "*Hint: A mismatch may come from rounding or bad input. Treat zip code as text.*"
   ],
   "id": "dd4a3bb686662dd8"
  },
  {
   "metadata": {
    "ExecuteTime": {
     "end_time": "2025-06-05T23:03:09.906248Z",
     "start_time": "2025-06-05T23:03:09.341119Z"
    }
   },
   "cell_type": "code",
   "source": [
    "import pandas as pd\n",
    "import numpy as np\n",
    "import re"
   ],
   "id": "e80c60165bc32eb8",
   "outputs": [],
   "execution_count": 1
  },
  {
   "metadata": {
    "ExecuteTime": {
     "end_time": "2025-06-05T23:03:09.915280Z",
     "start_time": "2025-06-05T23:03:09.907672Z"
    }
   },
   "cell_type": "code",
   "source": "data = pd.read_csv('fila_heat_filament_sales_april2025.csv')",
   "id": "f7238b94cfd270fe",
   "outputs": [],
   "execution_count": 2
  },
  {
   "metadata": {
    "ExecuteTime": {
     "end_time": "2025-06-05T23:03:09.919279Z",
     "start_time": "2025-06-05T23:03:09.916730Z"
    }
   },
   "cell_type": "code",
   "source": "df = pd.DataFrame(data)",
   "id": "46b7dd9ab3901c0c",
   "outputs": [],
   "execution_count": 3
  },
  {
   "metadata": {
    "ExecuteTime": {
     "end_time": "2025-06-05T23:03:09.934856Z",
     "start_time": "2025-06-05T23:03:09.920440Z"
    }
   },
   "cell_type": "code",
   "source": "df.head(3)",
   "id": "c9120c325dc6e923",
   "outputs": [
    {
     "data": {
      "text/plain": [
       "  Date Purchased                        Receipt Number     Customer Name  \\\n",
       "0     2025-04-01  1ff49b78-8946-4e85-b59c-de66bacfb3d0  Danielle Johnson   \n",
       "1     2025-04-01  434308bc-89fa-4a68-8fb5-d27bbeb79919      Tracie Wyatt   \n",
       "2     2025-04-01  52fbe43b-9954-4eb4-8025-7ad1eb2263dd        Eric Moore   \n",
       "\n",
       "                                  Customer Address           Phone Number  \\\n",
       "0  3321 Brittany Bypass, North Jefferyhaven, 79408             8386379402   \n",
       "1        64752 Kelly Skyway, Jacquelineland, 80341   +1-283-276-4835x0305   \n",
       "2             691 James Mountain, Tashatown, 89667  001-184-514-6270x4828   \n",
       "\n",
       "                          Email                              Store Location  \\\n",
       "0  danielle.johnson@hotmail.com  5423 Garcia Light, West Melanieview, 06196   \n",
       "1        tracie.wyatt@yahoo.com         1395 Diana Locks, Thomasberg, 32826   \n",
       "2          eric.moore@gmail.com        489 Eric Track, New Stephanie, 70015   \n",
       "\n",
       "            Product Name Product Code      Bar Code Material Name   Color  \\\n",
       "0  Standard PLA Filament      PLA-792  6.184960e+12           PLA    Blue   \n",
       "1  Flexible TPU Filament      TPU-338  9.696530e+12           TPU  Purple   \n",
       "2  Flexible TPU Filament      TPU-325  7.015430e+12           TPU  Purple   \n",
       "\n",
       "   Weight       Supplier Lot Number  Price  Quantity    Tax  Total Price  \n",
       "0     500    3DFilaments      L5012  26.69         1   1.87        28.56  \n",
       "1     500  ProtoPolymers      L1520  20.88         2   2.92        44.68  \n",
       "2    1000       PrintPro      L4257  41.47         4  11.61       177.49  "
      ],
      "text/html": [
       "<div>\n",
       "<style scoped>\n",
       "    .dataframe tbody tr th:only-of-type {\n",
       "        vertical-align: middle;\n",
       "    }\n",
       "\n",
       "    .dataframe tbody tr th {\n",
       "        vertical-align: top;\n",
       "    }\n",
       "\n",
       "    .dataframe thead th {\n",
       "        text-align: right;\n",
       "    }\n",
       "</style>\n",
       "<table border=\"1\" class=\"dataframe\">\n",
       "  <thead>\n",
       "    <tr style=\"text-align: right;\">\n",
       "      <th></th>\n",
       "      <th>Date Purchased</th>\n",
       "      <th>Receipt Number</th>\n",
       "      <th>Customer Name</th>\n",
       "      <th>Customer Address</th>\n",
       "      <th>Phone Number</th>\n",
       "      <th>Email</th>\n",
       "      <th>Store Location</th>\n",
       "      <th>Product Name</th>\n",
       "      <th>Product Code</th>\n",
       "      <th>Bar Code</th>\n",
       "      <th>Material Name</th>\n",
       "      <th>Color</th>\n",
       "      <th>Weight</th>\n",
       "      <th>Supplier</th>\n",
       "      <th>Lot Number</th>\n",
       "      <th>Price</th>\n",
       "      <th>Quantity</th>\n",
       "      <th>Tax</th>\n",
       "      <th>Total Price</th>\n",
       "    </tr>\n",
       "  </thead>\n",
       "  <tbody>\n",
       "    <tr>\n",
       "      <th>0</th>\n",
       "      <td>2025-04-01</td>\n",
       "      <td>1ff49b78-8946-4e85-b59c-de66bacfb3d0</td>\n",
       "      <td>Danielle Johnson</td>\n",
       "      <td>3321 Brittany Bypass, North Jefferyhaven, 79408</td>\n",
       "      <td>8386379402</td>\n",
       "      <td>danielle.johnson@hotmail.com</td>\n",
       "      <td>5423 Garcia Light, West Melanieview, 06196</td>\n",
       "      <td>Standard PLA Filament</td>\n",
       "      <td>PLA-792</td>\n",
       "      <td>6.184960e+12</td>\n",
       "      <td>PLA</td>\n",
       "      <td>Blue</td>\n",
       "      <td>500</td>\n",
       "      <td>3DFilaments</td>\n",
       "      <td>L5012</td>\n",
       "      <td>26.69</td>\n",
       "      <td>1</td>\n",
       "      <td>1.87</td>\n",
       "      <td>28.56</td>\n",
       "    </tr>\n",
       "    <tr>\n",
       "      <th>1</th>\n",
       "      <td>2025-04-01</td>\n",
       "      <td>434308bc-89fa-4a68-8fb5-d27bbeb79919</td>\n",
       "      <td>Tracie Wyatt</td>\n",
       "      <td>64752 Kelly Skyway, Jacquelineland, 80341</td>\n",
       "      <td>+1-283-276-4835x0305</td>\n",
       "      <td>tracie.wyatt@yahoo.com</td>\n",
       "      <td>1395 Diana Locks, Thomasberg, 32826</td>\n",
       "      <td>Flexible TPU Filament</td>\n",
       "      <td>TPU-338</td>\n",
       "      <td>9.696530e+12</td>\n",
       "      <td>TPU</td>\n",
       "      <td>Purple</td>\n",
       "      <td>500</td>\n",
       "      <td>ProtoPolymers</td>\n",
       "      <td>L1520</td>\n",
       "      <td>20.88</td>\n",
       "      <td>2</td>\n",
       "      <td>2.92</td>\n",
       "      <td>44.68</td>\n",
       "    </tr>\n",
       "    <tr>\n",
       "      <th>2</th>\n",
       "      <td>2025-04-01</td>\n",
       "      <td>52fbe43b-9954-4eb4-8025-7ad1eb2263dd</td>\n",
       "      <td>Eric Moore</td>\n",
       "      <td>691 James Mountain, Tashatown, 89667</td>\n",
       "      <td>001-184-514-6270x4828</td>\n",
       "      <td>eric.moore@gmail.com</td>\n",
       "      <td>489 Eric Track, New Stephanie, 70015</td>\n",
       "      <td>Flexible TPU Filament</td>\n",
       "      <td>TPU-325</td>\n",
       "      <td>7.015430e+12</td>\n",
       "      <td>TPU</td>\n",
       "      <td>Purple</td>\n",
       "      <td>1000</td>\n",
       "      <td>PrintPro</td>\n",
       "      <td>L4257</td>\n",
       "      <td>41.47</td>\n",
       "      <td>4</td>\n",
       "      <td>11.61</td>\n",
       "      <td>177.49</td>\n",
       "    </tr>\n",
       "  </tbody>\n",
       "</table>\n",
       "</div>"
      ]
     },
     "execution_count": 4,
     "metadata": {},
     "output_type": "execute_result"
    }
   ],
   "execution_count": 4
  },
  {
   "metadata": {
    "ExecuteTime": {
     "end_time": "2025-06-05T23:03:09.939868Z",
     "start_time": "2025-06-05T23:03:09.936676Z"
    }
   },
   "cell_type": "code",
   "source": [
    "# 1. Verify if `Tax` equals `Price × Quantity × 0.07`. Round to 2 decimals.\n",
    "price_qty_tax = df[['Price', 'Quantity', 'Tax']].copy()"
   ],
   "id": "d3a5449d6b1d47b6",
   "outputs": [],
   "execution_count": 5
  },
  {
   "metadata": {
    "ExecuteTime": {
     "end_time": "2025-06-05T23:03:09.943887Z",
     "start_time": "2025-06-05T23:03:09.940912Z"
    }
   },
   "cell_type": "code",
   "source": "price_qty_tax['Tax Rate'] = round(price_qty_tax['Tax']/(price_qty_tax['Price'] * price_qty_tax['Quantity']), 2)",
   "id": "eb02ad4d2574eb23",
   "outputs": [],
   "execution_count": 6
  },
  {
   "metadata": {
    "ExecuteTime": {
     "end_time": "2025-06-05T23:03:09.949889Z",
     "start_time": "2025-06-05T23:03:09.944901Z"
    }
   },
   "cell_type": "code",
   "source": "price_qty_tax.head(3)",
   "id": "f7d03e54997b42cd",
   "outputs": [
    {
     "data": {
      "text/plain": [
       "   Price  Quantity    Tax  Tax Rate\n",
       "0  26.69         1   1.87      0.07\n",
       "1  20.88         2   2.92      0.07\n",
       "2  41.47         4  11.61      0.07"
      ],
      "text/html": [
       "<div>\n",
       "<style scoped>\n",
       "    .dataframe tbody tr th:only-of-type {\n",
       "        vertical-align: middle;\n",
       "    }\n",
       "\n",
       "    .dataframe tbody tr th {\n",
       "        vertical-align: top;\n",
       "    }\n",
       "\n",
       "    .dataframe thead th {\n",
       "        text-align: right;\n",
       "    }\n",
       "</style>\n",
       "<table border=\"1\" class=\"dataframe\">\n",
       "  <thead>\n",
       "    <tr style=\"text-align: right;\">\n",
       "      <th></th>\n",
       "      <th>Price</th>\n",
       "      <th>Quantity</th>\n",
       "      <th>Tax</th>\n",
       "      <th>Tax Rate</th>\n",
       "    </tr>\n",
       "  </thead>\n",
       "  <tbody>\n",
       "    <tr>\n",
       "      <th>0</th>\n",
       "      <td>26.69</td>\n",
       "      <td>1</td>\n",
       "      <td>1.87</td>\n",
       "      <td>0.07</td>\n",
       "    </tr>\n",
       "    <tr>\n",
       "      <th>1</th>\n",
       "      <td>20.88</td>\n",
       "      <td>2</td>\n",
       "      <td>2.92</td>\n",
       "      <td>0.07</td>\n",
       "    </tr>\n",
       "    <tr>\n",
       "      <th>2</th>\n",
       "      <td>41.47</td>\n",
       "      <td>4</td>\n",
       "      <td>11.61</td>\n",
       "      <td>0.07</td>\n",
       "    </tr>\n",
       "  </tbody>\n",
       "</table>\n",
       "</div>"
      ]
     },
     "execution_count": 7,
     "metadata": {},
     "output_type": "execute_result"
    }
   ],
   "execution_count": 7
  },
  {
   "metadata": {
    "ExecuteTime": {
     "end_time": "2025-06-05T23:03:09.956328Z",
     "start_time": "2025-06-05T23:03:09.950755Z"
    }
   },
   "cell_type": "code",
   "source": "price_qty_tax[price_qty_tax['Tax Rate'] != 0.07].value_counts()",
   "id": "efbbc001a7d600e8",
   "outputs": [
    {
     "data": {
      "text/plain": [
       "Price  Quantity  Tax   Tax Rate\n",
       "31.21  2         5.0   0.08        1\n",
       "32.70  4         10.0  0.08        1\n",
       "46.96  1         4.0   0.09        1\n",
       "Name: count, dtype: int64"
      ]
     },
     "execution_count": 8,
     "metadata": {},
     "output_type": "execute_result"
    }
   ],
   "execution_count": 8
  },
  {
   "metadata": {
    "ExecuteTime": {
     "end_time": "2025-06-05T23:03:09.959878Z",
     "start_time": "2025-06-05T23:03:09.957199Z"
    }
   },
   "cell_type": "code",
   "source": [
    "# 2. Flag any entries where the computed tax doesn't match the stored value.\n",
    "price_qty_tax['FLAGGED Tax Rate'] = price_qty_tax['Tax Rate'].apply(lambda x: 'FLAGGED' if x != 0.07 else '')"
   ],
   "id": "b3ffd09bc08934b1",
   "outputs": [],
   "execution_count": 9
  },
  {
   "metadata": {
    "ExecuteTime": {
     "end_time": "2025-06-05T23:03:09.962937Z",
     "start_time": "2025-06-05T23:03:09.960881Z"
    }
   },
   "cell_type": "code",
   "source": "mask = price_qty_tax['FLAGGED Tax Rate'] == 'FLAGGED'",
   "id": "37d8b4b1eb4b1bb7",
   "outputs": [],
   "execution_count": 10
  },
  {
   "metadata": {
    "ExecuteTime": {
     "end_time": "2025-06-05T23:03:09.966240Z",
     "start_time": "2025-06-05T23:03:09.963720Z"
    }
   },
   "cell_type": "code",
   "source": "flagged_taxes = price_qty_tax[mask].copy()",
   "id": "ba485bf03e7f44",
   "outputs": [],
   "execution_count": 11
  },
  {
   "metadata": {
    "ExecuteTime": {
     "end_time": "2025-06-05T23:03:09.972241Z",
     "start_time": "2025-06-05T23:03:09.967189Z"
    }
   },
   "cell_type": "code",
   "source": "flagged_taxes",
   "id": "338b725325a9e27c",
   "outputs": [
    {
     "data": {
      "text/plain": [
       "    Price  Quantity   Tax  Tax Rate FLAGGED Tax Rate\n",
       "20  31.21         2   5.0      0.08          FLAGGED\n",
       "30  32.70         4  10.0      0.08          FLAGGED\n",
       "52  46.96         1   4.0      0.09          FLAGGED"
      ],
      "text/html": [
       "<div>\n",
       "<style scoped>\n",
       "    .dataframe tbody tr th:only-of-type {\n",
       "        vertical-align: middle;\n",
       "    }\n",
       "\n",
       "    .dataframe tbody tr th {\n",
       "        vertical-align: top;\n",
       "    }\n",
       "\n",
       "    .dataframe thead th {\n",
       "        text-align: right;\n",
       "    }\n",
       "</style>\n",
       "<table border=\"1\" class=\"dataframe\">\n",
       "  <thead>\n",
       "    <tr style=\"text-align: right;\">\n",
       "      <th></th>\n",
       "      <th>Price</th>\n",
       "      <th>Quantity</th>\n",
       "      <th>Tax</th>\n",
       "      <th>Tax Rate</th>\n",
       "      <th>FLAGGED Tax Rate</th>\n",
       "    </tr>\n",
       "  </thead>\n",
       "  <tbody>\n",
       "    <tr>\n",
       "      <th>20</th>\n",
       "      <td>31.21</td>\n",
       "      <td>2</td>\n",
       "      <td>5.0</td>\n",
       "      <td>0.08</td>\n",
       "      <td>FLAGGED</td>\n",
       "    </tr>\n",
       "    <tr>\n",
       "      <th>30</th>\n",
       "      <td>32.70</td>\n",
       "      <td>4</td>\n",
       "      <td>10.0</td>\n",
       "      <td>0.08</td>\n",
       "      <td>FLAGGED</td>\n",
       "    </tr>\n",
       "    <tr>\n",
       "      <th>52</th>\n",
       "      <td>46.96</td>\n",
       "      <td>1</td>\n",
       "      <td>4.0</td>\n",
       "      <td>0.09</td>\n",
       "      <td>FLAGGED</td>\n",
       "    </tr>\n",
       "  </tbody>\n",
       "</table>\n",
       "</div>"
      ]
     },
     "execution_count": 12,
     "metadata": {},
     "output_type": "execute_result"
    }
   ],
   "execution_count": 12
  },
  {
   "metadata": {
    "ExecuteTime": {
     "end_time": "2025-06-05T23:03:09.975571Z",
     "start_time": "2025-06-05T23:03:09.973305Z"
    }
   },
   "cell_type": "code",
   "source": "index_ = price_qty_tax[mask].index",
   "id": "71a94fdfb4dcf5de",
   "outputs": [],
   "execution_count": 13
  },
  {
   "metadata": {
    "ExecuteTime": {
     "end_time": "2025-06-05T23:03:09.980113Z",
     "start_time": "2025-06-05T23:03:09.977365Z"
    }
   },
   "cell_type": "code",
   "source": "index_",
   "id": "9b816e8c360b368d",
   "outputs": [
    {
     "data": {
      "text/plain": [
       "Index([20, 30, 52], dtype='int64')"
      ]
     },
     "execution_count": 14,
     "metadata": {},
     "output_type": "execute_result"
    }
   ],
   "execution_count": 14
  },
  {
   "metadata": {
    "ExecuteTime": {
     "end_time": "2025-06-05T23:03:09.984111Z",
     "start_time": "2025-06-05T23:03:09.980814Z"
    }
   },
   "cell_type": "code",
   "source": [
    "# 3. Clean all invalid tax records by re-calculating them from `Price` and `Quantity`.\n",
    "price_qty_tax.loc[index_, 'Tax'] = price_qty_tax.loc[index_].apply(\n",
    "    lambda row: round(row['Price'] * row['Quantity'] * 0.07, 2),\n",
    "    axis=1\n",
    ")"
   ],
   "id": "1d5752c772c3d96d",
   "outputs": [],
   "execution_count": 15
  },
  {
   "metadata": {
    "ExecuteTime": {
     "end_time": "2025-06-05T23:03:09.987573Z",
     "start_time": "2025-06-05T23:03:09.985026Z"
    }
   },
   "cell_type": "code",
   "source": "price_qty_tax['Tax Rate'] = round(price_qty_tax['Tax']/(price_qty_tax['Price'] * price_qty_tax['Quantity']), 2)",
   "id": "605b2c7f4c2911ec",
   "outputs": [],
   "execution_count": 16
  },
  {
   "metadata": {
    "ExecuteTime": {
     "end_time": "2025-06-05T23:03:09.990732Z",
     "start_time": "2025-06-05T23:03:09.988424Z"
    }
   },
   "cell_type": "code",
   "source": "price_qty_tax['FLAGGED Tax Rate'] = price_qty_tax['Tax Rate'].apply(lambda x: 'FLAGGED' if x != 0.07 else '')",
   "id": "bab8951a4d9049d",
   "outputs": [],
   "execution_count": 17
  },
  {
   "metadata": {
    "ExecuteTime": {
     "end_time": "2025-06-05T23:03:09.994149Z",
     "start_time": "2025-06-05T23:03:09.991699Z"
    }
   },
   "cell_type": "code",
   "source": "adjusted_tax = price_qty_tax.loc[index_].copy()",
   "id": "c0e746a91248204b",
   "outputs": [],
   "execution_count": 18
  },
  {
   "metadata": {
    "ExecuteTime": {
     "end_time": "2025-06-05T23:03:10.000096Z",
     "start_time": "2025-06-05T23:03:09.995050Z"
    }
   },
   "cell_type": "code",
   "source": "adjusted_tax",
   "id": "50ac9d2d6772e1d8",
   "outputs": [
    {
     "data": {
      "text/plain": [
       "    Price  Quantity   Tax  Tax Rate FLAGGED Tax Rate\n",
       "20  31.21         2  4.37      0.07                 \n",
       "30  32.70         4  9.16      0.07                 \n",
       "52  46.96         1  3.29      0.07                 "
      ],
      "text/html": [
       "<div>\n",
       "<style scoped>\n",
       "    .dataframe tbody tr th:only-of-type {\n",
       "        vertical-align: middle;\n",
       "    }\n",
       "\n",
       "    .dataframe tbody tr th {\n",
       "        vertical-align: top;\n",
       "    }\n",
       "\n",
       "    .dataframe thead th {\n",
       "        text-align: right;\n",
       "    }\n",
       "</style>\n",
       "<table border=\"1\" class=\"dataframe\">\n",
       "  <thead>\n",
       "    <tr style=\"text-align: right;\">\n",
       "      <th></th>\n",
       "      <th>Price</th>\n",
       "      <th>Quantity</th>\n",
       "      <th>Tax</th>\n",
       "      <th>Tax Rate</th>\n",
       "      <th>FLAGGED Tax Rate</th>\n",
       "    </tr>\n",
       "  </thead>\n",
       "  <tbody>\n",
       "    <tr>\n",
       "      <th>20</th>\n",
       "      <td>31.21</td>\n",
       "      <td>2</td>\n",
       "      <td>4.37</td>\n",
       "      <td>0.07</td>\n",
       "      <td></td>\n",
       "    </tr>\n",
       "    <tr>\n",
       "      <th>30</th>\n",
       "      <td>32.70</td>\n",
       "      <td>4</td>\n",
       "      <td>9.16</td>\n",
       "      <td>0.07</td>\n",
       "      <td></td>\n",
       "    </tr>\n",
       "    <tr>\n",
       "      <th>52</th>\n",
       "      <td>46.96</td>\n",
       "      <td>1</td>\n",
       "      <td>3.29</td>\n",
       "      <td>0.07</td>\n",
       "      <td></td>\n",
       "    </tr>\n",
       "  </tbody>\n",
       "</table>\n",
       "</div>"
      ]
     },
     "execution_count": 19,
     "metadata": {},
     "output_type": "execute_result"
    }
   ],
   "execution_count": 19
  },
  {
   "metadata": {
    "ExecuteTime": {
     "end_time": "2025-06-05T23:03:10.010077Z",
     "start_time": "2025-06-05T23:03:10.001029Z"
    }
   },
   "cell_type": "code",
   "source": [
    "# 4. Generate a summary: count of corrected entries, and average difference in tax.\n",
    "adjusted_tax.describe()"
   ],
   "id": "524f62ae8d2e058c",
   "outputs": [
    {
     "data": {
      "text/plain": [
       "           Price  Quantity       Tax  Tax Rate\n",
       "count   3.000000  3.000000  3.000000      3.00\n",
       "mean   36.956667  2.333333  5.606667      0.07\n",
       "std     8.695115  1.527525  3.124297      0.00\n",
       "min    31.210000  1.000000  3.290000      0.07\n",
       "25%    31.955000  1.500000  3.830000      0.07\n",
       "50%    32.700000  2.000000  4.370000      0.07\n",
       "75%    39.830000  3.000000  6.765000      0.07\n",
       "max    46.960000  4.000000  9.160000      0.07"
      ],
      "text/html": [
       "<div>\n",
       "<style scoped>\n",
       "    .dataframe tbody tr th:only-of-type {\n",
       "        vertical-align: middle;\n",
       "    }\n",
       "\n",
       "    .dataframe tbody tr th {\n",
       "        vertical-align: top;\n",
       "    }\n",
       "\n",
       "    .dataframe thead th {\n",
       "        text-align: right;\n",
       "    }\n",
       "</style>\n",
       "<table border=\"1\" class=\"dataframe\">\n",
       "  <thead>\n",
       "    <tr style=\"text-align: right;\">\n",
       "      <th></th>\n",
       "      <th>Price</th>\n",
       "      <th>Quantity</th>\n",
       "      <th>Tax</th>\n",
       "      <th>Tax Rate</th>\n",
       "    </tr>\n",
       "  </thead>\n",
       "  <tbody>\n",
       "    <tr>\n",
       "      <th>count</th>\n",
       "      <td>3.000000</td>\n",
       "      <td>3.000000</td>\n",
       "      <td>3.000000</td>\n",
       "      <td>3.00</td>\n",
       "    </tr>\n",
       "    <tr>\n",
       "      <th>mean</th>\n",
       "      <td>36.956667</td>\n",
       "      <td>2.333333</td>\n",
       "      <td>5.606667</td>\n",
       "      <td>0.07</td>\n",
       "    </tr>\n",
       "    <tr>\n",
       "      <th>std</th>\n",
       "      <td>8.695115</td>\n",
       "      <td>1.527525</td>\n",
       "      <td>3.124297</td>\n",
       "      <td>0.00</td>\n",
       "    </tr>\n",
       "    <tr>\n",
       "      <th>min</th>\n",
       "      <td>31.210000</td>\n",
       "      <td>1.000000</td>\n",
       "      <td>3.290000</td>\n",
       "      <td>0.07</td>\n",
       "    </tr>\n",
       "    <tr>\n",
       "      <th>25%</th>\n",
       "      <td>31.955000</td>\n",
       "      <td>1.500000</td>\n",
       "      <td>3.830000</td>\n",
       "      <td>0.07</td>\n",
       "    </tr>\n",
       "    <tr>\n",
       "      <th>50%</th>\n",
       "      <td>32.700000</td>\n",
       "      <td>2.000000</td>\n",
       "      <td>4.370000</td>\n",
       "      <td>0.07</td>\n",
       "    </tr>\n",
       "    <tr>\n",
       "      <th>75%</th>\n",
       "      <td>39.830000</td>\n",
       "      <td>3.000000</td>\n",
       "      <td>6.765000</td>\n",
       "      <td>0.07</td>\n",
       "    </tr>\n",
       "    <tr>\n",
       "      <th>max</th>\n",
       "      <td>46.960000</td>\n",
       "      <td>4.000000</td>\n",
       "      <td>9.160000</td>\n",
       "      <td>0.07</td>\n",
       "    </tr>\n",
       "  </tbody>\n",
       "</table>\n",
       "</div>"
      ]
     },
     "execution_count": 20,
     "metadata": {},
     "output_type": "execute_result"
    }
   ],
   "execution_count": 20
  },
  {
   "metadata": {
    "ExecuteTime": {
     "end_time": "2025-06-05T23:03:10.019448Z",
     "start_time": "2025-06-05T23:03:10.011008Z"
    }
   },
   "cell_type": "code",
   "source": "flagged_taxes.describe()",
   "id": "7b47d274c86f51ef",
   "outputs": [
    {
     "data": {
      "text/plain": [
       "           Price  Quantity        Tax  Tax Rate\n",
       "count   3.000000  3.000000   3.000000  3.000000\n",
       "mean   36.956667  2.333333   6.333333  0.083333\n",
       "std     8.695115  1.527525   3.214550  0.005774\n",
       "min    31.210000  1.000000   4.000000  0.080000\n",
       "25%    31.955000  1.500000   4.500000  0.080000\n",
       "50%    32.700000  2.000000   5.000000  0.080000\n",
       "75%    39.830000  3.000000   7.500000  0.085000\n",
       "max    46.960000  4.000000  10.000000  0.090000"
      ],
      "text/html": [
       "<div>\n",
       "<style scoped>\n",
       "    .dataframe tbody tr th:only-of-type {\n",
       "        vertical-align: middle;\n",
       "    }\n",
       "\n",
       "    .dataframe tbody tr th {\n",
       "        vertical-align: top;\n",
       "    }\n",
       "\n",
       "    .dataframe thead th {\n",
       "        text-align: right;\n",
       "    }\n",
       "</style>\n",
       "<table border=\"1\" class=\"dataframe\">\n",
       "  <thead>\n",
       "    <tr style=\"text-align: right;\">\n",
       "      <th></th>\n",
       "      <th>Price</th>\n",
       "      <th>Quantity</th>\n",
       "      <th>Tax</th>\n",
       "      <th>Tax Rate</th>\n",
       "    </tr>\n",
       "  </thead>\n",
       "  <tbody>\n",
       "    <tr>\n",
       "      <th>count</th>\n",
       "      <td>3.000000</td>\n",
       "      <td>3.000000</td>\n",
       "      <td>3.000000</td>\n",
       "      <td>3.000000</td>\n",
       "    </tr>\n",
       "    <tr>\n",
       "      <th>mean</th>\n",
       "      <td>36.956667</td>\n",
       "      <td>2.333333</td>\n",
       "      <td>6.333333</td>\n",
       "      <td>0.083333</td>\n",
       "    </tr>\n",
       "    <tr>\n",
       "      <th>std</th>\n",
       "      <td>8.695115</td>\n",
       "      <td>1.527525</td>\n",
       "      <td>3.214550</td>\n",
       "      <td>0.005774</td>\n",
       "    </tr>\n",
       "    <tr>\n",
       "      <th>min</th>\n",
       "      <td>31.210000</td>\n",
       "      <td>1.000000</td>\n",
       "      <td>4.000000</td>\n",
       "      <td>0.080000</td>\n",
       "    </tr>\n",
       "    <tr>\n",
       "      <th>25%</th>\n",
       "      <td>31.955000</td>\n",
       "      <td>1.500000</td>\n",
       "      <td>4.500000</td>\n",
       "      <td>0.080000</td>\n",
       "    </tr>\n",
       "    <tr>\n",
       "      <th>50%</th>\n",
       "      <td>32.700000</td>\n",
       "      <td>2.000000</td>\n",
       "      <td>5.000000</td>\n",
       "      <td>0.080000</td>\n",
       "    </tr>\n",
       "    <tr>\n",
       "      <th>75%</th>\n",
       "      <td>39.830000</td>\n",
       "      <td>3.000000</td>\n",
       "      <td>7.500000</td>\n",
       "      <td>0.085000</td>\n",
       "    </tr>\n",
       "    <tr>\n",
       "      <th>max</th>\n",
       "      <td>46.960000</td>\n",
       "      <td>4.000000</td>\n",
       "      <td>10.000000</td>\n",
       "      <td>0.090000</td>\n",
       "    </tr>\n",
       "  </tbody>\n",
       "</table>\n",
       "</div>"
      ]
     },
     "execution_count": 21,
     "metadata": {},
     "output_type": "execute_result"
    }
   ],
   "execution_count": 21
  },
  {
   "metadata": {
    "ExecuteTime": {
     "end_time": "2025-06-05T23:03:10.023294Z",
     "start_time": "2025-06-05T23:03:10.020511Z"
    }
   },
   "cell_type": "code",
   "source": "flagged_taxes['Tax'].count()",
   "id": "715c95040f746959",
   "outputs": [
    {
     "data": {
      "text/plain": [
       "np.int64(3)"
      ]
     },
     "execution_count": 22,
     "metadata": {},
     "output_type": "execute_result"
    }
   ],
   "execution_count": 22
  },
  {
   "metadata": {
    "ExecuteTime": {
     "end_time": "2025-06-05T23:03:10.026444Z",
     "start_time": "2025-06-05T23:03:10.024230Z"
    }
   },
   "cell_type": "code",
   "source": "average_difference_taxes = round(abs(flagged_taxes['Tax'].mean() - adjusted_tax['Tax'].mean()), 2)",
   "id": "1de06a4351304879",
   "outputs": [],
   "execution_count": 23
  },
  {
   "metadata": {
    "ExecuteTime": {
     "end_time": "2025-06-05T23:03:10.029922Z",
     "start_time": "2025-06-05T23:03:10.027322Z"
    }
   },
   "cell_type": "code",
   "source": "average_difference_taxes",
   "id": "3222666aaa3702a3",
   "outputs": [
    {
     "data": {
      "text/plain": [
       "np.float64(0.73)"
      ]
     },
     "execution_count": 24,
     "metadata": {},
     "output_type": "execute_result"
    }
   ],
   "execution_count": 24
  },
  {
   "metadata": {
    "ExecuteTime": {
     "end_time": "2025-06-05T23:03:10.033401Z",
     "start_time": "2025-06-05T23:03:10.030901Z"
    }
   },
   "cell_type": "code",
   "source": [
    "# 5. Split receipt numbers and count unique customers per store location.\n",
    "receipt_customer_store_location = df[['Receipt Number', 'Customer Name', 'Store Location']].copy()"
   ],
   "id": "1544380e4f03a7b7",
   "outputs": [],
   "execution_count": 25
  },
  {
   "metadata": {
    "ExecuteTime": {
     "end_time": "2025-06-05T23:03:10.037370Z",
     "start_time": "2025-06-05T23:03:10.034526Z"
    }
   },
   "cell_type": "code",
   "source": "receipt_customer_store_location['Receipt Number'] = receipt_customer_store_location['Receipt Number'].str.split('-')",
   "id": "cd258dfa9185a7f2",
   "outputs": [],
   "execution_count": 26
  },
  {
   "metadata": {
    "ExecuteTime": {
     "end_time": "2025-06-05T23:03:10.042762Z",
     "start_time": "2025-06-05T23:03:10.038337Z"
    }
   },
   "cell_type": "code",
   "source": "receipt_customer_store_location.head(3)",
   "id": "b8a5ae252d419d9a",
   "outputs": [
    {
     "data": {
      "text/plain": [
       "                               Receipt Number     Customer Name  \\\n",
       "0  [1ff49b78, 8946, 4e85, b59c, de66bacfb3d0]  Danielle Johnson   \n",
       "1  [434308bc, 89fa, 4a68, 8fb5, d27bbeb79919]      Tracie Wyatt   \n",
       "2  [52fbe43b, 9954, 4eb4, 8025, 7ad1eb2263dd]        Eric Moore   \n",
       "\n",
       "                               Store Location  \n",
       "0  5423 Garcia Light, West Melanieview, 06196  \n",
       "1         1395 Diana Locks, Thomasberg, 32826  \n",
       "2        489 Eric Track, New Stephanie, 70015  "
      ],
      "text/html": [
       "<div>\n",
       "<style scoped>\n",
       "    .dataframe tbody tr th:only-of-type {\n",
       "        vertical-align: middle;\n",
       "    }\n",
       "\n",
       "    .dataframe tbody tr th {\n",
       "        vertical-align: top;\n",
       "    }\n",
       "\n",
       "    .dataframe thead th {\n",
       "        text-align: right;\n",
       "    }\n",
       "</style>\n",
       "<table border=\"1\" class=\"dataframe\">\n",
       "  <thead>\n",
       "    <tr style=\"text-align: right;\">\n",
       "      <th></th>\n",
       "      <th>Receipt Number</th>\n",
       "      <th>Customer Name</th>\n",
       "      <th>Store Location</th>\n",
       "    </tr>\n",
       "  </thead>\n",
       "  <tbody>\n",
       "    <tr>\n",
       "      <th>0</th>\n",
       "      <td>[1ff49b78, 8946, 4e85, b59c, de66bacfb3d0]</td>\n",
       "      <td>Danielle Johnson</td>\n",
       "      <td>5423 Garcia Light, West Melanieview, 06196</td>\n",
       "    </tr>\n",
       "    <tr>\n",
       "      <th>1</th>\n",
       "      <td>[434308bc, 89fa, 4a68, 8fb5, d27bbeb79919]</td>\n",
       "      <td>Tracie Wyatt</td>\n",
       "      <td>1395 Diana Locks, Thomasberg, 32826</td>\n",
       "    </tr>\n",
       "    <tr>\n",
       "      <th>2</th>\n",
       "      <td>[52fbe43b, 9954, 4eb4, 8025, 7ad1eb2263dd]</td>\n",
       "      <td>Eric Moore</td>\n",
       "      <td>489 Eric Track, New Stephanie, 70015</td>\n",
       "    </tr>\n",
       "  </tbody>\n",
       "</table>\n",
       "</div>"
      ]
     },
     "execution_count": 27,
     "metadata": {},
     "output_type": "execute_result"
    }
   ],
   "execution_count": 27
  },
  {
   "metadata": {
    "ExecuteTime": {
     "end_time": "2025-06-05T23:03:10.046834Z",
     "start_time": "2025-06-05T23:03:10.043830Z"
    }
   },
   "cell_type": "code",
   "source": [
    "unique_customers_per_store = (\n",
    "    receipt_customer_store_location\n",
    "    .groupby('Store Location')['Customer Name']\n",
    "    .nunique()\n",
    "    .sort_values(ascending=False)\n",
    ")"
   ],
   "id": "61bbf3b458914dbe",
   "outputs": [],
   "execution_count": 28
  },
  {
   "metadata": {
    "ExecuteTime": {
     "end_time": "2025-06-05T23:03:10.051169Z",
     "start_time": "2025-06-05T23:03:10.047738Z"
    }
   },
   "cell_type": "code",
   "source": "unique_customers_per_store.head(3)",
   "id": "713261d46290140d",
   "outputs": [
    {
     "data": {
      "text/plain": [
       "Store Location\n",
       "9995 Noah Road, East Mark, 44560                    1\n",
       "00000 Marcus Throughway, North Haileyfort, 13380    1\n",
       "0042 Koch Turnpike, North Jennifer, 19197           1\n",
       "Name: Customer Name, dtype: int64"
      ]
     },
     "execution_count": 29,
     "metadata": {},
     "output_type": "execute_result"
    }
   ],
   "execution_count": 29
  },
  {
   "metadata": {
    "ExecuteTime": {
     "end_time": "2025-06-05T23:03:10.057192Z",
     "start_time": "2025-06-05T23:03:10.052222Z"
    }
   },
   "cell_type": "code",
   "source": "receipt_customer_store_location.drop_duplicates(subset=['Store Location', 'Customer Name']).head(3)",
   "id": "6ecbe3181a72531e",
   "outputs": [
    {
     "data": {
      "text/plain": [
       "                               Receipt Number     Customer Name  \\\n",
       "0  [1ff49b78, 8946, 4e85, b59c, de66bacfb3d0]  Danielle Johnson   \n",
       "1  [434308bc, 89fa, 4a68, 8fb5, d27bbeb79919]      Tracie Wyatt   \n",
       "2  [52fbe43b, 9954, 4eb4, 8025, 7ad1eb2263dd]        Eric Moore   \n",
       "\n",
       "                               Store Location  \n",
       "0  5423 Garcia Light, West Melanieview, 06196  \n",
       "1         1395 Diana Locks, Thomasberg, 32826  \n",
       "2        489 Eric Track, New Stephanie, 70015  "
      ],
      "text/html": [
       "<div>\n",
       "<style scoped>\n",
       "    .dataframe tbody tr th:only-of-type {\n",
       "        vertical-align: middle;\n",
       "    }\n",
       "\n",
       "    .dataframe tbody tr th {\n",
       "        vertical-align: top;\n",
       "    }\n",
       "\n",
       "    .dataframe thead th {\n",
       "        text-align: right;\n",
       "    }\n",
       "</style>\n",
       "<table border=\"1\" class=\"dataframe\">\n",
       "  <thead>\n",
       "    <tr style=\"text-align: right;\">\n",
       "      <th></th>\n",
       "      <th>Receipt Number</th>\n",
       "      <th>Customer Name</th>\n",
       "      <th>Store Location</th>\n",
       "    </tr>\n",
       "  </thead>\n",
       "  <tbody>\n",
       "    <tr>\n",
       "      <th>0</th>\n",
       "      <td>[1ff49b78, 8946, 4e85, b59c, de66bacfb3d0]</td>\n",
       "      <td>Danielle Johnson</td>\n",
       "      <td>5423 Garcia Light, West Melanieview, 06196</td>\n",
       "    </tr>\n",
       "    <tr>\n",
       "      <th>1</th>\n",
       "      <td>[434308bc, 89fa, 4a68, 8fb5, d27bbeb79919]</td>\n",
       "      <td>Tracie Wyatt</td>\n",
       "      <td>1395 Diana Locks, Thomasberg, 32826</td>\n",
       "    </tr>\n",
       "    <tr>\n",
       "      <th>2</th>\n",
       "      <td>[52fbe43b, 9954, 4eb4, 8025, 7ad1eb2263dd]</td>\n",
       "      <td>Eric Moore</td>\n",
       "      <td>489 Eric Track, New Stephanie, 70015</td>\n",
       "    </tr>\n",
       "  </tbody>\n",
       "</table>\n",
       "</div>"
      ]
     },
     "execution_count": 30,
     "metadata": {},
     "output_type": "execute_result"
    }
   ],
   "execution_count": 30
  },
  {
   "metadata": {
    "ExecuteTime": {
     "end_time": "2025-06-05T23:03:10.061702Z",
     "start_time": "2025-06-05T23:03:10.058082Z"
    }
   },
   "cell_type": "code",
   "source": [
    "# 6. From those records, extract and standardize the store’s street name and zip code.\n",
    "customer_data = pd.read_csv('customer_info.csv')"
   ],
   "id": "178f29f7733a4670",
   "outputs": [],
   "execution_count": 31
  },
  {
   "metadata": {
    "ExecuteTime": {
     "end_time": "2025-06-05T23:03:10.064727Z",
     "start_time": "2025-06-05T23:03:10.062614Z"
    }
   },
   "cell_type": "code",
   "source": "customer_info = pd.DataFrame(customer_data)",
   "id": "214b789f9f856a2b",
   "outputs": [],
   "execution_count": 32
  },
  {
   "metadata": {
    "ExecuteTime": {
     "end_time": "2025-06-05T23:03:10.069983Z",
     "start_time": "2025-06-05T23:03:10.065755Z"
    }
   },
   "cell_type": "code",
   "source": "customer_info.head(3)",
   "id": "ee7b88bb9ca082e3",
   "outputs": [
    {
     "data": {
      "text/plain": [
       "   House Number      Street Name                City  Zip Code\n",
       "0          3321  Brittany Bypass  North Jefferyhaven     79408\n",
       "1         64752     Kelly Skyway      Jacquelineland     80341\n",
       "2           691   James Mountain           Tashatown     89667"
      ],
      "text/html": [
       "<div>\n",
       "<style scoped>\n",
       "    .dataframe tbody tr th:only-of-type {\n",
       "        vertical-align: middle;\n",
       "    }\n",
       "\n",
       "    .dataframe tbody tr th {\n",
       "        vertical-align: top;\n",
       "    }\n",
       "\n",
       "    .dataframe thead th {\n",
       "        text-align: right;\n",
       "    }\n",
       "</style>\n",
       "<table border=\"1\" class=\"dataframe\">\n",
       "  <thead>\n",
       "    <tr style=\"text-align: right;\">\n",
       "      <th></th>\n",
       "      <th>House Number</th>\n",
       "      <th>Street Name</th>\n",
       "      <th>City</th>\n",
       "      <th>Zip Code</th>\n",
       "    </tr>\n",
       "  </thead>\n",
       "  <tbody>\n",
       "    <tr>\n",
       "      <th>0</th>\n",
       "      <td>3321</td>\n",
       "      <td>Brittany Bypass</td>\n",
       "      <td>North Jefferyhaven</td>\n",
       "      <td>79408</td>\n",
       "    </tr>\n",
       "    <tr>\n",
       "      <th>1</th>\n",
       "      <td>64752</td>\n",
       "      <td>Kelly Skyway</td>\n",
       "      <td>Jacquelineland</td>\n",
       "      <td>80341</td>\n",
       "    </tr>\n",
       "    <tr>\n",
       "      <th>2</th>\n",
       "      <td>691</td>\n",
       "      <td>James Mountain</td>\n",
       "      <td>Tashatown</td>\n",
       "      <td>89667</td>\n",
       "    </tr>\n",
       "  </tbody>\n",
       "</table>\n",
       "</div>"
      ]
     },
     "execution_count": 33,
     "metadata": {},
     "output_type": "execute_result"
    }
   ],
   "execution_count": 33
  },
  {
   "metadata": {
    "ExecuteTime": {
     "end_time": "2025-06-05T23:03:10.073036Z",
     "start_time": "2025-06-05T23:03:10.070880Z"
    }
   },
   "cell_type": "code",
   "source": [
    "# pattern_street_name = r'([A-Za-z\\s]+)'\n",
    "pattern_street_name = r'^\\d+\\s+(.*?),'"
   ],
   "id": "3164454113736fc5",
   "outputs": [],
   "execution_count": 34
  },
  {
   "metadata": {
    "ExecuteTime": {
     "end_time": "2025-06-05T23:03:10.075691Z",
     "start_time": "2025-06-05T23:03:10.073852Z"
    }
   },
   "cell_type": "code",
   "source": "pattern_zip_code = r'(\\d{5})'",
   "id": "7dc587d5bcd0b116",
   "outputs": [],
   "execution_count": 35
  },
  {
   "metadata": {
    "ExecuteTime": {
     "end_time": "2025-06-05T23:03:10.081162Z",
     "start_time": "2025-06-05T23:03:10.076576Z"
    }
   },
   "cell_type": "code",
   "source": "df['Customer Address'].str.extract(pattern_street_name).head(3)",
   "id": "f821104564539656",
   "outputs": [
    {
     "data": {
      "text/plain": [
       "                 0\n",
       "0  Brittany Bypass\n",
       "1     Kelly Skyway\n",
       "2   James Mountain"
      ],
      "text/html": [
       "<div>\n",
       "<style scoped>\n",
       "    .dataframe tbody tr th:only-of-type {\n",
       "        vertical-align: middle;\n",
       "    }\n",
       "\n",
       "    .dataframe tbody tr th {\n",
       "        vertical-align: top;\n",
       "    }\n",
       "\n",
       "    .dataframe thead th {\n",
       "        text-align: right;\n",
       "    }\n",
       "</style>\n",
       "<table border=\"1\" class=\"dataframe\">\n",
       "  <thead>\n",
       "    <tr style=\"text-align: right;\">\n",
       "      <th></th>\n",
       "      <th>0</th>\n",
       "    </tr>\n",
       "  </thead>\n",
       "  <tbody>\n",
       "    <tr>\n",
       "      <th>0</th>\n",
       "      <td>Brittany Bypass</td>\n",
       "    </tr>\n",
       "    <tr>\n",
       "      <th>1</th>\n",
       "      <td>Kelly Skyway</td>\n",
       "    </tr>\n",
       "    <tr>\n",
       "      <th>2</th>\n",
       "      <td>James Mountain</td>\n",
       "    </tr>\n",
       "  </tbody>\n",
       "</table>\n",
       "</div>"
      ]
     },
     "execution_count": 36,
     "metadata": {},
     "output_type": "execute_result"
    }
   ],
   "execution_count": 36
  },
  {
   "metadata": {
    "ExecuteTime": {
     "end_time": "2025-06-05T23:03:10.086585Z",
     "start_time": "2025-06-05T23:03:10.081937Z"
    }
   },
   "cell_type": "code",
   "source": "df['Customer Address'].astype(str).str.extract(pattern_zip_code).head(3)",
   "id": "5c75537a9ca0c1a3",
   "outputs": [
    {
     "data": {
      "text/plain": [
       "       0\n",
       "0  79408\n",
       "1  64752\n",
       "2  89667"
      ],
      "text/html": [
       "<div>\n",
       "<style scoped>\n",
       "    .dataframe tbody tr th:only-of-type {\n",
       "        vertical-align: middle;\n",
       "    }\n",
       "\n",
       "    .dataframe tbody tr th {\n",
       "        vertical-align: top;\n",
       "    }\n",
       "\n",
       "    .dataframe thead th {\n",
       "        text-align: right;\n",
       "    }\n",
       "</style>\n",
       "<table border=\"1\" class=\"dataframe\">\n",
       "  <thead>\n",
       "    <tr style=\"text-align: right;\">\n",
       "      <th></th>\n",
       "      <th>0</th>\n",
       "    </tr>\n",
       "  </thead>\n",
       "  <tbody>\n",
       "    <tr>\n",
       "      <th>0</th>\n",
       "      <td>79408</td>\n",
       "    </tr>\n",
       "    <tr>\n",
       "      <th>1</th>\n",
       "      <td>64752</td>\n",
       "    </tr>\n",
       "    <tr>\n",
       "      <th>2</th>\n",
       "      <td>89667</td>\n",
       "    </tr>\n",
       "  </tbody>\n",
       "</table>\n",
       "</div>"
      ]
     },
     "execution_count": 37,
     "metadata": {},
     "output_type": "execute_result"
    }
   ],
   "execution_count": 37
  },
  {
   "metadata": {
    "ExecuteTime": {
     "end_time": "2025-06-05T23:03:10.089055Z",
     "start_time": "2025-06-05T23:03:10.087504Z"
    }
   },
   "cell_type": "code",
   "source": "",
   "id": "254c4e647116fde0",
   "outputs": [],
   "execution_count": 37
  }
 ],
 "metadata": {
  "kernelspec": {
   "display_name": "Python 3",
   "language": "python",
   "name": "python3"
  },
  "language_info": {
   "codemirror_mode": {
    "name": "ipython",
    "version": 2
   },
   "file_extension": ".py",
   "mimetype": "text/x-python",
   "name": "python",
   "nbconvert_exporter": "python",
   "pygments_lexer": "ipython2",
   "version": "2.7.6"
  }
 },
 "nbformat": 4,
 "nbformat_minor": 5
}
