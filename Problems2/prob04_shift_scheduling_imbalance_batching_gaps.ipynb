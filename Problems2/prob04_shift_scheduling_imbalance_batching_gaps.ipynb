{
 "cells": [
  {
   "metadata": {},
   "cell_type": "markdown",
   "source": [
    "### **Problem 4: Shift Scheduling Imbalance and Batching Gaps**\n",
    "\n",
    "Production managers believe the scheduling is unbalanced. Investigate with a 30-day scope:\n",
    "\n",
    "**Your tasks:**\n",
    "\n",
    "1. Parse `Date Produced` to extract weekday and ISO calendar week.\n",
    "2. Count total batches produced by shift and weekday.\n",
    "3. Highlight shifts where output dropped by > 30% compared to the average.\n",
    "4. Check if any shifts repeatedly missed full daily coverage (i.e., 0 entries for a date).\n",
    "5. Group by `Operator` and count how many unique days they worked.\n",
    "6. Identify any operator who worked more than 20 out of 30 days — flag for burnout.\n",
    "7. Create a pivot table showing production volume by day and shift.\n",
    "\n",
    "*Hint: Use `.dt.day_name()` and `.pivot_table()`.*"
   ],
   "id": "f354b7e18a983bd7"
  },
  {
   "metadata": {
    "ExecuteTime": {
     "end_time": "2025-06-08T17:53:33.343150Z",
     "start_time": "2025-06-08T17:53:33.340356Z"
    }
   },
   "cell_type": "code",
   "source": [
    "import pandas as pd\n",
    "import numpy as np\n",
    "import re"
   ],
   "id": "3206814a24c5909b",
   "outputs": [],
   "execution_count": 273
  },
  {
   "metadata": {
    "ExecuteTime": {
     "end_time": "2025-06-08T17:53:33.413560Z",
     "start_time": "2025-06-08T17:53:33.408295Z"
    }
   },
   "cell_type": "code",
   "source": "data = pd.read_csv('Spool_Manufacturing_Batch_Log.csv')",
   "id": "637148c9299edaf6",
   "outputs": [],
   "execution_count": 274
  },
  {
   "metadata": {
    "ExecuteTime": {
     "end_time": "2025-06-08T17:53:33.473158Z",
     "start_time": "2025-06-08T17:53:33.470912Z"
    }
   },
   "cell_type": "code",
   "source": "df = pd.DataFrame(data)",
   "id": "4ebb616f65e29fc3",
   "outputs": [],
   "execution_count": 275
  },
  {
   "metadata": {
    "ExecuteTime": {
     "end_time": "2025-06-08T17:53:33.497004Z",
     "start_time": "2025-06-08T17:53:33.493417Z"
    }
   },
   "cell_type": "code",
   "source": [
    "# 1. Parse `Date Produced` to extract weekday and ISO calendar week.\n",
    "df['Date Produced'] = pd.to_datetime(df['Date Produced'])  # Convert to datetime"
   ],
   "id": "3f7327eefc4d2b84",
   "outputs": [],
   "execution_count": 276
  },
  {
   "metadata": {
    "ExecuteTime": {
     "end_time": "2025-06-08T17:53:33.500908Z",
     "start_time": "2025-06-08T17:53:33.498234Z"
    }
   },
   "cell_type": "code",
   "source": "df['Weekday Produced'] = df['Date Produced'].dt.day_name() # Extract weekday name",
   "id": "a13e55c1762f19fa",
   "outputs": [],
   "execution_count": 277
  },
  {
   "metadata": {
    "ExecuteTime": {
     "end_time": "2025-06-08T17:53:33.516477Z",
     "start_time": "2025-06-08T17:53:33.512744Z"
    }
   },
   "cell_type": "code",
   "source": "df['ISO Week'] = df['Date Produced'].dt.isocalendar().week # extract ISO calendar week",
   "id": "b3fc828615fcb719",
   "outputs": [],
   "execution_count": 278
  },
  {
   "metadata": {
    "ExecuteTime": {
     "end_time": "2025-06-08T17:53:33.559786Z",
     "start_time": "2025-06-08T17:53:33.553626Z"
    }
   },
   "cell_type": "code",
   "source": "df[['Date Produced', 'Weekday Produced', 'ISO Week']].head()",
   "id": "9114dff27004186a",
   "outputs": [
    {
     "data": {
      "text/plain": [
       "  Date Produced Weekday Produced  ISO Week\n",
       "0    2025-05-01         Thursday        18\n",
       "1    2025-05-01         Thursday        18\n",
       "2    2025-05-01         Thursday        18\n",
       "3    2025-05-01         Thursday        18\n",
       "4    2025-05-01         Thursday        18"
      ],
      "text/html": [
       "<div>\n",
       "<style scoped>\n",
       "    .dataframe tbody tr th:only-of-type {\n",
       "        vertical-align: middle;\n",
       "    }\n",
       "\n",
       "    .dataframe tbody tr th {\n",
       "        vertical-align: top;\n",
       "    }\n",
       "\n",
       "    .dataframe thead th {\n",
       "        text-align: right;\n",
       "    }\n",
       "</style>\n",
       "<table border=\"1\" class=\"dataframe\">\n",
       "  <thead>\n",
       "    <tr style=\"text-align: right;\">\n",
       "      <th></th>\n",
       "      <th>Date Produced</th>\n",
       "      <th>Weekday Produced</th>\n",
       "      <th>ISO Week</th>\n",
       "    </tr>\n",
       "  </thead>\n",
       "  <tbody>\n",
       "    <tr>\n",
       "      <th>0</th>\n",
       "      <td>2025-05-01</td>\n",
       "      <td>Thursday</td>\n",
       "      <td>18</td>\n",
       "    </tr>\n",
       "    <tr>\n",
       "      <th>1</th>\n",
       "      <td>2025-05-01</td>\n",
       "      <td>Thursday</td>\n",
       "      <td>18</td>\n",
       "    </tr>\n",
       "    <tr>\n",
       "      <th>2</th>\n",
       "      <td>2025-05-01</td>\n",
       "      <td>Thursday</td>\n",
       "      <td>18</td>\n",
       "    </tr>\n",
       "    <tr>\n",
       "      <th>3</th>\n",
       "      <td>2025-05-01</td>\n",
       "      <td>Thursday</td>\n",
       "      <td>18</td>\n",
       "    </tr>\n",
       "    <tr>\n",
       "      <th>4</th>\n",
       "      <td>2025-05-01</td>\n",
       "      <td>Thursday</td>\n",
       "      <td>18</td>\n",
       "    </tr>\n",
       "  </tbody>\n",
       "</table>\n",
       "</div>"
      ]
     },
     "execution_count": 279,
     "metadata": {},
     "output_type": "execute_result"
    }
   ],
   "execution_count": 279
  },
  {
   "metadata": {
    "ExecuteTime": {
     "end_time": "2025-06-08T17:53:33.583321Z",
     "start_time": "2025-06-08T17:53:33.578812Z"
    }
   },
   "cell_type": "code",
   "source": [
    "# 2. Count total batches produced by shift and weekday.\n",
    "total_batches_per_shift_weekday = df.groupby(['Shift', 'Weekday Produced'])['Batch ID'].size().unstack().fillna(0)"
   ],
   "id": "f8b692818a389ae8",
   "outputs": [],
   "execution_count": 280
  },
  {
   "metadata": {
    "ExecuteTime": {
     "end_time": "2025-06-08T17:53:33.611820Z",
     "start_time": "2025-06-08T17:53:33.606576Z"
    }
   },
   "cell_type": "code",
   "source": "total_batches_per_shift_weekday.head()",
   "id": "196695d0c15cc796",
   "outputs": [
    {
     "data": {
      "text/plain": [
       "Weekday Produced  Friday  Monday  Saturday  Sunday  Thursday  Tuesday  \\\n",
       "Shift                                                                   \n",
       "Shift A               28      25        26      28        27       17   \n",
       "Shift B               34      28        23      24        28       24   \n",
       "Shift C               28      19        23      20        35       31   \n",
       "\n",
       "Weekday Produced  Wednesday  \n",
       "Shift                        \n",
       "Shift A                  23  \n",
       "Shift B                  30  \n",
       "Shift C                  19  "
      ],
      "text/html": [
       "<div>\n",
       "<style scoped>\n",
       "    .dataframe tbody tr th:only-of-type {\n",
       "        vertical-align: middle;\n",
       "    }\n",
       "\n",
       "    .dataframe tbody tr th {\n",
       "        vertical-align: top;\n",
       "    }\n",
       "\n",
       "    .dataframe thead th {\n",
       "        text-align: right;\n",
       "    }\n",
       "</style>\n",
       "<table border=\"1\" class=\"dataframe\">\n",
       "  <thead>\n",
       "    <tr style=\"text-align: right;\">\n",
       "      <th>Weekday Produced</th>\n",
       "      <th>Friday</th>\n",
       "      <th>Monday</th>\n",
       "      <th>Saturday</th>\n",
       "      <th>Sunday</th>\n",
       "      <th>Thursday</th>\n",
       "      <th>Tuesday</th>\n",
       "      <th>Wednesday</th>\n",
       "    </tr>\n",
       "    <tr>\n",
       "      <th>Shift</th>\n",
       "      <th></th>\n",
       "      <th></th>\n",
       "      <th></th>\n",
       "      <th></th>\n",
       "      <th></th>\n",
       "      <th></th>\n",
       "      <th></th>\n",
       "    </tr>\n",
       "  </thead>\n",
       "  <tbody>\n",
       "    <tr>\n",
       "      <th>Shift A</th>\n",
       "      <td>28</td>\n",
       "      <td>25</td>\n",
       "      <td>26</td>\n",
       "      <td>28</td>\n",
       "      <td>27</td>\n",
       "      <td>17</td>\n",
       "      <td>23</td>\n",
       "    </tr>\n",
       "    <tr>\n",
       "      <th>Shift B</th>\n",
       "      <td>34</td>\n",
       "      <td>28</td>\n",
       "      <td>23</td>\n",
       "      <td>24</td>\n",
       "      <td>28</td>\n",
       "      <td>24</td>\n",
       "      <td>30</td>\n",
       "    </tr>\n",
       "    <tr>\n",
       "      <th>Shift C</th>\n",
       "      <td>28</td>\n",
       "      <td>19</td>\n",
       "      <td>23</td>\n",
       "      <td>20</td>\n",
       "      <td>35</td>\n",
       "      <td>31</td>\n",
       "      <td>19</td>\n",
       "    </tr>\n",
       "  </tbody>\n",
       "</table>\n",
       "</div>"
      ]
     },
     "execution_count": 281,
     "metadata": {},
     "output_type": "execute_result"
    }
   ],
   "execution_count": 281
  },
  {
   "metadata": {
    "ExecuteTime": {
     "end_time": "2025-06-08T17:53:33.626154Z",
     "start_time": "2025-06-08T17:53:33.623970Z"
    }
   },
   "cell_type": "code",
   "source": [
    "# Define desired weekday order\n",
    "weekday_order = ['Sunday', 'Monday', 'Tuesday', 'Wednesday', 'Thursday', 'Friday', 'Saturday']"
   ],
   "id": "1a0b5adb96c9e4c4",
   "outputs": [],
   "execution_count": 282
  },
  {
   "metadata": {
    "ExecuteTime": {
     "end_time": "2025-06-08T17:53:33.677101Z",
     "start_time": "2025-06-08T17:53:33.674444Z"
    }
   },
   "cell_type": "code",
   "source": "total_batches_per_shift_weekday = total_batches_per_shift_weekday.reindex(columns=weekday_order) # reorders columns",
   "id": "3db2fcac9132938d",
   "outputs": [],
   "execution_count": 283
  },
  {
   "metadata": {
    "ExecuteTime": {
     "end_time": "2025-06-08T17:53:33.721626Z",
     "start_time": "2025-06-08T17:53:33.716387Z"
    }
   },
   "cell_type": "code",
   "source": "total_batches_per_shift_weekday.head()",
   "id": "8da0afd1bb47c018",
   "outputs": [
    {
     "data": {
      "text/plain": [
       "Weekday Produced  Sunday  Monday  Tuesday  Wednesday  Thursday  Friday  \\\n",
       "Shift                                                                    \n",
       "Shift A               28      25       17         23        27      28   \n",
       "Shift B               24      28       24         30        28      34   \n",
       "Shift C               20      19       31         19        35      28   \n",
       "\n",
       "Weekday Produced  Saturday  \n",
       "Shift                       \n",
       "Shift A                 26  \n",
       "Shift B                 23  \n",
       "Shift C                 23  "
      ],
      "text/html": [
       "<div>\n",
       "<style scoped>\n",
       "    .dataframe tbody tr th:only-of-type {\n",
       "        vertical-align: middle;\n",
       "    }\n",
       "\n",
       "    .dataframe tbody tr th {\n",
       "        vertical-align: top;\n",
       "    }\n",
       "\n",
       "    .dataframe thead th {\n",
       "        text-align: right;\n",
       "    }\n",
       "</style>\n",
       "<table border=\"1\" class=\"dataframe\">\n",
       "  <thead>\n",
       "    <tr style=\"text-align: right;\">\n",
       "      <th>Weekday Produced</th>\n",
       "      <th>Sunday</th>\n",
       "      <th>Monday</th>\n",
       "      <th>Tuesday</th>\n",
       "      <th>Wednesday</th>\n",
       "      <th>Thursday</th>\n",
       "      <th>Friday</th>\n",
       "      <th>Saturday</th>\n",
       "    </tr>\n",
       "    <tr>\n",
       "      <th>Shift</th>\n",
       "      <th></th>\n",
       "      <th></th>\n",
       "      <th></th>\n",
       "      <th></th>\n",
       "      <th></th>\n",
       "      <th></th>\n",
       "      <th></th>\n",
       "    </tr>\n",
       "  </thead>\n",
       "  <tbody>\n",
       "    <tr>\n",
       "      <th>Shift A</th>\n",
       "      <td>28</td>\n",
       "      <td>25</td>\n",
       "      <td>17</td>\n",
       "      <td>23</td>\n",
       "      <td>27</td>\n",
       "      <td>28</td>\n",
       "      <td>26</td>\n",
       "    </tr>\n",
       "    <tr>\n",
       "      <th>Shift B</th>\n",
       "      <td>24</td>\n",
       "      <td>28</td>\n",
       "      <td>24</td>\n",
       "      <td>30</td>\n",
       "      <td>28</td>\n",
       "      <td>34</td>\n",
       "      <td>23</td>\n",
       "    </tr>\n",
       "    <tr>\n",
       "      <th>Shift C</th>\n",
       "      <td>20</td>\n",
       "      <td>19</td>\n",
       "      <td>31</td>\n",
       "      <td>19</td>\n",
       "      <td>35</td>\n",
       "      <td>28</td>\n",
       "      <td>23</td>\n",
       "    </tr>\n",
       "  </tbody>\n",
       "</table>\n",
       "</div>"
      ]
     },
     "execution_count": 284,
     "metadata": {},
     "output_type": "execute_result"
    }
   ],
   "execution_count": 284
  },
  {
   "metadata": {
    "ExecuteTime": {
     "end_time": "2025-06-08T17:53:33.736990Z",
     "start_time": "2025-06-08T17:53:33.734092Z"
    }
   },
   "cell_type": "code",
   "source": [
    "# 3. Highlight shifts where output dropped by > 30% compared to the average.\n",
    "output_per_shift = df.groupby('Shift')['Batch ID'].count()"
   ],
   "id": "7eaaa82bd21a99fd",
   "outputs": [],
   "execution_count": 285
  },
  {
   "metadata": {
    "ExecuteTime": {
     "end_time": "2025-06-08T17:53:33.803348Z",
     "start_time": "2025-06-08T17:53:33.798330Z"
    }
   },
   "cell_type": "code",
   "source": "output_per_shift",
   "id": "d876176eb5d3e4c",
   "outputs": [
    {
     "data": {
      "text/plain": [
       "Shift\n",
       "Shift A    174\n",
       "Shift B    191\n",
       "Shift C    175\n",
       "Name: Batch ID, dtype: int64"
      ]
     },
     "execution_count": 286,
     "metadata": {},
     "output_type": "execute_result"
    }
   ],
   "execution_count": 286
  },
  {
   "metadata": {
    "ExecuteTime": {
     "end_time": "2025-06-08T17:53:33.864851Z",
     "start_time": "2025-06-08T17:53:33.858749Z"
    }
   },
   "cell_type": "code",
   "source": "average_output_per_shift = output_per_shift.mean()",
   "id": "1cc0fd7c67d17727",
   "outputs": [],
   "execution_count": 287
  },
  {
   "metadata": {
    "ExecuteTime": {
     "end_time": "2025-06-08T17:53:33.900205Z",
     "start_time": "2025-06-08T17:53:33.896411Z"
    }
   },
   "cell_type": "code",
   "source": "average_output_per_shift",
   "id": "48598fe7553c19d1",
   "outputs": [
    {
     "data": {
      "text/plain": [
       "np.float64(180.0)"
      ]
     },
     "execution_count": 288,
     "metadata": {},
     "output_type": "execute_result"
    }
   ],
   "execution_count": 288
  },
  {
   "metadata": {
    "ExecuteTime": {
     "end_time": "2025-06-08T17:53:33.982155Z",
     "start_time": "2025-06-08T17:53:33.979707Z"
    }
   },
   "cell_type": "code",
   "source": "dropped_average = average_output_per_shift * 0.7",
   "id": "9d0c5c4e4ac3bca3",
   "outputs": [],
   "execution_count": 289
  },
  {
   "metadata": {
    "ExecuteTime": {
     "end_time": "2025-06-08T17:53:34.001045Z",
     "start_time": "2025-06-08T17:53:33.997404Z"
    }
   },
   "cell_type": "code",
   "source": "dropped_average",
   "id": "6dbfcfecab07110b",
   "outputs": [
    {
     "data": {
      "text/plain": [
       "np.float64(125.99999999999999)"
      ]
     },
     "execution_count": 290,
     "metadata": {},
     "output_type": "execute_result"
    }
   ],
   "execution_count": 290
  },
  {
   "metadata": {
    "ExecuteTime": {
     "end_time": "2025-06-08T17:53:34.029430Z",
     "start_time": "2025-06-08T17:53:34.026605Z"
    }
   },
   "cell_type": "code",
   "source": "flagged_shifts = output_per_shift[output_per_shift < dropped_average]",
   "id": "9b0ce976827f9dfc",
   "outputs": [],
   "execution_count": 291
  },
  {
   "metadata": {
    "ExecuteTime": {
     "end_time": "2025-06-08T17:53:34.056786Z",
     "start_time": "2025-06-08T17:53:34.053295Z"
    }
   },
   "cell_type": "code",
   "source": "flagged_shifts",
   "id": "58d57a91f8c695d4",
   "outputs": [
    {
     "data": {
      "text/plain": [
       "Series([], Name: Batch ID, dtype: int64)"
      ]
     },
     "execution_count": 292,
     "metadata": {},
     "output_type": "execute_result"
    }
   ],
   "execution_count": 292
  },
  {
   "metadata": {
    "ExecuteTime": {
     "end_time": "2025-06-08T17:53:34.073436Z",
     "start_time": "2025-06-08T17:53:34.069560Z"
    }
   },
   "cell_type": "code",
   "source": [
    "# 4. Check if any shifts repeatedly missed full daily coverage (i.e., 0 entries for a date).\n",
    "daily_counts = df.groupby(['Date Produced', 'Shift'])['Batch ID'].count().unstack(fill_value=0)"
   ],
   "id": "55057556eb6693cf",
   "outputs": [],
   "execution_count": 293
  },
  {
   "metadata": {
    "ExecuteTime": {
     "end_time": "2025-06-08T17:53:34.093337Z",
     "start_time": "2025-06-08T17:53:34.090670Z"
    }
   },
   "cell_type": "code",
   "source": "missed_coverage = (daily_counts == 0)",
   "id": "4d86bbd331d69e11",
   "outputs": [],
   "execution_count": 294
  },
  {
   "metadata": {
    "ExecuteTime": {
     "end_time": "2025-06-08T17:53:34.129168Z",
     "start_time": "2025-06-08T17:53:34.126648Z"
    }
   },
   "cell_type": "code",
   "source": "missed_coverage_summary = missed_coverage.sum()",
   "id": "9e9cd40af4519860",
   "outputs": [],
   "execution_count": 295
  },
  {
   "metadata": {
    "ExecuteTime": {
     "end_time": "2025-06-08T17:53:34.155925Z",
     "start_time": "2025-06-08T17:53:34.152247Z"
    }
   },
   "cell_type": "code",
   "source": "missed_coverage_summary",
   "id": "b7b295ba83ae8784",
   "outputs": [
    {
     "data": {
      "text/plain": [
       "Shift\n",
       "Shift A    0\n",
       "Shift B    0\n",
       "Shift C    0\n",
       "dtype: int64"
      ]
     },
     "execution_count": 296,
     "metadata": {},
     "output_type": "execute_result"
    }
   ],
   "execution_count": 296
  },
  {
   "metadata": {
    "ExecuteTime": {
     "end_time": "2025-06-08T17:53:34.166938Z",
     "start_time": "2025-06-08T17:53:34.164402Z"
    }
   },
   "cell_type": "code",
   "source": "flagged_shifts = missed_coverage_summary[missed_coverage_summary > 2]",
   "id": "2bf13f00014b88a6",
   "outputs": [],
   "execution_count": 297
  },
  {
   "metadata": {
    "ExecuteTime": {
     "end_time": "2025-06-08T17:53:34.186571Z",
     "start_time": "2025-06-08T17:53:34.182844Z"
    }
   },
   "cell_type": "code",
   "source": "flagged_shifts",
   "id": "47a939a1e40c6b28",
   "outputs": [
    {
     "data": {
      "text/plain": [
       "Series([], dtype: int64)"
      ]
     },
     "execution_count": 298,
     "metadata": {},
     "output_type": "execute_result"
    }
   ],
   "execution_count": 298
  },
  {
   "metadata": {
    "ExecuteTime": {
     "end_time": "2025-06-08T17:53:34.231302Z",
     "start_time": "2025-06-08T17:53:34.227729Z"
    }
   },
   "cell_type": "code",
   "source": [
    "# 5. Group by `Operator` and count how many unique days they worked.\n",
    "operator_unique_days_worked = df.groupby('Operator')['Date Produced'].nunique().sort_values(ascending=False)"
   ],
   "id": "4408e9da3120b67d",
   "outputs": [],
   "execution_count": 299
  },
  {
   "metadata": {
    "ExecuteTime": {
     "end_time": "2025-06-08T17:53:34.258252Z",
     "start_time": "2025-06-08T17:53:34.254235Z"
    }
   },
   "cell_type": "code",
   "source": "operator_unique_days_worked",
   "id": "6c0c998293d569e6",
   "outputs": [
    {
     "data": {
      "text/plain": [
       "Operator\n",
       "Paul Macdonald     29\n",
       "Mary Anderson      28\n",
       "David Pittman      28\n",
       "Rita Graves        26\n",
       "Patrick Meyer      26\n",
       "Sherry Bryant      26\n",
       "Kristen Cole       25\n",
       "Jacqueline Bass    25\n",
       "Amanda Anderson    24\n",
       "Name: Date Produced, dtype: int64"
      ]
     },
     "execution_count": 300,
     "metadata": {},
     "output_type": "execute_result"
    }
   ],
   "execution_count": 300
  },
  {
   "metadata": {
    "ExecuteTime": {
     "end_time": "2025-06-08T17:53:34.279383Z",
     "start_time": "2025-06-08T17:53:34.276446Z"
    }
   },
   "cell_type": "code",
   "source": [
    "# 6. Identify any operator who worked more than 20 out of 30 days — flag for burnout.\n",
    "burnout_operators = operator_unique_days_worked.apply(lambda x: 'Burnout' if x > 20 else 'OK') # Series"
   ],
   "id": "4dfc19250ec042ac",
   "outputs": [],
   "execution_count": 301
  },
  {
   "metadata": {
    "ExecuteTime": {
     "end_time": "2025-06-08T17:53:34.303102Z",
     "start_time": "2025-06-08T17:53:34.298876Z"
    }
   },
   "cell_type": "code",
   "source": "burnout_operators",
   "id": "9540b21fe6a6f1a8",
   "outputs": [
    {
     "data": {
      "text/plain": [
       "Operator\n",
       "Paul Macdonald     Burnout\n",
       "Mary Anderson      Burnout\n",
       "David Pittman      Burnout\n",
       "Rita Graves        Burnout\n",
       "Patrick Meyer      Burnout\n",
       "Sherry Bryant      Burnout\n",
       "Kristen Cole       Burnout\n",
       "Jacqueline Bass    Burnout\n",
       "Amanda Anderson    Burnout\n",
       "Name: Date Produced, dtype: object"
      ]
     },
     "execution_count": 302,
     "metadata": {},
     "output_type": "execute_result"
    }
   ],
   "execution_count": 302
  },
  {
   "metadata": {
    "ExecuteTime": {
     "end_time": "2025-06-08T17:53:34.330447Z",
     "start_time": "2025-06-08T17:53:34.327642Z"
    }
   },
   "cell_type": "code",
   "source": [
    "# if df is needed\n",
    "burnout_operators_df = operator_unique_days_worked.to_frame(name='Days Worked')"
   ],
   "id": "b103b90b1a99f5da",
   "outputs": [],
   "execution_count": 303
  },
  {
   "metadata": {
    "ExecuteTime": {
     "end_time": "2025-06-08T17:53:34.356440Z",
     "start_time": "2025-06-08T17:53:34.351510Z"
    }
   },
   "cell_type": "code",
   "source": "burnout_operators_df",
   "id": "28ccafa6cf8112a5",
   "outputs": [
    {
     "data": {
      "text/plain": [
       "                 Days Worked\n",
       "Operator                    \n",
       "Paul Macdonald            29\n",
       "Mary Anderson             28\n",
       "David Pittman             28\n",
       "Rita Graves               26\n",
       "Patrick Meyer             26\n",
       "Sherry Bryant             26\n",
       "Kristen Cole              25\n",
       "Jacqueline Bass           25\n",
       "Amanda Anderson           24"
      ],
      "text/html": [
       "<div>\n",
       "<style scoped>\n",
       "    .dataframe tbody tr th:only-of-type {\n",
       "        vertical-align: middle;\n",
       "    }\n",
       "\n",
       "    .dataframe tbody tr th {\n",
       "        vertical-align: top;\n",
       "    }\n",
       "\n",
       "    .dataframe thead th {\n",
       "        text-align: right;\n",
       "    }\n",
       "</style>\n",
       "<table border=\"1\" class=\"dataframe\">\n",
       "  <thead>\n",
       "    <tr style=\"text-align: right;\">\n",
       "      <th></th>\n",
       "      <th>Days Worked</th>\n",
       "    </tr>\n",
       "    <tr>\n",
       "      <th>Operator</th>\n",
       "      <th></th>\n",
       "    </tr>\n",
       "  </thead>\n",
       "  <tbody>\n",
       "    <tr>\n",
       "      <th>Paul Macdonald</th>\n",
       "      <td>29</td>\n",
       "    </tr>\n",
       "    <tr>\n",
       "      <th>Mary Anderson</th>\n",
       "      <td>28</td>\n",
       "    </tr>\n",
       "    <tr>\n",
       "      <th>David Pittman</th>\n",
       "      <td>28</td>\n",
       "    </tr>\n",
       "    <tr>\n",
       "      <th>Rita Graves</th>\n",
       "      <td>26</td>\n",
       "    </tr>\n",
       "    <tr>\n",
       "      <th>Patrick Meyer</th>\n",
       "      <td>26</td>\n",
       "    </tr>\n",
       "    <tr>\n",
       "      <th>Sherry Bryant</th>\n",
       "      <td>26</td>\n",
       "    </tr>\n",
       "    <tr>\n",
       "      <th>Kristen Cole</th>\n",
       "      <td>25</td>\n",
       "    </tr>\n",
       "    <tr>\n",
       "      <th>Jacqueline Bass</th>\n",
       "      <td>25</td>\n",
       "    </tr>\n",
       "    <tr>\n",
       "      <th>Amanda Anderson</th>\n",
       "      <td>24</td>\n",
       "    </tr>\n",
       "  </tbody>\n",
       "</table>\n",
       "</div>"
      ]
     },
     "execution_count": 304,
     "metadata": {},
     "output_type": "execute_result"
    }
   ],
   "execution_count": 304
  },
  {
   "metadata": {
    "ExecuteTime": {
     "end_time": "2025-06-08T17:53:34.376961Z",
     "start_time": "2025-06-08T17:53:34.374129Z"
    }
   },
   "cell_type": "code",
   "source": "burnout_operators_df['Burnout Flag'] = burnout_operators_df['Days Worked'].apply(lambda x: 'Burnout' if x > 20 else 'OK')",
   "id": "2700b903759b7ff9",
   "outputs": [],
   "execution_count": 305
  },
  {
   "metadata": {
    "ExecuteTime": {
     "end_time": "2025-06-08T17:53:34.404332Z",
     "start_time": "2025-06-08T17:53:34.399705Z"
    }
   },
   "cell_type": "code",
   "source": "burnout_operators_df",
   "id": "aa7056643c87429c",
   "outputs": [
    {
     "data": {
      "text/plain": [
       "                 Days Worked Burnout Flag\n",
       "Operator                                 \n",
       "Paul Macdonald            29      Burnout\n",
       "Mary Anderson             28      Burnout\n",
       "David Pittman             28      Burnout\n",
       "Rita Graves               26      Burnout\n",
       "Patrick Meyer             26      Burnout\n",
       "Sherry Bryant             26      Burnout\n",
       "Kristen Cole              25      Burnout\n",
       "Jacqueline Bass           25      Burnout\n",
       "Amanda Anderson           24      Burnout"
      ],
      "text/html": [
       "<div>\n",
       "<style scoped>\n",
       "    .dataframe tbody tr th:only-of-type {\n",
       "        vertical-align: middle;\n",
       "    }\n",
       "\n",
       "    .dataframe tbody tr th {\n",
       "        vertical-align: top;\n",
       "    }\n",
       "\n",
       "    .dataframe thead th {\n",
       "        text-align: right;\n",
       "    }\n",
       "</style>\n",
       "<table border=\"1\" class=\"dataframe\">\n",
       "  <thead>\n",
       "    <tr style=\"text-align: right;\">\n",
       "      <th></th>\n",
       "      <th>Days Worked</th>\n",
       "      <th>Burnout Flag</th>\n",
       "    </tr>\n",
       "    <tr>\n",
       "      <th>Operator</th>\n",
       "      <th></th>\n",
       "      <th></th>\n",
       "    </tr>\n",
       "  </thead>\n",
       "  <tbody>\n",
       "    <tr>\n",
       "      <th>Paul Macdonald</th>\n",
       "      <td>29</td>\n",
       "      <td>Burnout</td>\n",
       "    </tr>\n",
       "    <tr>\n",
       "      <th>Mary Anderson</th>\n",
       "      <td>28</td>\n",
       "      <td>Burnout</td>\n",
       "    </tr>\n",
       "    <tr>\n",
       "      <th>David Pittman</th>\n",
       "      <td>28</td>\n",
       "      <td>Burnout</td>\n",
       "    </tr>\n",
       "    <tr>\n",
       "      <th>Rita Graves</th>\n",
       "      <td>26</td>\n",
       "      <td>Burnout</td>\n",
       "    </tr>\n",
       "    <tr>\n",
       "      <th>Patrick Meyer</th>\n",
       "      <td>26</td>\n",
       "      <td>Burnout</td>\n",
       "    </tr>\n",
       "    <tr>\n",
       "      <th>Sherry Bryant</th>\n",
       "      <td>26</td>\n",
       "      <td>Burnout</td>\n",
       "    </tr>\n",
       "    <tr>\n",
       "      <th>Kristen Cole</th>\n",
       "      <td>25</td>\n",
       "      <td>Burnout</td>\n",
       "    </tr>\n",
       "    <tr>\n",
       "      <th>Jacqueline Bass</th>\n",
       "      <td>25</td>\n",
       "      <td>Burnout</td>\n",
       "    </tr>\n",
       "    <tr>\n",
       "      <th>Amanda Anderson</th>\n",
       "      <td>24</td>\n",
       "      <td>Burnout</td>\n",
       "    </tr>\n",
       "  </tbody>\n",
       "</table>\n",
       "</div>"
      ]
     },
     "execution_count": 306,
     "metadata": {},
     "output_type": "execute_result"
    }
   ],
   "execution_count": 306
  },
  {
   "metadata": {
    "ExecuteTime": {
     "end_time": "2025-06-08T17:53:34.430975Z",
     "start_time": "2025-06-08T17:53:34.426847Z"
    }
   },
   "cell_type": "code",
   "source": [
    "# Merge burnout flag to original df\n",
    "df = df.merge(burnout_operators_df, on='Operator', how='left')"
   ],
   "id": "1ca47cc6d80d463",
   "outputs": [],
   "execution_count": 307
  },
  {
   "metadata": {
    "ExecuteTime": {
     "end_time": "2025-06-08T17:53:34.451106Z",
     "start_time": "2025-06-08T17:53:34.442967Z"
    }
   },
   "cell_type": "code",
   "source": "df.head()",
   "id": "719d9bc7a0021801",
   "outputs": [
    {
     "data": {
      "text/plain": [
       "                               Batch ID Date Produced Material Type  Color  \\\n",
       "0  eb6221c8-f45a-49f6-8c0c-ee28f5a29fc0    2025-05-01           PLA  Black   \n",
       "1  9748d109-45e1-4bb0-98af-53396946b791    2025-05-01           PLA    Red   \n",
       "2  35de154c-67d6-4144-a9e2-8afe65353fb2    2025-05-01           ABS   Blue   \n",
       "3  f3aca5db-d6d8-4dd3-9831-10d47c1c2c08    2025-05-01           ABS  Black   \n",
       "4  5299334b-a2bd-43b4-99ca-e5073e6bab53    2025-05-01           PLA  Black   \n",
       "\n",
       "  Production Line  Weight (g)  Scrap Rate (%) Pass/Fail         Operator  \\\n",
       "0          Line 2     1024.84            1.79      Pass  Jacqueline Bass   \n",
       "1          Line 1     1032.38            4.28      Pass     Kristen Cole   \n",
       "2          Line 4      988.29            1.65      Pass    Sherry Bryant   \n",
       "3          Line 2     1078.96            3.15      Pass     Kristen Cole   \n",
       "4          Line 3      976.53            2.81      Pass     Kristen Cole   \n",
       "\n",
       "                   Phone                  Email    Shift Machine Barcode  \\\n",
       "0  001-988-061-3911x7775  haynesdavid@yahoo.com  Shift C         MCH-001   \n",
       "1      300-905-2906x4997   theodore63@yahoo.com  Shift A         MCH-001   \n",
       "2   001-741-699-1830x254     timothy04@knox.net  Shift C         MCH-001   \n",
       "3      300-905-2906x4997   theodore63@yahoo.com  Shift C         MCH-003   \n",
       "4      300-905-2906x4997   theodore63@yahoo.com  Shift A         MCH-001   \n",
       "\n",
       "  Lot Number Weekday Produced  ISO Week  Days Worked Burnout Flag  \n",
       "0      L9935         Thursday        18           25      Burnout  \n",
       "1      L4257         Thursday        18           25      Burnout  \n",
       "2      L3615         Thursday        18           26      Burnout  \n",
       "3      L2674         Thursday        18           25      Burnout  \n",
       "4      L8527         Thursday        18           25      Burnout  "
      ],
      "text/html": [
       "<div>\n",
       "<style scoped>\n",
       "    .dataframe tbody tr th:only-of-type {\n",
       "        vertical-align: middle;\n",
       "    }\n",
       "\n",
       "    .dataframe tbody tr th {\n",
       "        vertical-align: top;\n",
       "    }\n",
       "\n",
       "    .dataframe thead th {\n",
       "        text-align: right;\n",
       "    }\n",
       "</style>\n",
       "<table border=\"1\" class=\"dataframe\">\n",
       "  <thead>\n",
       "    <tr style=\"text-align: right;\">\n",
       "      <th></th>\n",
       "      <th>Batch ID</th>\n",
       "      <th>Date Produced</th>\n",
       "      <th>Material Type</th>\n",
       "      <th>Color</th>\n",
       "      <th>Production Line</th>\n",
       "      <th>Weight (g)</th>\n",
       "      <th>Scrap Rate (%)</th>\n",
       "      <th>Pass/Fail</th>\n",
       "      <th>Operator</th>\n",
       "      <th>Phone</th>\n",
       "      <th>Email</th>\n",
       "      <th>Shift</th>\n",
       "      <th>Machine Barcode</th>\n",
       "      <th>Lot Number</th>\n",
       "      <th>Weekday Produced</th>\n",
       "      <th>ISO Week</th>\n",
       "      <th>Days Worked</th>\n",
       "      <th>Burnout Flag</th>\n",
       "    </tr>\n",
       "  </thead>\n",
       "  <tbody>\n",
       "    <tr>\n",
       "      <th>0</th>\n",
       "      <td>eb6221c8-f45a-49f6-8c0c-ee28f5a29fc0</td>\n",
       "      <td>2025-05-01</td>\n",
       "      <td>PLA</td>\n",
       "      <td>Black</td>\n",
       "      <td>Line 2</td>\n",
       "      <td>1024.84</td>\n",
       "      <td>1.79</td>\n",
       "      <td>Pass</td>\n",
       "      <td>Jacqueline Bass</td>\n",
       "      <td>001-988-061-3911x7775</td>\n",
       "      <td>haynesdavid@yahoo.com</td>\n",
       "      <td>Shift C</td>\n",
       "      <td>MCH-001</td>\n",
       "      <td>L9935</td>\n",
       "      <td>Thursday</td>\n",
       "      <td>18</td>\n",
       "      <td>25</td>\n",
       "      <td>Burnout</td>\n",
       "    </tr>\n",
       "    <tr>\n",
       "      <th>1</th>\n",
       "      <td>9748d109-45e1-4bb0-98af-53396946b791</td>\n",
       "      <td>2025-05-01</td>\n",
       "      <td>PLA</td>\n",
       "      <td>Red</td>\n",
       "      <td>Line 1</td>\n",
       "      <td>1032.38</td>\n",
       "      <td>4.28</td>\n",
       "      <td>Pass</td>\n",
       "      <td>Kristen Cole</td>\n",
       "      <td>300-905-2906x4997</td>\n",
       "      <td>theodore63@yahoo.com</td>\n",
       "      <td>Shift A</td>\n",
       "      <td>MCH-001</td>\n",
       "      <td>L4257</td>\n",
       "      <td>Thursday</td>\n",
       "      <td>18</td>\n",
       "      <td>25</td>\n",
       "      <td>Burnout</td>\n",
       "    </tr>\n",
       "    <tr>\n",
       "      <th>2</th>\n",
       "      <td>35de154c-67d6-4144-a9e2-8afe65353fb2</td>\n",
       "      <td>2025-05-01</td>\n",
       "      <td>ABS</td>\n",
       "      <td>Blue</td>\n",
       "      <td>Line 4</td>\n",
       "      <td>988.29</td>\n",
       "      <td>1.65</td>\n",
       "      <td>Pass</td>\n",
       "      <td>Sherry Bryant</td>\n",
       "      <td>001-741-699-1830x254</td>\n",
       "      <td>timothy04@knox.net</td>\n",
       "      <td>Shift C</td>\n",
       "      <td>MCH-001</td>\n",
       "      <td>L3615</td>\n",
       "      <td>Thursday</td>\n",
       "      <td>18</td>\n",
       "      <td>26</td>\n",
       "      <td>Burnout</td>\n",
       "    </tr>\n",
       "    <tr>\n",
       "      <th>3</th>\n",
       "      <td>f3aca5db-d6d8-4dd3-9831-10d47c1c2c08</td>\n",
       "      <td>2025-05-01</td>\n",
       "      <td>ABS</td>\n",
       "      <td>Black</td>\n",
       "      <td>Line 2</td>\n",
       "      <td>1078.96</td>\n",
       "      <td>3.15</td>\n",
       "      <td>Pass</td>\n",
       "      <td>Kristen Cole</td>\n",
       "      <td>300-905-2906x4997</td>\n",
       "      <td>theodore63@yahoo.com</td>\n",
       "      <td>Shift C</td>\n",
       "      <td>MCH-003</td>\n",
       "      <td>L2674</td>\n",
       "      <td>Thursday</td>\n",
       "      <td>18</td>\n",
       "      <td>25</td>\n",
       "      <td>Burnout</td>\n",
       "    </tr>\n",
       "    <tr>\n",
       "      <th>4</th>\n",
       "      <td>5299334b-a2bd-43b4-99ca-e5073e6bab53</td>\n",
       "      <td>2025-05-01</td>\n",
       "      <td>PLA</td>\n",
       "      <td>Black</td>\n",
       "      <td>Line 3</td>\n",
       "      <td>976.53</td>\n",
       "      <td>2.81</td>\n",
       "      <td>Pass</td>\n",
       "      <td>Kristen Cole</td>\n",
       "      <td>300-905-2906x4997</td>\n",
       "      <td>theodore63@yahoo.com</td>\n",
       "      <td>Shift A</td>\n",
       "      <td>MCH-001</td>\n",
       "      <td>L8527</td>\n",
       "      <td>Thursday</td>\n",
       "      <td>18</td>\n",
       "      <td>25</td>\n",
       "      <td>Burnout</td>\n",
       "    </tr>\n",
       "  </tbody>\n",
       "</table>\n",
       "</div>"
      ]
     },
     "execution_count": 308,
     "metadata": {},
     "output_type": "execute_result"
    }
   ],
   "execution_count": 308
  },
  {
   "metadata": {
    "ExecuteTime": {
     "end_time": "2025-06-08T17:53:34.505428Z",
     "start_time": "2025-06-08T17:53:34.500214Z"
    }
   },
   "cell_type": "code",
   "source": [
    "# 7. Create a pivot table showing production volume by day and shift.\n",
    "production_volume_by_day_shift = df.groupby(['Weekday Produced', 'Shift'])['Batch ID'].count().unstack(fill_value=0)"
   ],
   "id": "342063f2491fef63",
   "outputs": [],
   "execution_count": 309
  },
  {
   "metadata": {
    "ExecuteTime": {
     "end_time": "2025-06-08T17:56:22.213949Z",
     "start_time": "2025-06-08T17:56:22.211312Z"
    }
   },
   "cell_type": "code",
   "source": "production_volume_by_day_shift = production_volume_by_day_shift.reindex(weekday_order)",
   "id": "4ed788e040344ded",
   "outputs": [],
   "execution_count": 314
  },
  {
   "metadata": {
    "ExecuteTime": {
     "end_time": "2025-06-08T17:56:25.129246Z",
     "start_time": "2025-06-08T17:56:25.124206Z"
    }
   },
   "cell_type": "code",
   "source": "production_volume_by_day_shift",
   "id": "e743dad3655a4bb0",
   "outputs": [
    {
     "data": {
      "text/plain": [
       "Shift             Shift A  Shift B  Shift C\n",
       "Weekday Produced                           \n",
       "Sunday                 28       24       20\n",
       "Monday                 25       28       19\n",
       "Tuesday                17       24       31\n",
       "Wednesday              23       30       19\n",
       "Thursday               27       28       35\n",
       "Friday                 28       34       28\n",
       "Saturday               26       23       23"
      ],
      "text/html": [
       "<div>\n",
       "<style scoped>\n",
       "    .dataframe tbody tr th:only-of-type {\n",
       "        vertical-align: middle;\n",
       "    }\n",
       "\n",
       "    .dataframe tbody tr th {\n",
       "        vertical-align: top;\n",
       "    }\n",
       "\n",
       "    .dataframe thead th {\n",
       "        text-align: right;\n",
       "    }\n",
       "</style>\n",
       "<table border=\"1\" class=\"dataframe\">\n",
       "  <thead>\n",
       "    <tr style=\"text-align: right;\">\n",
       "      <th>Shift</th>\n",
       "      <th>Shift A</th>\n",
       "      <th>Shift B</th>\n",
       "      <th>Shift C</th>\n",
       "    </tr>\n",
       "    <tr>\n",
       "      <th>Weekday Produced</th>\n",
       "      <th></th>\n",
       "      <th></th>\n",
       "      <th></th>\n",
       "    </tr>\n",
       "  </thead>\n",
       "  <tbody>\n",
       "    <tr>\n",
       "      <th>Sunday</th>\n",
       "      <td>28</td>\n",
       "      <td>24</td>\n",
       "      <td>20</td>\n",
       "    </tr>\n",
       "    <tr>\n",
       "      <th>Monday</th>\n",
       "      <td>25</td>\n",
       "      <td>28</td>\n",
       "      <td>19</td>\n",
       "    </tr>\n",
       "    <tr>\n",
       "      <th>Tuesday</th>\n",
       "      <td>17</td>\n",
       "      <td>24</td>\n",
       "      <td>31</td>\n",
       "    </tr>\n",
       "    <tr>\n",
       "      <th>Wednesday</th>\n",
       "      <td>23</td>\n",
       "      <td>30</td>\n",
       "      <td>19</td>\n",
       "    </tr>\n",
       "    <tr>\n",
       "      <th>Thursday</th>\n",
       "      <td>27</td>\n",
       "      <td>28</td>\n",
       "      <td>35</td>\n",
       "    </tr>\n",
       "    <tr>\n",
       "      <th>Friday</th>\n",
       "      <td>28</td>\n",
       "      <td>34</td>\n",
       "      <td>28</td>\n",
       "    </tr>\n",
       "    <tr>\n",
       "      <th>Saturday</th>\n",
       "      <td>26</td>\n",
       "      <td>23</td>\n",
       "      <td>23</td>\n",
       "    </tr>\n",
       "  </tbody>\n",
       "</table>\n",
       "</div>"
      ]
     },
     "execution_count": 315,
     "metadata": {},
     "output_type": "execute_result"
    }
   ],
   "execution_count": 315
  },
  {
   "metadata": {},
   "cell_type": "code",
   "outputs": [],
   "execution_count": null,
   "source": "",
   "id": "1432a8cedc8bbfff"
  }
 ],
 "metadata": {
  "kernelspec": {
   "display_name": "Python 3",
   "language": "python",
   "name": "python3"
  },
  "language_info": {
   "codemirror_mode": {
    "name": "ipython",
    "version": 2
   },
   "file_extension": ".py",
   "mimetype": "text/x-python",
   "name": "python",
   "nbconvert_exporter": "python",
   "pygments_lexer": "ipython2",
   "version": "2.7.6"
  }
 },
 "nbformat": 4,
 "nbformat_minor": 5
}
