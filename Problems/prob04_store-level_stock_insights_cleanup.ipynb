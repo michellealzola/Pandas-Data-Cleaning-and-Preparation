{
 "cells": [
  {
   "metadata": {},
   "cell_type": "markdown",
   "source": [
    "### **Problem 4: Store-Level Stock Insights and Cleanup**\n",
    "\n",
    "Management wants to detect patterns in store sales and clean up inventory tags:\n",
    "\n",
    "* Parse `Product Code` to extract product family (`PLA`, `TPU`, etc.).\n",
    "* Verify that barcodes follow a 13-digit numeric standard.\n",
    "* Remove or flag invalid barcodes.\n",
    "* Group by store city and compute average total per transaction and most sold material.\n",
    "* For each store, compute median unit price for PLA materials only.\n",
    "* Extract numerical store building numbers and convert them to integers.\n",
    "\n",
    "*Hint: You may use string length and isdigit() checks for barcode validation.*\n"
   ],
   "id": "2fbfb7f702a935aa"
  },
  {
   "metadata": {
    "ExecuteTime": {
     "end_time": "2025-06-06T22:13:02.900225Z",
     "start_time": "2025-06-06T22:13:02.897536Z"
    }
   },
   "cell_type": "code",
   "source": [
    "import pandas as pd\n",
    "import numpy as np\n",
    "import re"
   ],
   "id": "1361cad62309f981",
   "outputs": [],
   "execution_count": 205
  },
  {
   "metadata": {
    "ExecuteTime": {
     "end_time": "2025-06-06T22:13:02.938648Z",
     "start_time": "2025-06-06T22:13:02.931237Z"
    }
   },
   "cell_type": "code",
   "source": "data = pd.read_csv('fila_heat_filament_sales_april2025.csv')",
   "id": "9e8f05cb243e7226",
   "outputs": [],
   "execution_count": 206
  },
  {
   "metadata": {
    "ExecuteTime": {
     "end_time": "2025-06-06T22:13:02.964444Z",
     "start_time": "2025-06-06T22:13:02.962185Z"
    }
   },
   "cell_type": "code",
   "source": "df = pd.DataFrame(data)",
   "id": "dbee78f8abe5eef3",
   "outputs": [],
   "execution_count": 207
  },
  {
   "metadata": {
    "ExecuteTime": {
     "end_time": "2025-06-06T22:13:02.974589Z",
     "start_time": "2025-06-06T22:13:02.965943Z"
    }
   },
   "cell_type": "code",
   "source": "df.head(3)",
   "id": "67ded5fe8c08b1e8",
   "outputs": [
    {
     "data": {
      "text/plain": [
       "  Date Purchased                        Receipt Number     Customer Name  \\\n",
       "0     2025-04-01  1ff49b78-8946-4e85-b59c-de66bacfb3d0  Danielle Johnson   \n",
       "1     2025-04-01  434308bc-89fa-4a68-8fb5-d27bbeb79919      Tracie Wyatt   \n",
       "2     2025-04-01  52fbe43b-9954-4eb4-8025-7ad1eb2263dd        Eric Moore   \n",
       "\n",
       "                                  Customer Address           Phone Number  \\\n",
       "0  3321 Brittany Bypass, North Jefferyhaven, 79408             8386379402   \n",
       "1        64752 Kelly Skyway, Jacquelineland, 80341   +1-283-276-4835x0305   \n",
       "2             691 James Mountain, Tashatown, 89667  001-184-514-6270x4828   \n",
       "\n",
       "                          Email                              Store Location  \\\n",
       "0  danielle.johnson@hotmail.com  5423 Garcia Light, West Melanieview, 06196   \n",
       "1        tracie.wyatt@yahoo.com         1395 Diana Locks, Thomasberg, 32826   \n",
       "2          eric.moore@gmail.com        489 Eric Track, New Stephanie, 70015   \n",
       "\n",
       "            Product Name Product Code      Bar Code Material Name   Color  \\\n",
       "0  Standard PLA Filament      PLA-792  6.184960e+12           PLA    Blue   \n",
       "1  Flexible TPU Filament      TPU-338  9.696530e+12           TPU  Purple   \n",
       "2  Flexible TPU Filament      TPU-325  7.015430e+12           TPU  Purple   \n",
       "\n",
       "   Weight       Supplier Lot Number  Price  Quantity    Tax  Total Price  \n",
       "0     500    3DFilaments      L5012  26.69         1   1.87        28.56  \n",
       "1     500  ProtoPolymers      L1520  20.88         2   2.92        44.68  \n",
       "2    1000       PrintPro      L4257  41.47         4  11.61       177.49  "
      ],
      "text/html": [
       "<div>\n",
       "<style scoped>\n",
       "    .dataframe tbody tr th:only-of-type {\n",
       "        vertical-align: middle;\n",
       "    }\n",
       "\n",
       "    .dataframe tbody tr th {\n",
       "        vertical-align: top;\n",
       "    }\n",
       "\n",
       "    .dataframe thead th {\n",
       "        text-align: right;\n",
       "    }\n",
       "</style>\n",
       "<table border=\"1\" class=\"dataframe\">\n",
       "  <thead>\n",
       "    <tr style=\"text-align: right;\">\n",
       "      <th></th>\n",
       "      <th>Date Purchased</th>\n",
       "      <th>Receipt Number</th>\n",
       "      <th>Customer Name</th>\n",
       "      <th>Customer Address</th>\n",
       "      <th>Phone Number</th>\n",
       "      <th>Email</th>\n",
       "      <th>Store Location</th>\n",
       "      <th>Product Name</th>\n",
       "      <th>Product Code</th>\n",
       "      <th>Bar Code</th>\n",
       "      <th>Material Name</th>\n",
       "      <th>Color</th>\n",
       "      <th>Weight</th>\n",
       "      <th>Supplier</th>\n",
       "      <th>Lot Number</th>\n",
       "      <th>Price</th>\n",
       "      <th>Quantity</th>\n",
       "      <th>Tax</th>\n",
       "      <th>Total Price</th>\n",
       "    </tr>\n",
       "  </thead>\n",
       "  <tbody>\n",
       "    <tr>\n",
       "      <th>0</th>\n",
       "      <td>2025-04-01</td>\n",
       "      <td>1ff49b78-8946-4e85-b59c-de66bacfb3d0</td>\n",
       "      <td>Danielle Johnson</td>\n",
       "      <td>3321 Brittany Bypass, North Jefferyhaven, 79408</td>\n",
       "      <td>8386379402</td>\n",
       "      <td>danielle.johnson@hotmail.com</td>\n",
       "      <td>5423 Garcia Light, West Melanieview, 06196</td>\n",
       "      <td>Standard PLA Filament</td>\n",
       "      <td>PLA-792</td>\n",
       "      <td>6.184960e+12</td>\n",
       "      <td>PLA</td>\n",
       "      <td>Blue</td>\n",
       "      <td>500</td>\n",
       "      <td>3DFilaments</td>\n",
       "      <td>L5012</td>\n",
       "      <td>26.69</td>\n",
       "      <td>1</td>\n",
       "      <td>1.87</td>\n",
       "      <td>28.56</td>\n",
       "    </tr>\n",
       "    <tr>\n",
       "      <th>1</th>\n",
       "      <td>2025-04-01</td>\n",
       "      <td>434308bc-89fa-4a68-8fb5-d27bbeb79919</td>\n",
       "      <td>Tracie Wyatt</td>\n",
       "      <td>64752 Kelly Skyway, Jacquelineland, 80341</td>\n",
       "      <td>+1-283-276-4835x0305</td>\n",
       "      <td>tracie.wyatt@yahoo.com</td>\n",
       "      <td>1395 Diana Locks, Thomasberg, 32826</td>\n",
       "      <td>Flexible TPU Filament</td>\n",
       "      <td>TPU-338</td>\n",
       "      <td>9.696530e+12</td>\n",
       "      <td>TPU</td>\n",
       "      <td>Purple</td>\n",
       "      <td>500</td>\n",
       "      <td>ProtoPolymers</td>\n",
       "      <td>L1520</td>\n",
       "      <td>20.88</td>\n",
       "      <td>2</td>\n",
       "      <td>2.92</td>\n",
       "      <td>44.68</td>\n",
       "    </tr>\n",
       "    <tr>\n",
       "      <th>2</th>\n",
       "      <td>2025-04-01</td>\n",
       "      <td>52fbe43b-9954-4eb4-8025-7ad1eb2263dd</td>\n",
       "      <td>Eric Moore</td>\n",
       "      <td>691 James Mountain, Tashatown, 89667</td>\n",
       "      <td>001-184-514-6270x4828</td>\n",
       "      <td>eric.moore@gmail.com</td>\n",
       "      <td>489 Eric Track, New Stephanie, 70015</td>\n",
       "      <td>Flexible TPU Filament</td>\n",
       "      <td>TPU-325</td>\n",
       "      <td>7.015430e+12</td>\n",
       "      <td>TPU</td>\n",
       "      <td>Purple</td>\n",
       "      <td>1000</td>\n",
       "      <td>PrintPro</td>\n",
       "      <td>L4257</td>\n",
       "      <td>41.47</td>\n",
       "      <td>4</td>\n",
       "      <td>11.61</td>\n",
       "      <td>177.49</td>\n",
       "    </tr>\n",
       "  </tbody>\n",
       "</table>\n",
       "</div>"
      ]
     },
     "execution_count": 208,
     "metadata": {},
     "output_type": "execute_result"
    }
   ],
   "execution_count": 208
  },
  {
   "metadata": {
    "ExecuteTime": {
     "end_time": "2025-06-06T22:13:02.983003Z",
     "start_time": "2025-06-06T22:13:02.980827Z"
    }
   },
   "cell_type": "code",
   "source": [
    "# 1.0 Parse `Product Code` to extract product family (`PLA`, `TPU`, etc.).\n",
    "product_family_pattern = r'^([A-Z]+)'"
   ],
   "id": "51c20b5fcc322574",
   "outputs": [],
   "execution_count": 209
  },
  {
   "metadata": {
    "ExecuteTime": {
     "end_time": "2025-06-06T22:13:02.987337Z",
     "start_time": "2025-06-06T22:13:02.984174Z"
    }
   },
   "cell_type": "code",
   "source": "df['Product Family'] = df['Product Code'].str.extract(product_family_pattern)",
   "id": "faed886f79907dcc",
   "outputs": [],
   "execution_count": 210
  },
  {
   "metadata": {
    "ExecuteTime": {
     "end_time": "2025-06-06T22:13:03.005252Z",
     "start_time": "2025-06-06T22:13:02.999437Z"
    }
   },
   "cell_type": "code",
   "source": "df[['Product Code', 'Product Family']].head(3)",
   "id": "fc3438a799d9862f",
   "outputs": [
    {
     "data": {
      "text/plain": [
       "  Product Code Product Family\n",
       "0      PLA-792            PLA\n",
       "1      TPU-338            TPU\n",
       "2      TPU-325            TPU"
      ],
      "text/html": [
       "<div>\n",
       "<style scoped>\n",
       "    .dataframe tbody tr th:only-of-type {\n",
       "        vertical-align: middle;\n",
       "    }\n",
       "\n",
       "    .dataframe tbody tr th {\n",
       "        vertical-align: top;\n",
       "    }\n",
       "\n",
       "    .dataframe thead th {\n",
       "        text-align: right;\n",
       "    }\n",
       "</style>\n",
       "<table border=\"1\" class=\"dataframe\">\n",
       "  <thead>\n",
       "    <tr style=\"text-align: right;\">\n",
       "      <th></th>\n",
       "      <th>Product Code</th>\n",
       "      <th>Product Family</th>\n",
       "    </tr>\n",
       "  </thead>\n",
       "  <tbody>\n",
       "    <tr>\n",
       "      <th>0</th>\n",
       "      <td>PLA-792</td>\n",
       "      <td>PLA</td>\n",
       "    </tr>\n",
       "    <tr>\n",
       "      <th>1</th>\n",
       "      <td>TPU-338</td>\n",
       "      <td>TPU</td>\n",
       "    </tr>\n",
       "    <tr>\n",
       "      <th>2</th>\n",
       "      <td>TPU-325</td>\n",
       "      <td>TPU</td>\n",
       "    </tr>\n",
       "  </tbody>\n",
       "</table>\n",
       "</div>"
      ]
     },
     "execution_count": 211,
     "metadata": {},
     "output_type": "execute_result"
    }
   ],
   "execution_count": 211
  },
  {
   "metadata": {
    "ExecuteTime": {
     "end_time": "2025-06-06T22:13:03.025779Z",
     "start_time": "2025-06-06T22:13:03.022416Z"
    }
   },
   "cell_type": "code",
   "source": [
    "# 2. * Verify that barcodes follow a 13-digit numeric standard.\n",
    "df['Bar Code'] = df['Bar Code'].astype(str)"
   ],
   "id": "506f031f592a45a9",
   "outputs": [],
   "execution_count": 212
  },
  {
   "metadata": {
    "ExecuteTime": {
     "end_time": "2025-06-06T22:13:03.044585Z",
     "start_time": "2025-06-06T22:13:03.042242Z"
    }
   },
   "cell_type": "code",
   "source": "valid_barcode_pattern = r'^\\d{13}$'",
   "id": "8447959d28e1347c",
   "outputs": [],
   "execution_count": 213
  },
  {
   "metadata": {
    "ExecuteTime": {
     "end_time": "2025-06-06T22:13:03.101011Z",
     "start_time": "2025-06-06T22:13:03.098028Z"
    }
   },
   "cell_type": "code",
   "source": "df['Valid Barcode'] = df['Bar Code'].str.match(valid_barcode_pattern)",
   "id": "f7df4acfe0dd8d2",
   "outputs": [],
   "execution_count": 214
  },
  {
   "metadata": {
    "ExecuteTime": {
     "end_time": "2025-06-06T22:13:03.120087Z",
     "start_time": "2025-06-06T22:13:03.116814Z"
    }
   },
   "cell_type": "code",
   "source": "invalid_barcodes = df[~df['Valid Barcode']]",
   "id": "6196fa3bcf2e2e6",
   "outputs": [],
   "execution_count": 215
  },
  {
   "metadata": {
    "ExecuteTime": {
     "end_time": "2025-06-06T22:13:03.154515Z",
     "start_time": "2025-06-06T22:13:03.146191Z"
    }
   },
   "cell_type": "code",
   "source": "invalid_barcodes.head(3)",
   "id": "f7aad9dedf053a2c",
   "outputs": [
    {
     "data": {
      "text/plain": [
       "  Date Purchased                        Receipt Number     Customer Name  \\\n",
       "0     2025-04-01  1ff49b78-8946-4e85-b59c-de66bacfb3d0  Danielle Johnson   \n",
       "1     2025-04-01  434308bc-89fa-4a68-8fb5-d27bbeb79919      Tracie Wyatt   \n",
       "2     2025-04-01  52fbe43b-9954-4eb4-8025-7ad1eb2263dd        Eric Moore   \n",
       "\n",
       "                                  Customer Address           Phone Number  \\\n",
       "0  3321 Brittany Bypass, North Jefferyhaven, 79408             8386379402   \n",
       "1        64752 Kelly Skyway, Jacquelineland, 80341   +1-283-276-4835x0305   \n",
       "2             691 James Mountain, Tashatown, 89667  001-184-514-6270x4828   \n",
       "\n",
       "                          Email                              Store Location  \\\n",
       "0  danielle.johnson@hotmail.com  5423 Garcia Light, West Melanieview, 06196   \n",
       "1        tracie.wyatt@yahoo.com         1395 Diana Locks, Thomasberg, 32826   \n",
       "2          eric.moore@gmail.com        489 Eric Track, New Stephanie, 70015   \n",
       "\n",
       "            Product Name Product Code         Bar Code  ...   Color Weight  \\\n",
       "0  Standard PLA Filament      PLA-792  6184960000000.0  ...    Blue    500   \n",
       "1  Flexible TPU Filament      TPU-338  9696530000000.0  ...  Purple    500   \n",
       "2  Flexible TPU Filament      TPU-325  7015430000000.0  ...  Purple   1000   \n",
       "\n",
       "        Supplier Lot Number  Price  Quantity    Tax  Total Price  \\\n",
       "0    3DFilaments      L5012  26.69         1   1.87        28.56   \n",
       "1  ProtoPolymers      L1520  20.88         2   2.92        44.68   \n",
       "2       PrintPro      L4257  41.47         4  11.61       177.49   \n",
       "\n",
       "   Product Family Valid Barcode  \n",
       "0             PLA         False  \n",
       "1             TPU         False  \n",
       "2             TPU         False  \n",
       "\n",
       "[3 rows x 21 columns]"
      ],
      "text/html": [
       "<div>\n",
       "<style scoped>\n",
       "    .dataframe tbody tr th:only-of-type {\n",
       "        vertical-align: middle;\n",
       "    }\n",
       "\n",
       "    .dataframe tbody tr th {\n",
       "        vertical-align: top;\n",
       "    }\n",
       "\n",
       "    .dataframe thead th {\n",
       "        text-align: right;\n",
       "    }\n",
       "</style>\n",
       "<table border=\"1\" class=\"dataframe\">\n",
       "  <thead>\n",
       "    <tr style=\"text-align: right;\">\n",
       "      <th></th>\n",
       "      <th>Date Purchased</th>\n",
       "      <th>Receipt Number</th>\n",
       "      <th>Customer Name</th>\n",
       "      <th>Customer Address</th>\n",
       "      <th>Phone Number</th>\n",
       "      <th>Email</th>\n",
       "      <th>Store Location</th>\n",
       "      <th>Product Name</th>\n",
       "      <th>Product Code</th>\n",
       "      <th>Bar Code</th>\n",
       "      <th>...</th>\n",
       "      <th>Color</th>\n",
       "      <th>Weight</th>\n",
       "      <th>Supplier</th>\n",
       "      <th>Lot Number</th>\n",
       "      <th>Price</th>\n",
       "      <th>Quantity</th>\n",
       "      <th>Tax</th>\n",
       "      <th>Total Price</th>\n",
       "      <th>Product Family</th>\n",
       "      <th>Valid Barcode</th>\n",
       "    </tr>\n",
       "  </thead>\n",
       "  <tbody>\n",
       "    <tr>\n",
       "      <th>0</th>\n",
       "      <td>2025-04-01</td>\n",
       "      <td>1ff49b78-8946-4e85-b59c-de66bacfb3d0</td>\n",
       "      <td>Danielle Johnson</td>\n",
       "      <td>3321 Brittany Bypass, North Jefferyhaven, 79408</td>\n",
       "      <td>8386379402</td>\n",
       "      <td>danielle.johnson@hotmail.com</td>\n",
       "      <td>5423 Garcia Light, West Melanieview, 06196</td>\n",
       "      <td>Standard PLA Filament</td>\n",
       "      <td>PLA-792</td>\n",
       "      <td>6184960000000.0</td>\n",
       "      <td>...</td>\n",
       "      <td>Blue</td>\n",
       "      <td>500</td>\n",
       "      <td>3DFilaments</td>\n",
       "      <td>L5012</td>\n",
       "      <td>26.69</td>\n",
       "      <td>1</td>\n",
       "      <td>1.87</td>\n",
       "      <td>28.56</td>\n",
       "      <td>PLA</td>\n",
       "      <td>False</td>\n",
       "    </tr>\n",
       "    <tr>\n",
       "      <th>1</th>\n",
       "      <td>2025-04-01</td>\n",
       "      <td>434308bc-89fa-4a68-8fb5-d27bbeb79919</td>\n",
       "      <td>Tracie Wyatt</td>\n",
       "      <td>64752 Kelly Skyway, Jacquelineland, 80341</td>\n",
       "      <td>+1-283-276-4835x0305</td>\n",
       "      <td>tracie.wyatt@yahoo.com</td>\n",
       "      <td>1395 Diana Locks, Thomasberg, 32826</td>\n",
       "      <td>Flexible TPU Filament</td>\n",
       "      <td>TPU-338</td>\n",
       "      <td>9696530000000.0</td>\n",
       "      <td>...</td>\n",
       "      <td>Purple</td>\n",
       "      <td>500</td>\n",
       "      <td>ProtoPolymers</td>\n",
       "      <td>L1520</td>\n",
       "      <td>20.88</td>\n",
       "      <td>2</td>\n",
       "      <td>2.92</td>\n",
       "      <td>44.68</td>\n",
       "      <td>TPU</td>\n",
       "      <td>False</td>\n",
       "    </tr>\n",
       "    <tr>\n",
       "      <th>2</th>\n",
       "      <td>2025-04-01</td>\n",
       "      <td>52fbe43b-9954-4eb4-8025-7ad1eb2263dd</td>\n",
       "      <td>Eric Moore</td>\n",
       "      <td>691 James Mountain, Tashatown, 89667</td>\n",
       "      <td>001-184-514-6270x4828</td>\n",
       "      <td>eric.moore@gmail.com</td>\n",
       "      <td>489 Eric Track, New Stephanie, 70015</td>\n",
       "      <td>Flexible TPU Filament</td>\n",
       "      <td>TPU-325</td>\n",
       "      <td>7015430000000.0</td>\n",
       "      <td>...</td>\n",
       "      <td>Purple</td>\n",
       "      <td>1000</td>\n",
       "      <td>PrintPro</td>\n",
       "      <td>L4257</td>\n",
       "      <td>41.47</td>\n",
       "      <td>4</td>\n",
       "      <td>11.61</td>\n",
       "      <td>177.49</td>\n",
       "      <td>TPU</td>\n",
       "      <td>False</td>\n",
       "    </tr>\n",
       "  </tbody>\n",
       "</table>\n",
       "<p>3 rows × 21 columns</p>\n",
       "</div>"
      ]
     },
     "execution_count": 216,
     "metadata": {},
     "output_type": "execute_result"
    }
   ],
   "execution_count": 216
  },
  {
   "metadata": {
    "ExecuteTime": {
     "end_time": "2025-06-06T22:13:03.208106Z",
     "start_time": "2025-06-06T22:13:03.205035Z"
    }
   },
   "cell_type": "code",
   "source": [
    "# 3. Remove or flag invalid barcodes.\n",
    "df['Invalid Barcode Flag'] = df['Valid Barcode'].apply(lambda x: '' if x else 'FLAGGED') "
   ],
   "id": "cbb5e11fa379bdf9",
   "outputs": [],
   "execution_count": 217
  },
  {
   "metadata": {
    "ExecuteTime": {
     "end_time": "2025-06-06T22:13:03.215496Z",
     "start_time": "2025-06-06T22:13:03.210655Z"
    }
   },
   "cell_type": "code",
   "source": "df[['Material Name', 'Lot Number', 'Bar Code', 'Invalid Barcode Flag']].head(3)",
   "id": "420fc4a56aaeb1ba",
   "outputs": [
    {
     "data": {
      "text/plain": [
       "  Material Name Lot Number         Bar Code Invalid Barcode Flag\n",
       "0           PLA      L5012  6184960000000.0              FLAGGED\n",
       "1           TPU      L1520  9696530000000.0              FLAGGED\n",
       "2           TPU      L4257  7015430000000.0              FLAGGED"
      ],
      "text/html": [
       "<div>\n",
       "<style scoped>\n",
       "    .dataframe tbody tr th:only-of-type {\n",
       "        vertical-align: middle;\n",
       "    }\n",
       "\n",
       "    .dataframe tbody tr th {\n",
       "        vertical-align: top;\n",
       "    }\n",
       "\n",
       "    .dataframe thead th {\n",
       "        text-align: right;\n",
       "    }\n",
       "</style>\n",
       "<table border=\"1\" class=\"dataframe\">\n",
       "  <thead>\n",
       "    <tr style=\"text-align: right;\">\n",
       "      <th></th>\n",
       "      <th>Material Name</th>\n",
       "      <th>Lot Number</th>\n",
       "      <th>Bar Code</th>\n",
       "      <th>Invalid Barcode Flag</th>\n",
       "    </tr>\n",
       "  </thead>\n",
       "  <tbody>\n",
       "    <tr>\n",
       "      <th>0</th>\n",
       "      <td>PLA</td>\n",
       "      <td>L5012</td>\n",
       "      <td>6184960000000.0</td>\n",
       "      <td>FLAGGED</td>\n",
       "    </tr>\n",
       "    <tr>\n",
       "      <th>1</th>\n",
       "      <td>TPU</td>\n",
       "      <td>L1520</td>\n",
       "      <td>9696530000000.0</td>\n",
       "      <td>FLAGGED</td>\n",
       "    </tr>\n",
       "    <tr>\n",
       "      <th>2</th>\n",
       "      <td>TPU</td>\n",
       "      <td>L4257</td>\n",
       "      <td>7015430000000.0</td>\n",
       "      <td>FLAGGED</td>\n",
       "    </tr>\n",
       "  </tbody>\n",
       "</table>\n",
       "</div>"
      ]
     },
     "execution_count": 218,
     "metadata": {},
     "output_type": "execute_result"
    }
   ],
   "execution_count": 218
  },
  {
   "metadata": {
    "ExecuteTime": {
     "end_time": "2025-06-06T22:13:03.219343Z",
     "start_time": "2025-06-06T22:13:03.216938Z"
    }
   },
   "cell_type": "code",
   "source": [
    "# Alternative -> more pythonic\n",
    "df['Invalid Barcode Flag'] = ~df['Valid Barcode']"
   ],
   "id": "47bd010fe1e0ee30",
   "outputs": [],
   "execution_count": 219
  },
  {
   "metadata": {
    "ExecuteTime": {
     "end_time": "2025-06-06T22:13:03.222808Z",
     "start_time": "2025-06-06T22:13:03.220252Z"
    }
   },
   "cell_type": "code",
   "source": "df['Invalid Barcode Flag'] = df['Invalid Barcode Flag'].map({True: 'FLAGGED', False: ''})",
   "id": "1109a7122e300a50",
   "outputs": [],
   "execution_count": 220
  },
  {
   "metadata": {
    "ExecuteTime": {
     "end_time": "2025-06-06T22:13:03.255550Z",
     "start_time": "2025-06-06T22:13:03.248877Z"
    }
   },
   "cell_type": "code",
   "source": "df[['Material Name', 'Lot Number', 'Bar Code', 'Invalid Barcode Flag']].head(3)",
   "id": "b1c4deea63343c2a",
   "outputs": [
    {
     "data": {
      "text/plain": [
       "  Material Name Lot Number         Bar Code Invalid Barcode Flag\n",
       "0           PLA      L5012  6184960000000.0              FLAGGED\n",
       "1           TPU      L1520  9696530000000.0              FLAGGED\n",
       "2           TPU      L4257  7015430000000.0              FLAGGED"
      ],
      "text/html": [
       "<div>\n",
       "<style scoped>\n",
       "    .dataframe tbody tr th:only-of-type {\n",
       "        vertical-align: middle;\n",
       "    }\n",
       "\n",
       "    .dataframe tbody tr th {\n",
       "        vertical-align: top;\n",
       "    }\n",
       "\n",
       "    .dataframe thead th {\n",
       "        text-align: right;\n",
       "    }\n",
       "</style>\n",
       "<table border=\"1\" class=\"dataframe\">\n",
       "  <thead>\n",
       "    <tr style=\"text-align: right;\">\n",
       "      <th></th>\n",
       "      <th>Material Name</th>\n",
       "      <th>Lot Number</th>\n",
       "      <th>Bar Code</th>\n",
       "      <th>Invalid Barcode Flag</th>\n",
       "    </tr>\n",
       "  </thead>\n",
       "  <tbody>\n",
       "    <tr>\n",
       "      <th>0</th>\n",
       "      <td>PLA</td>\n",
       "      <td>L5012</td>\n",
       "      <td>6184960000000.0</td>\n",
       "      <td>FLAGGED</td>\n",
       "    </tr>\n",
       "    <tr>\n",
       "      <th>1</th>\n",
       "      <td>TPU</td>\n",
       "      <td>L1520</td>\n",
       "      <td>9696530000000.0</td>\n",
       "      <td>FLAGGED</td>\n",
       "    </tr>\n",
       "    <tr>\n",
       "      <th>2</th>\n",
       "      <td>TPU</td>\n",
       "      <td>L4257</td>\n",
       "      <td>7015430000000.0</td>\n",
       "      <td>FLAGGED</td>\n",
       "    </tr>\n",
       "  </tbody>\n",
       "</table>\n",
       "</div>"
      ]
     },
     "execution_count": 221,
     "metadata": {},
     "output_type": "execute_result"
    }
   ],
   "execution_count": 221
  },
  {
   "metadata": {
    "ExecuteTime": {
     "end_time": "2025-06-06T22:13:03.282447Z",
     "start_time": "2025-06-06T22:13:03.278987Z"
    }
   },
   "cell_type": "code",
   "source": [
    "# 4. Group by store city and compute average total per transaction and most sold material.\n",
    "df['Store City'] = df['Store Location'].str.split(', ', expand=True)[1]"
   ],
   "id": "ad5291570c12ab13",
   "outputs": [],
   "execution_count": 222
  },
  {
   "metadata": {
    "ExecuteTime": {
     "end_time": "2025-06-06T22:13:03.354729Z",
     "start_time": "2025-06-06T22:13:03.350846Z"
    }
   },
   "cell_type": "code",
   "source": [
    "# Average total price per transaction per city\n",
    "avg_total_by_city = df.groupby('Store City')['Total Price'].mean().reset_index()"
   ],
   "id": "b6ad9e87da8ceeb6",
   "outputs": [],
   "execution_count": 223
  },
  {
   "metadata": {
    "ExecuteTime": {
     "end_time": "2025-06-06T22:13:03.450729Z",
     "start_time": "2025-06-06T22:13:03.445318Z"
    }
   },
   "cell_type": "code",
   "source": "avg_total_by_city",
   "id": "e5161e18e9a6696e",
   "outputs": [
    {
     "data": {
      "text/plain": [
       "       Store City  Total Price\n",
       "0    Alvarezburgh        53.91\n",
       "1      Alyssafurt       180.66\n",
       "2       Amberland       105.40\n",
       "3      Ambermouth        93.67\n",
       "4    Andersonport       125.23\n",
       "..            ...          ...\n",
       "351     Wilsonton       148.62\n",
       "352     Woodmouth       149.97\n",
       "353    Wrightberg        45.60\n",
       "354    Wrightland       130.58\n",
       "355       Yumouth        70.56\n",
       "\n",
       "[356 rows x 2 columns]"
      ],
      "text/html": [
       "<div>\n",
       "<style scoped>\n",
       "    .dataframe tbody tr th:only-of-type {\n",
       "        vertical-align: middle;\n",
       "    }\n",
       "\n",
       "    .dataframe tbody tr th {\n",
       "        vertical-align: top;\n",
       "    }\n",
       "\n",
       "    .dataframe thead th {\n",
       "        text-align: right;\n",
       "    }\n",
       "</style>\n",
       "<table border=\"1\" class=\"dataframe\">\n",
       "  <thead>\n",
       "    <tr style=\"text-align: right;\">\n",
       "      <th></th>\n",
       "      <th>Store City</th>\n",
       "      <th>Total Price</th>\n",
       "    </tr>\n",
       "  </thead>\n",
       "  <tbody>\n",
       "    <tr>\n",
       "      <th>0</th>\n",
       "      <td>Alvarezburgh</td>\n",
       "      <td>53.91</td>\n",
       "    </tr>\n",
       "    <tr>\n",
       "      <th>1</th>\n",
       "      <td>Alyssafurt</td>\n",
       "      <td>180.66</td>\n",
       "    </tr>\n",
       "    <tr>\n",
       "      <th>2</th>\n",
       "      <td>Amberland</td>\n",
       "      <td>105.40</td>\n",
       "    </tr>\n",
       "    <tr>\n",
       "      <th>3</th>\n",
       "      <td>Ambermouth</td>\n",
       "      <td>93.67</td>\n",
       "    </tr>\n",
       "    <tr>\n",
       "      <th>4</th>\n",
       "      <td>Andersonport</td>\n",
       "      <td>125.23</td>\n",
       "    </tr>\n",
       "    <tr>\n",
       "      <th>...</th>\n",
       "      <td>...</td>\n",
       "      <td>...</td>\n",
       "    </tr>\n",
       "    <tr>\n",
       "      <th>351</th>\n",
       "      <td>Wilsonton</td>\n",
       "      <td>148.62</td>\n",
       "    </tr>\n",
       "    <tr>\n",
       "      <th>352</th>\n",
       "      <td>Woodmouth</td>\n",
       "      <td>149.97</td>\n",
       "    </tr>\n",
       "    <tr>\n",
       "      <th>353</th>\n",
       "      <td>Wrightberg</td>\n",
       "      <td>45.60</td>\n",
       "    </tr>\n",
       "    <tr>\n",
       "      <th>354</th>\n",
       "      <td>Wrightland</td>\n",
       "      <td>130.58</td>\n",
       "    </tr>\n",
       "    <tr>\n",
       "      <th>355</th>\n",
       "      <td>Yumouth</td>\n",
       "      <td>70.56</td>\n",
       "    </tr>\n",
       "  </tbody>\n",
       "</table>\n",
       "<p>356 rows × 2 columns</p>\n",
       "</div>"
      ]
     },
     "execution_count": 224,
     "metadata": {},
     "output_type": "execute_result"
    }
   ],
   "execution_count": 224
  },
  {
   "metadata": {
    "ExecuteTime": {
     "end_time": "2025-06-06T22:13:03.469684Z",
     "start_time": "2025-06-06T22:13:03.464112Z"
    }
   },
   "cell_type": "code",
   "source": [
    "# Most sold material per City\n",
    "most_sold = (\n",
    "    df.groupby(['Store City', 'Material Name'])['Total Price']\n",
    "    .sum()\n",
    "    .reset_index()\n",
    "    .sort_values(['Store City', 'Total Price'], ascending=[True, False])\n",
    "    .drop_duplicates(subset='Store City')\n",
    ")"
   ],
   "id": "5c6a850b131edb3f",
   "outputs": [],
   "execution_count": 225
  },
  {
   "metadata": {
    "ExecuteTime": {
     "end_time": "2025-06-06T22:13:03.532568Z",
     "start_time": "2025-06-06T22:13:03.530060Z"
    }
   },
   "cell_type": "code",
   "source": "print(type(most_sold))",
   "id": "8ec62784f0da606f",
   "outputs": [
    {
     "name": "stdout",
     "output_type": "stream",
     "text": [
      "<class 'pandas.core.frame.DataFrame'>\n"
     ]
    }
   ],
   "execution_count": 226
  },
  {
   "metadata": {
    "ExecuteTime": {
     "end_time": "2025-06-06T22:13:03.563723Z",
     "start_time": "2025-06-06T22:13:03.557834Z"
    }
   },
   "cell_type": "code",
   "source": "most_sold",
   "id": "b618ea7c667f7e0d",
   "outputs": [
    {
     "data": {
      "text/plain": [
       "       Store City Material Name  Total Price\n",
       "0    Alvarezburgh           PLA        53.91\n",
       "1      Alyssafurt           PLA       180.66\n",
       "2       Amberland           PLA       105.40\n",
       "3      Ambermouth           ABS        93.67\n",
       "4    Andersonport           PLA       125.23\n",
       "..            ...           ...          ...\n",
       "354     Wilsonton           TPU       148.62\n",
       "355     Woodmouth           PLA       149.97\n",
       "356    Wrightberg           PLA        45.60\n",
       "357    Wrightland           TPU       130.58\n",
       "358       Yumouth           PLA        70.56\n",
       "\n",
       "[356 rows x 3 columns]"
      ],
      "text/html": [
       "<div>\n",
       "<style scoped>\n",
       "    .dataframe tbody tr th:only-of-type {\n",
       "        vertical-align: middle;\n",
       "    }\n",
       "\n",
       "    .dataframe tbody tr th {\n",
       "        vertical-align: top;\n",
       "    }\n",
       "\n",
       "    .dataframe thead th {\n",
       "        text-align: right;\n",
       "    }\n",
       "</style>\n",
       "<table border=\"1\" class=\"dataframe\">\n",
       "  <thead>\n",
       "    <tr style=\"text-align: right;\">\n",
       "      <th></th>\n",
       "      <th>Store City</th>\n",
       "      <th>Material Name</th>\n",
       "      <th>Total Price</th>\n",
       "    </tr>\n",
       "  </thead>\n",
       "  <tbody>\n",
       "    <tr>\n",
       "      <th>0</th>\n",
       "      <td>Alvarezburgh</td>\n",
       "      <td>PLA</td>\n",
       "      <td>53.91</td>\n",
       "    </tr>\n",
       "    <tr>\n",
       "      <th>1</th>\n",
       "      <td>Alyssafurt</td>\n",
       "      <td>PLA</td>\n",
       "      <td>180.66</td>\n",
       "    </tr>\n",
       "    <tr>\n",
       "      <th>2</th>\n",
       "      <td>Amberland</td>\n",
       "      <td>PLA</td>\n",
       "      <td>105.40</td>\n",
       "    </tr>\n",
       "    <tr>\n",
       "      <th>3</th>\n",
       "      <td>Ambermouth</td>\n",
       "      <td>ABS</td>\n",
       "      <td>93.67</td>\n",
       "    </tr>\n",
       "    <tr>\n",
       "      <th>4</th>\n",
       "      <td>Andersonport</td>\n",
       "      <td>PLA</td>\n",
       "      <td>125.23</td>\n",
       "    </tr>\n",
       "    <tr>\n",
       "      <th>...</th>\n",
       "      <td>...</td>\n",
       "      <td>...</td>\n",
       "      <td>...</td>\n",
       "    </tr>\n",
       "    <tr>\n",
       "      <th>354</th>\n",
       "      <td>Wilsonton</td>\n",
       "      <td>TPU</td>\n",
       "      <td>148.62</td>\n",
       "    </tr>\n",
       "    <tr>\n",
       "      <th>355</th>\n",
       "      <td>Woodmouth</td>\n",
       "      <td>PLA</td>\n",
       "      <td>149.97</td>\n",
       "    </tr>\n",
       "    <tr>\n",
       "      <th>356</th>\n",
       "      <td>Wrightberg</td>\n",
       "      <td>PLA</td>\n",
       "      <td>45.60</td>\n",
       "    </tr>\n",
       "    <tr>\n",
       "      <th>357</th>\n",
       "      <td>Wrightland</td>\n",
       "      <td>TPU</td>\n",
       "      <td>130.58</td>\n",
       "    </tr>\n",
       "    <tr>\n",
       "      <th>358</th>\n",
       "      <td>Yumouth</td>\n",
       "      <td>PLA</td>\n",
       "      <td>70.56</td>\n",
       "    </tr>\n",
       "  </tbody>\n",
       "</table>\n",
       "<p>356 rows × 3 columns</p>\n",
       "</div>"
      ]
     },
     "execution_count": 227,
     "metadata": {},
     "output_type": "execute_result"
    }
   ],
   "execution_count": 227
  },
  {
   "metadata": {
    "ExecuteTime": {
     "end_time": "2025-06-06T22:13:03.594847Z",
     "start_time": "2025-06-06T22:13:03.590764Z"
    }
   },
   "cell_type": "code",
   "source": [
    "# Optional: Combine both\n",
    "summary = avg_total_by_city.merge(most_sold, on='Store City')\n",
    "summary.rename(columns={'Total Price_x': 'Avg Transaction', 'Total Price_y': 'Top Material Sales'}, inplace=True)\n"
   ],
   "id": "efb75fd928ae9fb7",
   "outputs": [],
   "execution_count": 228
  },
  {
   "metadata": {
    "ExecuteTime": {
     "end_time": "2025-06-06T22:13:03.657964Z",
     "start_time": "2025-06-06T22:13:03.654329Z"
    }
   },
   "cell_type": "code",
   "source": [
    "# 5. For each store, compute median unit price for PLA materials only.\n",
    "# filter PLA\n",
    "pla_only = df[df['Material Name'] == 'PLA'].copy()"
   ],
   "id": "720e93c247c32b8c",
   "outputs": [],
   "execution_count": 229
  },
  {
   "metadata": {
    "ExecuteTime": {
     "end_time": "2025-06-06T22:13:03.675472Z",
     "start_time": "2025-06-06T22:13:03.672525Z"
    }
   },
   "cell_type": "code",
   "source": [
    "# compute unit price\n",
    "pla_only['Unit Price'] = pla_only['Total Price'] / pla_only['Weight']"
   ],
   "id": "802115d19dbe5a58",
   "outputs": [],
   "execution_count": 230
  },
  {
   "metadata": {
    "ExecuteTime": {
     "end_time": "2025-06-06T22:13:47.245062Z",
     "start_time": "2025-06-06T22:13:47.232981Z"
    }
   },
   "cell_type": "code",
   "source": "median_unit_price_per_store = pla_only.groupby('Store City')['Unit Price'].median().reset_index()",
   "id": "e712ed00978aafad",
   "outputs": [],
   "execution_count": 231
  },
  {
   "metadata": {
    "ExecuteTime": {
     "end_time": "2025-06-06T22:14:28.256518Z",
     "start_time": "2025-06-06T22:14:28.253755Z"
    }
   },
   "cell_type": "code",
   "source": "median_unit_price_per_store.rename(columns={'Unit Price': 'Median PLA Unit Price'}, inplace=True)",
   "id": "650b6e41d34a5698",
   "outputs": [],
   "execution_count": 232
  },
  {
   "metadata": {
    "ExecuteTime": {
     "end_time": "2025-06-06T22:14:38.518647Z",
     "start_time": "2025-06-06T22:14:38.513644Z"
    }
   },
   "cell_type": "code",
   "source": "median_unit_price_per_store.head(3)",
   "id": "1fa652c07bcf97a6",
   "outputs": [
    {
     "data": {
      "text/plain": [
       "     Store City  Median PLA Unit Price\n",
       "0  Alvarezburgh               0.107820\n",
       "1    Alyssafurt               0.240880\n",
       "2     Amberland               0.140533"
      ],
      "text/html": [
       "<div>\n",
       "<style scoped>\n",
       "    .dataframe tbody tr th:only-of-type {\n",
       "        vertical-align: middle;\n",
       "    }\n",
       "\n",
       "    .dataframe tbody tr th {\n",
       "        vertical-align: top;\n",
       "    }\n",
       "\n",
       "    .dataframe thead th {\n",
       "        text-align: right;\n",
       "    }\n",
       "</style>\n",
       "<table border=\"1\" class=\"dataframe\">\n",
       "  <thead>\n",
       "    <tr style=\"text-align: right;\">\n",
       "      <th></th>\n",
       "      <th>Store City</th>\n",
       "      <th>Median PLA Unit Price</th>\n",
       "    </tr>\n",
       "  </thead>\n",
       "  <tbody>\n",
       "    <tr>\n",
       "      <th>0</th>\n",
       "      <td>Alvarezburgh</td>\n",
       "      <td>0.107820</td>\n",
       "    </tr>\n",
       "    <tr>\n",
       "      <th>1</th>\n",
       "      <td>Alyssafurt</td>\n",
       "      <td>0.240880</td>\n",
       "    </tr>\n",
       "    <tr>\n",
       "      <th>2</th>\n",
       "      <td>Amberland</td>\n",
       "      <td>0.140533</td>\n",
       "    </tr>\n",
       "  </tbody>\n",
       "</table>\n",
       "</div>"
      ]
     },
     "execution_count": 233,
     "metadata": {},
     "output_type": "execute_result"
    }
   ],
   "execution_count": 233
  },
  {
   "metadata": {
    "ExecuteTime": {
     "end_time": "2025-06-06T22:16:12.314631Z",
     "start_time": "2025-06-06T22:16:12.311943Z"
    }
   },
   "cell_type": "code",
   "source": [
    "# 6. Extract numerical store building numbers and convert them to integers.\n",
    "building_num_pattern = r'^([0-9]+)'"
   ],
   "id": "7f8492873075c7f",
   "outputs": [],
   "execution_count": 234
  },
  {
   "metadata": {
    "ExecuteTime": {
     "end_time": "2025-06-06T22:16:41.394042Z",
     "start_time": "2025-06-06T22:16:41.390682Z"
    }
   },
   "cell_type": "code",
   "source": "df['Building Number'] = df['Store Location'].str.extract(building_num_pattern)",
   "id": "2643293bf6a35e3a",
   "outputs": [],
   "execution_count": 235
  },
  {
   "metadata": {
    "ExecuteTime": {
     "end_time": "2025-06-06T22:16:50.221320Z",
     "start_time": "2025-06-06T22:16:50.218704Z"
    }
   },
   "cell_type": "code",
   "source": "df['Building Number'] = df['Building Number'].astype(int)",
   "id": "fecd5dbe80e0132c",
   "outputs": [],
   "execution_count": 236
  },
  {
   "metadata": {
    "ExecuteTime": {
     "end_time": "2025-06-06T22:17:04.895048Z",
     "start_time": "2025-06-06T22:17:04.889783Z"
    }
   },
   "cell_type": "code",
   "source": "df[['Building Number', 'Store Location']].head(3)",
   "id": "ca653ed56b874a15",
   "outputs": [
    {
     "data": {
      "text/plain": [
       "   Building Number                              Store Location\n",
       "0             5423  5423 Garcia Light, West Melanieview, 06196\n",
       "1             1395         1395 Diana Locks, Thomasberg, 32826\n",
       "2              489        489 Eric Track, New Stephanie, 70015"
      ],
      "text/html": [
       "<div>\n",
       "<style scoped>\n",
       "    .dataframe tbody tr th:only-of-type {\n",
       "        vertical-align: middle;\n",
       "    }\n",
       "\n",
       "    .dataframe tbody tr th {\n",
       "        vertical-align: top;\n",
       "    }\n",
       "\n",
       "    .dataframe thead th {\n",
       "        text-align: right;\n",
       "    }\n",
       "</style>\n",
       "<table border=\"1\" class=\"dataframe\">\n",
       "  <thead>\n",
       "    <tr style=\"text-align: right;\">\n",
       "      <th></th>\n",
       "      <th>Building Number</th>\n",
       "      <th>Store Location</th>\n",
       "    </tr>\n",
       "  </thead>\n",
       "  <tbody>\n",
       "    <tr>\n",
       "      <th>0</th>\n",
       "      <td>5423</td>\n",
       "      <td>5423 Garcia Light, West Melanieview, 06196</td>\n",
       "    </tr>\n",
       "    <tr>\n",
       "      <th>1</th>\n",
       "      <td>1395</td>\n",
       "      <td>1395 Diana Locks, Thomasberg, 32826</td>\n",
       "    </tr>\n",
       "    <tr>\n",
       "      <th>2</th>\n",
       "      <td>489</td>\n",
       "      <td>489 Eric Track, New Stephanie, 70015</td>\n",
       "    </tr>\n",
       "  </tbody>\n",
       "</table>\n",
       "</div>"
      ]
     },
     "execution_count": 237,
     "metadata": {},
     "output_type": "execute_result"
    }
   ],
   "execution_count": 237
  },
  {
   "metadata": {},
   "cell_type": "code",
   "outputs": [],
   "execution_count": null,
   "source": "",
   "id": "8e14dc982c1b6bb4"
  }
 ],
 "metadata": {
  "kernelspec": {
   "display_name": "Python 3",
   "language": "python",
   "name": "python3"
  },
  "language_info": {
   "codemirror_mode": {
    "name": "ipython",
    "version": 2
   },
   "file_extension": ".py",
   "mimetype": "text/x-python",
   "name": "python",
   "nbconvert_exporter": "python",
   "pygments_lexer": "ipython2",
   "version": "2.7.6"
  }
 },
 "nbformat": 4,
 "nbformat_minor": 5
}
