{
 "cells": [
  {
   "metadata": {},
   "cell_type": "markdown",
   "source": [
    "## **Problem 3: Product Performance and Material Trends**\n",
    "\n",
    "As part of supply chain review, you're asked to analyze how different materials are performing:\n",
    "\n",
    "* Extract material name, color, and supplier into a structured format.\n",
    "* Normalize supplier names (strip, title case).\n",
    "* Calculate total revenue per material (sum of `Total Price`).\n",
    "* Categorize materials by total weight purchased into quartiles.\n",
    "* Flag materials with `Average Price per Gram > 0.06`.\n",
    "* Create a dummy variable DataFrame from material type (`PLA`, `ABS`, etc.) and store zip code.\n",
    "\n",
    "*Hint: You’ll need to create bins, normalize units, and apply one-hot encoding.*"
   ],
   "id": "6732abf556727561"
  },
  {
   "metadata": {
    "ExecuteTime": {
     "end_time": "2025-06-06T17:27:47.935237Z",
     "start_time": "2025-06-06T17:27:47.932376Z"
    }
   },
   "cell_type": "code",
   "source": [
    "import pandas as pd\n",
    "import numpy as np\n",
    "import re"
   ],
   "id": "df5a6e8733b44dbf",
   "outputs": [],
   "execution_count": 309
  },
  {
   "metadata": {
    "ExecuteTime": {
     "end_time": "2025-06-06T17:27:47.992524Z",
     "start_time": "2025-06-06T17:27:47.987038Z"
    }
   },
   "cell_type": "code",
   "source": "data = pd.read_csv('fila_heat_filament_sales_april2025.csv')",
   "id": "96194487e04bb4af",
   "outputs": [],
   "execution_count": 310
  },
  {
   "metadata": {
    "ExecuteTime": {
     "end_time": "2025-06-06T17:27:48.036228Z",
     "start_time": "2025-06-06T17:27:48.033515Z"
    }
   },
   "cell_type": "code",
   "source": "df = pd.DataFrame(data)",
   "id": "fd869d5add6b4da2",
   "outputs": [],
   "execution_count": 311
  },
  {
   "metadata": {
    "ExecuteTime": {
     "end_time": "2025-06-06T17:27:48.066630Z",
     "start_time": "2025-06-06T17:27:48.058662Z"
    }
   },
   "cell_type": "code",
   "source": "df.head(3)",
   "id": "6f3b5835339edb90",
   "outputs": [
    {
     "data": {
      "text/plain": [
       "  Date Purchased                        Receipt Number     Customer Name  \\\n",
       "0     2025-04-01  1ff49b78-8946-4e85-b59c-de66bacfb3d0  Danielle Johnson   \n",
       "1     2025-04-01  434308bc-89fa-4a68-8fb5-d27bbeb79919      Tracie Wyatt   \n",
       "2     2025-04-01  52fbe43b-9954-4eb4-8025-7ad1eb2263dd        Eric Moore   \n",
       "\n",
       "                                  Customer Address           Phone Number  \\\n",
       "0  3321 Brittany Bypass, North Jefferyhaven, 79408             8386379402   \n",
       "1        64752 Kelly Skyway, Jacquelineland, 80341   +1-283-276-4835x0305   \n",
       "2             691 James Mountain, Tashatown, 89667  001-184-514-6270x4828   \n",
       "\n",
       "                          Email                              Store Location  \\\n",
       "0  danielle.johnson@hotmail.com  5423 Garcia Light, West Melanieview, 06196   \n",
       "1        tracie.wyatt@yahoo.com         1395 Diana Locks, Thomasberg, 32826   \n",
       "2          eric.moore@gmail.com        489 Eric Track, New Stephanie, 70015   \n",
       "\n",
       "            Product Name Product Code      Bar Code Material Name   Color  \\\n",
       "0  Standard PLA Filament      PLA-792  6.184960e+12           PLA    Blue   \n",
       "1  Flexible TPU Filament      TPU-338  9.696530e+12           TPU  Purple   \n",
       "2  Flexible TPU Filament      TPU-325  7.015430e+12           TPU  Purple   \n",
       "\n",
       "   Weight       Supplier Lot Number  Price  Quantity    Tax  Total Price  \n",
       "0     500    3DFilaments      L5012  26.69         1   1.87        28.56  \n",
       "1     500  ProtoPolymers      L1520  20.88         2   2.92        44.68  \n",
       "2    1000       PrintPro      L4257  41.47         4  11.61       177.49  "
      ],
      "text/html": [
       "<div>\n",
       "<style scoped>\n",
       "    .dataframe tbody tr th:only-of-type {\n",
       "        vertical-align: middle;\n",
       "    }\n",
       "\n",
       "    .dataframe tbody tr th {\n",
       "        vertical-align: top;\n",
       "    }\n",
       "\n",
       "    .dataframe thead th {\n",
       "        text-align: right;\n",
       "    }\n",
       "</style>\n",
       "<table border=\"1\" class=\"dataframe\">\n",
       "  <thead>\n",
       "    <tr style=\"text-align: right;\">\n",
       "      <th></th>\n",
       "      <th>Date Purchased</th>\n",
       "      <th>Receipt Number</th>\n",
       "      <th>Customer Name</th>\n",
       "      <th>Customer Address</th>\n",
       "      <th>Phone Number</th>\n",
       "      <th>Email</th>\n",
       "      <th>Store Location</th>\n",
       "      <th>Product Name</th>\n",
       "      <th>Product Code</th>\n",
       "      <th>Bar Code</th>\n",
       "      <th>Material Name</th>\n",
       "      <th>Color</th>\n",
       "      <th>Weight</th>\n",
       "      <th>Supplier</th>\n",
       "      <th>Lot Number</th>\n",
       "      <th>Price</th>\n",
       "      <th>Quantity</th>\n",
       "      <th>Tax</th>\n",
       "      <th>Total Price</th>\n",
       "    </tr>\n",
       "  </thead>\n",
       "  <tbody>\n",
       "    <tr>\n",
       "      <th>0</th>\n",
       "      <td>2025-04-01</td>\n",
       "      <td>1ff49b78-8946-4e85-b59c-de66bacfb3d0</td>\n",
       "      <td>Danielle Johnson</td>\n",
       "      <td>3321 Brittany Bypass, North Jefferyhaven, 79408</td>\n",
       "      <td>8386379402</td>\n",
       "      <td>danielle.johnson@hotmail.com</td>\n",
       "      <td>5423 Garcia Light, West Melanieview, 06196</td>\n",
       "      <td>Standard PLA Filament</td>\n",
       "      <td>PLA-792</td>\n",
       "      <td>6.184960e+12</td>\n",
       "      <td>PLA</td>\n",
       "      <td>Blue</td>\n",
       "      <td>500</td>\n",
       "      <td>3DFilaments</td>\n",
       "      <td>L5012</td>\n",
       "      <td>26.69</td>\n",
       "      <td>1</td>\n",
       "      <td>1.87</td>\n",
       "      <td>28.56</td>\n",
       "    </tr>\n",
       "    <tr>\n",
       "      <th>1</th>\n",
       "      <td>2025-04-01</td>\n",
       "      <td>434308bc-89fa-4a68-8fb5-d27bbeb79919</td>\n",
       "      <td>Tracie Wyatt</td>\n",
       "      <td>64752 Kelly Skyway, Jacquelineland, 80341</td>\n",
       "      <td>+1-283-276-4835x0305</td>\n",
       "      <td>tracie.wyatt@yahoo.com</td>\n",
       "      <td>1395 Diana Locks, Thomasberg, 32826</td>\n",
       "      <td>Flexible TPU Filament</td>\n",
       "      <td>TPU-338</td>\n",
       "      <td>9.696530e+12</td>\n",
       "      <td>TPU</td>\n",
       "      <td>Purple</td>\n",
       "      <td>500</td>\n",
       "      <td>ProtoPolymers</td>\n",
       "      <td>L1520</td>\n",
       "      <td>20.88</td>\n",
       "      <td>2</td>\n",
       "      <td>2.92</td>\n",
       "      <td>44.68</td>\n",
       "    </tr>\n",
       "    <tr>\n",
       "      <th>2</th>\n",
       "      <td>2025-04-01</td>\n",
       "      <td>52fbe43b-9954-4eb4-8025-7ad1eb2263dd</td>\n",
       "      <td>Eric Moore</td>\n",
       "      <td>691 James Mountain, Tashatown, 89667</td>\n",
       "      <td>001-184-514-6270x4828</td>\n",
       "      <td>eric.moore@gmail.com</td>\n",
       "      <td>489 Eric Track, New Stephanie, 70015</td>\n",
       "      <td>Flexible TPU Filament</td>\n",
       "      <td>TPU-325</td>\n",
       "      <td>7.015430e+12</td>\n",
       "      <td>TPU</td>\n",
       "      <td>Purple</td>\n",
       "      <td>1000</td>\n",
       "      <td>PrintPro</td>\n",
       "      <td>L4257</td>\n",
       "      <td>41.47</td>\n",
       "      <td>4</td>\n",
       "      <td>11.61</td>\n",
       "      <td>177.49</td>\n",
       "    </tr>\n",
       "  </tbody>\n",
       "</table>\n",
       "</div>"
      ]
     },
     "execution_count": 312,
     "metadata": {},
     "output_type": "execute_result"
    }
   ],
   "execution_count": 312
  },
  {
   "metadata": {
    "ExecuteTime": {
     "end_time": "2025-06-06T17:27:48.070084Z",
     "start_time": "2025-06-06T17:27:48.067587Z"
    }
   },
   "cell_type": "code",
   "source": [
    "# 1. Extract material name, color, and supplier into a structured format.\n",
    "materials = df[['Material Name', 'Color', 'Supplier']].copy()"
   ],
   "id": "f680fcf1ce71b4eb",
   "outputs": [],
   "execution_count": 313
  },
  {
   "metadata": {
    "ExecuteTime": {
     "end_time": "2025-06-06T17:27:48.084477Z",
     "start_time": "2025-06-06T17:27:48.079951Z"
    }
   },
   "cell_type": "code",
   "source": "materials.head(3)",
   "id": "747320bc74c81dba",
   "outputs": [
    {
     "data": {
      "text/plain": [
       "  Material Name   Color       Supplier\n",
       "0           PLA    Blue    3DFilaments\n",
       "1           TPU  Purple  ProtoPolymers\n",
       "2           TPU  Purple       PrintPro"
      ],
      "text/html": [
       "<div>\n",
       "<style scoped>\n",
       "    .dataframe tbody tr th:only-of-type {\n",
       "        vertical-align: middle;\n",
       "    }\n",
       "\n",
       "    .dataframe tbody tr th {\n",
       "        vertical-align: top;\n",
       "    }\n",
       "\n",
       "    .dataframe thead th {\n",
       "        text-align: right;\n",
       "    }\n",
       "</style>\n",
       "<table border=\"1\" class=\"dataframe\">\n",
       "  <thead>\n",
       "    <tr style=\"text-align: right;\">\n",
       "      <th></th>\n",
       "      <th>Material Name</th>\n",
       "      <th>Color</th>\n",
       "      <th>Supplier</th>\n",
       "    </tr>\n",
       "  </thead>\n",
       "  <tbody>\n",
       "    <tr>\n",
       "      <th>0</th>\n",
       "      <td>PLA</td>\n",
       "      <td>Blue</td>\n",
       "      <td>3DFilaments</td>\n",
       "    </tr>\n",
       "    <tr>\n",
       "      <th>1</th>\n",
       "      <td>TPU</td>\n",
       "      <td>Purple</td>\n",
       "      <td>ProtoPolymers</td>\n",
       "    </tr>\n",
       "    <tr>\n",
       "      <th>2</th>\n",
       "      <td>TPU</td>\n",
       "      <td>Purple</td>\n",
       "      <td>PrintPro</td>\n",
       "    </tr>\n",
       "  </tbody>\n",
       "</table>\n",
       "</div>"
      ]
     },
     "execution_count": 314,
     "metadata": {},
     "output_type": "execute_result"
    }
   ],
   "execution_count": 314
  },
  {
   "metadata": {
    "ExecuteTime": {
     "end_time": "2025-06-06T17:27:48.111111Z",
     "start_time": "2025-06-06T17:27:48.106872Z"
    }
   },
   "cell_type": "code",
   "source": [
    "# 1.1 Count how many colors per material\n",
    "materials.groupby('Material Name')['Color'].nunique()"
   ],
   "id": "1858c4b2e6ce09a9",
   "outputs": [
    {
     "data": {
      "text/plain": [
       "Material Name\n",
       "ABS     2\n",
       "PETG    2\n",
       "PLA     3\n",
       "TPU     2\n",
       "Name: Color, dtype: int64"
      ]
     },
     "execution_count": 315,
     "metadata": {},
     "output_type": "execute_result"
    }
   ],
   "execution_count": 315
  },
  {
   "metadata": {
    "ExecuteTime": {
     "end_time": "2025-06-06T17:27:48.132821Z",
     "start_time": "2025-06-06T17:27:48.126699Z"
    }
   },
   "cell_type": "code",
   "source": [
    "# 1.2. Group by material and supplier\n",
    "materials.groupby(['Material Name', 'Supplier']).size().reset_index(name='Count')"
   ],
   "id": "4b015e7b15baf0c9",
   "outputs": [
    {
     "data": {
      "text/plain": [
       "   Material Name       Supplier  Count\n",
       "0            ABS    3DFilaments     17\n",
       "1            ABS     MakerStuff     15\n",
       "2            ABS       PrintPro     22\n",
       "3            ABS  ProtoPolymers     18\n",
       "4           PETG    3DFilaments     20\n",
       "5           PETG     MakerStuff     25\n",
       "6           PETG       PrintPro     14\n",
       "7           PETG  ProtoPolymers     15\n",
       "8            PLA    3DFilaments     24\n",
       "9            PLA     MakerStuff     33\n",
       "10           PLA       PrintPro     26\n",
       "11           PLA  ProtoPolymers     30\n",
       "12           TPU    3DFilaments     35\n",
       "13           TPU     MakerStuff     20\n",
       "14           TPU       PrintPro     23\n",
       "15           TPU  ProtoPolymers     23"
      ],
      "text/html": [
       "<div>\n",
       "<style scoped>\n",
       "    .dataframe tbody tr th:only-of-type {\n",
       "        vertical-align: middle;\n",
       "    }\n",
       "\n",
       "    .dataframe tbody tr th {\n",
       "        vertical-align: top;\n",
       "    }\n",
       "\n",
       "    .dataframe thead th {\n",
       "        text-align: right;\n",
       "    }\n",
       "</style>\n",
       "<table border=\"1\" class=\"dataframe\">\n",
       "  <thead>\n",
       "    <tr style=\"text-align: right;\">\n",
       "      <th></th>\n",
       "      <th>Material Name</th>\n",
       "      <th>Supplier</th>\n",
       "      <th>Count</th>\n",
       "    </tr>\n",
       "  </thead>\n",
       "  <tbody>\n",
       "    <tr>\n",
       "      <th>0</th>\n",
       "      <td>ABS</td>\n",
       "      <td>3DFilaments</td>\n",
       "      <td>17</td>\n",
       "    </tr>\n",
       "    <tr>\n",
       "      <th>1</th>\n",
       "      <td>ABS</td>\n",
       "      <td>MakerStuff</td>\n",
       "      <td>15</td>\n",
       "    </tr>\n",
       "    <tr>\n",
       "      <th>2</th>\n",
       "      <td>ABS</td>\n",
       "      <td>PrintPro</td>\n",
       "      <td>22</td>\n",
       "    </tr>\n",
       "    <tr>\n",
       "      <th>3</th>\n",
       "      <td>ABS</td>\n",
       "      <td>ProtoPolymers</td>\n",
       "      <td>18</td>\n",
       "    </tr>\n",
       "    <tr>\n",
       "      <th>4</th>\n",
       "      <td>PETG</td>\n",
       "      <td>3DFilaments</td>\n",
       "      <td>20</td>\n",
       "    </tr>\n",
       "    <tr>\n",
       "      <th>5</th>\n",
       "      <td>PETG</td>\n",
       "      <td>MakerStuff</td>\n",
       "      <td>25</td>\n",
       "    </tr>\n",
       "    <tr>\n",
       "      <th>6</th>\n",
       "      <td>PETG</td>\n",
       "      <td>PrintPro</td>\n",
       "      <td>14</td>\n",
       "    </tr>\n",
       "    <tr>\n",
       "      <th>7</th>\n",
       "      <td>PETG</td>\n",
       "      <td>ProtoPolymers</td>\n",
       "      <td>15</td>\n",
       "    </tr>\n",
       "    <tr>\n",
       "      <th>8</th>\n",
       "      <td>PLA</td>\n",
       "      <td>3DFilaments</td>\n",
       "      <td>24</td>\n",
       "    </tr>\n",
       "    <tr>\n",
       "      <th>9</th>\n",
       "      <td>PLA</td>\n",
       "      <td>MakerStuff</td>\n",
       "      <td>33</td>\n",
       "    </tr>\n",
       "    <tr>\n",
       "      <th>10</th>\n",
       "      <td>PLA</td>\n",
       "      <td>PrintPro</td>\n",
       "      <td>26</td>\n",
       "    </tr>\n",
       "    <tr>\n",
       "      <th>11</th>\n",
       "      <td>PLA</td>\n",
       "      <td>ProtoPolymers</td>\n",
       "      <td>30</td>\n",
       "    </tr>\n",
       "    <tr>\n",
       "      <th>12</th>\n",
       "      <td>TPU</td>\n",
       "      <td>3DFilaments</td>\n",
       "      <td>35</td>\n",
       "    </tr>\n",
       "    <tr>\n",
       "      <th>13</th>\n",
       "      <td>TPU</td>\n",
       "      <td>MakerStuff</td>\n",
       "      <td>20</td>\n",
       "    </tr>\n",
       "    <tr>\n",
       "      <th>14</th>\n",
       "      <td>TPU</td>\n",
       "      <td>PrintPro</td>\n",
       "      <td>23</td>\n",
       "    </tr>\n",
       "    <tr>\n",
       "      <th>15</th>\n",
       "      <td>TPU</td>\n",
       "      <td>ProtoPolymers</td>\n",
       "      <td>23</td>\n",
       "    </tr>\n",
       "  </tbody>\n",
       "</table>\n",
       "</div>"
      ]
     },
     "execution_count": 316,
     "metadata": {},
     "output_type": "execute_result"
    }
   ],
   "execution_count": 316
  },
  {
   "metadata": {
    "ExecuteTime": {
     "end_time": "2025-06-06T17:27:48.148237Z",
     "start_time": "2025-06-06T17:27:48.141969Z"
    }
   },
   "cell_type": "code",
   "source": [
    "# optional: pivot for readability\n",
    "materials.groupby(['Material Name', 'Supplier']).size().unstack(fill_value=0)"
   ],
   "id": "6bfacfa6aa397e5d",
   "outputs": [
    {
     "data": {
      "text/plain": [
       "Supplier       3DFilaments  MakerStuff  PrintPro  ProtoPolymers\n",
       "Material Name                                                  \n",
       "ABS                     17          15        22             18\n",
       "PETG                    20          25        14             15\n",
       "PLA                     24          33        26             30\n",
       "TPU                     35          20        23             23"
      ],
      "text/html": [
       "<div>\n",
       "<style scoped>\n",
       "    .dataframe tbody tr th:only-of-type {\n",
       "        vertical-align: middle;\n",
       "    }\n",
       "\n",
       "    .dataframe tbody tr th {\n",
       "        vertical-align: top;\n",
       "    }\n",
       "\n",
       "    .dataframe thead th {\n",
       "        text-align: right;\n",
       "    }\n",
       "</style>\n",
       "<table border=\"1\" class=\"dataframe\">\n",
       "  <thead>\n",
       "    <tr style=\"text-align: right;\">\n",
       "      <th>Supplier</th>\n",
       "      <th>3DFilaments</th>\n",
       "      <th>MakerStuff</th>\n",
       "      <th>PrintPro</th>\n",
       "      <th>ProtoPolymers</th>\n",
       "    </tr>\n",
       "    <tr>\n",
       "      <th>Material Name</th>\n",
       "      <th></th>\n",
       "      <th></th>\n",
       "      <th></th>\n",
       "      <th></th>\n",
       "    </tr>\n",
       "  </thead>\n",
       "  <tbody>\n",
       "    <tr>\n",
       "      <th>ABS</th>\n",
       "      <td>17</td>\n",
       "      <td>15</td>\n",
       "      <td>22</td>\n",
       "      <td>18</td>\n",
       "    </tr>\n",
       "    <tr>\n",
       "      <th>PETG</th>\n",
       "      <td>20</td>\n",
       "      <td>25</td>\n",
       "      <td>14</td>\n",
       "      <td>15</td>\n",
       "    </tr>\n",
       "    <tr>\n",
       "      <th>PLA</th>\n",
       "      <td>24</td>\n",
       "      <td>33</td>\n",
       "      <td>26</td>\n",
       "      <td>30</td>\n",
       "    </tr>\n",
       "    <tr>\n",
       "      <th>TPU</th>\n",
       "      <td>35</td>\n",
       "      <td>20</td>\n",
       "      <td>23</td>\n",
       "      <td>23</td>\n",
       "    </tr>\n",
       "  </tbody>\n",
       "</table>\n",
       "</div>"
      ]
     },
     "execution_count": 317,
     "metadata": {},
     "output_type": "execute_result"
    }
   ],
   "execution_count": 317
  },
  {
   "metadata": {
    "ExecuteTime": {
     "end_time": "2025-06-06T17:27:48.169275Z",
     "start_time": "2025-06-06T17:27:48.164940Z"
    }
   },
   "cell_type": "code",
   "source": [
    "# 1.3 Detect duplicates or inconsistencies\n",
    "# a. Find exact duplicate rows:\n",
    "materials.duplicated().sum()"
   ],
   "id": "cd3615c7551cc205",
   "outputs": [
    {
     "data": {
      "text/plain": [
       "np.int64(324)"
      ]
     },
     "execution_count": 318,
     "metadata": {},
     "output_type": "execute_result"
    }
   ],
   "execution_count": 318
  },
  {
   "metadata": {
    "ExecuteTime": {
     "end_time": "2025-06-06T17:27:48.224555Z",
     "start_time": "2025-06-06T17:27:48.218971Z"
    }
   },
   "cell_type": "code",
   "source": "materials[materials.duplicated()]",
   "id": "7e7015f59926a370",
   "outputs": [
    {
     "data": {
      "text/plain": [
       "    Material Name   Color       Supplier\n",
       "9             TPU  Yellow    3DFilaments\n",
       "11            TPU  Yellow    3DFilaments\n",
       "12            PLA     Red  ProtoPolymers\n",
       "14            TPU  Purple    3DFilaments\n",
       "17            ABS   Green       PrintPro\n",
       "..            ...     ...            ...\n",
       "355           PLA     Red     MakerStuff\n",
       "356          PETG   Clear       PrintPro\n",
       "357           TPU  Yellow       PrintPro\n",
       "358           PLA     Red    3DFilaments\n",
       "359          PETG  Orange    3DFilaments\n",
       "\n",
       "[324 rows x 3 columns]"
      ],
      "text/html": [
       "<div>\n",
       "<style scoped>\n",
       "    .dataframe tbody tr th:only-of-type {\n",
       "        vertical-align: middle;\n",
       "    }\n",
       "\n",
       "    .dataframe tbody tr th {\n",
       "        vertical-align: top;\n",
       "    }\n",
       "\n",
       "    .dataframe thead th {\n",
       "        text-align: right;\n",
       "    }\n",
       "</style>\n",
       "<table border=\"1\" class=\"dataframe\">\n",
       "  <thead>\n",
       "    <tr style=\"text-align: right;\">\n",
       "      <th></th>\n",
       "      <th>Material Name</th>\n",
       "      <th>Color</th>\n",
       "      <th>Supplier</th>\n",
       "    </tr>\n",
       "  </thead>\n",
       "  <tbody>\n",
       "    <tr>\n",
       "      <th>9</th>\n",
       "      <td>TPU</td>\n",
       "      <td>Yellow</td>\n",
       "      <td>3DFilaments</td>\n",
       "    </tr>\n",
       "    <tr>\n",
       "      <th>11</th>\n",
       "      <td>TPU</td>\n",
       "      <td>Yellow</td>\n",
       "      <td>3DFilaments</td>\n",
       "    </tr>\n",
       "    <tr>\n",
       "      <th>12</th>\n",
       "      <td>PLA</td>\n",
       "      <td>Red</td>\n",
       "      <td>ProtoPolymers</td>\n",
       "    </tr>\n",
       "    <tr>\n",
       "      <th>14</th>\n",
       "      <td>TPU</td>\n",
       "      <td>Purple</td>\n",
       "      <td>3DFilaments</td>\n",
       "    </tr>\n",
       "    <tr>\n",
       "      <th>17</th>\n",
       "      <td>ABS</td>\n",
       "      <td>Green</td>\n",
       "      <td>PrintPro</td>\n",
       "    </tr>\n",
       "    <tr>\n",
       "      <th>...</th>\n",
       "      <td>...</td>\n",
       "      <td>...</td>\n",
       "      <td>...</td>\n",
       "    </tr>\n",
       "    <tr>\n",
       "      <th>355</th>\n",
       "      <td>PLA</td>\n",
       "      <td>Red</td>\n",
       "      <td>MakerStuff</td>\n",
       "    </tr>\n",
       "    <tr>\n",
       "      <th>356</th>\n",
       "      <td>PETG</td>\n",
       "      <td>Clear</td>\n",
       "      <td>PrintPro</td>\n",
       "    </tr>\n",
       "    <tr>\n",
       "      <th>357</th>\n",
       "      <td>TPU</td>\n",
       "      <td>Yellow</td>\n",
       "      <td>PrintPro</td>\n",
       "    </tr>\n",
       "    <tr>\n",
       "      <th>358</th>\n",
       "      <td>PLA</td>\n",
       "      <td>Red</td>\n",
       "      <td>3DFilaments</td>\n",
       "    </tr>\n",
       "    <tr>\n",
       "      <th>359</th>\n",
       "      <td>PETG</td>\n",
       "      <td>Orange</td>\n",
       "      <td>3DFilaments</td>\n",
       "    </tr>\n",
       "  </tbody>\n",
       "</table>\n",
       "<p>324 rows × 3 columns</p>\n",
       "</div>"
      ]
     },
     "execution_count": 319,
     "metadata": {},
     "output_type": "execute_result"
    }
   ],
   "execution_count": 319
  },
  {
   "metadata": {
    "ExecuteTime": {
     "end_time": "2025-06-06T17:27:48.353848Z",
     "start_time": "2025-06-06T17:27:48.347501Z"
    }
   },
   "cell_type": "code",
   "source": [
    "# b. Find duplicate combinations of Material + Color:\n",
    "materials[materials.duplicated(subset=['Material Name', 'Color'], keep=False)]"
   ],
   "id": "865d6686897498ee",
   "outputs": [
    {
     "data": {
      "text/plain": [
       "    Material Name   Color       Supplier\n",
       "0             PLA    Blue    3DFilaments\n",
       "1             TPU  Purple  ProtoPolymers\n",
       "2             TPU  Purple       PrintPro\n",
       "3             TPU  Yellow    3DFilaments\n",
       "4            PETG  Orange    3DFilaments\n",
       "..            ...     ...            ...\n",
       "355           PLA     Red     MakerStuff\n",
       "356          PETG   Clear       PrintPro\n",
       "357           TPU  Yellow       PrintPro\n",
       "358           PLA     Red    3DFilaments\n",
       "359          PETG  Orange    3DFilaments\n",
       "\n",
       "[360 rows x 3 columns]"
      ],
      "text/html": [
       "<div>\n",
       "<style scoped>\n",
       "    .dataframe tbody tr th:only-of-type {\n",
       "        vertical-align: middle;\n",
       "    }\n",
       "\n",
       "    .dataframe tbody tr th {\n",
       "        vertical-align: top;\n",
       "    }\n",
       "\n",
       "    .dataframe thead th {\n",
       "        text-align: right;\n",
       "    }\n",
       "</style>\n",
       "<table border=\"1\" class=\"dataframe\">\n",
       "  <thead>\n",
       "    <tr style=\"text-align: right;\">\n",
       "      <th></th>\n",
       "      <th>Material Name</th>\n",
       "      <th>Color</th>\n",
       "      <th>Supplier</th>\n",
       "    </tr>\n",
       "  </thead>\n",
       "  <tbody>\n",
       "    <tr>\n",
       "      <th>0</th>\n",
       "      <td>PLA</td>\n",
       "      <td>Blue</td>\n",
       "      <td>3DFilaments</td>\n",
       "    </tr>\n",
       "    <tr>\n",
       "      <th>1</th>\n",
       "      <td>TPU</td>\n",
       "      <td>Purple</td>\n",
       "      <td>ProtoPolymers</td>\n",
       "    </tr>\n",
       "    <tr>\n",
       "      <th>2</th>\n",
       "      <td>TPU</td>\n",
       "      <td>Purple</td>\n",
       "      <td>PrintPro</td>\n",
       "    </tr>\n",
       "    <tr>\n",
       "      <th>3</th>\n",
       "      <td>TPU</td>\n",
       "      <td>Yellow</td>\n",
       "      <td>3DFilaments</td>\n",
       "    </tr>\n",
       "    <tr>\n",
       "      <th>4</th>\n",
       "      <td>PETG</td>\n",
       "      <td>Orange</td>\n",
       "      <td>3DFilaments</td>\n",
       "    </tr>\n",
       "    <tr>\n",
       "      <th>...</th>\n",
       "      <td>...</td>\n",
       "      <td>...</td>\n",
       "      <td>...</td>\n",
       "    </tr>\n",
       "    <tr>\n",
       "      <th>355</th>\n",
       "      <td>PLA</td>\n",
       "      <td>Red</td>\n",
       "      <td>MakerStuff</td>\n",
       "    </tr>\n",
       "    <tr>\n",
       "      <th>356</th>\n",
       "      <td>PETG</td>\n",
       "      <td>Clear</td>\n",
       "      <td>PrintPro</td>\n",
       "    </tr>\n",
       "    <tr>\n",
       "      <th>357</th>\n",
       "      <td>TPU</td>\n",
       "      <td>Yellow</td>\n",
       "      <td>PrintPro</td>\n",
       "    </tr>\n",
       "    <tr>\n",
       "      <th>358</th>\n",
       "      <td>PLA</td>\n",
       "      <td>Red</td>\n",
       "      <td>3DFilaments</td>\n",
       "    </tr>\n",
       "    <tr>\n",
       "      <th>359</th>\n",
       "      <td>PETG</td>\n",
       "      <td>Orange</td>\n",
       "      <td>3DFilaments</td>\n",
       "    </tr>\n",
       "  </tbody>\n",
       "</table>\n",
       "<p>360 rows × 3 columns</p>\n",
       "</div>"
      ]
     },
     "execution_count": 320,
     "metadata": {},
     "output_type": "execute_result"
    }
   ],
   "execution_count": 320
  },
  {
   "metadata": {
    "ExecuteTime": {
     "end_time": "2025-06-06T17:27:48.421271Z",
     "start_time": "2025-06-06T17:27:48.415909Z"
    }
   },
   "cell_type": "code",
   "source": [
    "# c. Check if a single material has inconsistent suppliers:\n",
    "materials.groupby(['Material Name', 'Color'])['Supplier'].nunique()"
   ],
   "id": "8831b482d53d83b0",
   "outputs": [
    {
     "data": {
      "text/plain": [
       "Material Name  Color \n",
       "ABS            Black     4\n",
       "               Green     4\n",
       "PETG           Clear     4\n",
       "               Orange    4\n",
       "PLA            Blue      4\n",
       "               Red       4\n",
       "               White     4\n",
       "TPU            Purple    4\n",
       "               Yellow    4\n",
       "Name: Supplier, dtype: int64"
      ]
     },
     "execution_count": 321,
     "metadata": {},
     "output_type": "execute_result"
    }
   ],
   "execution_count": 321
  },
  {
   "metadata": {
    "ExecuteTime": {
     "end_time": "2025-06-06T17:27:48.532069Z",
     "start_time": "2025-06-06T17:27:48.528305Z"
    }
   },
   "cell_type": "code",
   "source": [
    "# 2. Normalize supplier names (strip, title case).\n",
    "materials['Supplier'].str.strip().str.title().unique()"
   ],
   "id": "bd75f92654ace77f",
   "outputs": [
    {
     "data": {
      "text/plain": [
       "array(['3Dfilaments', 'Protopolymers', 'Printpro', 'Makerstuff'],\n",
       "      dtype=object)"
      ]
     },
     "execution_count": 322,
     "metadata": {},
     "output_type": "execute_result"
    }
   ],
   "execution_count": 322
  },
  {
   "metadata": {
    "ExecuteTime": {
     "end_time": "2025-06-06T17:27:48.616422Z",
     "start_time": "2025-06-06T17:27:48.613441Z"
    }
   },
   "cell_type": "code",
   "source": [
    "# Optional: Split PascalCase / CamelCase and Numbers from letters\n",
    "def split_camel_case(name):\n",
    "     # Insert space between a lowercase/number and an uppercase character\n",
    "    name = re.sub(r'(?<=[a-z0-9])(?=[A-Z])', ' ', name)\n",
    "    # Insert space between a letter and a digit\n",
    "    name = re.sub(r'(?<=[A-Za-z])(?=[0-9])', ' ', name)\n",
    "    # Insert space between a digit and a letter\n",
    "    name = re.sub(r'(?<=[0-9])(?=[A-Za-z])', ' ', name)\n",
    "    return name.title()  # Optional: Title-case the result"
   ],
   "id": "5c9a26c2bfa864b",
   "outputs": [],
   "execution_count": 323
  },
  {
   "metadata": {
    "ExecuteTime": {
     "end_time": "2025-06-06T17:27:48.715738Z",
     "start_time": "2025-06-06T17:27:48.712245Z"
    }
   },
   "cell_type": "code",
   "source": "materials['Supplier Spaced'] = materials['Supplier'].apply(split_camel_case)",
   "id": "3aacb251ec915c9d",
   "outputs": [],
   "execution_count": 324
  },
  {
   "metadata": {
    "ExecuteTime": {
     "end_time": "2025-06-06T17:27:48.728112Z",
     "start_time": "2025-06-06T17:27:48.723459Z"
    }
   },
   "cell_type": "code",
   "source": "materials.head(3)",
   "id": "64c18c862f085ac8",
   "outputs": [
    {
     "data": {
      "text/plain": [
       "  Material Name   Color       Supplier Supplier Spaced\n",
       "0           PLA    Blue    3DFilaments    3 Dfilaments\n",
       "1           TPU  Purple  ProtoPolymers  Proto Polymers\n",
       "2           TPU  Purple       PrintPro       Print Pro"
      ],
      "text/html": [
       "<div>\n",
       "<style scoped>\n",
       "    .dataframe tbody tr th:only-of-type {\n",
       "        vertical-align: middle;\n",
       "    }\n",
       "\n",
       "    .dataframe tbody tr th {\n",
       "        vertical-align: top;\n",
       "    }\n",
       "\n",
       "    .dataframe thead th {\n",
       "        text-align: right;\n",
       "    }\n",
       "</style>\n",
       "<table border=\"1\" class=\"dataframe\">\n",
       "  <thead>\n",
       "    <tr style=\"text-align: right;\">\n",
       "      <th></th>\n",
       "      <th>Material Name</th>\n",
       "      <th>Color</th>\n",
       "      <th>Supplier</th>\n",
       "      <th>Supplier Spaced</th>\n",
       "    </tr>\n",
       "  </thead>\n",
       "  <tbody>\n",
       "    <tr>\n",
       "      <th>0</th>\n",
       "      <td>PLA</td>\n",
       "      <td>Blue</td>\n",
       "      <td>3DFilaments</td>\n",
       "      <td>3 Dfilaments</td>\n",
       "    </tr>\n",
       "    <tr>\n",
       "      <th>1</th>\n",
       "      <td>TPU</td>\n",
       "      <td>Purple</td>\n",
       "      <td>ProtoPolymers</td>\n",
       "      <td>Proto Polymers</td>\n",
       "    </tr>\n",
       "    <tr>\n",
       "      <th>2</th>\n",
       "      <td>TPU</td>\n",
       "      <td>Purple</td>\n",
       "      <td>PrintPro</td>\n",
       "      <td>Print Pro</td>\n",
       "    </tr>\n",
       "  </tbody>\n",
       "</table>\n",
       "</div>"
      ]
     },
     "execution_count": 325,
     "metadata": {},
     "output_type": "execute_result"
    }
   ],
   "execution_count": 325
  },
  {
   "metadata": {
    "ExecuteTime": {
     "end_time": "2025-06-06T17:27:48.752218Z",
     "start_time": "2025-06-06T17:27:48.748917Z"
    }
   },
   "cell_type": "code",
   "source": [
    "# 3. Calculate total revenue per material (sum of `Total Price`).\n",
    "materials_total_price = df[['Material Name', 'Total Price']].copy()"
   ],
   "id": "fb69a3170f0e5acc",
   "outputs": [],
   "execution_count": 326
  },
  {
   "metadata": {
    "ExecuteTime": {
     "end_time": "2025-06-06T17:27:48.791166Z",
     "start_time": "2025-06-06T17:27:48.786443Z"
    }
   },
   "cell_type": "code",
   "source": "materials_total_price.head(3)",
   "id": "2f036997e1520cbc",
   "outputs": [
    {
     "data": {
      "text/plain": [
       "  Material Name  Total Price\n",
       "0           PLA        28.56\n",
       "1           TPU        44.68\n",
       "2           TPU       177.49"
      ],
      "text/html": [
       "<div>\n",
       "<style scoped>\n",
       "    .dataframe tbody tr th:only-of-type {\n",
       "        vertical-align: middle;\n",
       "    }\n",
       "\n",
       "    .dataframe tbody tr th {\n",
       "        vertical-align: top;\n",
       "    }\n",
       "\n",
       "    .dataframe thead th {\n",
       "        text-align: right;\n",
       "    }\n",
       "</style>\n",
       "<table border=\"1\" class=\"dataframe\">\n",
       "  <thead>\n",
       "    <tr style=\"text-align: right;\">\n",
       "      <th></th>\n",
       "      <th>Material Name</th>\n",
       "      <th>Total Price</th>\n",
       "    </tr>\n",
       "  </thead>\n",
       "  <tbody>\n",
       "    <tr>\n",
       "      <th>0</th>\n",
       "      <td>PLA</td>\n",
       "      <td>28.56</td>\n",
       "    </tr>\n",
       "    <tr>\n",
       "      <th>1</th>\n",
       "      <td>TPU</td>\n",
       "      <td>44.68</td>\n",
       "    </tr>\n",
       "    <tr>\n",
       "      <th>2</th>\n",
       "      <td>TPU</td>\n",
       "      <td>177.49</td>\n",
       "    </tr>\n",
       "  </tbody>\n",
       "</table>\n",
       "</div>"
      ]
     },
     "execution_count": 327,
     "metadata": {},
     "output_type": "execute_result"
    }
   ],
   "execution_count": 327
  },
  {
   "metadata": {
    "ExecuteTime": {
     "end_time": "2025-06-06T17:27:48.825533Z",
     "start_time": "2025-06-06T17:27:48.820773Z"
    }
   },
   "cell_type": "code",
   "source": "materials_total_price.groupby('Material Name')['Total Price'].sum().sort_values(ascending=False)",
   "id": "645b0e727658af9d",
   "outputs": [
    {
     "data": {
      "text/plain": [
       "Material Name\n",
       "PLA     11430.24\n",
       "TPU      9729.98\n",
       "ABS      7163.03\n",
       "PETG     6715.95\n",
       "Name: Total Price, dtype: float64"
      ]
     },
     "execution_count": 328,
     "metadata": {},
     "output_type": "execute_result"
    }
   ],
   "execution_count": 328
  },
  {
   "metadata": {
    "ExecuteTime": {
     "end_time": "2025-06-06T17:27:48.899476Z",
     "start_time": "2025-06-06T17:27:48.896873Z"
    }
   },
   "cell_type": "code",
   "source": [
    "# 4. Categorize materials by total weight purchased into quartiles.\n",
    "materials_weight = df[['Material Name', 'Weight']].copy()"
   ],
   "id": "9ee51d25b594f1cf",
   "outputs": [],
   "execution_count": 329
  },
  {
   "metadata": {
    "ExecuteTime": {
     "end_time": "2025-06-06T17:27:48.951351Z",
     "start_time": "2025-06-06T17:27:48.946823Z"
    }
   },
   "cell_type": "code",
   "source": "materials_weight.head(3)",
   "id": "de80294d323c2536",
   "outputs": [
    {
     "data": {
      "text/plain": [
       "  Material Name  Weight\n",
       "0           PLA     500\n",
       "1           TPU     500\n",
       "2           TPU    1000"
      ],
      "text/html": [
       "<div>\n",
       "<style scoped>\n",
       "    .dataframe tbody tr th:only-of-type {\n",
       "        vertical-align: middle;\n",
       "    }\n",
       "\n",
       "    .dataframe tbody tr th {\n",
       "        vertical-align: top;\n",
       "    }\n",
       "\n",
       "    .dataframe thead th {\n",
       "        text-align: right;\n",
       "    }\n",
       "</style>\n",
       "<table border=\"1\" class=\"dataframe\">\n",
       "  <thead>\n",
       "    <tr style=\"text-align: right;\">\n",
       "      <th></th>\n",
       "      <th>Material Name</th>\n",
       "      <th>Weight</th>\n",
       "    </tr>\n",
       "  </thead>\n",
       "  <tbody>\n",
       "    <tr>\n",
       "      <th>0</th>\n",
       "      <td>PLA</td>\n",
       "      <td>500</td>\n",
       "    </tr>\n",
       "    <tr>\n",
       "      <th>1</th>\n",
       "      <td>TPU</td>\n",
       "      <td>500</td>\n",
       "    </tr>\n",
       "    <tr>\n",
       "      <th>2</th>\n",
       "      <td>TPU</td>\n",
       "      <td>1000</td>\n",
       "    </tr>\n",
       "  </tbody>\n",
       "</table>\n",
       "</div>"
      ]
     },
     "execution_count": 330,
     "metadata": {},
     "output_type": "execute_result"
    }
   ],
   "execution_count": 330
  },
  {
   "metadata": {
    "ExecuteTime": {
     "end_time": "2025-06-06T17:27:49.028327Z",
     "start_time": "2025-06-06T17:27:49.023756Z"
    }
   },
   "cell_type": "code",
   "source": "bin_result = pd.qcut(materials_weight['Weight'], 4, duplicates='drop')",
   "id": "51964ad4f92935f6",
   "outputs": [],
   "execution_count": 331
  },
  {
   "metadata": {
    "ExecuteTime": {
     "end_time": "2025-06-06T17:27:49.042012Z",
     "start_time": "2025-06-06T17:27:49.034502Z"
    }
   },
   "cell_type": "code",
   "source": "n_bins = bin_result.cat.categories.size",
   "id": "c2f65eb90cba35fb",
   "outputs": [],
   "execution_count": 332
  },
  {
   "metadata": {
    "ExecuteTime": {
     "end_time": "2025-06-06T17:27:49.063889Z",
     "start_time": "2025-06-06T17:27:49.060807Z"
    }
   },
   "cell_type": "code",
   "source": "n_bins",
   "id": "5cbd5a355d21ca1a",
   "outputs": [
    {
     "data": {
      "text/plain": [
       "2"
      ]
     },
     "execution_count": 333,
     "metadata": {},
     "output_type": "execute_result"
    }
   ],
   "execution_count": 333
  },
  {
   "metadata": {
    "ExecuteTime": {
     "end_time": "2025-06-06T17:27:49.090926Z",
     "start_time": "2025-06-06T17:27:49.088502Z"
    }
   },
   "cell_type": "code",
   "source": "labels = ['Low', 'Mid-Low', 'Mid-High', 'High'][:n_bins]",
   "id": "2a50b31222f7d610",
   "outputs": [],
   "execution_count": 334
  },
  {
   "metadata": {
    "ExecuteTime": {
     "end_time": "2025-06-06T17:27:49.112421Z",
     "start_time": "2025-06-06T17:27:49.109210Z"
    }
   },
   "cell_type": "code",
   "source": "labels",
   "id": "48d4f06df4a15999",
   "outputs": [
    {
     "data": {
      "text/plain": [
       "['Low', 'Mid-Low']"
      ]
     },
     "execution_count": 335,
     "metadata": {},
     "output_type": "execute_result"
    }
   ],
   "execution_count": 335
  },
  {
   "metadata": {
    "ExecuteTime": {
     "end_time": "2025-06-06T17:27:49.174287Z",
     "start_time": "2025-06-06T17:27:49.170166Z"
    }
   },
   "cell_type": "code",
   "source": [
    "materials_weight['Weight Quartile'] = pd.qcut(\n",
    "    materials_weight['Weight'], \n",
    "    q=n_bins, \n",
    "    labels=labels, \n",
    "    duplicates=\"drop\"\n",
    ")"
   ],
   "id": "3f1225142afed31a",
   "outputs": [],
   "execution_count": 336
  },
  {
   "metadata": {
    "ExecuteTime": {
     "end_time": "2025-06-06T17:27:49.189374Z",
     "start_time": "2025-06-06T17:27:49.186548Z"
    }
   },
   "cell_type": "code",
   "source": "materials_weight['Weight'] = materials_weight['Weight'].astype('category')",
   "id": "c59dda0e965f5e4a",
   "outputs": [],
   "execution_count": 337
  },
  {
   "metadata": {
    "ExecuteTime": {
     "end_time": "2025-06-06T17:27:49.215909Z",
     "start_time": "2025-06-06T17:27:49.210843Z"
    }
   },
   "cell_type": "code",
   "source": "materials_weight.head(3)",
   "id": "b2ebd8e9d1c95c71",
   "outputs": [
    {
     "data": {
      "text/plain": [
       "  Material Name Weight Weight Quartile\n",
       "0           PLA    500             Low\n",
       "1           TPU    500             Low\n",
       "2           TPU   1000         Mid-Low"
      ],
      "text/html": [
       "<div>\n",
       "<style scoped>\n",
       "    .dataframe tbody tr th:only-of-type {\n",
       "        vertical-align: middle;\n",
       "    }\n",
       "\n",
       "    .dataframe tbody tr th {\n",
       "        vertical-align: top;\n",
       "    }\n",
       "\n",
       "    .dataframe thead th {\n",
       "        text-align: right;\n",
       "    }\n",
       "</style>\n",
       "<table border=\"1\" class=\"dataframe\">\n",
       "  <thead>\n",
       "    <tr style=\"text-align: right;\">\n",
       "      <th></th>\n",
       "      <th>Material Name</th>\n",
       "      <th>Weight</th>\n",
       "      <th>Weight Quartile</th>\n",
       "    </tr>\n",
       "  </thead>\n",
       "  <tbody>\n",
       "    <tr>\n",
       "      <th>0</th>\n",
       "      <td>PLA</td>\n",
       "      <td>500</td>\n",
       "      <td>Low</td>\n",
       "    </tr>\n",
       "    <tr>\n",
       "      <th>1</th>\n",
       "      <td>TPU</td>\n",
       "      <td>500</td>\n",
       "      <td>Low</td>\n",
       "    </tr>\n",
       "    <tr>\n",
       "      <th>2</th>\n",
       "      <td>TPU</td>\n",
       "      <td>1000</td>\n",
       "      <td>Mid-Low</td>\n",
       "    </tr>\n",
       "  </tbody>\n",
       "</table>\n",
       "</div>"
      ]
     },
     "execution_count": 338,
     "metadata": {},
     "output_type": "execute_result"
    }
   ],
   "execution_count": 338
  },
  {
   "metadata": {
    "ExecuteTime": {
     "end_time": "2025-06-06T17:27:49.250123Z",
     "start_time": "2025-06-06T17:27:49.247100Z"
    }
   },
   "cell_type": "code",
   "source": [
    "# 5. Flag materials with `Average Price per Gram > 0.06`.\n",
    "materials_weight_total_price = df[['Material Name', 'Weight', 'Total Price']].copy()"
   ],
   "id": "f562e221fc43d69c",
   "outputs": [],
   "execution_count": 339
  },
  {
   "metadata": {
    "ExecuteTime": {
     "end_time": "2025-06-06T17:27:49.268176Z",
     "start_time": "2025-06-06T17:27:49.263172Z"
    }
   },
   "cell_type": "code",
   "source": "materials_weight_total_price.head(3)",
   "id": "b86c43235366c7f8",
   "outputs": [
    {
     "data": {
      "text/plain": [
       "  Material Name  Weight  Total Price\n",
       "0           PLA     500        28.56\n",
       "1           TPU     500        44.68\n",
       "2           TPU    1000       177.49"
      ],
      "text/html": [
       "<div>\n",
       "<style scoped>\n",
       "    .dataframe tbody tr th:only-of-type {\n",
       "        vertical-align: middle;\n",
       "    }\n",
       "\n",
       "    .dataframe tbody tr th {\n",
       "        vertical-align: top;\n",
       "    }\n",
       "\n",
       "    .dataframe thead th {\n",
       "        text-align: right;\n",
       "    }\n",
       "</style>\n",
       "<table border=\"1\" class=\"dataframe\">\n",
       "  <thead>\n",
       "    <tr style=\"text-align: right;\">\n",
       "      <th></th>\n",
       "      <th>Material Name</th>\n",
       "      <th>Weight</th>\n",
       "      <th>Total Price</th>\n",
       "    </tr>\n",
       "  </thead>\n",
       "  <tbody>\n",
       "    <tr>\n",
       "      <th>0</th>\n",
       "      <td>PLA</td>\n",
       "      <td>500</td>\n",
       "      <td>28.56</td>\n",
       "    </tr>\n",
       "    <tr>\n",
       "      <th>1</th>\n",
       "      <td>TPU</td>\n",
       "      <td>500</td>\n",
       "      <td>44.68</td>\n",
       "    </tr>\n",
       "    <tr>\n",
       "      <th>2</th>\n",
       "      <td>TPU</td>\n",
       "      <td>1000</td>\n",
       "      <td>177.49</td>\n",
       "    </tr>\n",
       "  </tbody>\n",
       "</table>\n",
       "</div>"
      ]
     },
     "execution_count": 340,
     "metadata": {},
     "output_type": "execute_result"
    }
   ],
   "execution_count": 340
  },
  {
   "metadata": {
    "ExecuteTime": {
     "end_time": "2025-06-06T17:27:49.272181Z",
     "start_time": "2025-06-06T17:27:49.269128Z"
    }
   },
   "cell_type": "code",
   "source": "materials_weight_total_price['Average Price per Gram'] = materials_weight_total_price['Total Price'] / materials_weight_total_price['Weight']",
   "id": "abc0f72c0f830c1e",
   "outputs": [],
   "execution_count": 341
  },
  {
   "metadata": {
    "ExecuteTime": {
     "end_time": "2025-06-06T17:27:49.288709Z",
     "start_time": "2025-06-06T17:27:49.283259Z"
    }
   },
   "cell_type": "code",
   "source": "materials_weight_total_price.head(3)",
   "id": "1dea36e59e634a5a",
   "outputs": [
    {
     "data": {
      "text/plain": [
       "  Material Name  Weight  Total Price  Average Price per Gram\n",
       "0           PLA     500        28.56                 0.05712\n",
       "1           TPU     500        44.68                 0.08936\n",
       "2           TPU    1000       177.49                 0.17749"
      ],
      "text/html": [
       "<div>\n",
       "<style scoped>\n",
       "    .dataframe tbody tr th:only-of-type {\n",
       "        vertical-align: middle;\n",
       "    }\n",
       "\n",
       "    .dataframe tbody tr th {\n",
       "        vertical-align: top;\n",
       "    }\n",
       "\n",
       "    .dataframe thead th {\n",
       "        text-align: right;\n",
       "    }\n",
       "</style>\n",
       "<table border=\"1\" class=\"dataframe\">\n",
       "  <thead>\n",
       "    <tr style=\"text-align: right;\">\n",
       "      <th></th>\n",
       "      <th>Material Name</th>\n",
       "      <th>Weight</th>\n",
       "      <th>Total Price</th>\n",
       "      <th>Average Price per Gram</th>\n",
       "    </tr>\n",
       "  </thead>\n",
       "  <tbody>\n",
       "    <tr>\n",
       "      <th>0</th>\n",
       "      <td>PLA</td>\n",
       "      <td>500</td>\n",
       "      <td>28.56</td>\n",
       "      <td>0.05712</td>\n",
       "    </tr>\n",
       "    <tr>\n",
       "      <th>1</th>\n",
       "      <td>TPU</td>\n",
       "      <td>500</td>\n",
       "      <td>44.68</td>\n",
       "      <td>0.08936</td>\n",
       "    </tr>\n",
       "    <tr>\n",
       "      <th>2</th>\n",
       "      <td>TPU</td>\n",
       "      <td>1000</td>\n",
       "      <td>177.49</td>\n",
       "      <td>0.17749</td>\n",
       "    </tr>\n",
       "  </tbody>\n",
       "</table>\n",
       "</div>"
      ]
     },
     "execution_count": 342,
     "metadata": {},
     "output_type": "execute_result"
    }
   ],
   "execution_count": 342
  },
  {
   "metadata": {
    "ExecuteTime": {
     "end_time": "2025-06-06T17:27:49.321242Z",
     "start_time": "2025-06-06T17:27:49.318167Z"
    }
   },
   "cell_type": "code",
   "source": "materials_weight_total_price['Flagged'] = materials_weight_total_price['Average Price per Gram'].apply(lambda x: 'FLAGGED' if x > 0.06 else '')",
   "id": "514c494c076eeb09",
   "outputs": [],
   "execution_count": 343
  },
  {
   "metadata": {
    "ExecuteTime": {
     "end_time": "2025-06-06T17:27:49.369524Z",
     "start_time": "2025-06-06T17:27:49.364284Z"
    }
   },
   "cell_type": "code",
   "source": "materials_weight_total_price.head(3)",
   "id": "84f96cad3785505c",
   "outputs": [
    {
     "data": {
      "text/plain": [
       "  Material Name  Weight  Total Price  Average Price per Gram  Flagged\n",
       "0           PLA     500        28.56                 0.05712         \n",
       "1           TPU     500        44.68                 0.08936  FLAGGED\n",
       "2           TPU    1000       177.49                 0.17749  FLAGGED"
      ],
      "text/html": [
       "<div>\n",
       "<style scoped>\n",
       "    .dataframe tbody tr th:only-of-type {\n",
       "        vertical-align: middle;\n",
       "    }\n",
       "\n",
       "    .dataframe tbody tr th {\n",
       "        vertical-align: top;\n",
       "    }\n",
       "\n",
       "    .dataframe thead th {\n",
       "        text-align: right;\n",
       "    }\n",
       "</style>\n",
       "<table border=\"1\" class=\"dataframe\">\n",
       "  <thead>\n",
       "    <tr style=\"text-align: right;\">\n",
       "      <th></th>\n",
       "      <th>Material Name</th>\n",
       "      <th>Weight</th>\n",
       "      <th>Total Price</th>\n",
       "      <th>Average Price per Gram</th>\n",
       "      <th>Flagged</th>\n",
       "    </tr>\n",
       "  </thead>\n",
       "  <tbody>\n",
       "    <tr>\n",
       "      <th>0</th>\n",
       "      <td>PLA</td>\n",
       "      <td>500</td>\n",
       "      <td>28.56</td>\n",
       "      <td>0.05712</td>\n",
       "      <td></td>\n",
       "    </tr>\n",
       "    <tr>\n",
       "      <th>1</th>\n",
       "      <td>TPU</td>\n",
       "      <td>500</td>\n",
       "      <td>44.68</td>\n",
       "      <td>0.08936</td>\n",
       "      <td>FLAGGED</td>\n",
       "    </tr>\n",
       "    <tr>\n",
       "      <th>2</th>\n",
       "      <td>TPU</td>\n",
       "      <td>1000</td>\n",
       "      <td>177.49</td>\n",
       "      <td>0.17749</td>\n",
       "      <td>FLAGGED</td>\n",
       "    </tr>\n",
       "  </tbody>\n",
       "</table>\n",
       "</div>"
      ]
     },
     "execution_count": 344,
     "metadata": {},
     "output_type": "execute_result"
    }
   ],
   "execution_count": 344
  },
  {
   "metadata": {
    "ExecuteTime": {
     "end_time": "2025-06-06T17:34:56.211676Z",
     "start_time": "2025-06-06T17:34:56.207895Z"
    }
   },
   "cell_type": "code",
   "source": [
    "# 6. Create a dummy variable DataFrame from material type (`PLA`, `ABS`, etc.) and store zip code.\n",
    "material_store_zip_code = df[['Material Name', 'Store Location']].copy()"
   ],
   "id": "97a120075cb9fb77",
   "outputs": [],
   "execution_count": 345
  },
  {
   "metadata": {
    "ExecuteTime": {
     "end_time": "2025-06-06T17:34:59.869466Z",
     "start_time": "2025-06-06T17:34:59.865052Z"
    }
   },
   "cell_type": "code",
   "source": "material_store_zip_code.head(3)",
   "id": "e954a2a9fad3addf",
   "outputs": [
    {
     "data": {
      "text/plain": [
       "  Material Name                              Store Location\n",
       "0           PLA  5423 Garcia Light, West Melanieview, 06196\n",
       "1           TPU         1395 Diana Locks, Thomasberg, 32826\n",
       "2           TPU        489 Eric Track, New Stephanie, 70015"
      ],
      "text/html": [
       "<div>\n",
       "<style scoped>\n",
       "    .dataframe tbody tr th:only-of-type {\n",
       "        vertical-align: middle;\n",
       "    }\n",
       "\n",
       "    .dataframe tbody tr th {\n",
       "        vertical-align: top;\n",
       "    }\n",
       "\n",
       "    .dataframe thead th {\n",
       "        text-align: right;\n",
       "    }\n",
       "</style>\n",
       "<table border=\"1\" class=\"dataframe\">\n",
       "  <thead>\n",
       "    <tr style=\"text-align: right;\">\n",
       "      <th></th>\n",
       "      <th>Material Name</th>\n",
       "      <th>Store Location</th>\n",
       "    </tr>\n",
       "  </thead>\n",
       "  <tbody>\n",
       "    <tr>\n",
       "      <th>0</th>\n",
       "      <td>PLA</td>\n",
       "      <td>5423 Garcia Light, West Melanieview, 06196</td>\n",
       "    </tr>\n",
       "    <tr>\n",
       "      <th>1</th>\n",
       "      <td>TPU</td>\n",
       "      <td>1395 Diana Locks, Thomasberg, 32826</td>\n",
       "    </tr>\n",
       "    <tr>\n",
       "      <th>2</th>\n",
       "      <td>TPU</td>\n",
       "      <td>489 Eric Track, New Stephanie, 70015</td>\n",
       "    </tr>\n",
       "  </tbody>\n",
       "</table>\n",
       "</div>"
      ]
     },
     "execution_count": 346,
     "metadata": {},
     "output_type": "execute_result"
    }
   ],
   "execution_count": 346
  },
  {
   "metadata": {
    "ExecuteTime": {
     "end_time": "2025-06-06T17:35:53.283561Z",
     "start_time": "2025-06-06T17:35:53.275724Z"
    }
   },
   "cell_type": "code",
   "source": "material_store_zip_code['Zip Code'] = material_store_zip_code['Store Location'].str.extract(r'(\\d{5})')",
   "id": "f7d7b2b45580f17b",
   "outputs": [],
   "execution_count": 347
  },
  {
   "metadata": {
    "ExecuteTime": {
     "end_time": "2025-06-06T17:35:57.511536Z",
     "start_time": "2025-06-06T17:35:57.506575Z"
    }
   },
   "cell_type": "code",
   "source": "material_store_zip_code.head(3)",
   "id": "5cf1d7fb4c37103b",
   "outputs": [
    {
     "data": {
      "text/plain": [
       "  Material Name                              Store Location Zip Code\n",
       "0           PLA  5423 Garcia Light, West Melanieview, 06196    06196\n",
       "1           TPU         1395 Diana Locks, Thomasberg, 32826    32826\n",
       "2           TPU        489 Eric Track, New Stephanie, 70015    70015"
      ],
      "text/html": [
       "<div>\n",
       "<style scoped>\n",
       "    .dataframe tbody tr th:only-of-type {\n",
       "        vertical-align: middle;\n",
       "    }\n",
       "\n",
       "    .dataframe tbody tr th {\n",
       "        vertical-align: top;\n",
       "    }\n",
       "\n",
       "    .dataframe thead th {\n",
       "        text-align: right;\n",
       "    }\n",
       "</style>\n",
       "<table border=\"1\" class=\"dataframe\">\n",
       "  <thead>\n",
       "    <tr style=\"text-align: right;\">\n",
       "      <th></th>\n",
       "      <th>Material Name</th>\n",
       "      <th>Store Location</th>\n",
       "      <th>Zip Code</th>\n",
       "    </tr>\n",
       "  </thead>\n",
       "  <tbody>\n",
       "    <tr>\n",
       "      <th>0</th>\n",
       "      <td>PLA</td>\n",
       "      <td>5423 Garcia Light, West Melanieview, 06196</td>\n",
       "      <td>06196</td>\n",
       "    </tr>\n",
       "    <tr>\n",
       "      <th>1</th>\n",
       "      <td>TPU</td>\n",
       "      <td>1395 Diana Locks, Thomasberg, 32826</td>\n",
       "      <td>32826</td>\n",
       "    </tr>\n",
       "    <tr>\n",
       "      <th>2</th>\n",
       "      <td>TPU</td>\n",
       "      <td>489 Eric Track, New Stephanie, 70015</td>\n",
       "      <td>70015</td>\n",
       "    </tr>\n",
       "  </tbody>\n",
       "</table>\n",
       "</div>"
      ]
     },
     "execution_count": 348,
     "metadata": {},
     "output_type": "execute_result"
    }
   ],
   "execution_count": 348
  },
  {
   "metadata": {
    "ExecuteTime": {
     "end_time": "2025-06-06T17:39:36.017753Z",
     "start_time": "2025-06-06T17:39:36.012841Z"
    }
   },
   "cell_type": "code",
   "source": "dummies = pd.get_dummies(material_store_zip_code[['Material Name', 'Zip Code']]).astype(int)",
   "id": "aece18a2c96d970a",
   "outputs": [],
   "execution_count": 358
  },
  {
   "metadata": {
    "ExecuteTime": {
     "end_time": "2025-06-06T17:39:36.874569Z",
     "start_time": "2025-06-06T17:39:36.861649Z"
    }
   },
   "cell_type": "code",
   "source": "dummies.head(3)",
   "id": "6f584b358c47f471",
   "outputs": [
    {
     "data": {
      "text/plain": [
       "   Material Name_ABS  Material Name_PETG  Material Name_PLA  \\\n",
       "0                  0                   0                  1   \n",
       "1                  0                   0                  0   \n",
       "2                  0                   0                  0   \n",
       "\n",
       "   Material Name_TPU  Zip Code_00000  Zip Code_00471  Zip Code_00547  \\\n",
       "0                  0               0               0               0   \n",
       "1                  1               0               0               0   \n",
       "2                  1               0               0               0   \n",
       "\n",
       "   Zip Code_00595  Zip Code_00905  Zip Code_00956  ...  Zip Code_97374  \\\n",
       "0               0               0               0  ...               0   \n",
       "1               0               0               0  ...               0   \n",
       "2               0               0               0  ...               0   \n",
       "\n",
       "   Zip Code_97585  Zip Code_97763  Zip Code_97906  Zip Code_98579  \\\n",
       "0               0               0               0               0   \n",
       "1               0               0               0               0   \n",
       "2               0               0               0               0   \n",
       "\n",
       "   Zip Code_99187  Zip Code_99297  Zip Code_99704  Zip Code_99749  \\\n",
       "0               0               0               0               0   \n",
       "1               0               0               0               0   \n",
       "2               0               0               0               0   \n",
       "\n",
       "   Zip Code_99758  \n",
       "0               0  \n",
       "1               0  \n",
       "2               0  \n",
       "\n",
       "[3 rows x 364 columns]"
      ],
      "text/html": [
       "<div>\n",
       "<style scoped>\n",
       "    .dataframe tbody tr th:only-of-type {\n",
       "        vertical-align: middle;\n",
       "    }\n",
       "\n",
       "    .dataframe tbody tr th {\n",
       "        vertical-align: top;\n",
       "    }\n",
       "\n",
       "    .dataframe thead th {\n",
       "        text-align: right;\n",
       "    }\n",
       "</style>\n",
       "<table border=\"1\" class=\"dataframe\">\n",
       "  <thead>\n",
       "    <tr style=\"text-align: right;\">\n",
       "      <th></th>\n",
       "      <th>Material Name_ABS</th>\n",
       "      <th>Material Name_PETG</th>\n",
       "      <th>Material Name_PLA</th>\n",
       "      <th>Material Name_TPU</th>\n",
       "      <th>Zip Code_00000</th>\n",
       "      <th>Zip Code_00471</th>\n",
       "      <th>Zip Code_00547</th>\n",
       "      <th>Zip Code_00595</th>\n",
       "      <th>Zip Code_00905</th>\n",
       "      <th>Zip Code_00956</th>\n",
       "      <th>...</th>\n",
       "      <th>Zip Code_97374</th>\n",
       "      <th>Zip Code_97585</th>\n",
       "      <th>Zip Code_97763</th>\n",
       "      <th>Zip Code_97906</th>\n",
       "      <th>Zip Code_98579</th>\n",
       "      <th>Zip Code_99187</th>\n",
       "      <th>Zip Code_99297</th>\n",
       "      <th>Zip Code_99704</th>\n",
       "      <th>Zip Code_99749</th>\n",
       "      <th>Zip Code_99758</th>\n",
       "    </tr>\n",
       "  </thead>\n",
       "  <tbody>\n",
       "    <tr>\n",
       "      <th>0</th>\n",
       "      <td>0</td>\n",
       "      <td>0</td>\n",
       "      <td>1</td>\n",
       "      <td>0</td>\n",
       "      <td>0</td>\n",
       "      <td>0</td>\n",
       "      <td>0</td>\n",
       "      <td>0</td>\n",
       "      <td>0</td>\n",
       "      <td>0</td>\n",
       "      <td>...</td>\n",
       "      <td>0</td>\n",
       "      <td>0</td>\n",
       "      <td>0</td>\n",
       "      <td>0</td>\n",
       "      <td>0</td>\n",
       "      <td>0</td>\n",
       "      <td>0</td>\n",
       "      <td>0</td>\n",
       "      <td>0</td>\n",
       "      <td>0</td>\n",
       "    </tr>\n",
       "    <tr>\n",
       "      <th>1</th>\n",
       "      <td>0</td>\n",
       "      <td>0</td>\n",
       "      <td>0</td>\n",
       "      <td>1</td>\n",
       "      <td>0</td>\n",
       "      <td>0</td>\n",
       "      <td>0</td>\n",
       "      <td>0</td>\n",
       "      <td>0</td>\n",
       "      <td>0</td>\n",
       "      <td>...</td>\n",
       "      <td>0</td>\n",
       "      <td>0</td>\n",
       "      <td>0</td>\n",
       "      <td>0</td>\n",
       "      <td>0</td>\n",
       "      <td>0</td>\n",
       "      <td>0</td>\n",
       "      <td>0</td>\n",
       "      <td>0</td>\n",
       "      <td>0</td>\n",
       "    </tr>\n",
       "    <tr>\n",
       "      <th>2</th>\n",
       "      <td>0</td>\n",
       "      <td>0</td>\n",
       "      <td>0</td>\n",
       "      <td>1</td>\n",
       "      <td>0</td>\n",
       "      <td>0</td>\n",
       "      <td>0</td>\n",
       "      <td>0</td>\n",
       "      <td>0</td>\n",
       "      <td>0</td>\n",
       "      <td>...</td>\n",
       "      <td>0</td>\n",
       "      <td>0</td>\n",
       "      <td>0</td>\n",
       "      <td>0</td>\n",
       "      <td>0</td>\n",
       "      <td>0</td>\n",
       "      <td>0</td>\n",
       "      <td>0</td>\n",
       "      <td>0</td>\n",
       "      <td>0</td>\n",
       "    </tr>\n",
       "  </tbody>\n",
       "</table>\n",
       "<p>3 rows × 364 columns</p>\n",
       "</div>"
      ]
     },
     "execution_count": 359,
     "metadata": {},
     "output_type": "execute_result"
    }
   ],
   "execution_count": 359
  },
  {
   "metadata": {
    "ExecuteTime": {
     "end_time": "2025-06-06T17:39:38.810535Z",
     "start_time": "2025-06-06T17:39:38.805396Z"
    }
   },
   "cell_type": "code",
   "source": "material_store_zip_code_with_dummies = pd.concat([material_store_zip_code, dummies], axis=1)",
   "id": "23beb7b6ac5684b2",
   "outputs": [],
   "execution_count": 360
  },
  {
   "metadata": {
    "ExecuteTime": {
     "end_time": "2025-06-06T17:39:39.626797Z",
     "start_time": "2025-06-06T17:39:39.617946Z"
    }
   },
   "cell_type": "code",
   "source": "material_store_zip_code_with_dummies",
   "id": "1d3dbd946e0ea8bf",
   "outputs": [
    {
     "data": {
      "text/plain": [
       "    Material Name                                Store Location Zip Code  \\\n",
       "0             PLA    5423 Garcia Light, West Melanieview, 06196    06196   \n",
       "1             TPU           1395 Diana Locks, Thomasberg, 32826    32826   \n",
       "2             TPU          489 Eric Track, New Stephanie, 70015    70015   \n",
       "3             TPU          93010 Carlos Bypass, Chadbury, 37001    93010   \n",
       "4            PETG      013 Richard Orchard, Port Richard, 08186    08186   \n",
       "..            ...                                           ...      ...   \n",
       "355           PLA       015 Steven Flat, South Shawnbury, 07563    07563   \n",
       "356          PETG         6621 Richards Pine, Port Devon, 62760    62760   \n",
       "357           TPU            497 Logan Pines, Fowlerland, 26540    26540   \n",
       "358           PLA  203 Williams Mount, North Christopher, 07699    07699   \n",
       "359          PETG             397 Kim Branch, North Lisa, 34514    34514   \n",
       "\n",
       "     Material Name_ABS  Material Name_PETG  Material Name_PLA  \\\n",
       "0                    0                   0                  1   \n",
       "1                    0                   0                  0   \n",
       "2                    0                   0                  0   \n",
       "3                    0                   0                  0   \n",
       "4                    0                   1                  0   \n",
       "..                 ...                 ...                ...   \n",
       "355                  0                   0                  1   \n",
       "356                  0                   1                  0   \n",
       "357                  0                   0                  0   \n",
       "358                  0                   0                  1   \n",
       "359                  0                   1                  0   \n",
       "\n",
       "     Material Name_TPU  Zip Code_00000  Zip Code_00471  Zip Code_00547  ...  \\\n",
       "0                    0               0               0               0  ...   \n",
       "1                    1               0               0               0  ...   \n",
       "2                    1               0               0               0  ...   \n",
       "3                    1               0               0               0  ...   \n",
       "4                    0               0               0               0  ...   \n",
       "..                 ...             ...             ...             ...  ...   \n",
       "355                  0               0               0               0  ...   \n",
       "356                  0               0               0               0  ...   \n",
       "357                  1               0               0               0  ...   \n",
       "358                  0               0               0               0  ...   \n",
       "359                  0               0               0               0  ...   \n",
       "\n",
       "     Zip Code_97374  Zip Code_97585  Zip Code_97763  Zip Code_97906  \\\n",
       "0                 0               0               0               0   \n",
       "1                 0               0               0               0   \n",
       "2                 0               0               0               0   \n",
       "3                 0               0               0               0   \n",
       "4                 0               0               0               0   \n",
       "..              ...             ...             ...             ...   \n",
       "355               0               0               0               0   \n",
       "356               0               0               0               0   \n",
       "357               0               0               0               0   \n",
       "358               0               0               0               0   \n",
       "359               0               0               0               0   \n",
       "\n",
       "     Zip Code_98579  Zip Code_99187  Zip Code_99297  Zip Code_99704  \\\n",
       "0                 0               0               0               0   \n",
       "1                 0               0               0               0   \n",
       "2                 0               0               0               0   \n",
       "3                 0               0               0               0   \n",
       "4                 0               0               0               0   \n",
       "..              ...             ...             ...             ...   \n",
       "355               0               0               0               0   \n",
       "356               0               0               0               0   \n",
       "357               0               0               0               0   \n",
       "358               0               0               0               0   \n",
       "359               0               0               0               0   \n",
       "\n",
       "     Zip Code_99749  Zip Code_99758  \n",
       "0                 0               0  \n",
       "1                 0               0  \n",
       "2                 0               0  \n",
       "3                 0               0  \n",
       "4                 0               0  \n",
       "..              ...             ...  \n",
       "355               0               0  \n",
       "356               0               0  \n",
       "357               0               0  \n",
       "358               0               0  \n",
       "359               0               0  \n",
       "\n",
       "[360 rows x 367 columns]"
      ],
      "text/html": [
       "<div>\n",
       "<style scoped>\n",
       "    .dataframe tbody tr th:only-of-type {\n",
       "        vertical-align: middle;\n",
       "    }\n",
       "\n",
       "    .dataframe tbody tr th {\n",
       "        vertical-align: top;\n",
       "    }\n",
       "\n",
       "    .dataframe thead th {\n",
       "        text-align: right;\n",
       "    }\n",
       "</style>\n",
       "<table border=\"1\" class=\"dataframe\">\n",
       "  <thead>\n",
       "    <tr style=\"text-align: right;\">\n",
       "      <th></th>\n",
       "      <th>Material Name</th>\n",
       "      <th>Store Location</th>\n",
       "      <th>Zip Code</th>\n",
       "      <th>Material Name_ABS</th>\n",
       "      <th>Material Name_PETG</th>\n",
       "      <th>Material Name_PLA</th>\n",
       "      <th>Material Name_TPU</th>\n",
       "      <th>Zip Code_00000</th>\n",
       "      <th>Zip Code_00471</th>\n",
       "      <th>Zip Code_00547</th>\n",
       "      <th>...</th>\n",
       "      <th>Zip Code_97374</th>\n",
       "      <th>Zip Code_97585</th>\n",
       "      <th>Zip Code_97763</th>\n",
       "      <th>Zip Code_97906</th>\n",
       "      <th>Zip Code_98579</th>\n",
       "      <th>Zip Code_99187</th>\n",
       "      <th>Zip Code_99297</th>\n",
       "      <th>Zip Code_99704</th>\n",
       "      <th>Zip Code_99749</th>\n",
       "      <th>Zip Code_99758</th>\n",
       "    </tr>\n",
       "  </thead>\n",
       "  <tbody>\n",
       "    <tr>\n",
       "      <th>0</th>\n",
       "      <td>PLA</td>\n",
       "      <td>5423 Garcia Light, West Melanieview, 06196</td>\n",
       "      <td>06196</td>\n",
       "      <td>0</td>\n",
       "      <td>0</td>\n",
       "      <td>1</td>\n",
       "      <td>0</td>\n",
       "      <td>0</td>\n",
       "      <td>0</td>\n",
       "      <td>0</td>\n",
       "      <td>...</td>\n",
       "      <td>0</td>\n",
       "      <td>0</td>\n",
       "      <td>0</td>\n",
       "      <td>0</td>\n",
       "      <td>0</td>\n",
       "      <td>0</td>\n",
       "      <td>0</td>\n",
       "      <td>0</td>\n",
       "      <td>0</td>\n",
       "      <td>0</td>\n",
       "    </tr>\n",
       "    <tr>\n",
       "      <th>1</th>\n",
       "      <td>TPU</td>\n",
       "      <td>1395 Diana Locks, Thomasberg, 32826</td>\n",
       "      <td>32826</td>\n",
       "      <td>0</td>\n",
       "      <td>0</td>\n",
       "      <td>0</td>\n",
       "      <td>1</td>\n",
       "      <td>0</td>\n",
       "      <td>0</td>\n",
       "      <td>0</td>\n",
       "      <td>...</td>\n",
       "      <td>0</td>\n",
       "      <td>0</td>\n",
       "      <td>0</td>\n",
       "      <td>0</td>\n",
       "      <td>0</td>\n",
       "      <td>0</td>\n",
       "      <td>0</td>\n",
       "      <td>0</td>\n",
       "      <td>0</td>\n",
       "      <td>0</td>\n",
       "    </tr>\n",
       "    <tr>\n",
       "      <th>2</th>\n",
       "      <td>TPU</td>\n",
       "      <td>489 Eric Track, New Stephanie, 70015</td>\n",
       "      <td>70015</td>\n",
       "      <td>0</td>\n",
       "      <td>0</td>\n",
       "      <td>0</td>\n",
       "      <td>1</td>\n",
       "      <td>0</td>\n",
       "      <td>0</td>\n",
       "      <td>0</td>\n",
       "      <td>...</td>\n",
       "      <td>0</td>\n",
       "      <td>0</td>\n",
       "      <td>0</td>\n",
       "      <td>0</td>\n",
       "      <td>0</td>\n",
       "      <td>0</td>\n",
       "      <td>0</td>\n",
       "      <td>0</td>\n",
       "      <td>0</td>\n",
       "      <td>0</td>\n",
       "    </tr>\n",
       "    <tr>\n",
       "      <th>3</th>\n",
       "      <td>TPU</td>\n",
       "      <td>93010 Carlos Bypass, Chadbury, 37001</td>\n",
       "      <td>93010</td>\n",
       "      <td>0</td>\n",
       "      <td>0</td>\n",
       "      <td>0</td>\n",
       "      <td>1</td>\n",
       "      <td>0</td>\n",
       "      <td>0</td>\n",
       "      <td>0</td>\n",
       "      <td>...</td>\n",
       "      <td>0</td>\n",
       "      <td>0</td>\n",
       "      <td>0</td>\n",
       "      <td>0</td>\n",
       "      <td>0</td>\n",
       "      <td>0</td>\n",
       "      <td>0</td>\n",
       "      <td>0</td>\n",
       "      <td>0</td>\n",
       "      <td>0</td>\n",
       "    </tr>\n",
       "    <tr>\n",
       "      <th>4</th>\n",
       "      <td>PETG</td>\n",
       "      <td>013 Richard Orchard, Port Richard, 08186</td>\n",
       "      <td>08186</td>\n",
       "      <td>0</td>\n",
       "      <td>1</td>\n",
       "      <td>0</td>\n",
       "      <td>0</td>\n",
       "      <td>0</td>\n",
       "      <td>0</td>\n",
       "      <td>0</td>\n",
       "      <td>...</td>\n",
       "      <td>0</td>\n",
       "      <td>0</td>\n",
       "      <td>0</td>\n",
       "      <td>0</td>\n",
       "      <td>0</td>\n",
       "      <td>0</td>\n",
       "      <td>0</td>\n",
       "      <td>0</td>\n",
       "      <td>0</td>\n",
       "      <td>0</td>\n",
       "    </tr>\n",
       "    <tr>\n",
       "      <th>...</th>\n",
       "      <td>...</td>\n",
       "      <td>...</td>\n",
       "      <td>...</td>\n",
       "      <td>...</td>\n",
       "      <td>...</td>\n",
       "      <td>...</td>\n",
       "      <td>...</td>\n",
       "      <td>...</td>\n",
       "      <td>...</td>\n",
       "      <td>...</td>\n",
       "      <td>...</td>\n",
       "      <td>...</td>\n",
       "      <td>...</td>\n",
       "      <td>...</td>\n",
       "      <td>...</td>\n",
       "      <td>...</td>\n",
       "      <td>...</td>\n",
       "      <td>...</td>\n",
       "      <td>...</td>\n",
       "      <td>...</td>\n",
       "      <td>...</td>\n",
       "    </tr>\n",
       "    <tr>\n",
       "      <th>355</th>\n",
       "      <td>PLA</td>\n",
       "      <td>015 Steven Flat, South Shawnbury, 07563</td>\n",
       "      <td>07563</td>\n",
       "      <td>0</td>\n",
       "      <td>0</td>\n",
       "      <td>1</td>\n",
       "      <td>0</td>\n",
       "      <td>0</td>\n",
       "      <td>0</td>\n",
       "      <td>0</td>\n",
       "      <td>...</td>\n",
       "      <td>0</td>\n",
       "      <td>0</td>\n",
       "      <td>0</td>\n",
       "      <td>0</td>\n",
       "      <td>0</td>\n",
       "      <td>0</td>\n",
       "      <td>0</td>\n",
       "      <td>0</td>\n",
       "      <td>0</td>\n",
       "      <td>0</td>\n",
       "    </tr>\n",
       "    <tr>\n",
       "      <th>356</th>\n",
       "      <td>PETG</td>\n",
       "      <td>6621 Richards Pine, Port Devon, 62760</td>\n",
       "      <td>62760</td>\n",
       "      <td>0</td>\n",
       "      <td>1</td>\n",
       "      <td>0</td>\n",
       "      <td>0</td>\n",
       "      <td>0</td>\n",
       "      <td>0</td>\n",
       "      <td>0</td>\n",
       "      <td>...</td>\n",
       "      <td>0</td>\n",
       "      <td>0</td>\n",
       "      <td>0</td>\n",
       "      <td>0</td>\n",
       "      <td>0</td>\n",
       "      <td>0</td>\n",
       "      <td>0</td>\n",
       "      <td>0</td>\n",
       "      <td>0</td>\n",
       "      <td>0</td>\n",
       "    </tr>\n",
       "    <tr>\n",
       "      <th>357</th>\n",
       "      <td>TPU</td>\n",
       "      <td>497 Logan Pines, Fowlerland, 26540</td>\n",
       "      <td>26540</td>\n",
       "      <td>0</td>\n",
       "      <td>0</td>\n",
       "      <td>0</td>\n",
       "      <td>1</td>\n",
       "      <td>0</td>\n",
       "      <td>0</td>\n",
       "      <td>0</td>\n",
       "      <td>...</td>\n",
       "      <td>0</td>\n",
       "      <td>0</td>\n",
       "      <td>0</td>\n",
       "      <td>0</td>\n",
       "      <td>0</td>\n",
       "      <td>0</td>\n",
       "      <td>0</td>\n",
       "      <td>0</td>\n",
       "      <td>0</td>\n",
       "      <td>0</td>\n",
       "    </tr>\n",
       "    <tr>\n",
       "      <th>358</th>\n",
       "      <td>PLA</td>\n",
       "      <td>203 Williams Mount, North Christopher, 07699</td>\n",
       "      <td>07699</td>\n",
       "      <td>0</td>\n",
       "      <td>0</td>\n",
       "      <td>1</td>\n",
       "      <td>0</td>\n",
       "      <td>0</td>\n",
       "      <td>0</td>\n",
       "      <td>0</td>\n",
       "      <td>...</td>\n",
       "      <td>0</td>\n",
       "      <td>0</td>\n",
       "      <td>0</td>\n",
       "      <td>0</td>\n",
       "      <td>0</td>\n",
       "      <td>0</td>\n",
       "      <td>0</td>\n",
       "      <td>0</td>\n",
       "      <td>0</td>\n",
       "      <td>0</td>\n",
       "    </tr>\n",
       "    <tr>\n",
       "      <th>359</th>\n",
       "      <td>PETG</td>\n",
       "      <td>397 Kim Branch, North Lisa, 34514</td>\n",
       "      <td>34514</td>\n",
       "      <td>0</td>\n",
       "      <td>1</td>\n",
       "      <td>0</td>\n",
       "      <td>0</td>\n",
       "      <td>0</td>\n",
       "      <td>0</td>\n",
       "      <td>0</td>\n",
       "      <td>...</td>\n",
       "      <td>0</td>\n",
       "      <td>0</td>\n",
       "      <td>0</td>\n",
       "      <td>0</td>\n",
       "      <td>0</td>\n",
       "      <td>0</td>\n",
       "      <td>0</td>\n",
       "      <td>0</td>\n",
       "      <td>0</td>\n",
       "      <td>0</td>\n",
       "    </tr>\n",
       "  </tbody>\n",
       "</table>\n",
       "<p>360 rows × 367 columns</p>\n",
       "</div>"
      ]
     },
     "execution_count": 361,
     "metadata": {},
     "output_type": "execute_result"
    }
   ],
   "execution_count": 361
  },
  {
   "metadata": {},
   "cell_type": "markdown",
   "source": [
    "### 🧠 **What Are Dummy Variables?**\n",
    "\n",
    "**Dummy variables** are **binary (0 or 1)** columns used to represent **categorical data** in a numerical format — usually for use in:\n",
    "\n",
    "* **Statistical models** (like regression)\n",
    "* **Machine learning algorithms** (like decision trees, random forests, logistic regression, etc.)\n",
    "* **Data analysis** when filtering or grouping based on categories\n",
    "\n",
    "---\n",
    "\n",
    "### 💡 Example\n",
    "\n",
    "Let’s say you have a column like this:\n",
    "\n",
    "| Material Name |\n",
    "| ------------- |\n",
    "| PLA           |\n",
    "| ABS           |\n",
    "| TPU           |\n",
    "\n",
    "To use this in a model, you **can't pass text** — you need to convert it into a numerical format.\n",
    "\n",
    "#### 👉 Dummy variable format:\n",
    "\n",
    "| Material Name\\_ABS | Material Name\\_PLA | Material Name\\_TPU |\n",
    "| ------------------ | ------------------ | ------------------ |\n",
    "| 0                  | 1                  | 0                  |\n",
    "| 1                  | 0                  | 0                  |\n",
    "| 0                  | 0                  | 1                  |\n",
    "\n",
    "Each row is marked with **1 for the category it belongs to**, and **0 for the rest**.\n",
    "\n",
    "---\n",
    "\n",
    "### 📈 Why Are They Important?\n",
    "\n",
    "1. ✅ **Enables models to interpret text categories**\n",
    "2. ✅ **Avoids assigning numeric order to unordered categories** (e.g., PLA ≠ 1, TPU ≠ 2)\n",
    "3. ✅ **Preserves fairness in machine learning** — no false assumptions of ranking\n",
    "\n",
    "---\n",
    "\n",
    "### 🔧 Tools to Generate Dummy Variables\n",
    "\n",
    "```python\n",
    "pd.get_dummies(df['Material Name'])\n",
    "```\n",
    "\n",
    "Also works on multiple columns:\n",
    "\n",
    "```python\n",
    "pd.get_dummies(df[['Material Name', 'Zip Code']])\n",
    "```\n",
    "\n",
    "You can also control behavior:\n",
    "\n",
    "* `drop_first=True` – drops one column to avoid multicollinearity\n",
    "* `prefix=...` – sets column prefixes\n"
   ],
   "id": "1766bacf6142f117"
  },
  {
   "metadata": {},
   "cell_type": "code",
   "outputs": [],
   "execution_count": null,
   "source": "",
   "id": "72faddebb929c8ac"
  }
 ],
 "metadata": {
  "kernelspec": {
   "display_name": "Python 3",
   "language": "python",
   "name": "python3"
  },
  "language_info": {
   "codemirror_mode": {
    "name": "ipython",
    "version": 2
   },
   "file_extension": ".py",
   "mimetype": "text/x-python",
   "name": "python",
   "nbconvert_exporter": "python",
   "pygments_lexer": "ipython2",
   "version": "2.7.6"
  }
 },
 "nbformat": 4,
 "nbformat_minor": 5
}
