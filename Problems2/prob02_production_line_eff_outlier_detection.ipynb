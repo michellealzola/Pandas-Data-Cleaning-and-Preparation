{
 "cells": [
  {
   "metadata": {},
   "cell_type": "markdown",
   "source": [
    "### **Problem 2: Production Line Efficiency and Outlier Detection**\n",
    "\n",
    "Management suspects a few lines have underperforming streaks. Clean and investigate the following:\n",
    "\n",
    "**Your tasks:**\n",
    "\n",
    "1. Group data by `Production Line` and calculate total weight and average scrap rate.\n",
    "2. Detect lines with outlier scrap rates: more than 2 standard deviations from the mean.\n",
    "3. Extract lot number prefix (first 3 characters) and use it as a batch series indicator.\n",
    "4. Create a column `Normalized Scrap (%)` by standardizing values (z-score).\n",
    "5. Flag all batches whose normalized scrap is > 2.\n",
    "6. Identify the line with most flagged batches.\n",
    "7. Output a summary table of lines with average weight, scrap, and failure count.\n",
    "\n",
    "*Hint: Use `std()` and `mean()` to standardize scrap rate.*\n"
   ],
   "id": "4e2d23d4e6545d8c"
  },
  {
   "metadata": {
    "ExecuteTime": {
     "end_time": "2025-06-08T15:45:54.046367Z",
     "start_time": "2025-06-08T15:45:54.043880Z"
    }
   },
   "cell_type": "code",
   "source": [
    "import pandas as pd\n",
    "import numpy as np\n",
    "import re"
   ],
   "id": "e1d928b77e69946d",
   "outputs": [],
   "execution_count": 118
  },
  {
   "metadata": {
    "ExecuteTime": {
     "end_time": "2025-06-08T15:45:54.112464Z",
     "start_time": "2025-06-08T15:45:54.105605Z"
    }
   },
   "cell_type": "code",
   "source": "data = pd.read_csv('Spool_Manufacturing_Batch_Log.csv')",
   "id": "8914f854df33247d",
   "outputs": [],
   "execution_count": 119
  },
  {
   "metadata": {
    "ExecuteTime": {
     "end_time": "2025-06-08T15:45:54.170322Z",
     "start_time": "2025-06-08T15:45:54.167799Z"
    }
   },
   "cell_type": "code",
   "source": "df = pd.DataFrame(data)",
   "id": "5fb77c5e65dff4ba",
   "outputs": [],
   "execution_count": 120
  },
  {
   "metadata": {
    "ExecuteTime": {
     "end_time": "2025-06-08T15:45:54.201265Z",
     "start_time": "2025-06-08T15:45:54.194071Z"
    }
   },
   "cell_type": "code",
   "source": "df.head(3)",
   "id": "39b90b2d23629117",
   "outputs": [
    {
     "data": {
      "text/plain": [
       "                               Batch ID Date Produced Material Type  Color  \\\n",
       "0  eb6221c8-f45a-49f6-8c0c-ee28f5a29fc0    2025-05-01           PLA  Black   \n",
       "1  9748d109-45e1-4bb0-98af-53396946b791    2025-05-01           PLA    Red   \n",
       "2  35de154c-67d6-4144-a9e2-8afe65353fb2    2025-05-01           ABS   Blue   \n",
       "\n",
       "  Production Line  Weight (g)  Scrap Rate (%) Pass/Fail         Operator  \\\n",
       "0          Line 2     1024.84            1.79      Pass  Jacqueline Bass   \n",
       "1          Line 1     1032.38            4.28      Pass     Kristen Cole   \n",
       "2          Line 4      988.29            1.65      Pass    Sherry Bryant   \n",
       "\n",
       "                   Phone                  Email    Shift Machine Barcode  \\\n",
       "0  001-988-061-3911x7775  haynesdavid@yahoo.com  Shift C         MCH-001   \n",
       "1      300-905-2906x4997   theodore63@yahoo.com  Shift A         MCH-001   \n",
       "2   001-741-699-1830x254     timothy04@knox.net  Shift C         MCH-001   \n",
       "\n",
       "  Lot Number  \n",
       "0      L9935  \n",
       "1      L4257  \n",
       "2      L3615  "
      ],
      "text/html": [
       "<div>\n",
       "<style scoped>\n",
       "    .dataframe tbody tr th:only-of-type {\n",
       "        vertical-align: middle;\n",
       "    }\n",
       "\n",
       "    .dataframe tbody tr th {\n",
       "        vertical-align: top;\n",
       "    }\n",
       "\n",
       "    .dataframe thead th {\n",
       "        text-align: right;\n",
       "    }\n",
       "</style>\n",
       "<table border=\"1\" class=\"dataframe\">\n",
       "  <thead>\n",
       "    <tr style=\"text-align: right;\">\n",
       "      <th></th>\n",
       "      <th>Batch ID</th>\n",
       "      <th>Date Produced</th>\n",
       "      <th>Material Type</th>\n",
       "      <th>Color</th>\n",
       "      <th>Production Line</th>\n",
       "      <th>Weight (g)</th>\n",
       "      <th>Scrap Rate (%)</th>\n",
       "      <th>Pass/Fail</th>\n",
       "      <th>Operator</th>\n",
       "      <th>Phone</th>\n",
       "      <th>Email</th>\n",
       "      <th>Shift</th>\n",
       "      <th>Machine Barcode</th>\n",
       "      <th>Lot Number</th>\n",
       "    </tr>\n",
       "  </thead>\n",
       "  <tbody>\n",
       "    <tr>\n",
       "      <th>0</th>\n",
       "      <td>eb6221c8-f45a-49f6-8c0c-ee28f5a29fc0</td>\n",
       "      <td>2025-05-01</td>\n",
       "      <td>PLA</td>\n",
       "      <td>Black</td>\n",
       "      <td>Line 2</td>\n",
       "      <td>1024.84</td>\n",
       "      <td>1.79</td>\n",
       "      <td>Pass</td>\n",
       "      <td>Jacqueline Bass</td>\n",
       "      <td>001-988-061-3911x7775</td>\n",
       "      <td>haynesdavid@yahoo.com</td>\n",
       "      <td>Shift C</td>\n",
       "      <td>MCH-001</td>\n",
       "      <td>L9935</td>\n",
       "    </tr>\n",
       "    <tr>\n",
       "      <th>1</th>\n",
       "      <td>9748d109-45e1-4bb0-98af-53396946b791</td>\n",
       "      <td>2025-05-01</td>\n",
       "      <td>PLA</td>\n",
       "      <td>Red</td>\n",
       "      <td>Line 1</td>\n",
       "      <td>1032.38</td>\n",
       "      <td>4.28</td>\n",
       "      <td>Pass</td>\n",
       "      <td>Kristen Cole</td>\n",
       "      <td>300-905-2906x4997</td>\n",
       "      <td>theodore63@yahoo.com</td>\n",
       "      <td>Shift A</td>\n",
       "      <td>MCH-001</td>\n",
       "      <td>L4257</td>\n",
       "    </tr>\n",
       "    <tr>\n",
       "      <th>2</th>\n",
       "      <td>35de154c-67d6-4144-a9e2-8afe65353fb2</td>\n",
       "      <td>2025-05-01</td>\n",
       "      <td>ABS</td>\n",
       "      <td>Blue</td>\n",
       "      <td>Line 4</td>\n",
       "      <td>988.29</td>\n",
       "      <td>1.65</td>\n",
       "      <td>Pass</td>\n",
       "      <td>Sherry Bryant</td>\n",
       "      <td>001-741-699-1830x254</td>\n",
       "      <td>timothy04@knox.net</td>\n",
       "      <td>Shift C</td>\n",
       "      <td>MCH-001</td>\n",
       "      <td>L3615</td>\n",
       "    </tr>\n",
       "  </tbody>\n",
       "</table>\n",
       "</div>"
      ]
     },
     "execution_count": 121,
     "metadata": {},
     "output_type": "execute_result"
    }
   ],
   "execution_count": 121
  },
  {
   "metadata": {
    "ExecuteTime": {
     "end_time": "2025-06-08T15:45:54.227222Z",
     "start_time": "2025-06-08T15:45:54.224159Z"
    }
   },
   "cell_type": "code",
   "source": [
    "# 1. Group data by `Production Line` and calculate total weight and average scrap rate.\n",
    "weight_total_by_line = df.groupby('Production Line')['Weight (g)'].sum()"
   ],
   "id": "bf737123c09bcf28",
   "outputs": [],
   "execution_count": 122
  },
  {
   "metadata": {
    "ExecuteTime": {
     "end_time": "2025-06-08T15:45:54.248603Z",
     "start_time": "2025-06-08T15:45:54.244845Z"
    }
   },
   "cell_type": "code",
   "source": "scrap_rate_by_line = df.groupby('Production Line')['Scrap Rate (%)'].mean()",
   "id": "fc7b71d366723182",
   "outputs": [],
   "execution_count": 123
  },
  {
   "metadata": {
    "ExecuteTime": {
     "end_time": "2025-06-08T15:45:54.265684Z",
     "start_time": "2025-06-08T15:45:54.261389Z"
    }
   },
   "cell_type": "code",
   "source": [
    "summary = pd.DataFrame(\n",
    "    {\n",
    "        'Total Weight (g)': weight_total_by_line,\n",
    "        'Average Scrap Rate (%)': scrap_rate_by_line\n",
    "    }\n",
    ").sort_values('Average Scrap Rate (%)', ascending=False)"
   ],
   "id": "f734c375dabfcbb7",
   "outputs": [],
   "execution_count": 124
  },
  {
   "metadata": {
    "ExecuteTime": {
     "end_time": "2025-06-08T15:45:54.285728Z",
     "start_time": "2025-06-08T15:45:54.280528Z"
    }
   },
   "cell_type": "code",
   "source": "summary",
   "id": "840ac3843b4184c7",
   "outputs": [
    {
     "data": {
      "text/plain": [
       "                 Total Weight (g)  Average Scrap Rate (%)\n",
       "Production Line                                          \n",
       "Line 3                   90280.09                2.217889\n",
       "Line 2                   89078.17                2.189551\n",
       "Line 4                   88877.98                2.175455\n",
       "Line 6                   83513.08                2.125238\n",
       "Line 5                   98509.98                2.085152\n",
       "Line 1                   90586.37                2.052889"
      ],
      "text/html": [
       "<div>\n",
       "<style scoped>\n",
       "    .dataframe tbody tr th:only-of-type {\n",
       "        vertical-align: middle;\n",
       "    }\n",
       "\n",
       "    .dataframe tbody tr th {\n",
       "        vertical-align: top;\n",
       "    }\n",
       "\n",
       "    .dataframe thead th {\n",
       "        text-align: right;\n",
       "    }\n",
       "</style>\n",
       "<table border=\"1\" class=\"dataframe\">\n",
       "  <thead>\n",
       "    <tr style=\"text-align: right;\">\n",
       "      <th></th>\n",
       "      <th>Total Weight (g)</th>\n",
       "      <th>Average Scrap Rate (%)</th>\n",
       "    </tr>\n",
       "    <tr>\n",
       "      <th>Production Line</th>\n",
       "      <th></th>\n",
       "      <th></th>\n",
       "    </tr>\n",
       "  </thead>\n",
       "  <tbody>\n",
       "    <tr>\n",
       "      <th>Line 3</th>\n",
       "      <td>90280.09</td>\n",
       "      <td>2.217889</td>\n",
       "    </tr>\n",
       "    <tr>\n",
       "      <th>Line 2</th>\n",
       "      <td>89078.17</td>\n",
       "      <td>2.189551</td>\n",
       "    </tr>\n",
       "    <tr>\n",
       "      <th>Line 4</th>\n",
       "      <td>88877.98</td>\n",
       "      <td>2.175455</td>\n",
       "    </tr>\n",
       "    <tr>\n",
       "      <th>Line 6</th>\n",
       "      <td>83513.08</td>\n",
       "      <td>2.125238</td>\n",
       "    </tr>\n",
       "    <tr>\n",
       "      <th>Line 5</th>\n",
       "      <td>98509.98</td>\n",
       "      <td>2.085152</td>\n",
       "    </tr>\n",
       "    <tr>\n",
       "      <th>Line 1</th>\n",
       "      <td>90586.37</td>\n",
       "      <td>2.052889</td>\n",
       "    </tr>\n",
       "  </tbody>\n",
       "</table>\n",
       "</div>"
      ]
     },
     "execution_count": 125,
     "metadata": {},
     "output_type": "execute_result"
    }
   ],
   "execution_count": 125
  },
  {
   "metadata": {
    "ExecuteTime": {
     "end_time": "2025-06-08T15:45:54.313563Z",
     "start_time": "2025-06-08T15:45:54.310652Z"
    }
   },
   "cell_type": "code",
   "source": [
    "# 2. Detect lines with outlier scrap rates: more than 2 standard deviations from the mean.\n",
    "scrap_rate_mean = df['Scrap Rate (%)'].mean()"
   ],
   "id": "2a5c371c5fab7500",
   "outputs": [],
   "execution_count": 126
  },
  {
   "metadata": {
    "ExecuteTime": {
     "end_time": "2025-06-08T15:45:54.350010Z",
     "start_time": "2025-06-08T15:45:54.346875Z"
    }
   },
   "cell_type": "code",
   "source": "scrap_rate_mean",
   "id": "aa2b8b74e19a63b9",
   "outputs": [
    {
     "data": {
      "text/plain": [
       "np.float64(2.1400555555555556)"
      ]
     },
     "execution_count": 127,
     "metadata": {},
     "output_type": "execute_result"
    }
   ],
   "execution_count": 127
  },
  {
   "metadata": {
    "ExecuteTime": {
     "end_time": "2025-06-08T15:45:54.453574Z",
     "start_time": "2025-06-08T15:45:54.450663Z"
    }
   },
   "cell_type": "code",
   "source": "scrap_rate_std = df['Scrap Rate (%)'].std()",
   "id": "5d1eca327dd6c81c",
   "outputs": [],
   "execution_count": 128
  },
  {
   "metadata": {
    "ExecuteTime": {
     "end_time": "2025-06-08T15:45:54.473896Z",
     "start_time": "2025-06-08T15:45:54.470349Z"
    }
   },
   "cell_type": "code",
   "source": "scrap_rate_std",
   "id": "16dd438d040ef6e4",
   "outputs": [
    {
     "data": {
      "text/plain": [
       "np.float64(1.3478179288945513)"
      ]
     },
     "execution_count": 129,
     "metadata": {},
     "output_type": "execute_result"
    }
   ],
   "execution_count": 129
  },
  {
   "metadata": {
    "ExecuteTime": {
     "end_time": "2025-06-08T15:45:54.537575Z",
     "start_time": "2025-06-08T15:45:54.534896Z"
    }
   },
   "cell_type": "code",
   "source": "threshold = scrap_rate_mean + 2 * scrap_rate_std",
   "id": "e071399b9ba443df",
   "outputs": [],
   "execution_count": 130
  },
  {
   "metadata": {
    "ExecuteTime": {
     "end_time": "2025-06-08T15:45:54.573654Z",
     "start_time": "2025-06-08T15:45:54.570763Z"
    }
   },
   "cell_type": "code",
   "source": "lines_with_outliers = df[df['Scrap Rate (%)'] > threshold]",
   "id": "ef869a0e5a4b446e",
   "outputs": [],
   "execution_count": 131
  },
  {
   "metadata": {
    "ExecuteTime": {
     "end_time": "2025-06-08T15:45:54.597696Z",
     "start_time": "2025-06-08T15:45:54.590272Z"
    }
   },
   "cell_type": "code",
   "source": "lines_with_outliers.head(3)",
   "id": "49ec7d0e611a0f26",
   "outputs": [
    {
     "data": {
      "text/plain": [
       "                                Batch ID Date Produced Material Type Color  \\\n",
       "56  fb4c18db-c9b1-4c9a-ad29-15f37d7076b1    2025-05-04           ABS   Red   \n",
       "62  4d34f112-a00f-4561-9b21-44029a58c303    2025-05-04           ABS   Red   \n",
       "83  8ee4dbf6-b468-493d-b11d-8c4206490c82    2025-05-05           ABS  Blue   \n",
       "\n",
       "   Production Line  Weight (g)  Scrap Rate (%) Pass/Fail       Operator  \\\n",
       "56          Line 3     1003.01            5.69      Pass  Mary Anderson   \n",
       "62          Line 5     1029.34            5.29      Pass  Sherry Bryant   \n",
       "83          Line 1     1041.10            4.85      Pass  Mary Anderson   \n",
       "\n",
       "                   Phone                         Email    Shift  \\\n",
       "56    247-382-6261x52923  jesse59@stewart-johnson.info  Shift C   \n",
       "62  001-741-699-1830x254            timothy04@knox.net  Shift C   \n",
       "83    247-382-6261x52923  jesse59@stewart-johnson.info  Shift B   \n",
       "\n",
       "   Machine Barcode Lot Number  \n",
       "56         MCH-004      L6279  \n",
       "62         MCH-001      L8478  \n",
       "83         MCH-004      L4995  "
      ],
      "text/html": [
       "<div>\n",
       "<style scoped>\n",
       "    .dataframe tbody tr th:only-of-type {\n",
       "        vertical-align: middle;\n",
       "    }\n",
       "\n",
       "    .dataframe tbody tr th {\n",
       "        vertical-align: top;\n",
       "    }\n",
       "\n",
       "    .dataframe thead th {\n",
       "        text-align: right;\n",
       "    }\n",
       "</style>\n",
       "<table border=\"1\" class=\"dataframe\">\n",
       "  <thead>\n",
       "    <tr style=\"text-align: right;\">\n",
       "      <th></th>\n",
       "      <th>Batch ID</th>\n",
       "      <th>Date Produced</th>\n",
       "      <th>Material Type</th>\n",
       "      <th>Color</th>\n",
       "      <th>Production Line</th>\n",
       "      <th>Weight (g)</th>\n",
       "      <th>Scrap Rate (%)</th>\n",
       "      <th>Pass/Fail</th>\n",
       "      <th>Operator</th>\n",
       "      <th>Phone</th>\n",
       "      <th>Email</th>\n",
       "      <th>Shift</th>\n",
       "      <th>Machine Barcode</th>\n",
       "      <th>Lot Number</th>\n",
       "    </tr>\n",
       "  </thead>\n",
       "  <tbody>\n",
       "    <tr>\n",
       "      <th>56</th>\n",
       "      <td>fb4c18db-c9b1-4c9a-ad29-15f37d7076b1</td>\n",
       "      <td>2025-05-04</td>\n",
       "      <td>ABS</td>\n",
       "      <td>Red</td>\n",
       "      <td>Line 3</td>\n",
       "      <td>1003.01</td>\n",
       "      <td>5.69</td>\n",
       "      <td>Pass</td>\n",
       "      <td>Mary Anderson</td>\n",
       "      <td>247-382-6261x52923</td>\n",
       "      <td>jesse59@stewart-johnson.info</td>\n",
       "      <td>Shift C</td>\n",
       "      <td>MCH-004</td>\n",
       "      <td>L6279</td>\n",
       "    </tr>\n",
       "    <tr>\n",
       "      <th>62</th>\n",
       "      <td>4d34f112-a00f-4561-9b21-44029a58c303</td>\n",
       "      <td>2025-05-04</td>\n",
       "      <td>ABS</td>\n",
       "      <td>Red</td>\n",
       "      <td>Line 5</td>\n",
       "      <td>1029.34</td>\n",
       "      <td>5.29</td>\n",
       "      <td>Pass</td>\n",
       "      <td>Sherry Bryant</td>\n",
       "      <td>001-741-699-1830x254</td>\n",
       "      <td>timothy04@knox.net</td>\n",
       "      <td>Shift C</td>\n",
       "      <td>MCH-001</td>\n",
       "      <td>L8478</td>\n",
       "    </tr>\n",
       "    <tr>\n",
       "      <th>83</th>\n",
       "      <td>8ee4dbf6-b468-493d-b11d-8c4206490c82</td>\n",
       "      <td>2025-05-05</td>\n",
       "      <td>ABS</td>\n",
       "      <td>Blue</td>\n",
       "      <td>Line 1</td>\n",
       "      <td>1041.10</td>\n",
       "      <td>4.85</td>\n",
       "      <td>Pass</td>\n",
       "      <td>Mary Anderson</td>\n",
       "      <td>247-382-6261x52923</td>\n",
       "      <td>jesse59@stewart-johnson.info</td>\n",
       "      <td>Shift B</td>\n",
       "      <td>MCH-004</td>\n",
       "      <td>L4995</td>\n",
       "    </tr>\n",
       "  </tbody>\n",
       "</table>\n",
       "</div>"
      ]
     },
     "execution_count": 132,
     "metadata": {},
     "output_type": "execute_result"
    }
   ],
   "execution_count": 132
  },
  {
   "metadata": {
    "ExecuteTime": {
     "end_time": "2025-06-08T15:45:54.628109Z",
     "start_time": "2025-06-08T15:45:54.624344Z"
    }
   },
   "cell_type": "code",
   "source": "lines_with_outliers['Production Line'].value_counts()",
   "id": "8443a00c1b3509f8",
   "outputs": [
    {
     "data": {
      "text/plain": [
       "Production Line\n",
       "Line 3    5\n",
       "Line 5    2\n",
       "Line 1    2\n",
       "Line 6    2\n",
       "Line 2    2\n",
       "Line 4    1\n",
       "Name: count, dtype: int64"
      ]
     },
     "execution_count": 133,
     "metadata": {},
     "output_type": "execute_result"
    }
   ],
   "execution_count": 133
  },
  {
   "metadata": {
    "ExecuteTime": {
     "end_time": "2025-06-08T15:45:54.654274Z",
     "start_time": "2025-06-08T15:45:54.649754Z"
    }
   },
   "cell_type": "code",
   "source": "lines_with_outliers.groupby('Production Line')['Scrap Rate (%)'].mean()",
   "id": "a8c4d0ec8f6c059b",
   "outputs": [
    {
     "data": {
      "text/plain": [
       "Production Line\n",
       "Line 1    5.400\n",
       "Line 2    5.460\n",
       "Line 3    5.358\n",
       "Line 4    5.210\n",
       "Line 5    6.535\n",
       "Line 6    5.260\n",
       "Name: Scrap Rate (%), dtype: float64"
      ]
     },
     "execution_count": 134,
     "metadata": {},
     "output_type": "execute_result"
    }
   ],
   "execution_count": 134
  },
  {
   "metadata": {
    "ExecuteTime": {
     "end_time": "2025-06-08T15:45:54.672388Z",
     "start_time": "2025-06-08T15:45:54.668301Z"
    }
   },
   "cell_type": "code",
   "source": [
    "# 3. Extract lot number prefix (first 3 characters) and use it as a batch series indicator.\n",
    "df['Batch Series Indicator'] = df['Lot Number'].str.extract(r'^[A-Z]+([0-9]{3}+)')"
   ],
   "id": "db4956b5fa504f62",
   "outputs": [],
   "execution_count": 135
  },
  {
   "metadata": {
    "ExecuteTime": {
     "end_time": "2025-06-08T15:45:54.691292Z",
     "start_time": "2025-06-08T15:45:54.686355Z"
    }
   },
   "cell_type": "code",
   "source": "df[['Lot Number', 'Batch Series Indicator']].head(3)",
   "id": "364cfecdfbfc8453",
   "outputs": [
    {
     "data": {
      "text/plain": [
       "  Lot Number Batch Series Indicator\n",
       "0      L9935                    993\n",
       "1      L4257                    425\n",
       "2      L3615                    361"
      ],
      "text/html": [
       "<div>\n",
       "<style scoped>\n",
       "    .dataframe tbody tr th:only-of-type {\n",
       "        vertical-align: middle;\n",
       "    }\n",
       "\n",
       "    .dataframe tbody tr th {\n",
       "        vertical-align: top;\n",
       "    }\n",
       "\n",
       "    .dataframe thead th {\n",
       "        text-align: right;\n",
       "    }\n",
       "</style>\n",
       "<table border=\"1\" class=\"dataframe\">\n",
       "  <thead>\n",
       "    <tr style=\"text-align: right;\">\n",
       "      <th></th>\n",
       "      <th>Lot Number</th>\n",
       "      <th>Batch Series Indicator</th>\n",
       "    </tr>\n",
       "  </thead>\n",
       "  <tbody>\n",
       "    <tr>\n",
       "      <th>0</th>\n",
       "      <td>L9935</td>\n",
       "      <td>993</td>\n",
       "    </tr>\n",
       "    <tr>\n",
       "      <th>1</th>\n",
       "      <td>L4257</td>\n",
       "      <td>425</td>\n",
       "    </tr>\n",
       "    <tr>\n",
       "      <th>2</th>\n",
       "      <td>L3615</td>\n",
       "      <td>361</td>\n",
       "    </tr>\n",
       "  </tbody>\n",
       "</table>\n",
       "</div>"
      ]
     },
     "execution_count": 136,
     "metadata": {},
     "output_type": "execute_result"
    }
   ],
   "execution_count": 136
  },
  {
   "metadata": {
    "ExecuteTime": {
     "end_time": "2025-06-08T15:45:54.709576Z",
     "start_time": "2025-06-08T15:45:54.706488Z"
    }
   },
   "cell_type": "code",
   "source": [
    "# first 3 characters including the letter\n",
    "df['Batch Series Indicator'] = df['Lot Number'].str[:3]"
   ],
   "id": "eacc6d4bf2631b73",
   "outputs": [],
   "execution_count": 137
  },
  {
   "metadata": {
    "ExecuteTime": {
     "end_time": "2025-06-08T15:45:54.731537Z",
     "start_time": "2025-06-08T15:45:54.726632Z"
    }
   },
   "cell_type": "code",
   "source": "df[['Lot Number', 'Batch Series Indicator']].head(3)",
   "id": "26f12d38c0873a54",
   "outputs": [
    {
     "data": {
      "text/plain": [
       "  Lot Number Batch Series Indicator\n",
       "0      L9935                    L99\n",
       "1      L4257                    L42\n",
       "2      L3615                    L36"
      ],
      "text/html": [
       "<div>\n",
       "<style scoped>\n",
       "    .dataframe tbody tr th:only-of-type {\n",
       "        vertical-align: middle;\n",
       "    }\n",
       "\n",
       "    .dataframe tbody tr th {\n",
       "        vertical-align: top;\n",
       "    }\n",
       "\n",
       "    .dataframe thead th {\n",
       "        text-align: right;\n",
       "    }\n",
       "</style>\n",
       "<table border=\"1\" class=\"dataframe\">\n",
       "  <thead>\n",
       "    <tr style=\"text-align: right;\">\n",
       "      <th></th>\n",
       "      <th>Lot Number</th>\n",
       "      <th>Batch Series Indicator</th>\n",
       "    </tr>\n",
       "  </thead>\n",
       "  <tbody>\n",
       "    <tr>\n",
       "      <th>0</th>\n",
       "      <td>L9935</td>\n",
       "      <td>L99</td>\n",
       "    </tr>\n",
       "    <tr>\n",
       "      <th>1</th>\n",
       "      <td>L4257</td>\n",
       "      <td>L42</td>\n",
       "    </tr>\n",
       "    <tr>\n",
       "      <th>2</th>\n",
       "      <td>L3615</td>\n",
       "      <td>L36</td>\n",
       "    </tr>\n",
       "  </tbody>\n",
       "</table>\n",
       "</div>"
      ]
     },
     "execution_count": 138,
     "metadata": {},
     "output_type": "execute_result"
    }
   ],
   "execution_count": 138
  },
  {
   "metadata": {
    "ExecuteTime": {
     "end_time": "2025-06-08T15:45:54.826002Z",
     "start_time": "2025-06-08T15:45:54.823316Z"
    }
   },
   "cell_type": "code",
   "source": [
    "# 4. Create a column `Normalized Scrap (%)` by standardizing values (z-score).\n",
    "scrap_mean = df['Scrap Rate (%)'].mean()"
   ],
   "id": "c033363aa90a8fae",
   "outputs": [],
   "execution_count": 139
  },
  {
   "metadata": {
    "ExecuteTime": {
     "end_time": "2025-06-08T15:45:54.876364Z",
     "start_time": "2025-06-08T15:45:54.873392Z"
    }
   },
   "cell_type": "code",
   "source": "scrap_std = df['Scrap Rate (%)'].std()",
   "id": "452390a136de351c",
   "outputs": [],
   "execution_count": 140
  },
  {
   "metadata": {
    "ExecuteTime": {
     "end_time": "2025-06-08T15:45:54.944706Z",
     "start_time": "2025-06-08T15:45:54.941284Z"
    }
   },
   "cell_type": "code",
   "source": "df['Normalized Scrap (%)'] = round((df['Scrap Rate (%)'] - scrap_rate_mean) / scrap_rate_std, 2)",
   "id": "23f049d57ae93b75",
   "outputs": [],
   "execution_count": 141
  },
  {
   "metadata": {
    "ExecuteTime": {
     "end_time": "2025-06-08T15:45:55.056937Z",
     "start_time": "2025-06-08T15:45:55.051076Z"
    }
   },
   "cell_type": "code",
   "source": "df[['Scrap Rate (%)', 'Normalized Scrap (%)']].head(3)",
   "id": "eeecf10b596f5c00",
   "outputs": [
    {
     "data": {
      "text/plain": [
       "   Scrap Rate (%)  Normalized Scrap (%)\n",
       "0            1.79                 -0.26\n",
       "1            4.28                  1.59\n",
       "2            1.65                 -0.36"
      ],
      "text/html": [
       "<div>\n",
       "<style scoped>\n",
       "    .dataframe tbody tr th:only-of-type {\n",
       "        vertical-align: middle;\n",
       "    }\n",
       "\n",
       "    .dataframe tbody tr th {\n",
       "        vertical-align: top;\n",
       "    }\n",
       "\n",
       "    .dataframe thead th {\n",
       "        text-align: right;\n",
       "    }\n",
       "</style>\n",
       "<table border=\"1\" class=\"dataframe\">\n",
       "  <thead>\n",
       "    <tr style=\"text-align: right;\">\n",
       "      <th></th>\n",
       "      <th>Scrap Rate (%)</th>\n",
       "      <th>Normalized Scrap (%)</th>\n",
       "    </tr>\n",
       "  </thead>\n",
       "  <tbody>\n",
       "    <tr>\n",
       "      <th>0</th>\n",
       "      <td>1.79</td>\n",
       "      <td>-0.26</td>\n",
       "    </tr>\n",
       "    <tr>\n",
       "      <th>1</th>\n",
       "      <td>4.28</td>\n",
       "      <td>1.59</td>\n",
       "    </tr>\n",
       "    <tr>\n",
       "      <th>2</th>\n",
       "      <td>1.65</td>\n",
       "      <td>-0.36</td>\n",
       "    </tr>\n",
       "  </tbody>\n",
       "</table>\n",
       "</div>"
      ]
     },
     "execution_count": 142,
     "metadata": {},
     "output_type": "execute_result"
    }
   ],
   "execution_count": 142
  },
  {
   "metadata": {
    "ExecuteTime": {
     "end_time": "2025-06-08T15:45:55.084978Z",
     "start_time": "2025-06-08T15:45:55.081420Z"
    }
   },
   "cell_type": "code",
   "source": [
    "# 5. Flag all batches whose normalized scrap is > 2.\n",
    "df['Outlier Indicator (Norm > 2)'] = df['Normalized Scrap (%)'].apply(lambda x: 'FLAGGED' if x > 2 else '')"
   ],
   "id": "942825814ec8f7cc",
   "outputs": [],
   "execution_count": 143
  },
  {
   "metadata": {
    "ExecuteTime": {
     "end_time": "2025-06-08T15:45:55.091858Z",
     "start_time": "2025-06-08T15:45:55.086771Z"
    }
   },
   "cell_type": "code",
   "source": "df[['Scrap Rate (%)', 'Normalized Scrap (%)', 'Outlier Indicator (Norm > 2)']].head(3)",
   "id": "9a0b8554d32d0c2b",
   "outputs": [
    {
     "data": {
      "text/plain": [
       "   Scrap Rate (%)  Normalized Scrap (%) Outlier Indicator (Norm > 2)\n",
       "0            1.79                 -0.26                             \n",
       "1            4.28                  1.59                             \n",
       "2            1.65                 -0.36                             "
      ],
      "text/html": [
       "<div>\n",
       "<style scoped>\n",
       "    .dataframe tbody tr th:only-of-type {\n",
       "        vertical-align: middle;\n",
       "    }\n",
       "\n",
       "    .dataframe tbody tr th {\n",
       "        vertical-align: top;\n",
       "    }\n",
       "\n",
       "    .dataframe thead th {\n",
       "        text-align: right;\n",
       "    }\n",
       "</style>\n",
       "<table border=\"1\" class=\"dataframe\">\n",
       "  <thead>\n",
       "    <tr style=\"text-align: right;\">\n",
       "      <th></th>\n",
       "      <th>Scrap Rate (%)</th>\n",
       "      <th>Normalized Scrap (%)</th>\n",
       "      <th>Outlier Indicator (Norm &gt; 2)</th>\n",
       "    </tr>\n",
       "  </thead>\n",
       "  <tbody>\n",
       "    <tr>\n",
       "      <th>0</th>\n",
       "      <td>1.79</td>\n",
       "      <td>-0.26</td>\n",
       "      <td></td>\n",
       "    </tr>\n",
       "    <tr>\n",
       "      <th>1</th>\n",
       "      <td>4.28</td>\n",
       "      <td>1.59</td>\n",
       "      <td></td>\n",
       "    </tr>\n",
       "    <tr>\n",
       "      <th>2</th>\n",
       "      <td>1.65</td>\n",
       "      <td>-0.36</td>\n",
       "      <td></td>\n",
       "    </tr>\n",
       "  </tbody>\n",
       "</table>\n",
       "</div>"
      ]
     },
     "execution_count": 144,
     "metadata": {},
     "output_type": "execute_result"
    }
   ],
   "execution_count": 144
  },
  {
   "metadata": {
    "ExecuteTime": {
     "end_time": "2025-06-08T15:45:55.112783Z",
     "start_time": "2025-06-08T15:45:55.108718Z"
    }
   },
   "cell_type": "code",
   "source": "df['Outlier Indicator (Norm > 2)'].value_counts()",
   "id": "674261300e4ff1a4",
   "outputs": [
    {
     "data": {
      "text/plain": [
       "Outlier Indicator (Norm > 2)\n",
       "           526\n",
       "FLAGGED     14\n",
       "Name: count, dtype: int64"
      ]
     },
     "execution_count": 145,
     "metadata": {},
     "output_type": "execute_result"
    }
   ],
   "execution_count": 145
  },
  {
   "metadata": {
    "ExecuteTime": {
     "end_time": "2025-06-08T15:45:55.148645Z",
     "start_time": "2025-06-08T15:45:55.140686Z"
    }
   },
   "cell_type": "code",
   "source": "df[df['Outlier Indicator (Norm > 2)'] == 'FLAGGED'].head(3)",
   "id": "7eacac25fa9ca19b",
   "outputs": [
    {
     "data": {
      "text/plain": [
       "                                Batch ID Date Produced Material Type Color  \\\n",
       "56  fb4c18db-c9b1-4c9a-ad29-15f37d7076b1    2025-05-04           ABS   Red   \n",
       "62  4d34f112-a00f-4561-9b21-44029a58c303    2025-05-04           ABS   Red   \n",
       "83  8ee4dbf6-b468-493d-b11d-8c4206490c82    2025-05-05           ABS  Blue   \n",
       "\n",
       "   Production Line  Weight (g)  Scrap Rate (%) Pass/Fail       Operator  \\\n",
       "56          Line 3     1003.01            5.69      Pass  Mary Anderson   \n",
       "62          Line 5     1029.34            5.29      Pass  Sherry Bryant   \n",
       "83          Line 1     1041.10            4.85      Pass  Mary Anderson   \n",
       "\n",
       "                   Phone                         Email    Shift  \\\n",
       "56    247-382-6261x52923  jesse59@stewart-johnson.info  Shift C   \n",
       "62  001-741-699-1830x254            timothy04@knox.net  Shift C   \n",
       "83    247-382-6261x52923  jesse59@stewart-johnson.info  Shift B   \n",
       "\n",
       "   Machine Barcode Lot Number Batch Series Indicator  Normalized Scrap (%)  \\\n",
       "56         MCH-004      L6279                    L62                  2.63   \n",
       "62         MCH-001      L8478                    L84                  2.34   \n",
       "83         MCH-004      L4995                    L49                  2.01   \n",
       "\n",
       "   Outlier Indicator (Norm > 2)  \n",
       "56                      FLAGGED  \n",
       "62                      FLAGGED  \n",
       "83                      FLAGGED  "
      ],
      "text/html": [
       "<div>\n",
       "<style scoped>\n",
       "    .dataframe tbody tr th:only-of-type {\n",
       "        vertical-align: middle;\n",
       "    }\n",
       "\n",
       "    .dataframe tbody tr th {\n",
       "        vertical-align: top;\n",
       "    }\n",
       "\n",
       "    .dataframe thead th {\n",
       "        text-align: right;\n",
       "    }\n",
       "</style>\n",
       "<table border=\"1\" class=\"dataframe\">\n",
       "  <thead>\n",
       "    <tr style=\"text-align: right;\">\n",
       "      <th></th>\n",
       "      <th>Batch ID</th>\n",
       "      <th>Date Produced</th>\n",
       "      <th>Material Type</th>\n",
       "      <th>Color</th>\n",
       "      <th>Production Line</th>\n",
       "      <th>Weight (g)</th>\n",
       "      <th>Scrap Rate (%)</th>\n",
       "      <th>Pass/Fail</th>\n",
       "      <th>Operator</th>\n",
       "      <th>Phone</th>\n",
       "      <th>Email</th>\n",
       "      <th>Shift</th>\n",
       "      <th>Machine Barcode</th>\n",
       "      <th>Lot Number</th>\n",
       "      <th>Batch Series Indicator</th>\n",
       "      <th>Normalized Scrap (%)</th>\n",
       "      <th>Outlier Indicator (Norm &gt; 2)</th>\n",
       "    </tr>\n",
       "  </thead>\n",
       "  <tbody>\n",
       "    <tr>\n",
       "      <th>56</th>\n",
       "      <td>fb4c18db-c9b1-4c9a-ad29-15f37d7076b1</td>\n",
       "      <td>2025-05-04</td>\n",
       "      <td>ABS</td>\n",
       "      <td>Red</td>\n",
       "      <td>Line 3</td>\n",
       "      <td>1003.01</td>\n",
       "      <td>5.69</td>\n",
       "      <td>Pass</td>\n",
       "      <td>Mary Anderson</td>\n",
       "      <td>247-382-6261x52923</td>\n",
       "      <td>jesse59@stewart-johnson.info</td>\n",
       "      <td>Shift C</td>\n",
       "      <td>MCH-004</td>\n",
       "      <td>L6279</td>\n",
       "      <td>L62</td>\n",
       "      <td>2.63</td>\n",
       "      <td>FLAGGED</td>\n",
       "    </tr>\n",
       "    <tr>\n",
       "      <th>62</th>\n",
       "      <td>4d34f112-a00f-4561-9b21-44029a58c303</td>\n",
       "      <td>2025-05-04</td>\n",
       "      <td>ABS</td>\n",
       "      <td>Red</td>\n",
       "      <td>Line 5</td>\n",
       "      <td>1029.34</td>\n",
       "      <td>5.29</td>\n",
       "      <td>Pass</td>\n",
       "      <td>Sherry Bryant</td>\n",
       "      <td>001-741-699-1830x254</td>\n",
       "      <td>timothy04@knox.net</td>\n",
       "      <td>Shift C</td>\n",
       "      <td>MCH-001</td>\n",
       "      <td>L8478</td>\n",
       "      <td>L84</td>\n",
       "      <td>2.34</td>\n",
       "      <td>FLAGGED</td>\n",
       "    </tr>\n",
       "    <tr>\n",
       "      <th>83</th>\n",
       "      <td>8ee4dbf6-b468-493d-b11d-8c4206490c82</td>\n",
       "      <td>2025-05-05</td>\n",
       "      <td>ABS</td>\n",
       "      <td>Blue</td>\n",
       "      <td>Line 1</td>\n",
       "      <td>1041.10</td>\n",
       "      <td>4.85</td>\n",
       "      <td>Pass</td>\n",
       "      <td>Mary Anderson</td>\n",
       "      <td>247-382-6261x52923</td>\n",
       "      <td>jesse59@stewart-johnson.info</td>\n",
       "      <td>Shift B</td>\n",
       "      <td>MCH-004</td>\n",
       "      <td>L4995</td>\n",
       "      <td>L49</td>\n",
       "      <td>2.01</td>\n",
       "      <td>FLAGGED</td>\n",
       "    </tr>\n",
       "  </tbody>\n",
       "</table>\n",
       "</div>"
      ]
     },
     "execution_count": 146,
     "metadata": {},
     "output_type": "execute_result"
    }
   ],
   "execution_count": 146
  },
  {
   "metadata": {
    "ExecuteTime": {
     "end_time": "2025-06-08T15:45:55.178956Z",
     "start_time": "2025-06-08T15:45:55.174763Z"
    }
   },
   "cell_type": "code",
   "source": [
    "# 6. Identify the line with most flagged batches.\n",
    "# Convert to boolean before summing\n",
    "flagged_count = (\n",
    "    df['Outlier Indicator (Norm > 2)']\n",
    "    .eq('FLAGGED')\n",
    "    .groupby(df['Production Line'])\n",
    "    .sum()\n",
    "    .sort_values(ascending=False)\n",
    ")"
   ],
   "id": "82e2baf2b11121c2",
   "outputs": [],
   "execution_count": 147
  },
  {
   "metadata": {
    "ExecuteTime": {
     "end_time": "2025-06-08T15:45:55.232971Z",
     "start_time": "2025-06-08T15:45:55.229240Z"
    }
   },
   "cell_type": "code",
   "source": "flagged_count",
   "id": "58165c6ce3821d6",
   "outputs": [
    {
     "data": {
      "text/plain": [
       "Production Line\n",
       "Line 3    5\n",
       "Line 1    2\n",
       "Line 2    2\n",
       "Line 5    2\n",
       "Line 6    2\n",
       "Line 4    1\n",
       "Name: Outlier Indicator (Norm > 2), dtype: int64"
      ]
     },
     "execution_count": 148,
     "metadata": {},
     "output_type": "execute_result"
    }
   ],
   "execution_count": 148
  },
  {
   "metadata": {
    "ExecuteTime": {
     "end_time": "2025-06-08T15:45:55.381085Z",
     "start_time": "2025-06-08T15:45:55.378075Z"
    }
   },
   "cell_type": "code",
   "source": [
    "# 7. Output a summary table of lines with average weight, scrap, and failure count.\n",
    "average_weight_per_line = round(df.groupby('Production Line')['Weight (g)'].mean(), 2)"
   ],
   "id": "db6e760e7a00769b",
   "outputs": [],
   "execution_count": 149
  },
  {
   "metadata": {
    "ExecuteTime": {
     "end_time": "2025-06-08T15:45:55.417041Z",
     "start_time": "2025-06-08T15:45:55.414075Z"
    }
   },
   "cell_type": "code",
   "source": "scrap_count_per_line = df.groupby('Production Line')['Scrap Rate (%)'].count()",
   "id": "1988d0e94bae3890",
   "outputs": [],
   "execution_count": 150
  },
  {
   "metadata": {
    "ExecuteTime": {
     "end_time": "2025-06-08T15:45:55.509635Z",
     "start_time": "2025-06-08T15:45:55.506102Z"
    }
   },
   "cell_type": "code",
   "source": "failure_count_per_line = df['Pass/Fail'].eq('Fail').groupby(df['Production Line']).sum()",
   "id": "22d0b63e4c895283",
   "outputs": [],
   "execution_count": 151
  },
  {
   "metadata": {
    "ExecuteTime": {
     "end_time": "2025-06-08T15:45:55.549107Z",
     "start_time": "2025-06-08T15:45:55.546350Z"
    }
   },
   "cell_type": "code",
   "source": [
    "summary = pd.DataFrame(\n",
    "    {\n",
    "        'Avg. Weight per Line (g)': average_weight_per_line,\n",
    "        'Total Scrap per Line': scrap_count_per_line,\n",
    "        'Failure Count per Line': failure_count_per_line\n",
    "    }\n",
    ")"
   ],
   "id": "e248ff8cdd6e428",
   "outputs": [],
   "execution_count": 152
  },
  {
   "metadata": {
    "ExecuteTime": {
     "end_time": "2025-06-08T15:45:55.594189Z",
     "start_time": "2025-06-08T15:45:55.588783Z"
    }
   },
   "cell_type": "code",
   "source": "summary",
   "id": "829342e778043a29",
   "outputs": [
    {
     "data": {
      "text/plain": [
       "                 Avg. Weight per Line (g)  Total Scrap per Line  \\\n",
       "Production Line                                                   \n",
       "Line 1                            1006.52                    90   \n",
       "Line 2                            1000.88                    89   \n",
       "Line 3                            1003.11                    90   \n",
       "Line 4                            1009.98                    88   \n",
       "Line 5                             995.05                    99   \n",
       "Line 6                             994.20                    84   \n",
       "\n",
       "                 Failure Count per Line  \n",
       "Production Line                          \n",
       "Line 1                                7  \n",
       "Line 2                                9  \n",
       "Line 3                               12  \n",
       "Line 4                               13  \n",
       "Line 5                                9  \n",
       "Line 6                               11  "
      ],
      "text/html": [
       "<div>\n",
       "<style scoped>\n",
       "    .dataframe tbody tr th:only-of-type {\n",
       "        vertical-align: middle;\n",
       "    }\n",
       "\n",
       "    .dataframe tbody tr th {\n",
       "        vertical-align: top;\n",
       "    }\n",
       "\n",
       "    .dataframe thead th {\n",
       "        text-align: right;\n",
       "    }\n",
       "</style>\n",
       "<table border=\"1\" class=\"dataframe\">\n",
       "  <thead>\n",
       "    <tr style=\"text-align: right;\">\n",
       "      <th></th>\n",
       "      <th>Avg. Weight per Line (g)</th>\n",
       "      <th>Total Scrap per Line</th>\n",
       "      <th>Failure Count per Line</th>\n",
       "    </tr>\n",
       "    <tr>\n",
       "      <th>Production Line</th>\n",
       "      <th></th>\n",
       "      <th></th>\n",
       "      <th></th>\n",
       "    </tr>\n",
       "  </thead>\n",
       "  <tbody>\n",
       "    <tr>\n",
       "      <th>Line 1</th>\n",
       "      <td>1006.52</td>\n",
       "      <td>90</td>\n",
       "      <td>7</td>\n",
       "    </tr>\n",
       "    <tr>\n",
       "      <th>Line 2</th>\n",
       "      <td>1000.88</td>\n",
       "      <td>89</td>\n",
       "      <td>9</td>\n",
       "    </tr>\n",
       "    <tr>\n",
       "      <th>Line 3</th>\n",
       "      <td>1003.11</td>\n",
       "      <td>90</td>\n",
       "      <td>12</td>\n",
       "    </tr>\n",
       "    <tr>\n",
       "      <th>Line 4</th>\n",
       "      <td>1009.98</td>\n",
       "      <td>88</td>\n",
       "      <td>13</td>\n",
       "    </tr>\n",
       "    <tr>\n",
       "      <th>Line 5</th>\n",
       "      <td>995.05</td>\n",
       "      <td>99</td>\n",
       "      <td>9</td>\n",
       "    </tr>\n",
       "    <tr>\n",
       "      <th>Line 6</th>\n",
       "      <td>994.20</td>\n",
       "      <td>84</td>\n",
       "      <td>11</td>\n",
       "    </tr>\n",
       "  </tbody>\n",
       "</table>\n",
       "</div>"
      ]
     },
     "execution_count": 153,
     "metadata": {},
     "output_type": "execute_result"
    }
   ],
   "execution_count": 153
  },
  {
   "metadata": {
    "ExecuteTime": {
     "end_time": "2025-06-08T15:45:55.609643Z",
     "start_time": "2025-06-08T15:45:55.608009Z"
    }
   },
   "cell_type": "code",
   "source": "",
   "id": "5c9893e90a589b59",
   "outputs": [],
   "execution_count": 153
  }
 ],
 "metadata": {
  "kernelspec": {
   "display_name": "Python 3",
   "language": "python",
   "name": "python3"
  },
  "language_info": {
   "codemirror_mode": {
    "name": "ipython",
    "version": 2
   },
   "file_extension": ".py",
   "mimetype": "text/x-python",
   "name": "python",
   "nbconvert_exporter": "python",
   "pygments_lexer": "ipython2",
   "version": "2.7.6"
  }
 },
 "nbformat": 4,
 "nbformat_minor": 5
}
