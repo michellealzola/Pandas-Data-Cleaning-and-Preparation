{
 "cells": [
  {
   "metadata": {},
   "cell_type": "markdown",
   "source": [
    "### **Problem 5: A/B Testing QA Improvements**\n",
    "\n",
    "The QA team introduced a new visual inspection method. You’ve been asked to simulate and test its impact.\n",
    "\n",
    "**Your tasks:**\n",
    "\n",
    "1. Randomly assign 20% of batches to group ‘A’ and the rest to group ‘B’.\n",
    "2. Compare pass/fail rate between the two groups.\n",
    "3. Normalize scrap rates within each group using z-score.\n",
    "4. Flag ‘A’ group batches that failed despite low scrap (z < 0).\n",
    "5. Calculate median scrap per group and test if ‘A’ performed better overall.\n",
    "6. Plot scrap distributions (boxplot or histogram) for A vs B.\n",
    "7. Summarize findings in a 3-line interpretation.\n",
    "\n",
    "*Hint: Use `sample(frac=0.2)` and `.isin()` for assignment.*"
   ],
   "id": "b1393f4f5187d6b3"
  },
  {
   "metadata": {
    "ExecuteTime": {
     "end_time": "2025-06-08T20:52:53.304633Z",
     "start_time": "2025-06-08T20:52:53.301493Z"
    }
   },
   "cell_type": "code",
   "source": [
    "import pandas as pd\n",
    "import numpy as np\n",
    "import re"
   ],
   "id": "22117a9c840b8a32",
   "outputs": [],
   "execution_count": 352
  },
  {
   "metadata": {
    "ExecuteTime": {
     "end_time": "2025-06-08T20:52:53.396703Z",
     "start_time": "2025-06-08T20:52:53.391502Z"
    }
   },
   "cell_type": "code",
   "source": "data = pd.read_csv('Spool_Manufacturing_Batch_Log.csv')",
   "id": "c9f7d98805189c78",
   "outputs": [],
   "execution_count": 353
  },
  {
   "metadata": {
    "ExecuteTime": {
     "end_time": "2025-06-08T20:52:53.400078Z",
     "start_time": "2025-06-08T20:52:53.397953Z"
    }
   },
   "cell_type": "code",
   "source": "df = pd.DataFrame(data)",
   "id": "ca07b9ec80d53224",
   "outputs": [],
   "execution_count": 354
  },
  {
   "metadata": {
    "ExecuteTime": {
     "end_time": "2025-06-08T20:52:53.425682Z",
     "start_time": "2025-06-08T20:52:53.423514Z"
    }
   },
   "cell_type": "code",
   "source": [
    "# 1. Randomly assign 20% of batches to group ‘A’ and the rest to group ‘B’.\n",
    "np.random.seed(42)"
   ],
   "id": "21b1ece8a610e8d1",
   "outputs": [],
   "execution_count": 355
  },
  {
   "metadata": {
    "ExecuteTime": {
     "end_time": "2025-06-08T20:52:53.469814Z",
     "start_time": "2025-06-08T20:52:53.466461Z"
    }
   },
   "cell_type": "code",
   "source": "df['Batch Group'] = np.where(np.random.rand(len(df)) < 0.2, 'A', 'B')",
   "id": "9305b4b54811754c",
   "outputs": [],
   "execution_count": 356
  },
  {
   "metadata": {
    "ExecuteTime": {
     "end_time": "2025-06-08T20:52:53.504911Z",
     "start_time": "2025-06-08T20:52:53.500405Z"
    }
   },
   "cell_type": "code",
   "source": "df['Batch Group'].value_counts(normalize=True)",
   "id": "492df80dc12c56d",
   "outputs": [
    {
     "data": {
      "text/plain": [
       "Batch Group\n",
       "B    0.777778\n",
       "A    0.222222\n",
       "Name: proportion, dtype: float64"
      ]
     },
     "execution_count": 357,
     "metadata": {},
     "output_type": "execute_result"
    }
   ],
   "execution_count": 357
  },
  {
   "metadata": {
    "ExecuteTime": {
     "end_time": "2025-06-08T20:52:53.525522Z",
     "start_time": "2025-06-08T20:52:53.521597Z"
    }
   },
   "cell_type": "code",
   "source": "df['Batch Group'].value_counts()",
   "id": "3d9e002f6a24c87c",
   "outputs": [
    {
     "data": {
      "text/plain": [
       "Batch Group\n",
       "B    420\n",
       "A    120\n",
       "Name: count, dtype: int64"
      ]
     },
     "execution_count": 358,
     "metadata": {},
     "output_type": "execute_result"
    }
   ],
   "execution_count": 358
  },
  {
   "metadata": {
    "ExecuteTime": {
     "end_time": "2025-06-08T20:52:53.530935Z",
     "start_time": "2025-06-08T20:52:53.526475Z"
    }
   },
   "cell_type": "code",
   "source": [
    "# 2. Compare pass/fail rate between the two groups.\n",
    "pass_fail_per_batch = df.groupby('Batch Group')['Pass/Fail'].value_counts().unstack()"
   ],
   "id": "ddf3d9b393224b27",
   "outputs": [],
   "execution_count": 359
  },
  {
   "metadata": {
    "ExecuteTime": {
     "end_time": "2025-06-08T20:52:53.544625Z",
     "start_time": "2025-06-08T20:52:53.541342Z"
    }
   },
   "cell_type": "code",
   "source": "pass_fail_per_batch['Fail Rate (%)'] = round(pass_fail_per_batch['Fail'] / (pass_fail_per_batch['Fail'] + pass_fail_per_batch['Pass']) * 100, 2)",
   "id": "5cc71e20542dc478",
   "outputs": [],
   "execution_count": 360
  },
  {
   "metadata": {
    "ExecuteTime": {
     "end_time": "2025-06-08T20:52:53.548506Z",
     "start_time": "2025-06-08T20:52:53.545776Z"
    }
   },
   "cell_type": "code",
   "source": "pass_fail_per_batch['Pass Rate (%)'] = round(pass_fail_per_batch['Pass'] / (pass_fail_per_batch['Pass'] + pass_fail_per_batch['Fail']) * 100, 2)",
   "id": "2d176d99ab0b9bba",
   "outputs": [],
   "execution_count": 361
  },
  {
   "metadata": {
    "ExecuteTime": {
     "end_time": "2025-06-08T20:52:53.565047Z",
     "start_time": "2025-06-08T20:52:53.562345Z"
    }
   },
   "cell_type": "code",
   "source": "pass_fail_per_batch = pass_fail_per_batch.rename_axis('Batch Group')",
   "id": "8733bdd469f94eaa",
   "outputs": [],
   "execution_count": 362
  },
  {
   "metadata": {
    "ExecuteTime": {
     "end_time": "2025-06-08T20:52:53.599617Z",
     "start_time": "2025-06-08T20:52:53.593901Z"
    }
   },
   "cell_type": "code",
   "source": "pass_fail_per_batch",
   "id": "550cfec1dc174d92",
   "outputs": [
    {
     "data": {
      "text/plain": [
       "Pass/Fail    Fail  Pass  Fail Rate (%)  Pass Rate (%)\n",
       "Batch Group                                          \n",
       "A              18   102          15.00          85.00\n",
       "B              43   377          10.24          89.76"
      ],
      "text/html": [
       "<div>\n",
       "<style scoped>\n",
       "    .dataframe tbody tr th:only-of-type {\n",
       "        vertical-align: middle;\n",
       "    }\n",
       "\n",
       "    .dataframe tbody tr th {\n",
       "        vertical-align: top;\n",
       "    }\n",
       "\n",
       "    .dataframe thead th {\n",
       "        text-align: right;\n",
       "    }\n",
       "</style>\n",
       "<table border=\"1\" class=\"dataframe\">\n",
       "  <thead>\n",
       "    <tr style=\"text-align: right;\">\n",
       "      <th>Pass/Fail</th>\n",
       "      <th>Fail</th>\n",
       "      <th>Pass</th>\n",
       "      <th>Fail Rate (%)</th>\n",
       "      <th>Pass Rate (%)</th>\n",
       "    </tr>\n",
       "    <tr>\n",
       "      <th>Batch Group</th>\n",
       "      <th></th>\n",
       "      <th></th>\n",
       "      <th></th>\n",
       "      <th></th>\n",
       "    </tr>\n",
       "  </thead>\n",
       "  <tbody>\n",
       "    <tr>\n",
       "      <th>A</th>\n",
       "      <td>18</td>\n",
       "      <td>102</td>\n",
       "      <td>15.00</td>\n",
       "      <td>85.00</td>\n",
       "    </tr>\n",
       "    <tr>\n",
       "      <th>B</th>\n",
       "      <td>43</td>\n",
       "      <td>377</td>\n",
       "      <td>10.24</td>\n",
       "      <td>89.76</td>\n",
       "    </tr>\n",
       "  </tbody>\n",
       "</table>\n",
       "</div>"
      ]
     },
     "execution_count": 363,
     "metadata": {},
     "output_type": "execute_result"
    }
   ],
   "execution_count": 363
  },
  {
   "metadata": {
    "ExecuteTime": {
     "end_time": "2025-06-08T20:52:53.616616Z",
     "start_time": "2025-06-08T20:52:53.613669Z"
    }
   },
   "cell_type": "code",
   "source": [
    "# 3. Normalize scrap rates within each group using z-score.\n",
    "mean_scrap_rates_per_group = round(df.groupby('Batch Group')['Scrap Rate (%)'].mean(), 2)"
   ],
   "id": "8a6c03876c604881",
   "outputs": [],
   "execution_count": 364
  },
  {
   "metadata": {
    "ExecuteTime": {
     "end_time": "2025-06-08T20:52:53.621543Z",
     "start_time": "2025-06-08T20:52:53.618302Z"
    }
   },
   "cell_type": "code",
   "source": "mean_scrap_rates_per_group",
   "id": "eb7b0026cc867951",
   "outputs": [
    {
     "data": {
      "text/plain": [
       "Batch Group\n",
       "A    2.25\n",
       "B    2.11\n",
       "Name: Scrap Rate (%), dtype: float64"
      ]
     },
     "execution_count": 365,
     "metadata": {},
     "output_type": "execute_result"
    }
   ],
   "execution_count": 365
  },
  {
   "metadata": {
    "ExecuteTime": {
     "end_time": "2025-06-08T20:52:53.635656Z",
     "start_time": "2025-06-08T20:52:53.632373Z"
    }
   },
   "cell_type": "code",
   "source": "std_scrap_rates_per_group = round(df.groupby('Batch Group')['Scrap Rate (%)'].std(), 2)",
   "id": "9fcb77a1fde083f5",
   "outputs": [],
   "execution_count": 366
  },
  {
   "metadata": {
    "ExecuteTime": {
     "end_time": "2025-06-08T20:52:53.661727Z",
     "start_time": "2025-06-08T20:52:53.657548Z"
    }
   },
   "cell_type": "code",
   "source": "std_scrap_rates_per_group",
   "id": "4988bbed469ec742",
   "outputs": [
    {
     "data": {
      "text/plain": [
       "Batch Group\n",
       "A    1.44\n",
       "B    1.32\n",
       "Name: Scrap Rate (%), dtype: float64"
      ]
     },
     "execution_count": 367,
     "metadata": {},
     "output_type": "execute_result"
    }
   ],
   "execution_count": 367
  },
  {
   "metadata": {
    "ExecuteTime": {
     "end_time": "2025-06-08T20:52:53.675908Z",
     "start_time": "2025-06-08T20:52:53.673196Z"
    }
   },
   "cell_type": "code",
   "source": "batch_qty = df.groupby('Batch Group').size()",
   "id": "3757ee1cf78c9045",
   "outputs": [],
   "execution_count": 368
  },
  {
   "metadata": {
    "ExecuteTime": {
     "end_time": "2025-06-08T20:52:53.741379Z",
     "start_time": "2025-06-08T20:52:53.738069Z"
    }
   },
   "cell_type": "code",
   "source": "batch_qty",
   "id": "d29b7f5869f8da02",
   "outputs": [
    {
     "data": {
      "text/plain": [
       "Batch Group\n",
       "A    120\n",
       "B    420\n",
       "dtype: int64"
      ]
     },
     "execution_count": 369,
     "metadata": {},
     "output_type": "execute_result"
    }
   ],
   "execution_count": 369
  },
  {
   "metadata": {
    "ExecuteTime": {
     "end_time": "2025-06-08T20:52:53.759227Z",
     "start_time": "2025-06-08T20:52:53.756292Z"
    }
   },
   "cell_type": "code",
   "source": "scrap_rates_per_group = df.groupby('Batch Group')['Scrap Rate (%)'].sum() / batch_qty",
   "id": "799246be4219d6b3",
   "outputs": [],
   "execution_count": 370
  },
  {
   "metadata": {
    "ExecuteTime": {
     "end_time": "2025-06-08T20:52:53.785325Z",
     "start_time": "2025-06-08T20:52:53.781229Z"
    }
   },
   "cell_type": "code",
   "source": "scrap_rates_per_group",
   "id": "8d6e0d66078e0ae8",
   "outputs": [
    {
     "data": {
      "text/plain": [
       "Batch Group\n",
       "A    2.246083\n",
       "B    2.109762\n",
       "dtype: float64"
      ]
     },
     "execution_count": 371,
     "metadata": {},
     "output_type": "execute_result"
    }
   ],
   "execution_count": 371
  },
  {
   "metadata": {
    "ExecuteTime": {
     "end_time": "2025-06-08T20:52:53.809027Z",
     "start_time": "2025-06-08T20:52:53.806344Z"
    }
   },
   "cell_type": "code",
   "source": [
    "summary = pd.DataFrame(\n",
    "    {\n",
    "        'Batch Group': df['Batch Group'],\n",
    "        'Scrap Rate (%)': df['Scrap Rate (%)'],\n",
    "    }\n",
    ")"
   ],
   "id": "3af5aba3731e096e",
   "outputs": [],
   "execution_count": 372
  },
  {
   "metadata": {
    "ExecuteTime": {
     "end_time": "2025-06-08T20:52:53.815579Z",
     "start_time": "2025-06-08T20:52:53.810223Z"
    }
   },
   "cell_type": "code",
   "source": "summary",
   "id": "1c2b551e264251db",
   "outputs": [
    {
     "data": {
      "text/plain": [
       "    Batch Group  Scrap Rate (%)\n",
       "0             B            1.79\n",
       "1             B            4.28\n",
       "2             B            1.65\n",
       "3             B            3.15\n",
       "4             A            2.81\n",
       "..          ...             ...\n",
       "535           B            2.72\n",
       "536           B            0.08\n",
       "537           B            1.26\n",
       "538           B            1.36\n",
       "539           A            3.28\n",
       "\n",
       "[540 rows x 2 columns]"
      ],
      "text/html": [
       "<div>\n",
       "<style scoped>\n",
       "    .dataframe tbody tr th:only-of-type {\n",
       "        vertical-align: middle;\n",
       "    }\n",
       "\n",
       "    .dataframe tbody tr th {\n",
       "        vertical-align: top;\n",
       "    }\n",
       "\n",
       "    .dataframe thead th {\n",
       "        text-align: right;\n",
       "    }\n",
       "</style>\n",
       "<table border=\"1\" class=\"dataframe\">\n",
       "  <thead>\n",
       "    <tr style=\"text-align: right;\">\n",
       "      <th></th>\n",
       "      <th>Batch Group</th>\n",
       "      <th>Scrap Rate (%)</th>\n",
       "    </tr>\n",
       "  </thead>\n",
       "  <tbody>\n",
       "    <tr>\n",
       "      <th>0</th>\n",
       "      <td>B</td>\n",
       "      <td>1.79</td>\n",
       "    </tr>\n",
       "    <tr>\n",
       "      <th>1</th>\n",
       "      <td>B</td>\n",
       "      <td>4.28</td>\n",
       "    </tr>\n",
       "    <tr>\n",
       "      <th>2</th>\n",
       "      <td>B</td>\n",
       "      <td>1.65</td>\n",
       "    </tr>\n",
       "    <tr>\n",
       "      <th>3</th>\n",
       "      <td>B</td>\n",
       "      <td>3.15</td>\n",
       "    </tr>\n",
       "    <tr>\n",
       "      <th>4</th>\n",
       "      <td>A</td>\n",
       "      <td>2.81</td>\n",
       "    </tr>\n",
       "    <tr>\n",
       "      <th>...</th>\n",
       "      <td>...</td>\n",
       "      <td>...</td>\n",
       "    </tr>\n",
       "    <tr>\n",
       "      <th>535</th>\n",
       "      <td>B</td>\n",
       "      <td>2.72</td>\n",
       "    </tr>\n",
       "    <tr>\n",
       "      <th>536</th>\n",
       "      <td>B</td>\n",
       "      <td>0.08</td>\n",
       "    </tr>\n",
       "    <tr>\n",
       "      <th>537</th>\n",
       "      <td>B</td>\n",
       "      <td>1.26</td>\n",
       "    </tr>\n",
       "    <tr>\n",
       "      <th>538</th>\n",
       "      <td>B</td>\n",
       "      <td>1.36</td>\n",
       "    </tr>\n",
       "    <tr>\n",
       "      <th>539</th>\n",
       "      <td>A</td>\n",
       "      <td>3.28</td>\n",
       "    </tr>\n",
       "  </tbody>\n",
       "</table>\n",
       "<p>540 rows × 2 columns</p>\n",
       "</div>"
      ]
     },
     "execution_count": 373,
     "metadata": {},
     "output_type": "execute_result"
    }
   ],
   "execution_count": 373
  },
  {
   "metadata": {
    "ExecuteTime": {
     "end_time": "2025-06-08T20:52:53.830052Z",
     "start_time": "2025-06-08T20:52:53.827007Z"
    }
   },
   "cell_type": "code",
   "source": "summary['Mean Scrap Rate (%)'] = summary['Batch Group'].map(mean_scrap_rates_per_group)",
   "id": "49c16a6c479190e3",
   "outputs": [],
   "execution_count": 374
  },
  {
   "metadata": {
    "ExecuteTime": {
     "end_time": "2025-06-08T20:52:53.862148Z",
     "start_time": "2025-06-08T20:52:53.859503Z"
    }
   },
   "cell_type": "code",
   "source": "summary['Std Scrape Rate (%)'] = summary['Batch Group'].map(std_scrap_rates_per_group)",
   "id": "62bf1983cd7ff1d1",
   "outputs": [],
   "execution_count": 375
  },
  {
   "metadata": {
    "ExecuteTime": {
     "end_time": "2025-06-08T20:52:53.890368Z",
     "start_time": "2025-06-08T20:52:53.887069Z"
    }
   },
   "cell_type": "code",
   "source": "summary['Normalized Scrap Rate'] = round((summary['Scrap Rate (%)'] - summary['Mean Scrap Rate (%)']) / summary['Std Scrape Rate (%)'], 2)",
   "id": "f27a96b3be2618fb",
   "outputs": [],
   "execution_count": 376
  },
  {
   "metadata": {
    "ExecuteTime": {
     "end_time": "2025-06-08T20:52:53.909621Z",
     "start_time": "2025-06-08T20:52:53.902487Z"
    }
   },
   "cell_type": "code",
   "source": "summary",
   "id": "f188ed60592f0381",
   "outputs": [
    {
     "data": {
      "text/plain": [
       "    Batch Group  Scrap Rate (%)  Mean Scrap Rate (%)  Std Scrape Rate (%)  \\\n",
       "0             B            1.79                 2.11                 1.32   \n",
       "1             B            4.28                 2.11                 1.32   \n",
       "2             B            1.65                 2.11                 1.32   \n",
       "3             B            3.15                 2.11                 1.32   \n",
       "4             A            2.81                 2.25                 1.44   \n",
       "..          ...             ...                  ...                  ...   \n",
       "535           B            2.72                 2.11                 1.32   \n",
       "536           B            0.08                 2.11                 1.32   \n",
       "537           B            1.26                 2.11                 1.32   \n",
       "538           B            1.36                 2.11                 1.32   \n",
       "539           A            3.28                 2.25                 1.44   \n",
       "\n",
       "     Normalized Scrap Rate  \n",
       "0                    -0.24  \n",
       "1                     1.64  \n",
       "2                    -0.35  \n",
       "3                     0.79  \n",
       "4                     0.39  \n",
       "..                     ...  \n",
       "535                   0.46  \n",
       "536                  -1.54  \n",
       "537                  -0.64  \n",
       "538                  -0.57  \n",
       "539                   0.72  \n",
       "\n",
       "[540 rows x 5 columns]"
      ],
      "text/html": [
       "<div>\n",
       "<style scoped>\n",
       "    .dataframe tbody tr th:only-of-type {\n",
       "        vertical-align: middle;\n",
       "    }\n",
       "\n",
       "    .dataframe tbody tr th {\n",
       "        vertical-align: top;\n",
       "    }\n",
       "\n",
       "    .dataframe thead th {\n",
       "        text-align: right;\n",
       "    }\n",
       "</style>\n",
       "<table border=\"1\" class=\"dataframe\">\n",
       "  <thead>\n",
       "    <tr style=\"text-align: right;\">\n",
       "      <th></th>\n",
       "      <th>Batch Group</th>\n",
       "      <th>Scrap Rate (%)</th>\n",
       "      <th>Mean Scrap Rate (%)</th>\n",
       "      <th>Std Scrape Rate (%)</th>\n",
       "      <th>Normalized Scrap Rate</th>\n",
       "    </tr>\n",
       "  </thead>\n",
       "  <tbody>\n",
       "    <tr>\n",
       "      <th>0</th>\n",
       "      <td>B</td>\n",
       "      <td>1.79</td>\n",
       "      <td>2.11</td>\n",
       "      <td>1.32</td>\n",
       "      <td>-0.24</td>\n",
       "    </tr>\n",
       "    <tr>\n",
       "      <th>1</th>\n",
       "      <td>B</td>\n",
       "      <td>4.28</td>\n",
       "      <td>2.11</td>\n",
       "      <td>1.32</td>\n",
       "      <td>1.64</td>\n",
       "    </tr>\n",
       "    <tr>\n",
       "      <th>2</th>\n",
       "      <td>B</td>\n",
       "      <td>1.65</td>\n",
       "      <td>2.11</td>\n",
       "      <td>1.32</td>\n",
       "      <td>-0.35</td>\n",
       "    </tr>\n",
       "    <tr>\n",
       "      <th>3</th>\n",
       "      <td>B</td>\n",
       "      <td>3.15</td>\n",
       "      <td>2.11</td>\n",
       "      <td>1.32</td>\n",
       "      <td>0.79</td>\n",
       "    </tr>\n",
       "    <tr>\n",
       "      <th>4</th>\n",
       "      <td>A</td>\n",
       "      <td>2.81</td>\n",
       "      <td>2.25</td>\n",
       "      <td>1.44</td>\n",
       "      <td>0.39</td>\n",
       "    </tr>\n",
       "    <tr>\n",
       "      <th>...</th>\n",
       "      <td>...</td>\n",
       "      <td>...</td>\n",
       "      <td>...</td>\n",
       "      <td>...</td>\n",
       "      <td>...</td>\n",
       "    </tr>\n",
       "    <tr>\n",
       "      <th>535</th>\n",
       "      <td>B</td>\n",
       "      <td>2.72</td>\n",
       "      <td>2.11</td>\n",
       "      <td>1.32</td>\n",
       "      <td>0.46</td>\n",
       "    </tr>\n",
       "    <tr>\n",
       "      <th>536</th>\n",
       "      <td>B</td>\n",
       "      <td>0.08</td>\n",
       "      <td>2.11</td>\n",
       "      <td>1.32</td>\n",
       "      <td>-1.54</td>\n",
       "    </tr>\n",
       "    <tr>\n",
       "      <th>537</th>\n",
       "      <td>B</td>\n",
       "      <td>1.26</td>\n",
       "      <td>2.11</td>\n",
       "      <td>1.32</td>\n",
       "      <td>-0.64</td>\n",
       "    </tr>\n",
       "    <tr>\n",
       "      <th>538</th>\n",
       "      <td>B</td>\n",
       "      <td>1.36</td>\n",
       "      <td>2.11</td>\n",
       "      <td>1.32</td>\n",
       "      <td>-0.57</td>\n",
       "    </tr>\n",
       "    <tr>\n",
       "      <th>539</th>\n",
       "      <td>A</td>\n",
       "      <td>3.28</td>\n",
       "      <td>2.25</td>\n",
       "      <td>1.44</td>\n",
       "      <td>0.72</td>\n",
       "    </tr>\n",
       "  </tbody>\n",
       "</table>\n",
       "<p>540 rows × 5 columns</p>\n",
       "</div>"
      ]
     },
     "execution_count": 377,
     "metadata": {},
     "output_type": "execute_result"
    }
   ],
   "execution_count": 377
  },
  {
   "metadata": {
    "ExecuteTime": {
     "end_time": "2025-06-08T20:55:11.302141Z",
     "start_time": "2025-06-08T20:55:11.298763Z"
    }
   },
   "cell_type": "code",
   "source": [
    "# 4. Flag ‘A’ group batches that failed despite low scrap (z < 0)\n",
    "summary['Failed A'] = (summary['Batch Group'] == 'A') & (summary['Normalized Scrap Rate'] < 0)"
   ],
   "id": "837e718df0732afa",
   "outputs": [],
   "execution_count": 385
  },
  {
   "metadata": {
    "ExecuteTime": {
     "end_time": "2025-06-08T20:56:07.596517Z",
     "start_time": "2025-06-08T20:56:07.588916Z"
    }
   },
   "cell_type": "code",
   "source": "summary[summary['Failed A'] == True]",
   "id": "551eba6e1f942e08",
   "outputs": [
    {
     "data": {
      "text/plain": [
       "    Batch Group  Scrap Rate (%)  Mean Scrap Rate (%)  Std Scrape Rate (%)  \\\n",
       "5             A            1.30                 2.25                 1.44   \n",
       "6             A            0.87                 2.25                 1.44   \n",
       "10            A            1.66                 2.25                 1.44   \n",
       "14            A            1.56                 2.25                 1.44   \n",
       "21            A            1.55                 2.25                 1.44   \n",
       "..          ...             ...                  ...                  ...   \n",
       "472           A            0.39                 2.25                 1.44   \n",
       "486           A            1.02                 2.25                 1.44   \n",
       "497           A            1.58                 2.25                 1.44   \n",
       "514           A            0.47                 2.25                 1.44   \n",
       "515           A            0.50                 2.25                 1.44   \n",
       "\n",
       "     Normalized Scrap Rate  Failed A  \n",
       "5                    -0.66      True  \n",
       "6                    -0.96      True  \n",
       "10                   -0.41      True  \n",
       "14                   -0.48      True  \n",
       "21                   -0.49      True  \n",
       "..                     ...       ...  \n",
       "472                  -1.29      True  \n",
       "486                  -0.85      True  \n",
       "497                  -0.47      True  \n",
       "514                  -1.24      True  \n",
       "515                  -1.22      True  \n",
       "\n",
       "[63 rows x 6 columns]"
      ],
      "text/html": [
       "<div>\n",
       "<style scoped>\n",
       "    .dataframe tbody tr th:only-of-type {\n",
       "        vertical-align: middle;\n",
       "    }\n",
       "\n",
       "    .dataframe tbody tr th {\n",
       "        vertical-align: top;\n",
       "    }\n",
       "\n",
       "    .dataframe thead th {\n",
       "        text-align: right;\n",
       "    }\n",
       "</style>\n",
       "<table border=\"1\" class=\"dataframe\">\n",
       "  <thead>\n",
       "    <tr style=\"text-align: right;\">\n",
       "      <th></th>\n",
       "      <th>Batch Group</th>\n",
       "      <th>Scrap Rate (%)</th>\n",
       "      <th>Mean Scrap Rate (%)</th>\n",
       "      <th>Std Scrape Rate (%)</th>\n",
       "      <th>Normalized Scrap Rate</th>\n",
       "      <th>Failed A</th>\n",
       "    </tr>\n",
       "  </thead>\n",
       "  <tbody>\n",
       "    <tr>\n",
       "      <th>5</th>\n",
       "      <td>A</td>\n",
       "      <td>1.30</td>\n",
       "      <td>2.25</td>\n",
       "      <td>1.44</td>\n",
       "      <td>-0.66</td>\n",
       "      <td>True</td>\n",
       "    </tr>\n",
       "    <tr>\n",
       "      <th>6</th>\n",
       "      <td>A</td>\n",
       "      <td>0.87</td>\n",
       "      <td>2.25</td>\n",
       "      <td>1.44</td>\n",
       "      <td>-0.96</td>\n",
       "      <td>True</td>\n",
       "    </tr>\n",
       "    <tr>\n",
       "      <th>10</th>\n",
       "      <td>A</td>\n",
       "      <td>1.66</td>\n",
       "      <td>2.25</td>\n",
       "      <td>1.44</td>\n",
       "      <td>-0.41</td>\n",
       "      <td>True</td>\n",
       "    </tr>\n",
       "    <tr>\n",
       "      <th>14</th>\n",
       "      <td>A</td>\n",
       "      <td>1.56</td>\n",
       "      <td>2.25</td>\n",
       "      <td>1.44</td>\n",
       "      <td>-0.48</td>\n",
       "      <td>True</td>\n",
       "    </tr>\n",
       "    <tr>\n",
       "      <th>21</th>\n",
       "      <td>A</td>\n",
       "      <td>1.55</td>\n",
       "      <td>2.25</td>\n",
       "      <td>1.44</td>\n",
       "      <td>-0.49</td>\n",
       "      <td>True</td>\n",
       "    </tr>\n",
       "    <tr>\n",
       "      <th>...</th>\n",
       "      <td>...</td>\n",
       "      <td>...</td>\n",
       "      <td>...</td>\n",
       "      <td>...</td>\n",
       "      <td>...</td>\n",
       "      <td>...</td>\n",
       "    </tr>\n",
       "    <tr>\n",
       "      <th>472</th>\n",
       "      <td>A</td>\n",
       "      <td>0.39</td>\n",
       "      <td>2.25</td>\n",
       "      <td>1.44</td>\n",
       "      <td>-1.29</td>\n",
       "      <td>True</td>\n",
       "    </tr>\n",
       "    <tr>\n",
       "      <th>486</th>\n",
       "      <td>A</td>\n",
       "      <td>1.02</td>\n",
       "      <td>2.25</td>\n",
       "      <td>1.44</td>\n",
       "      <td>-0.85</td>\n",
       "      <td>True</td>\n",
       "    </tr>\n",
       "    <tr>\n",
       "      <th>497</th>\n",
       "      <td>A</td>\n",
       "      <td>1.58</td>\n",
       "      <td>2.25</td>\n",
       "      <td>1.44</td>\n",
       "      <td>-0.47</td>\n",
       "      <td>True</td>\n",
       "    </tr>\n",
       "    <tr>\n",
       "      <th>514</th>\n",
       "      <td>A</td>\n",
       "      <td>0.47</td>\n",
       "      <td>2.25</td>\n",
       "      <td>1.44</td>\n",
       "      <td>-1.24</td>\n",
       "      <td>True</td>\n",
       "    </tr>\n",
       "    <tr>\n",
       "      <th>515</th>\n",
       "      <td>A</td>\n",
       "      <td>0.50</td>\n",
       "      <td>2.25</td>\n",
       "      <td>1.44</td>\n",
       "      <td>-1.22</td>\n",
       "      <td>True</td>\n",
       "    </tr>\n",
       "  </tbody>\n",
       "</table>\n",
       "<p>63 rows × 6 columns</p>\n",
       "</div>"
      ]
     },
     "execution_count": 387,
     "metadata": {},
     "output_type": "execute_result"
    }
   ],
   "execution_count": 387
  },
  {
   "metadata": {
    "ExecuteTime": {
     "end_time": "2025-06-08T20:59:17.034255Z",
     "start_time": "2025-06-08T20:59:17.030699Z"
    }
   },
   "cell_type": "code",
   "source": [
    "# 5. Calculate median scrap per group and test if ‘A’ performed better overall.\n",
    "median_scrap_per_group = summary.groupby('Batch Group')['Scrap Rate (%)'].median()"
   ],
   "id": "94bf0f9f673b5ee7",
   "outputs": [],
   "execution_count": 390
  },
  {
   "metadata": {
    "ExecuteTime": {
     "end_time": "2025-06-08T21:04:31.713050Z",
     "start_time": "2025-06-08T21:04:31.708803Z"
    }
   },
   "cell_type": "code",
   "source": "median_scrap_per_group.idxmin()",
   "id": "8178fce36622175f",
   "outputs": [
    {
     "data": {
      "text/plain": [
       "'B'"
      ]
     },
     "execution_count": 401,
     "metadata": {},
     "output_type": "execute_result"
    }
   ],
   "execution_count": 401
  },
  {
   "metadata": {
    "ExecuteTime": {
     "end_time": "2025-06-08T21:04:32.432469Z",
     "start_time": "2025-06-08T21:04:32.428797Z"
    }
   },
   "cell_type": "code",
   "source": "median_scrap_per_group",
   "id": "b9a571ab5b9bc6c6",
   "outputs": [
    {
     "data": {
      "text/plain": [
       "Batch Group\n",
       "A    2.175\n",
       "B    1.990\n",
       "Name: Scrap Rate (%), dtype: float64"
      ]
     },
     "execution_count": 402,
     "metadata": {},
     "output_type": "execute_result"
    }
   ],
   "execution_count": 402
  },
  {
   "metadata": {
    "ExecuteTime": {
     "end_time": "2025-06-08T21:09:07.220083Z",
     "start_time": "2025-06-08T21:09:07.133577Z"
    }
   },
   "cell_type": "code",
   "source": [
    "# 6. Plot scrap distributions (boxplot or histogram) for A vs B.\n",
    "df[df['Batch Group'] == 'A']['Scrap Rate (%)'].plot(\n",
    "    kind='hist',\n",
    "    bins=20,\n",
    "    alpha=0.6,\n",
    "    label='Group A',\n",
    "    title='Histogram of Scrap Rate (%) by Batch Group',\n",
    "    legend=True\n",
    ")"
   ],
   "id": "b0ccd339666d805a",
   "outputs": [
    {
     "data": {
      "text/plain": [
       "<Axes: title={'center': 'Histogram of Scrap Rate (%) by Batch Group'}, ylabel='Frequency'>"
      ]
     },
     "execution_count": 409,
     "metadata": {},
     "output_type": "execute_result"
    },
    {
     "data": {
      "text/plain": [
       "<Figure size 640x480 with 1 Axes>"
      ],
      "image/png": "[encoded data removed]"
     },
     "metadata": {},
     "output_type": "display_data"
    }
   ],
   "execution_count": 409
  },
  {
   "metadata": {
    "ExecuteTime": {
     "end_time": "2025-06-08T21:09:32.146107Z",
     "start_time": "2025-06-08T21:09:32.040086Z"
    }
   },
   "cell_type": "code",
   "source": [
    "df[df['Batch Group'] == 'B']['Scrap Rate (%)'].plot(\n",
    "    kind='hist',\n",
    "    bins=20,\n",
    "    alpha=0.6,\n",
    "    label='Group B',\n",
    "    legend=True\n",
    ")"
   ],
   "id": "96297d0ae40d487a",
   "outputs": [
    {
     "data": {
      "text/plain": [
       "<Axes: ylabel='Frequency'>"
      ]
     },
     "execution_count": 410,
     "metadata": {},
     "output_type": "execute_result"
    },
    {
     "data": {
      "text/plain": [
       "<Figure size 640x480 with 1 Axes>"
      ],
      "image/png": "[encoded data removed]"
     },
     "metadata": {},
     "output_type": "display_data"
    }
   ],
   "execution_count": 410
  },
  {
   "metadata": {
    "ExecuteTime": {
     "end_time": "2025-06-08T21:11:04.548509Z",
     "start_time": "2025-06-08T21:11:04.545793Z"
    }
   },
   "cell_type": "code",
   "source": "# 7. Summarize findings in a 3-line interpretation.",
   "id": "a720889a9fe9b6cb",
   "outputs": [],
   "execution_count": 411
  },
  {
   "metadata": {},
   "cell_type": "markdown",
   "source": [
    "#### Interpretation Summary\n",
    "Group B consistently showed a lower average and median scrap rate compared to Group A, indicating better production quality.\n",
    "\n",
    "63 batches in Group A failed despite having a below-average (z < 0) scrap rate, suggesting non-scrap-related failure causes.\n",
    "\n",
    "Group A's higher scrap variability and abnormal failure patterns highlight the need for further QA investigation into process or inspection issues."
   ],
   "id": "5061dbaea7ce4705"
  },
  {
   "metadata": {},
   "cell_type": "code",
   "outputs": [],
   "execution_count": null,
   "source": "",
   "id": "5beddf127cc4c7d"
  }
 ],
 "metadata": {
  "kernelspec": {
   "display_name": "Python 3",
   "language": "python",
   "name": "python3"
  },
  "language_info": {
   "codemirror_mode": {
    "name": "ipython",
    "version": 2
   },
   "file_extension": ".py",
   "mimetype": "text/x-python",
   "name": "python",
   "nbconvert_exporter": "python",
   "pygments_lexer": "ipython2",
   "version": "2.7.6"
  }
 },
 "nbformat": 4,
 "nbformat_minor": 5
}
