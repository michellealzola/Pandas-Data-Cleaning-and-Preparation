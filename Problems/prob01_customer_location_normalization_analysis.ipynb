{
 "cells": [
  {
   "metadata": {},
   "cell_type": "markdown",
   "source": [
    "### **Problem 1: Customer Location Normalization and Analysis**\n",
    "\n",
    "You have been asked to standardize customer addresses and create a mailing list for a regional campaign. Your goals are:\n",
    "\n",
    "* Extract house number, street name, city, and zip code from the full customer address.\n",
    "* Identify duplicate customers based on full name, email, and zip code.\n",
    "* Create a clean contact list without duplicates.\n",
    "* Standardize zip codes to 5-digit strings and ensure all contain only digits.\n",
    "* Find and report the top 3 cities with the most customers.\n",
    "* Detect and remove any malformed or incomplete email addresses.\n",
    "\n",
    "*Hint: You may need to clean zip codes using string operations and validate emails using pattern rules.*"
   ],
   "id": "b4dc66001be4ce48"
  },
  {
   "metadata": {
    "ExecuteTime": {
     "end_time": "2025-06-05T22:43:30.865570Z",
     "start_time": "2025-06-05T22:43:30.863172Z"
    }
   },
   "cell_type": "code",
   "source": [
    "import pandas as pd\n",
    "import numpy as np\n",
    "import re"
   ],
   "id": "3ab8ac5f4d7831eb",
   "outputs": [],
   "execution_count": 36
  },
  {
   "metadata": {
    "ExecuteTime": {
     "end_time": "2025-06-05T22:43:30.941210Z",
     "start_time": "2025-06-05T22:43:30.935405Z"
    }
   },
   "cell_type": "code",
   "source": "data = pd.read_csv('fila_heat_filament_sales_april2025.csv')",
   "id": "95e73babe3eb45c",
   "outputs": [],
   "execution_count": 37
  },
  {
   "metadata": {
    "ExecuteTime": {
     "end_time": "2025-06-05T22:43:30.944472Z",
     "start_time": "2025-06-05T22:43:30.942255Z"
    }
   },
   "cell_type": "code",
   "source": "df = pd.DataFrame(data)",
   "id": "b137a7156cb3a14f",
   "outputs": [],
   "execution_count": 38
  },
  {
   "metadata": {
    "ExecuteTime": {
     "end_time": "2025-06-05T22:43:30.953530Z",
     "start_time": "2025-06-05T22:43:30.945792Z"
    }
   },
   "cell_type": "code",
   "source": "df.head(3)",
   "id": "1cfaee8ad67a080d",
   "outputs": [
    {
     "data": {
      "text/plain": [
       "  Date Purchased                        Receipt Number     Customer Name  \\\n",
       "0     2025-04-01  1ff49b78-8946-4e85-b59c-de66bacfb3d0  Danielle Johnson   \n",
       "1     2025-04-01  434308bc-89fa-4a68-8fb5-d27bbeb79919      Tracie Wyatt   \n",
       "2     2025-04-01  52fbe43b-9954-4eb4-8025-7ad1eb2263dd        Eric Moore   \n",
       "\n",
       "                                  Customer Address           Phone Number  \\\n",
       "0  3321 Brittany Bypass, North Jefferyhaven, 79408             8386379402   \n",
       "1        64752 Kelly Skyway, Jacquelineland, 80341   +1-283-276-4835x0305   \n",
       "2             691 James Mountain, Tashatown, 89667  001-184-514-6270x4828   \n",
       "\n",
       "                          Email                              Store Location  \\\n",
       "0  danielle.johnson@hotmail.com  5423 Garcia Light, West Melanieview, 06196   \n",
       "1        tracie.wyatt@yahoo.com         1395 Diana Locks, Thomasberg, 32826   \n",
       "2          eric.moore@gmail.com        489 Eric Track, New Stephanie, 70015   \n",
       "\n",
       "            Product Name Product Code      Bar Code Material Name   Color  \\\n",
       "0  Standard PLA Filament      PLA-792  6.184960e+12           PLA    Blue   \n",
       "1  Flexible TPU Filament      TPU-338  9.696530e+12           TPU  Purple   \n",
       "2  Flexible TPU Filament      TPU-325  7.015430e+12           TPU  Purple   \n",
       "\n",
       "   Weight       Supplier Lot Number  Price  Quantity    Tax  Total Price  \n",
       "0     500    3DFilaments      L5012  26.69         1   1.87        28.56  \n",
       "1     500  ProtoPolymers      L1520  20.88         2   2.92        44.68  \n",
       "2    1000       PrintPro      L4257  41.47         4  11.61       177.49  "
      ],
      "text/html": [
       "<div>\n",
       "<style scoped>\n",
       "    .dataframe tbody tr th:only-of-type {\n",
       "        vertical-align: middle;\n",
       "    }\n",
       "\n",
       "    .dataframe tbody tr th {\n",
       "        vertical-align: top;\n",
       "    }\n",
       "\n",
       "    .dataframe thead th {\n",
       "        text-align: right;\n",
       "    }\n",
       "</style>\n",
       "<table border=\"1\" class=\"dataframe\">\n",
       "  <thead>\n",
       "    <tr style=\"text-align: right;\">\n",
       "      <th></th>\n",
       "      <th>Date Purchased</th>\n",
       "      <th>Receipt Number</th>\n",
       "      <th>Customer Name</th>\n",
       "      <th>Customer Address</th>\n",
       "      <th>Phone Number</th>\n",
       "      <th>Email</th>\n",
       "      <th>Store Location</th>\n",
       "      <th>Product Name</th>\n",
       "      <th>Product Code</th>\n",
       "      <th>Bar Code</th>\n",
       "      <th>Material Name</th>\n",
       "      <th>Color</th>\n",
       "      <th>Weight</th>\n",
       "      <th>Supplier</th>\n",
       "      <th>Lot Number</th>\n",
       "      <th>Price</th>\n",
       "      <th>Quantity</th>\n",
       "      <th>Tax</th>\n",
       "      <th>Total Price</th>\n",
       "    </tr>\n",
       "  </thead>\n",
       "  <tbody>\n",
       "    <tr>\n",
       "      <th>0</th>\n",
       "      <td>2025-04-01</td>\n",
       "      <td>1ff49b78-8946-4e85-b59c-de66bacfb3d0</td>\n",
       "      <td>Danielle Johnson</td>\n",
       "      <td>3321 Brittany Bypass, North Jefferyhaven, 79408</td>\n",
       "      <td>8386379402</td>\n",
       "      <td>danielle.johnson@hotmail.com</td>\n",
       "      <td>5423 Garcia Light, West Melanieview, 06196</td>\n",
       "      <td>Standard PLA Filament</td>\n",
       "      <td>PLA-792</td>\n",
       "      <td>6.184960e+12</td>\n",
       "      <td>PLA</td>\n",
       "      <td>Blue</td>\n",
       "      <td>500</td>\n",
       "      <td>3DFilaments</td>\n",
       "      <td>L5012</td>\n",
       "      <td>26.69</td>\n",
       "      <td>1</td>\n",
       "      <td>1.87</td>\n",
       "      <td>28.56</td>\n",
       "    </tr>\n",
       "    <tr>\n",
       "      <th>1</th>\n",
       "      <td>2025-04-01</td>\n",
       "      <td>434308bc-89fa-4a68-8fb5-d27bbeb79919</td>\n",
       "      <td>Tracie Wyatt</td>\n",
       "      <td>64752 Kelly Skyway, Jacquelineland, 80341</td>\n",
       "      <td>+1-283-276-4835x0305</td>\n",
       "      <td>tracie.wyatt@yahoo.com</td>\n",
       "      <td>1395 Diana Locks, Thomasberg, 32826</td>\n",
       "      <td>Flexible TPU Filament</td>\n",
       "      <td>TPU-338</td>\n",
       "      <td>9.696530e+12</td>\n",
       "      <td>TPU</td>\n",
       "      <td>Purple</td>\n",
       "      <td>500</td>\n",
       "      <td>ProtoPolymers</td>\n",
       "      <td>L1520</td>\n",
       "      <td>20.88</td>\n",
       "      <td>2</td>\n",
       "      <td>2.92</td>\n",
       "      <td>44.68</td>\n",
       "    </tr>\n",
       "    <tr>\n",
       "      <th>2</th>\n",
       "      <td>2025-04-01</td>\n",
       "      <td>52fbe43b-9954-4eb4-8025-7ad1eb2263dd</td>\n",
       "      <td>Eric Moore</td>\n",
       "      <td>691 James Mountain, Tashatown, 89667</td>\n",
       "      <td>001-184-514-6270x4828</td>\n",
       "      <td>eric.moore@gmail.com</td>\n",
       "      <td>489 Eric Track, New Stephanie, 70015</td>\n",
       "      <td>Flexible TPU Filament</td>\n",
       "      <td>TPU-325</td>\n",
       "      <td>7.015430e+12</td>\n",
       "      <td>TPU</td>\n",
       "      <td>Purple</td>\n",
       "      <td>1000</td>\n",
       "      <td>PrintPro</td>\n",
       "      <td>L4257</td>\n",
       "      <td>41.47</td>\n",
       "      <td>4</td>\n",
       "      <td>11.61</td>\n",
       "      <td>177.49</td>\n",
       "    </tr>\n",
       "  </tbody>\n",
       "</table>\n",
       "</div>"
      ]
     },
     "execution_count": 39,
     "metadata": {},
     "output_type": "execute_result"
    }
   ],
   "execution_count": 39
  },
  {
   "metadata": {
    "ExecuteTime": {
     "end_time": "2025-06-05T22:43:30.967149Z",
     "start_time": "2025-06-05T22:43:30.964750Z"
    }
   },
   "cell_type": "code",
   "source": [
    "# 1. Extract house number, street name, city, and zip code from the full customer address.\n",
    "addresses = df['Customer Address']"
   ],
   "id": "54ea5f8e39d571c2",
   "outputs": [],
   "execution_count": 40
  },
  {
   "metadata": {
    "ExecuteTime": {
     "end_time": "2025-06-05T22:43:30.995329Z",
     "start_time": "2025-06-05T22:43:30.991557Z"
    }
   },
   "cell_type": "code",
   "source": "addresses.head(3)",
   "id": "b4e3fc5cf7e0164b",
   "outputs": [
    {
     "data": {
      "text/plain": [
       "0    3321 Brittany Bypass, North Jefferyhaven, 79408\n",
       "1          64752 Kelly Skyway, Jacquelineland, 80341\n",
       "2               691 James Mountain, Tashatown, 89667\n",
       "Name: Customer Address, dtype: object"
      ]
     },
     "execution_count": 41,
     "metadata": {},
     "output_type": "execute_result"
    }
   ],
   "execution_count": 41
  },
  {
   "metadata": {
    "ExecuteTime": {
     "end_time": "2025-06-05T22:43:31.022345Z",
     "start_time": "2025-06-05T22:43:31.019857Z"
    }
   },
   "cell_type": "code",
   "source": "customer_sep = []",
   "id": "a95bf98432a84519",
   "outputs": [],
   "execution_count": 42
  },
  {
   "metadata": {
    "ExecuteTime": {
     "end_time": "2025-06-05T22:43:31.089237Z",
     "start_time": "2025-06-05T22:43:31.085599Z"
    }
   },
   "cell_type": "code",
   "source": [
    "for entry in addresses:\n",
    "    try:\n",
    "        house_city_zip = entry.split(', ')\n",
    "        house_street = house_city_zip[0].split(' ', 1)\n",
    "        house_number = house_street[0]\n",
    "        street_name = house_street[1] if len(house_street) > 1 else ''\n",
    "        city = house_city_zip[1] if len(house_city_zip) > 1 else ''\n",
    "        zip_code = house_city_zip[2] if len(house_city_zip) > 2 else ''\n",
    "        customer_sep.append([house_number, street_name, city, zip_code])\n",
    "        \n",
    "    except Exception as e:\n",
    "        customer_sep.append([None, None, None, None])"
   ],
   "id": "3a5e52f597b836d6",
   "outputs": [],
   "execution_count": 43
  },
  {
   "metadata": {
    "ExecuteTime": {
     "end_time": "2025-06-05T22:43:31.106371Z",
     "start_time": "2025-06-05T22:43:31.103138Z"
    }
   },
   "cell_type": "code",
   "source": [
    "customer_info = pd.DataFrame(\n",
    "    customer_sep,\n",
    "    columns=['House Number', 'Street Name', 'City', 'Zip Code']\n",
    ")"
   ],
   "id": "15bff4812c0850d9",
   "outputs": [],
   "execution_count": 44
  },
  {
   "metadata": {
    "ExecuteTime": {
     "end_time": "2025-06-05T22:43:31.140088Z",
     "start_time": "2025-06-05T22:43:31.131073Z"
    }
   },
   "cell_type": "code",
   "source": "customer_info.to_csv('customer_info.csv', index=False)",
   "id": "255b513af752f62f",
   "outputs": [],
   "execution_count": 45
  },
  {
   "metadata": {
    "ExecuteTime": {
     "end_time": "2025-06-05T22:43:31.170368Z",
     "start_time": "2025-06-05T22:43:31.165310Z"
    }
   },
   "cell_type": "code",
   "source": "customer_info.head(3)",
   "id": "1060d6e20635916e",
   "outputs": [
    {
     "data": {
      "text/plain": [
       "  House Number      Street Name                City Zip Code\n",
       "0         3321  Brittany Bypass  North Jefferyhaven    79408\n",
       "1        64752     Kelly Skyway      Jacquelineland    80341\n",
       "2          691   James Mountain           Tashatown    89667"
      ],
      "text/html": [
       "<div>\n",
       "<style scoped>\n",
       "    .dataframe tbody tr th:only-of-type {\n",
       "        vertical-align: middle;\n",
       "    }\n",
       "\n",
       "    .dataframe tbody tr th {\n",
       "        vertical-align: top;\n",
       "    }\n",
       "\n",
       "    .dataframe thead th {\n",
       "        text-align: right;\n",
       "    }\n",
       "</style>\n",
       "<table border=\"1\" class=\"dataframe\">\n",
       "  <thead>\n",
       "    <tr style=\"text-align: right;\">\n",
       "      <th></th>\n",
       "      <th>House Number</th>\n",
       "      <th>Street Name</th>\n",
       "      <th>City</th>\n",
       "      <th>Zip Code</th>\n",
       "    </tr>\n",
       "  </thead>\n",
       "  <tbody>\n",
       "    <tr>\n",
       "      <th>0</th>\n",
       "      <td>3321</td>\n",
       "      <td>Brittany Bypass</td>\n",
       "      <td>North Jefferyhaven</td>\n",
       "      <td>79408</td>\n",
       "    </tr>\n",
       "    <tr>\n",
       "      <th>1</th>\n",
       "      <td>64752</td>\n",
       "      <td>Kelly Skyway</td>\n",
       "      <td>Jacquelineland</td>\n",
       "      <td>80341</td>\n",
       "    </tr>\n",
       "    <tr>\n",
       "      <th>2</th>\n",
       "      <td>691</td>\n",
       "      <td>James Mountain</td>\n",
       "      <td>Tashatown</td>\n",
       "      <td>89667</td>\n",
       "    </tr>\n",
       "  </tbody>\n",
       "</table>\n",
       "</div>"
      ]
     },
     "execution_count": 46,
     "metadata": {},
     "output_type": "execute_result"
    }
   ],
   "execution_count": 46
  },
  {
   "metadata": {
    "ExecuteTime": {
     "end_time": "2025-06-05T22:43:31.200455Z",
     "start_time": "2025-06-05T22:43:31.197774Z"
    }
   },
   "cell_type": "code",
   "source": [
    "# 2. Identify duplicate customers based on full name, email, and zip code.\n",
    "customers = pd.DataFrame(\n",
    "    {\n",
    "        'Name': df['Customer Name'],\n",
    "        'Email': df['Email'],\n",
    "        'Zip Code': customer_info['Zip Code'],\n",
    "    }\n",
    ")"
   ],
   "id": "1ef550c6121fee44",
   "outputs": [],
   "execution_count": 47
  },
  {
   "metadata": {
    "ExecuteTime": {
     "end_time": "2025-06-05T22:43:31.226800Z",
     "start_time": "2025-06-05T22:43:31.221974Z"
    }
   },
   "cell_type": "code",
   "source": "customers.head(3)",
   "id": "ff0ff100d1898f5d",
   "outputs": [
    {
     "data": {
      "text/plain": [
       "               Name                         Email Zip Code\n",
       "0  Danielle Johnson  danielle.johnson@hotmail.com    79408\n",
       "1      Tracie Wyatt        tracie.wyatt@yahoo.com    80341\n",
       "2        Eric Moore          eric.moore@gmail.com    89667"
      ],
      "text/html": [
       "<div>\n",
       "<style scoped>\n",
       "    .dataframe tbody tr th:only-of-type {\n",
       "        vertical-align: middle;\n",
       "    }\n",
       "\n",
       "    .dataframe tbody tr th {\n",
       "        vertical-align: top;\n",
       "    }\n",
       "\n",
       "    .dataframe thead th {\n",
       "        text-align: right;\n",
       "    }\n",
       "</style>\n",
       "<table border=\"1\" class=\"dataframe\">\n",
       "  <thead>\n",
       "    <tr style=\"text-align: right;\">\n",
       "      <th></th>\n",
       "      <th>Name</th>\n",
       "      <th>Email</th>\n",
       "      <th>Zip Code</th>\n",
       "    </tr>\n",
       "  </thead>\n",
       "  <tbody>\n",
       "    <tr>\n",
       "      <th>0</th>\n",
       "      <td>Danielle Johnson</td>\n",
       "      <td>danielle.johnson@hotmail.com</td>\n",
       "      <td>79408</td>\n",
       "    </tr>\n",
       "    <tr>\n",
       "      <th>1</th>\n",
       "      <td>Tracie Wyatt</td>\n",
       "      <td>tracie.wyatt@yahoo.com</td>\n",
       "      <td>80341</td>\n",
       "    </tr>\n",
       "    <tr>\n",
       "      <th>2</th>\n",
       "      <td>Eric Moore</td>\n",
       "      <td>eric.moore@gmail.com</td>\n",
       "      <td>89667</td>\n",
       "    </tr>\n",
       "  </tbody>\n",
       "</table>\n",
       "</div>"
      ]
     },
     "execution_count": 48,
     "metadata": {},
     "output_type": "execute_result"
    }
   ],
   "execution_count": 48
  },
  {
   "metadata": {
    "ExecuteTime": {
     "end_time": "2025-06-05T22:43:31.247227Z",
     "start_time": "2025-06-05T22:43:31.243028Z"
    }
   },
   "cell_type": "code",
   "source": "customers.duplicated(subset=['Name', 'Email', 'Zip Code']).value_counts()",
   "id": "72671b4c71993bf2",
   "outputs": [
    {
     "data": {
      "text/plain": [
       "False    360\n",
       "Name: count, dtype: int64"
      ]
     },
     "execution_count": 49,
     "metadata": {},
     "output_type": "execute_result"
    }
   ],
   "execution_count": 49
  },
  {
   "metadata": {
    "ExecuteTime": {
     "end_time": "2025-06-05T22:43:31.322423Z",
     "start_time": "2025-06-05T22:43:31.319375Z"
    }
   },
   "cell_type": "code",
   "source": [
    "# 3. Create a clean contact list without duplicates.\n",
    "contact_list = pd.DataFrame(df[['Customer Name', 'Customer Address', 'Phone Number', 'Email']])"
   ],
   "id": "d18cd839518ff24f",
   "outputs": [],
   "execution_count": 50
  },
  {
   "metadata": {
    "ExecuteTime": {
     "end_time": "2025-06-05T22:43:31.344192Z",
     "start_time": "2025-06-05T22:43:31.339488Z"
    }
   },
   "cell_type": "code",
   "source": "contact_list.head(3)",
   "id": "5b12897fc9e39204",
   "outputs": [
    {
     "data": {
      "text/plain": [
       "      Customer Name                                 Customer Address  \\\n",
       "0  Danielle Johnson  3321 Brittany Bypass, North Jefferyhaven, 79408   \n",
       "1      Tracie Wyatt        64752 Kelly Skyway, Jacquelineland, 80341   \n",
       "2        Eric Moore             691 James Mountain, Tashatown, 89667   \n",
       "\n",
       "            Phone Number                         Email  \n",
       "0             8386379402  danielle.johnson@hotmail.com  \n",
       "1   +1-283-276-4835x0305        tracie.wyatt@yahoo.com  \n",
       "2  001-184-514-6270x4828          eric.moore@gmail.com  "
      ],
      "text/html": [
       "<div>\n",
       "<style scoped>\n",
       "    .dataframe tbody tr th:only-of-type {\n",
       "        vertical-align: middle;\n",
       "    }\n",
       "\n",
       "    .dataframe tbody tr th {\n",
       "        vertical-align: top;\n",
       "    }\n",
       "\n",
       "    .dataframe thead th {\n",
       "        text-align: right;\n",
       "    }\n",
       "</style>\n",
       "<table border=\"1\" class=\"dataframe\">\n",
       "  <thead>\n",
       "    <tr style=\"text-align: right;\">\n",
       "      <th></th>\n",
       "      <th>Customer Name</th>\n",
       "      <th>Customer Address</th>\n",
       "      <th>Phone Number</th>\n",
       "      <th>Email</th>\n",
       "    </tr>\n",
       "  </thead>\n",
       "  <tbody>\n",
       "    <tr>\n",
       "      <th>0</th>\n",
       "      <td>Danielle Johnson</td>\n",
       "      <td>3321 Brittany Bypass, North Jefferyhaven, 79408</td>\n",
       "      <td>8386379402</td>\n",
       "      <td>danielle.johnson@hotmail.com</td>\n",
       "    </tr>\n",
       "    <tr>\n",
       "      <th>1</th>\n",
       "      <td>Tracie Wyatt</td>\n",
       "      <td>64752 Kelly Skyway, Jacquelineland, 80341</td>\n",
       "      <td>+1-283-276-4835x0305</td>\n",
       "      <td>tracie.wyatt@yahoo.com</td>\n",
       "    </tr>\n",
       "    <tr>\n",
       "      <th>2</th>\n",
       "      <td>Eric Moore</td>\n",
       "      <td>691 James Mountain, Tashatown, 89667</td>\n",
       "      <td>001-184-514-6270x4828</td>\n",
       "      <td>eric.moore@gmail.com</td>\n",
       "    </tr>\n",
       "  </tbody>\n",
       "</table>\n",
       "</div>"
      ]
     },
     "execution_count": 51,
     "metadata": {},
     "output_type": "execute_result"
    }
   ],
   "execution_count": 51
  },
  {
   "metadata": {
    "ExecuteTime": {
     "end_time": "2025-06-05T22:43:31.393476Z",
     "start_time": "2025-06-05T22:43:31.388512Z"
    }
   },
   "cell_type": "code",
   "source": "contact_list.duplicated().value_counts()",
   "id": "c337d06f33b4aa83",
   "outputs": [
    {
     "data": {
      "text/plain": [
       "False    360\n",
       "Name: count, dtype: int64"
      ]
     },
     "execution_count": 52,
     "metadata": {},
     "output_type": "execute_result"
    }
   ],
   "execution_count": 52
  },
  {
   "metadata": {
    "ExecuteTime": {
     "end_time": "2025-06-05T22:43:31.413595Z",
     "start_time": "2025-06-05T22:43:31.407519Z"
    }
   },
   "cell_type": "code",
   "source": [
    "# if there are duplicates\n",
    "contact_list.drop_duplicates()"
   ],
   "id": "c867d0176f7d50c9",
   "outputs": [
    {
     "data": {
      "text/plain": [
       "        Customer Name                                 Customer Address  \\\n",
       "0    Danielle Johnson  3321 Brittany Bypass, North Jefferyhaven, 79408   \n",
       "1        Tracie Wyatt        64752 Kelly Skyway, Jacquelineland, 80341   \n",
       "2          Eric Moore             691 James Mountain, Tashatown, 89667   \n",
       "3         Lisa Spence               227 Joseph Well, Brandtside, 99495   \n",
       "4        Rodney Owens        010 Chandler Union, East Jamesside, 59301   \n",
       "..                ...                                              ...   \n",
       "355      Brian Wilson            103 Linda Street, Spencerville, 59395   \n",
       "356      Jane Johnson          625 Griffin Squares, Carlsonfort, 04391   \n",
       "357     Sergio Tucker   1400 Richards Plains, Port Jenniferview, 75758   \n",
       "358     Todd Cisneros          7943 Mariah Track, Samuelborough, 97096   \n",
       "359     Nicole Deleon            2117 Jessica Plain, Sarahhaven, 04503   \n",
       "\n",
       "              Phone Number                         Email  \n",
       "0               8386379402  danielle.johnson@hotmail.com  \n",
       "1     +1-283-276-4835x0305        tracie.wyatt@yahoo.com  \n",
       "2    001-184-514-6270x4828          eric.moore@gmail.com  \n",
       "3    001-346-578-7133x1509       lisa.spence@hotmail.com  \n",
       "4            (624)731-7810      rodney.owens@hotmail.com  \n",
       "..                     ...                           ...  \n",
       "355     (417)268-0808x1571        brian.wilson@gmail.com  \n",
       "356           180.533.9627        jane.johnson@yahoo.com  \n",
       "357             5315204998       sergio.tucker@gmail.com  \n",
       "358   001-899-499-1970x142       todd.cisneros@yahoo.com  \n",
       "359           864-482-2175     nicole.deleon@hotmail.com  \n",
       "\n",
       "[360 rows x 4 columns]"
      ],
      "text/html": [
       "<div>\n",
       "<style scoped>\n",
       "    .dataframe tbody tr th:only-of-type {\n",
       "        vertical-align: middle;\n",
       "    }\n",
       "\n",
       "    .dataframe tbody tr th {\n",
       "        vertical-align: top;\n",
       "    }\n",
       "\n",
       "    .dataframe thead th {\n",
       "        text-align: right;\n",
       "    }\n",
       "</style>\n",
       "<table border=\"1\" class=\"dataframe\">\n",
       "  <thead>\n",
       "    <tr style=\"text-align: right;\">\n",
       "      <th></th>\n",
       "      <th>Customer Name</th>\n",
       "      <th>Customer Address</th>\n",
       "      <th>Phone Number</th>\n",
       "      <th>Email</th>\n",
       "    </tr>\n",
       "  </thead>\n",
       "  <tbody>\n",
       "    <tr>\n",
       "      <th>0</th>\n",
       "      <td>Danielle Johnson</td>\n",
       "      <td>3321 Brittany Bypass, North Jefferyhaven, 79408</td>\n",
       "      <td>8386379402</td>\n",
       "      <td>danielle.johnson@hotmail.com</td>\n",
       "    </tr>\n",
       "    <tr>\n",
       "      <th>1</th>\n",
       "      <td>Tracie Wyatt</td>\n",
       "      <td>64752 Kelly Skyway, Jacquelineland, 80341</td>\n",
       "      <td>+1-283-276-4835x0305</td>\n",
       "      <td>tracie.wyatt@yahoo.com</td>\n",
       "    </tr>\n",
       "    <tr>\n",
       "      <th>2</th>\n",
       "      <td>Eric Moore</td>\n",
       "      <td>691 James Mountain, Tashatown, 89667</td>\n",
       "      <td>001-184-514-6270x4828</td>\n",
       "      <td>eric.moore@gmail.com</td>\n",
       "    </tr>\n",
       "    <tr>\n",
       "      <th>3</th>\n",
       "      <td>Lisa Spence</td>\n",
       "      <td>227 Joseph Well, Brandtside, 99495</td>\n",
       "      <td>001-346-578-7133x1509</td>\n",
       "      <td>lisa.spence@hotmail.com</td>\n",
       "    </tr>\n",
       "    <tr>\n",
       "      <th>4</th>\n",
       "      <td>Rodney Owens</td>\n",
       "      <td>010 Chandler Union, East Jamesside, 59301</td>\n",
       "      <td>(624)731-7810</td>\n",
       "      <td>rodney.owens@hotmail.com</td>\n",
       "    </tr>\n",
       "    <tr>\n",
       "      <th>...</th>\n",
       "      <td>...</td>\n",
       "      <td>...</td>\n",
       "      <td>...</td>\n",
       "      <td>...</td>\n",
       "    </tr>\n",
       "    <tr>\n",
       "      <th>355</th>\n",
       "      <td>Brian Wilson</td>\n",
       "      <td>103 Linda Street, Spencerville, 59395</td>\n",
       "      <td>(417)268-0808x1571</td>\n",
       "      <td>brian.wilson@gmail.com</td>\n",
       "    </tr>\n",
       "    <tr>\n",
       "      <th>356</th>\n",
       "      <td>Jane Johnson</td>\n",
       "      <td>625 Griffin Squares, Carlsonfort, 04391</td>\n",
       "      <td>180.533.9627</td>\n",
       "      <td>jane.johnson@yahoo.com</td>\n",
       "    </tr>\n",
       "    <tr>\n",
       "      <th>357</th>\n",
       "      <td>Sergio Tucker</td>\n",
       "      <td>1400 Richards Plains, Port Jenniferview, 75758</td>\n",
       "      <td>5315204998</td>\n",
       "      <td>sergio.tucker@gmail.com</td>\n",
       "    </tr>\n",
       "    <tr>\n",
       "      <th>358</th>\n",
       "      <td>Todd Cisneros</td>\n",
       "      <td>7943 Mariah Track, Samuelborough, 97096</td>\n",
       "      <td>001-899-499-1970x142</td>\n",
       "      <td>todd.cisneros@yahoo.com</td>\n",
       "    </tr>\n",
       "    <tr>\n",
       "      <th>359</th>\n",
       "      <td>Nicole Deleon</td>\n",
       "      <td>2117 Jessica Plain, Sarahhaven, 04503</td>\n",
       "      <td>864-482-2175</td>\n",
       "      <td>nicole.deleon@hotmail.com</td>\n",
       "    </tr>\n",
       "  </tbody>\n",
       "</table>\n",
       "<p>360 rows × 4 columns</p>\n",
       "</div>"
      ]
     },
     "execution_count": 53,
     "metadata": {},
     "output_type": "execute_result"
    }
   ],
   "execution_count": 53
  },
  {
   "metadata": {
    "ExecuteTime": {
     "end_time": "2025-06-05T22:43:31.434125Z",
     "start_time": "2025-06-05T22:43:31.431540Z"
    }
   },
   "cell_type": "code",
   "source": [
    "# 4. Standardize zip codes to 5-digit strings and ensure all contain only digits.\n",
    "zip_codes = customer_info['Zip Code']"
   ],
   "id": "33c37e940cae75e8",
   "outputs": [],
   "execution_count": 54
  },
  {
   "metadata": {
    "ExecuteTime": {
     "end_time": "2025-06-05T22:43:31.463369Z",
     "start_time": "2025-06-05T22:43:31.460329Z"
    }
   },
   "cell_type": "code",
   "source": "zip_codes.shape",
   "id": "eb36e98bfe3d1848",
   "outputs": [
    {
     "data": {
      "text/plain": [
       "(360,)"
      ]
     },
     "execution_count": 55,
     "metadata": {},
     "output_type": "execute_result"
    }
   ],
   "execution_count": 55
  },
  {
   "metadata": {
    "ExecuteTime": {
     "end_time": "2025-06-05T22:43:31.507046Z",
     "start_time": "2025-06-05T22:43:31.504628Z"
    }
   },
   "cell_type": "code",
   "source": "pattern = r'([0-9]{5})'",
   "id": "8b80bc16fb852af0",
   "outputs": [],
   "execution_count": 56
  },
  {
   "metadata": {
    "ExecuteTime": {
     "end_time": "2025-06-05T22:43:31.608094Z",
     "start_time": "2025-06-05T22:43:31.603294Z"
    }
   },
   "cell_type": "code",
   "source": "zip_codes.astype(str).str.extract(pattern)[0]",
   "id": "c9a714f80224caaa",
   "outputs": [
    {
     "data": {
      "text/plain": [
       "0      79408\n",
       "1      80341\n",
       "2      89667\n",
       "3      99495\n",
       "4      59301\n",
       "       ...  \n",
       "355    59395\n",
       "356    04391\n",
       "357    75758\n",
       "358    97096\n",
       "359    04503\n",
       "Name: 0, Length: 360, dtype: object"
      ]
     },
     "execution_count": 57,
     "metadata": {},
     "output_type": "execute_result"
    }
   ],
   "execution_count": 57
  },
  {
   "metadata": {
    "ExecuteTime": {
     "end_time": "2025-06-05T22:43:31.627349Z",
     "start_time": "2025-06-05T22:43:31.624860Z"
    }
   },
   "cell_type": "code",
   "source": "zip_codes_cleaned = zip_codes.fillna('00000')",
   "id": "79532d6e21ad2424",
   "outputs": [],
   "execution_count": 58
  },
  {
   "metadata": {
    "ExecuteTime": {
     "end_time": "2025-06-05T22:43:31.643416Z",
     "start_time": "2025-06-05T22:43:31.639317Z"
    }
   },
   "cell_type": "code",
   "source": "zip_codes_cleaned.head(3)",
   "id": "4f29d5c732d0bc2d",
   "outputs": [
    {
     "data": {
      "text/plain": [
       "0    79408\n",
       "1    80341\n",
       "2    89667\n",
       "Name: Zip Code, dtype: object"
      ]
     },
     "execution_count": 59,
     "metadata": {},
     "output_type": "execute_result"
    }
   ],
   "execution_count": 59
  },
  {
   "metadata": {
    "ExecuteTime": {
     "end_time": "2025-06-05T22:43:31.666130Z",
     "start_time": "2025-06-05T22:43:31.663558Z"
    }
   },
   "cell_type": "code",
   "source": [
    "# 5. Find and report the top 3 cities with the most customers.\n",
    "cities = customer_info['City']"
   ],
   "id": "bc565065745eb4e2",
   "outputs": [],
   "execution_count": 60
  },
  {
   "metadata": {
    "ExecuteTime": {
     "end_time": "2025-06-05T22:43:31.684915Z",
     "start_time": "2025-06-05T22:43:31.681465Z"
    }
   },
   "cell_type": "code",
   "source": "cities.head(3)",
   "id": "e4b68c09ebb75a5a",
   "outputs": [
    {
     "data": {
      "text/plain": [
       "0    North Jefferyhaven\n",
       "1        Jacquelineland\n",
       "2             Tashatown\n",
       "Name: City, dtype: object"
      ]
     },
     "execution_count": 61,
     "metadata": {},
     "output_type": "execute_result"
    }
   ],
   "execution_count": 61
  },
  {
   "metadata": {
    "ExecuteTime": {
     "end_time": "2025-06-05T22:43:31.707720Z",
     "start_time": "2025-06-05T22:43:31.703509Z"
    }
   },
   "cell_type": "code",
   "source": "cities.value_counts().head(3)",
   "id": "4b33e9b4af4ecbaa",
   "outputs": [
    {
     "data": {
      "text/plain": [
       "City\n",
       "Port James       2\n",
       "North Brianna    2\n",
       "Williamsmouth    2\n",
       "Name: count, dtype: int64"
      ]
     },
     "execution_count": 62,
     "metadata": {},
     "output_type": "execute_result"
    }
   ],
   "execution_count": 62
  },
  {
   "metadata": {
    "ExecuteTime": {
     "end_time": "2025-06-05T22:43:31.728151Z",
     "start_time": "2025-06-05T22:43:31.725624Z"
    }
   },
   "cell_type": "code",
   "source": [
    "# 6. Detect and remove any malformed or incomplete email addresses.\n",
    "emails = df['Email']"
   ],
   "id": "69ead896f36769b0",
   "outputs": [],
   "execution_count": 63
  },
  {
   "metadata": {
    "ExecuteTime": {
     "end_time": "2025-06-05T22:43:31.752429Z",
     "start_time": "2025-06-05T22:43:31.748716Z"
    }
   },
   "cell_type": "code",
   "source": "emails.head(3)",
   "id": "eb10d4ff1c3f920a",
   "outputs": [
    {
     "data": {
      "text/plain": [
       "0    danielle.johnson@hotmail.com\n",
       "1          tracie.wyatt@yahoo.com\n",
       "2            eric.moore@gmail.com\n",
       "Name: Email, dtype: object"
      ]
     },
     "execution_count": 64,
     "metadata": {},
     "output_type": "execute_result"
    }
   ],
   "execution_count": 64
  },
  {
   "metadata": {
    "ExecuteTime": {
     "end_time": "2025-06-05T22:43:31.791127Z",
     "start_time": "2025-06-05T22:43:31.788765Z"
    }
   },
   "cell_type": "code",
   "source": "email_pattern = r'([A-Z0-9._%+-]+)@([A-Z0-9.-]+)\\.([A-Z]{2,4})'",
   "id": "17f96dcf93f48d74",
   "outputs": [],
   "execution_count": 65
  },
  {
   "metadata": {
    "ExecuteTime": {
     "end_time": "2025-06-05T22:43:31.812291Z",
     "start_time": "2025-06-05T22:43:31.808958Z"
    }
   },
   "cell_type": "code",
   "source": [
    "# Validate emails (True = valid, False = malformed)\n",
    "emails_mask = emails.astype(str).str.fullmatch(email_pattern, flags=re.IGNORECASE)"
   ],
   "id": "9fe3011ca65e5af1",
   "outputs": [],
   "execution_count": 66
  },
  {
   "metadata": {
    "ExecuteTime": {
     "end_time": "2025-06-05T22:43:31.823720Z",
     "start_time": "2025-06-05T22:43:31.821272Z"
    }
   },
   "cell_type": "code",
   "source": [
    "# filter valid emails only\n",
    "emails_valid = emails[emails_mask]"
   ],
   "id": "1a238fa60edcb576",
   "outputs": [],
   "execution_count": 67
  },
  {
   "metadata": {
    "ExecuteTime": {
     "end_time": "2025-06-05T22:43:31.840327Z",
     "start_time": "2025-06-05T22:43:31.837171Z"
    }
   },
   "cell_type": "code",
   "source": "emails_valid.shape",
   "id": "569838f0113b743a",
   "outputs": [
    {
     "data": {
      "text/plain": [
       "(360,)"
      ]
     },
     "execution_count": 68,
     "metadata": {},
     "output_type": "execute_result"
    }
   ],
   "execution_count": 68
  },
  {
   "metadata": {
    "ExecuteTime": {
     "end_time": "2025-06-05T22:43:31.861676Z",
     "start_time": "2025-06-05T22:43:31.857918Z"
    }
   },
   "cell_type": "code",
   "source": "emails_valid.head(3)",
   "id": "7f2ad6b4f299556a",
   "outputs": [
    {
     "data": {
      "text/plain": [
       "0    danielle.johnson@hotmail.com\n",
       "1          tracie.wyatt@yahoo.com\n",
       "2            eric.moore@gmail.com\n",
       "Name: Email, dtype: object"
      ]
     },
     "execution_count": 69,
     "metadata": {},
     "output_type": "execute_result"
    }
   ],
   "execution_count": 69
  },
  {
   "metadata": {
    "ExecuteTime": {
     "end_time": "2025-06-05T22:43:31.883536Z",
     "start_time": "2025-06-05T22:43:31.881191Z"
    }
   },
   "cell_type": "code",
   "source": [
    "# Filter original df for rows with valid emails\n",
    "df_valid_emails = df[emails_mask]"
   ],
   "id": "9b9c9a89758668e3",
   "outputs": [],
   "execution_count": 70
  },
  {
   "metadata": {
    "ExecuteTime": {
     "end_time": "2025-06-05T22:43:31.905453Z",
     "start_time": "2025-06-05T22:43:31.898090Z"
    }
   },
   "cell_type": "code",
   "source": "df_valid_emails.head(3)",
   "id": "2471f4d210c26fac",
   "outputs": [
    {
     "data": {
      "text/plain": [
       "  Date Purchased                        Receipt Number     Customer Name  \\\n",
       "0     2025-04-01  1ff49b78-8946-4e85-b59c-de66bacfb3d0  Danielle Johnson   \n",
       "1     2025-04-01  434308bc-89fa-4a68-8fb5-d27bbeb79919      Tracie Wyatt   \n",
       "2     2025-04-01  52fbe43b-9954-4eb4-8025-7ad1eb2263dd        Eric Moore   \n",
       "\n",
       "                                  Customer Address           Phone Number  \\\n",
       "0  3321 Brittany Bypass, North Jefferyhaven, 79408             8386379402   \n",
       "1        64752 Kelly Skyway, Jacquelineland, 80341   +1-283-276-4835x0305   \n",
       "2             691 James Mountain, Tashatown, 89667  001-184-514-6270x4828   \n",
       "\n",
       "                          Email                              Store Location  \\\n",
       "0  danielle.johnson@hotmail.com  5423 Garcia Light, West Melanieview, 06196   \n",
       "1        tracie.wyatt@yahoo.com         1395 Diana Locks, Thomasberg, 32826   \n",
       "2          eric.moore@gmail.com        489 Eric Track, New Stephanie, 70015   \n",
       "\n",
       "            Product Name Product Code      Bar Code Material Name   Color  \\\n",
       "0  Standard PLA Filament      PLA-792  6.184960e+12           PLA    Blue   \n",
       "1  Flexible TPU Filament      TPU-338  9.696530e+12           TPU  Purple   \n",
       "2  Flexible TPU Filament      TPU-325  7.015430e+12           TPU  Purple   \n",
       "\n",
       "   Weight       Supplier Lot Number  Price  Quantity    Tax  Total Price  \n",
       "0     500    3DFilaments      L5012  26.69         1   1.87        28.56  \n",
       "1     500  ProtoPolymers      L1520  20.88         2   2.92        44.68  \n",
       "2    1000       PrintPro      L4257  41.47         4  11.61       177.49  "
      ],
      "text/html": [
       "<div>\n",
       "<style scoped>\n",
       "    .dataframe tbody tr th:only-of-type {\n",
       "        vertical-align: middle;\n",
       "    }\n",
       "\n",
       "    .dataframe tbody tr th {\n",
       "        vertical-align: top;\n",
       "    }\n",
       "\n",
       "    .dataframe thead th {\n",
       "        text-align: right;\n",
       "    }\n",
       "</style>\n",
       "<table border=\"1\" class=\"dataframe\">\n",
       "  <thead>\n",
       "    <tr style=\"text-align: right;\">\n",
       "      <th></th>\n",
       "      <th>Date Purchased</th>\n",
       "      <th>Receipt Number</th>\n",
       "      <th>Customer Name</th>\n",
       "      <th>Customer Address</th>\n",
       "      <th>Phone Number</th>\n",
       "      <th>Email</th>\n",
       "      <th>Store Location</th>\n",
       "      <th>Product Name</th>\n",
       "      <th>Product Code</th>\n",
       "      <th>Bar Code</th>\n",
       "      <th>Material Name</th>\n",
       "      <th>Color</th>\n",
       "      <th>Weight</th>\n",
       "      <th>Supplier</th>\n",
       "      <th>Lot Number</th>\n",
       "      <th>Price</th>\n",
       "      <th>Quantity</th>\n",
       "      <th>Tax</th>\n",
       "      <th>Total Price</th>\n",
       "    </tr>\n",
       "  </thead>\n",
       "  <tbody>\n",
       "    <tr>\n",
       "      <th>0</th>\n",
       "      <td>2025-04-01</td>\n",
       "      <td>1ff49b78-8946-4e85-b59c-de66bacfb3d0</td>\n",
       "      <td>Danielle Johnson</td>\n",
       "      <td>3321 Brittany Bypass, North Jefferyhaven, 79408</td>\n",
       "      <td>8386379402</td>\n",
       "      <td>danielle.johnson@hotmail.com</td>\n",
       "      <td>5423 Garcia Light, West Melanieview, 06196</td>\n",
       "      <td>Standard PLA Filament</td>\n",
       "      <td>PLA-792</td>\n",
       "      <td>6.184960e+12</td>\n",
       "      <td>PLA</td>\n",
       "      <td>Blue</td>\n",
       "      <td>500</td>\n",
       "      <td>3DFilaments</td>\n",
       "      <td>L5012</td>\n",
       "      <td>26.69</td>\n",
       "      <td>1</td>\n",
       "      <td>1.87</td>\n",
       "      <td>28.56</td>\n",
       "    </tr>\n",
       "    <tr>\n",
       "      <th>1</th>\n",
       "      <td>2025-04-01</td>\n",
       "      <td>434308bc-89fa-4a68-8fb5-d27bbeb79919</td>\n",
       "      <td>Tracie Wyatt</td>\n",
       "      <td>64752 Kelly Skyway, Jacquelineland, 80341</td>\n",
       "      <td>+1-283-276-4835x0305</td>\n",
       "      <td>tracie.wyatt@yahoo.com</td>\n",
       "      <td>1395 Diana Locks, Thomasberg, 32826</td>\n",
       "      <td>Flexible TPU Filament</td>\n",
       "      <td>TPU-338</td>\n",
       "      <td>9.696530e+12</td>\n",
       "      <td>TPU</td>\n",
       "      <td>Purple</td>\n",
       "      <td>500</td>\n",
       "      <td>ProtoPolymers</td>\n",
       "      <td>L1520</td>\n",
       "      <td>20.88</td>\n",
       "      <td>2</td>\n",
       "      <td>2.92</td>\n",
       "      <td>44.68</td>\n",
       "    </tr>\n",
       "    <tr>\n",
       "      <th>2</th>\n",
       "      <td>2025-04-01</td>\n",
       "      <td>52fbe43b-9954-4eb4-8025-7ad1eb2263dd</td>\n",
       "      <td>Eric Moore</td>\n",
       "      <td>691 James Mountain, Tashatown, 89667</td>\n",
       "      <td>001-184-514-6270x4828</td>\n",
       "      <td>eric.moore@gmail.com</td>\n",
       "      <td>489 Eric Track, New Stephanie, 70015</td>\n",
       "      <td>Flexible TPU Filament</td>\n",
       "      <td>TPU-325</td>\n",
       "      <td>7.015430e+12</td>\n",
       "      <td>TPU</td>\n",
       "      <td>Purple</td>\n",
       "      <td>1000</td>\n",
       "      <td>PrintPro</td>\n",
       "      <td>L4257</td>\n",
       "      <td>41.47</td>\n",
       "      <td>4</td>\n",
       "      <td>11.61</td>\n",
       "      <td>177.49</td>\n",
       "    </tr>\n",
       "  </tbody>\n",
       "</table>\n",
       "</div>"
      ]
     },
     "execution_count": 71,
     "metadata": {},
     "output_type": "execute_result"
    }
   ],
   "execution_count": 71
  },
  {
   "metadata": {
    "ExecuteTime": {
     "end_time": "2025-06-05T22:43:31.908409Z",
     "start_time": "2025-06-05T22:43:31.906742Z"
    }
   },
   "cell_type": "code",
   "source": "",
   "id": "33ba49a23a3da1f7",
   "outputs": [],
   "execution_count": 71
  }
 ],
 "metadata": {
  "kernelspec": {
   "display_name": "Python 3",
   "language": "python",
   "name": "python3"
  },
  "language_info": {
   "codemirror_mode": {
    "name": "ipython",
    "version": 2
   },
   "file_extension": ".py",
   "mimetype": "text/x-python",
   "name": "python",
   "nbconvert_exporter": "python",
   "pygments_lexer": "ipython2",
   "version": "2.7.6"
  }
 },
 "nbformat": 4,
 "nbformat_minor": 5
}
