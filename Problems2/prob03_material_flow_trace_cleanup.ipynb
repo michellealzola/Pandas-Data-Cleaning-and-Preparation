{
 "cells": [
  {
   "metadata": {},
   "cell_type": "markdown",
   "source": [
    "### **Problem 3: Material Flow Trace and Cleanup**\n",
    "\n",
    "You're investigating if specific material types are being mixed up or mislabeled across batches.\n",
    "\n",
    "**Your tasks:**\n",
    "\n",
    "1. Standardize `Material Type` and `Color` fields (e.g., title case, strip spaces).\n",
    "2. Extract the numeric part of the `Machine Barcode` and validate it’s 13 digits.\n",
    "3. Remove or flag any rows with invalid barcodes.\n",
    "4. Create a composite key (`Material` + `Color` + `Lot Number`) and check for duplicates.\n",
    "5. Group by `Material Type` and compute average batch weight and scrap.\n",
    "6. Identify if any `Material Type` shows high scrap and low weight simultaneously.\n",
    "7. Recommend whether to isolate any material for QA recheck based on findings.\n",
    "\n",
    "*Hint: Combine logical conditions in your flagging logic.*"
   ],
   "id": "bf3861eadb92110"
  },
  {
   "metadata": {
    "ExecuteTime": {
     "end_time": "2025-06-08T16:45:58.664987Z",
     "start_time": "2025-06-08T16:45:58.660788Z"
    }
   },
   "cell_type": "code",
   "source": [
    "import pandas as pd\n",
    "import numpy as np\n",
    "import re"
   ],
   "id": "7dd8d5259dfee414",
   "outputs": [],
   "execution_count": 196
  },
  {
   "metadata": {
    "ExecuteTime": {
     "end_time": "2025-06-08T16:45:58.776568Z",
     "start_time": "2025-06-08T16:45:58.770716Z"
    }
   },
   "cell_type": "code",
   "source": "data = pd.read_csv('Spool_Manufacturing_Batch_Log.csv')",
   "id": "c50d8f726e031928",
   "outputs": [],
   "execution_count": 197
  },
  {
   "metadata": {
    "ExecuteTime": {
     "end_time": "2025-06-08T16:45:58.780562Z",
     "start_time": "2025-06-08T16:45:58.778001Z"
    }
   },
   "cell_type": "code",
   "source": "df = pd.DataFrame(data)",
   "id": "69f1c93ba93d51d",
   "outputs": [],
   "execution_count": 198
  },
  {
   "metadata": {
    "ExecuteTime": {
     "end_time": "2025-06-08T16:45:58.832863Z",
     "start_time": "2025-06-08T16:45:58.825981Z"
    }
   },
   "cell_type": "code",
   "source": "df.head(3)",
   "id": "1a550277d1ac4d35",
   "outputs": [
    {
     "data": {
      "text/plain": [
       "                               Batch ID Date Produced Material Type  Color  \\\n",
       "0  eb6221c8-f45a-49f6-8c0c-ee28f5a29fc0    2025-05-01           PLA  Black   \n",
       "1  9748d109-45e1-4bb0-98af-53396946b791    2025-05-01           PLA    Red   \n",
       "2  35de154c-67d6-4144-a9e2-8afe65353fb2    2025-05-01           ABS   Blue   \n",
       "\n",
       "  Production Line  Weight (g)  Scrap Rate (%) Pass/Fail         Operator  \\\n",
       "0          Line 2     1024.84            1.79      Pass  Jacqueline Bass   \n",
       "1          Line 1     1032.38            4.28      Pass     Kristen Cole   \n",
       "2          Line 4      988.29            1.65      Pass    Sherry Bryant   \n",
       "\n",
       "                   Phone                  Email    Shift Machine Barcode  \\\n",
       "0  001-988-061-3911x7775  haynesdavid@yahoo.com  Shift C         MCH-001   \n",
       "1      300-905-2906x4997   theodore63@yahoo.com  Shift A         MCH-001   \n",
       "2   001-741-699-1830x254     timothy04@knox.net  Shift C         MCH-001   \n",
       "\n",
       "  Lot Number  \n",
       "0      L9935  \n",
       "1      L4257  \n",
       "2      L3615  "
      ],
      "text/html": [
       "<div>\n",
       "<style scoped>\n",
       "    .dataframe tbody tr th:only-of-type {\n",
       "        vertical-align: middle;\n",
       "    }\n",
       "\n",
       "    .dataframe tbody tr th {\n",
       "        vertical-align: top;\n",
       "    }\n",
       "\n",
       "    .dataframe thead th {\n",
       "        text-align: right;\n",
       "    }\n",
       "</style>\n",
       "<table border=\"1\" class=\"dataframe\">\n",
       "  <thead>\n",
       "    <tr style=\"text-align: right;\">\n",
       "      <th></th>\n",
       "      <th>Batch ID</th>\n",
       "      <th>Date Produced</th>\n",
       "      <th>Material Type</th>\n",
       "      <th>Color</th>\n",
       "      <th>Production Line</th>\n",
       "      <th>Weight (g)</th>\n",
       "      <th>Scrap Rate (%)</th>\n",
       "      <th>Pass/Fail</th>\n",
       "      <th>Operator</th>\n",
       "      <th>Phone</th>\n",
       "      <th>Email</th>\n",
       "      <th>Shift</th>\n",
       "      <th>Machine Barcode</th>\n",
       "      <th>Lot Number</th>\n",
       "    </tr>\n",
       "  </thead>\n",
       "  <tbody>\n",
       "    <tr>\n",
       "      <th>0</th>\n",
       "      <td>eb6221c8-f45a-49f6-8c0c-ee28f5a29fc0</td>\n",
       "      <td>2025-05-01</td>\n",
       "      <td>PLA</td>\n",
       "      <td>Black</td>\n",
       "      <td>Line 2</td>\n",
       "      <td>1024.84</td>\n",
       "      <td>1.79</td>\n",
       "      <td>Pass</td>\n",
       "      <td>Jacqueline Bass</td>\n",
       "      <td>001-988-061-3911x7775</td>\n",
       "      <td>haynesdavid@yahoo.com</td>\n",
       "      <td>Shift C</td>\n",
       "      <td>MCH-001</td>\n",
       "      <td>L9935</td>\n",
       "    </tr>\n",
       "    <tr>\n",
       "      <th>1</th>\n",
       "      <td>9748d109-45e1-4bb0-98af-53396946b791</td>\n",
       "      <td>2025-05-01</td>\n",
       "      <td>PLA</td>\n",
       "      <td>Red</td>\n",
       "      <td>Line 1</td>\n",
       "      <td>1032.38</td>\n",
       "      <td>4.28</td>\n",
       "      <td>Pass</td>\n",
       "      <td>Kristen Cole</td>\n",
       "      <td>300-905-2906x4997</td>\n",
       "      <td>theodore63@yahoo.com</td>\n",
       "      <td>Shift A</td>\n",
       "      <td>MCH-001</td>\n",
       "      <td>L4257</td>\n",
       "    </tr>\n",
       "    <tr>\n",
       "      <th>2</th>\n",
       "      <td>35de154c-67d6-4144-a9e2-8afe65353fb2</td>\n",
       "      <td>2025-05-01</td>\n",
       "      <td>ABS</td>\n",
       "      <td>Blue</td>\n",
       "      <td>Line 4</td>\n",
       "      <td>988.29</td>\n",
       "      <td>1.65</td>\n",
       "      <td>Pass</td>\n",
       "      <td>Sherry Bryant</td>\n",
       "      <td>001-741-699-1830x254</td>\n",
       "      <td>timothy04@knox.net</td>\n",
       "      <td>Shift C</td>\n",
       "      <td>MCH-001</td>\n",
       "      <td>L3615</td>\n",
       "    </tr>\n",
       "  </tbody>\n",
       "</table>\n",
       "</div>"
      ]
     },
     "execution_count": 199,
     "metadata": {},
     "output_type": "execute_result"
    }
   ],
   "execution_count": 199
  },
  {
   "metadata": {
    "ExecuteTime": {
     "end_time": "2025-06-08T16:45:58.853322Z",
     "start_time": "2025-06-08T16:45:58.850259Z"
    }
   },
   "cell_type": "code",
   "source": [
    "# 1. Standardize `Material Type` and `Color` fields (e.g., title case, strip spaces).\n",
    "df['Standardized Material'] = df['Material Type'].str.title().str.strip()"
   ],
   "id": "88790ae5d4e29570",
   "outputs": [],
   "execution_count": 200
  },
  {
   "metadata": {
    "ExecuteTime": {
     "end_time": "2025-06-08T16:45:58.909935Z",
     "start_time": "2025-06-08T16:45:58.906771Z"
    }
   },
   "cell_type": "code",
   "source": "df['Standardized Color'] = df['Color'].str.title().str.strip()",
   "id": "39634acf44dc6d62",
   "outputs": [],
   "execution_count": 201
  },
  {
   "metadata": {
    "ExecuteTime": {
     "end_time": "2025-06-08T16:45:58.936153Z",
     "start_time": "2025-06-08T16:45:58.930466Z"
    }
   },
   "cell_type": "code",
   "source": "df[['Material Type', 'Standardized Material', 'Color', 'Standardized Color']].head(3)",
   "id": "e0a8b83d5d1bc1cd",
   "outputs": [
    {
     "data": {
      "text/plain": [
       "  Material Type Standardized Material  Color Standardized Color\n",
       "0           PLA                   Pla  Black              Black\n",
       "1           PLA                   Pla    Red                Red\n",
       "2           ABS                   Abs   Blue               Blue"
      ],
      "text/html": [
       "<div>\n",
       "<style scoped>\n",
       "    .dataframe tbody tr th:only-of-type {\n",
       "        vertical-align: middle;\n",
       "    }\n",
       "\n",
       "    .dataframe tbody tr th {\n",
       "        vertical-align: top;\n",
       "    }\n",
       "\n",
       "    .dataframe thead th {\n",
       "        text-align: right;\n",
       "    }\n",
       "</style>\n",
       "<table border=\"1\" class=\"dataframe\">\n",
       "  <thead>\n",
       "    <tr style=\"text-align: right;\">\n",
       "      <th></th>\n",
       "      <th>Material Type</th>\n",
       "      <th>Standardized Material</th>\n",
       "      <th>Color</th>\n",
       "      <th>Standardized Color</th>\n",
       "    </tr>\n",
       "  </thead>\n",
       "  <tbody>\n",
       "    <tr>\n",
       "      <th>0</th>\n",
       "      <td>PLA</td>\n",
       "      <td>Pla</td>\n",
       "      <td>Black</td>\n",
       "      <td>Black</td>\n",
       "    </tr>\n",
       "    <tr>\n",
       "      <th>1</th>\n",
       "      <td>PLA</td>\n",
       "      <td>Pla</td>\n",
       "      <td>Red</td>\n",
       "      <td>Red</td>\n",
       "    </tr>\n",
       "    <tr>\n",
       "      <th>2</th>\n",
       "      <td>ABS</td>\n",
       "      <td>Abs</td>\n",
       "      <td>Blue</td>\n",
       "      <td>Blue</td>\n",
       "    </tr>\n",
       "  </tbody>\n",
       "</table>\n",
       "</div>"
      ]
     },
     "execution_count": 202,
     "metadata": {},
     "output_type": "execute_result"
    }
   ],
   "execution_count": 202
  },
  {
   "metadata": {
    "ExecuteTime": {
     "end_time": "2025-06-08T16:45:58.950337Z",
     "start_time": "2025-06-08T16:45:58.947917Z"
    }
   },
   "cell_type": "code",
   "source": [
    "# 2. Extract the numeric part of the `Machine Barcode` and validate it’s 3 digits.\n",
    "pattern_to_check = r'^[A-Z+]{3}-(\\d{3}+)$'"
   ],
   "id": "aebf75bd7f05aa08",
   "outputs": [],
   "execution_count": 203
  },
  {
   "metadata": {
    "ExecuteTime": {
     "end_time": "2025-06-08T16:45:59.049509Z",
     "start_time": "2025-06-08T16:45:59.046252Z"
    }
   },
   "cell_type": "code",
   "source": "df['Barcode Numeric Part'] = df['Machine Barcode'].str.extract(pattern_to_check)",
   "id": "fbc63ca15a6b6005",
   "outputs": [],
   "execution_count": 204
  },
  {
   "metadata": {
    "ExecuteTime": {
     "end_time": "2025-06-08T16:45:59.072847Z",
     "start_time": "2025-06-08T16:45:59.067788Z"
    }
   },
   "cell_type": "code",
   "source": "df[['Machine Barcode', 'Barcode Numeric Part']].head()",
   "id": "8d67ad130b7cb2dd",
   "outputs": [
    {
     "data": {
      "text/plain": [
       "  Machine Barcode Barcode Numeric Part\n",
       "0         MCH-001                  001\n",
       "1         MCH-001                  001\n",
       "2         MCH-001                  001\n",
       "3         MCH-003                  003\n",
       "4         MCH-001                  001"
      ],
      "text/html": [
       "<div>\n",
       "<style scoped>\n",
       "    .dataframe tbody tr th:only-of-type {\n",
       "        vertical-align: middle;\n",
       "    }\n",
       "\n",
       "    .dataframe tbody tr th {\n",
       "        vertical-align: top;\n",
       "    }\n",
       "\n",
       "    .dataframe thead th {\n",
       "        text-align: right;\n",
       "    }\n",
       "</style>\n",
       "<table border=\"1\" class=\"dataframe\">\n",
       "  <thead>\n",
       "    <tr style=\"text-align: right;\">\n",
       "      <th></th>\n",
       "      <th>Machine Barcode</th>\n",
       "      <th>Barcode Numeric Part</th>\n",
       "    </tr>\n",
       "  </thead>\n",
       "  <tbody>\n",
       "    <tr>\n",
       "      <th>0</th>\n",
       "      <td>MCH-001</td>\n",
       "      <td>001</td>\n",
       "    </tr>\n",
       "    <tr>\n",
       "      <th>1</th>\n",
       "      <td>MCH-001</td>\n",
       "      <td>001</td>\n",
       "    </tr>\n",
       "    <tr>\n",
       "      <th>2</th>\n",
       "      <td>MCH-001</td>\n",
       "      <td>001</td>\n",
       "    </tr>\n",
       "    <tr>\n",
       "      <th>3</th>\n",
       "      <td>MCH-003</td>\n",
       "      <td>003</td>\n",
       "    </tr>\n",
       "    <tr>\n",
       "      <th>4</th>\n",
       "      <td>MCH-001</td>\n",
       "      <td>001</td>\n",
       "    </tr>\n",
       "  </tbody>\n",
       "</table>\n",
       "</div>"
      ]
     },
     "execution_count": 205,
     "metadata": {},
     "output_type": "execute_result"
    }
   ],
   "execution_count": 205
  },
  {
   "metadata": {
    "ExecuteTime": {
     "end_time": "2025-06-08T16:45:59.110743Z",
     "start_time": "2025-06-08T16:45:59.107166Z"
    }
   },
   "cell_type": "code",
   "source": "df['Is last 3 Barcode Digits?'] = df['Barcode Numeric Part'].apply(lambda x: 'TRUE' if re.fullmatch(r'\\d{3}', str(x)) else 'FALSE')",
   "id": "b0441d0106d5eb2",
   "outputs": [],
   "execution_count": 206
  },
  {
   "metadata": {
    "ExecuteTime": {
     "end_time": "2025-06-08T16:45:59.186378Z",
     "start_time": "2025-06-08T16:45:59.180611Z"
    }
   },
   "cell_type": "code",
   "source": "df[['Machine Barcode', 'Barcode Numeric Part', 'Is last 3 Barcode Digits?']].head()",
   "id": "299ff6976c73c8f5",
   "outputs": [
    {
     "data": {
      "text/plain": [
       "  Machine Barcode Barcode Numeric Part Is last 3 Barcode Digits?\n",
       "0         MCH-001                  001                      TRUE\n",
       "1         MCH-001                  001                      TRUE\n",
       "2         MCH-001                  001                      TRUE\n",
       "3         MCH-003                  003                      TRUE\n",
       "4         MCH-001                  001                      TRUE"
      ],
      "text/html": [
       "<div>\n",
       "<style scoped>\n",
       "    .dataframe tbody tr th:only-of-type {\n",
       "        vertical-align: middle;\n",
       "    }\n",
       "\n",
       "    .dataframe tbody tr th {\n",
       "        vertical-align: top;\n",
       "    }\n",
       "\n",
       "    .dataframe thead th {\n",
       "        text-align: right;\n",
       "    }\n",
       "</style>\n",
       "<table border=\"1\" class=\"dataframe\">\n",
       "  <thead>\n",
       "    <tr style=\"text-align: right;\">\n",
       "      <th></th>\n",
       "      <th>Machine Barcode</th>\n",
       "      <th>Barcode Numeric Part</th>\n",
       "      <th>Is last 3 Barcode Digits?</th>\n",
       "    </tr>\n",
       "  </thead>\n",
       "  <tbody>\n",
       "    <tr>\n",
       "      <th>0</th>\n",
       "      <td>MCH-001</td>\n",
       "      <td>001</td>\n",
       "      <td>TRUE</td>\n",
       "    </tr>\n",
       "    <tr>\n",
       "      <th>1</th>\n",
       "      <td>MCH-001</td>\n",
       "      <td>001</td>\n",
       "      <td>TRUE</td>\n",
       "    </tr>\n",
       "    <tr>\n",
       "      <th>2</th>\n",
       "      <td>MCH-001</td>\n",
       "      <td>001</td>\n",
       "      <td>TRUE</td>\n",
       "    </tr>\n",
       "    <tr>\n",
       "      <th>3</th>\n",
       "      <td>MCH-003</td>\n",
       "      <td>003</td>\n",
       "      <td>TRUE</td>\n",
       "    </tr>\n",
       "    <tr>\n",
       "      <th>4</th>\n",
       "      <td>MCH-001</td>\n",
       "      <td>001</td>\n",
       "      <td>TRUE</td>\n",
       "    </tr>\n",
       "  </tbody>\n",
       "</table>\n",
       "</div>"
      ]
     },
     "execution_count": 207,
     "metadata": {},
     "output_type": "execute_result"
    }
   ],
   "execution_count": 207
  },
  {
   "metadata": {
    "ExecuteTime": {
     "end_time": "2025-06-08T16:45:59.202596Z",
     "start_time": "2025-06-08T16:45:59.200556Z"
    }
   },
   "cell_type": "code",
   "source": [
    "# 3. Remove or flag any rows with invalid barcodes.\n",
    "valid_barcode_pattern = r'^([MCH]{3}-\\d{3}+)$'"
   ],
   "id": "d9b9cb7e1dbd3572",
   "outputs": [],
   "execution_count": 208
  },
  {
   "metadata": {
    "ExecuteTime": {
     "end_time": "2025-06-08T16:45:59.271188Z",
     "start_time": "2025-06-08T16:45:59.267722Z"
    }
   },
   "cell_type": "code",
   "source": "df['Is Barcode Valid?'] = df['Machine Barcode'].apply(lambda x: 'Valid' if re.fullmatch(valid_barcode_pattern, str(x)) else 'Invalid')",
   "id": "7532167a88808867",
   "outputs": [],
   "execution_count": 209
  },
  {
   "metadata": {
    "ExecuteTime": {
     "end_time": "2025-06-08T16:45:59.303609Z",
     "start_time": "2025-06-08T16:45:59.298441Z"
    }
   },
   "cell_type": "code",
   "source": "df[['Machine Barcode', 'Barcode Numeric Part', 'Is last 3 Barcode Digits?', 'Is Barcode Valid?']].head()",
   "id": "6c209b67fcced591",
   "outputs": [
    {
     "data": {
      "text/plain": [
       "  Machine Barcode Barcode Numeric Part Is last 3 Barcode Digits?  \\\n",
       "0         MCH-001                  001                      TRUE   \n",
       "1         MCH-001                  001                      TRUE   \n",
       "2         MCH-001                  001                      TRUE   \n",
       "3         MCH-003                  003                      TRUE   \n",
       "4         MCH-001                  001                      TRUE   \n",
       "\n",
       "  Is Barcode Valid?  \n",
       "0             Valid  \n",
       "1             Valid  \n",
       "2             Valid  \n",
       "3             Valid  \n",
       "4             Valid  "
      ],
      "text/html": [
       "<div>\n",
       "<style scoped>\n",
       "    .dataframe tbody tr th:only-of-type {\n",
       "        vertical-align: middle;\n",
       "    }\n",
       "\n",
       "    .dataframe tbody tr th {\n",
       "        vertical-align: top;\n",
       "    }\n",
       "\n",
       "    .dataframe thead th {\n",
       "        text-align: right;\n",
       "    }\n",
       "</style>\n",
       "<table border=\"1\" class=\"dataframe\">\n",
       "  <thead>\n",
       "    <tr style=\"text-align: right;\">\n",
       "      <th></th>\n",
       "      <th>Machine Barcode</th>\n",
       "      <th>Barcode Numeric Part</th>\n",
       "      <th>Is last 3 Barcode Digits?</th>\n",
       "      <th>Is Barcode Valid?</th>\n",
       "    </tr>\n",
       "  </thead>\n",
       "  <tbody>\n",
       "    <tr>\n",
       "      <th>0</th>\n",
       "      <td>MCH-001</td>\n",
       "      <td>001</td>\n",
       "      <td>TRUE</td>\n",
       "      <td>Valid</td>\n",
       "    </tr>\n",
       "    <tr>\n",
       "      <th>1</th>\n",
       "      <td>MCH-001</td>\n",
       "      <td>001</td>\n",
       "      <td>TRUE</td>\n",
       "      <td>Valid</td>\n",
       "    </tr>\n",
       "    <tr>\n",
       "      <th>2</th>\n",
       "      <td>MCH-001</td>\n",
       "      <td>001</td>\n",
       "      <td>TRUE</td>\n",
       "      <td>Valid</td>\n",
       "    </tr>\n",
       "    <tr>\n",
       "      <th>3</th>\n",
       "      <td>MCH-003</td>\n",
       "      <td>003</td>\n",
       "      <td>TRUE</td>\n",
       "      <td>Valid</td>\n",
       "    </tr>\n",
       "    <tr>\n",
       "      <th>4</th>\n",
       "      <td>MCH-001</td>\n",
       "      <td>001</td>\n",
       "      <td>TRUE</td>\n",
       "      <td>Valid</td>\n",
       "    </tr>\n",
       "  </tbody>\n",
       "</table>\n",
       "</div>"
      ]
     },
     "execution_count": 210,
     "metadata": {},
     "output_type": "execute_result"
    }
   ],
   "execution_count": 210
  },
  {
   "metadata": {
    "ExecuteTime": {
     "end_time": "2025-06-08T16:45:59.337446Z",
     "start_time": "2025-06-08T16:45:59.334486Z"
    }
   },
   "cell_type": "code",
   "source": [
    "# 4. Create a composite key (`Material` + `Color` + `Lot Number`) and check for duplicates.\n",
    "df['Composite Key'] = df['Material Type'] + df['Color'] + df['Lot Number']"
   ],
   "id": "49e4dd3ffc7e5718",
   "outputs": [],
   "execution_count": 211
  },
  {
   "metadata": {
    "ExecuteTime": {
     "end_time": "2025-06-08T16:45:59.414824Z",
     "start_time": "2025-06-08T16:45:59.412163Z"
    }
   },
   "cell_type": "code",
   "source": "df['Composite Key'] = df['Composite Key'].str.strip()",
   "id": "4d5795af82d697e6",
   "outputs": [],
   "execution_count": 212
  },
  {
   "metadata": {
    "ExecuteTime": {
     "end_time": "2025-06-08T16:45:59.452720Z",
     "start_time": "2025-06-08T16:45:59.449635Z"
    }
   },
   "cell_type": "code",
   "source": "df['Is Composite Key Duplicated'] = df['Composite Key'].duplicated()",
   "id": "de2e30cda9caa7f7",
   "outputs": [],
   "execution_count": 213
  },
  {
   "metadata": {
    "ExecuteTime": {
     "end_time": "2025-06-08T16:45:59.527214Z",
     "start_time": "2025-06-08T16:45:59.523259Z"
    }
   },
   "cell_type": "code",
   "source": "df[df['Is Composite Key Duplicated'] == True]['Composite Key']",
   "id": "a08dd50e35eb16ce",
   "outputs": [
    {
     "data": {
      "text/plain": [
       "460    PLAWhiteL1920\n",
       "Name: Composite Key, dtype: object"
      ]
     },
     "execution_count": 214,
     "metadata": {},
     "output_type": "execute_result"
    }
   ],
   "execution_count": 214
  },
  {
   "metadata": {
    "ExecuteTime": {
     "end_time": "2025-06-08T16:45:59.536608Z",
     "start_time": "2025-06-08T16:45:59.533704Z"
    }
   },
   "cell_type": "code",
   "source": "duplicate_keys = df[df['Composite Key'].duplicated(keep=False)]  # to see al rows with duplicated keys",
   "id": "4230cc89b43ceb3e",
   "outputs": [],
   "execution_count": 215
  },
  {
   "metadata": {
    "ExecuteTime": {
     "end_time": "2025-06-08T16:45:59.575021Z",
     "start_time": "2025-06-08T16:45:59.565845Z"
    }
   },
   "cell_type": "code",
   "source": "duplicate_keys",
   "id": "3b318fe0912a8890",
   "outputs": [
    {
     "data": {
      "text/plain": [
       "                                 Batch ID Date Produced Material Type  Color  \\\n",
       "181  f6da2d6e-ad58-411f-b93e-50d01c229539    2025-05-11           PLA  White   \n",
       "460  335a6dd7-33be-4e4c-8785-4c3171607e7d    2025-05-26           PLA  White   \n",
       "\n",
       "    Production Line  Weight (g)  Scrap Rate (%) Pass/Fail        Operator  \\\n",
       "181          Line 4      994.56            2.60      Pass  Paul Macdonald   \n",
       "460          Line 6     1053.68            0.46      Pass  Paul Macdonald   \n",
       "\n",
       "                  Phone  ...    Shift Machine Barcode Lot Number  \\\n",
       "181  493-813-3210x19538  ...  Shift A         MCH-003      L1920   \n",
       "460  493-813-3210x19538  ...  Shift A         MCH-003      L1920   \n",
       "\n",
       "    Standardized Material Standardized Color Barcode Numeric Part  \\\n",
       "181                   Pla              White                  003   \n",
       "460                   Pla              White                  003   \n",
       "\n",
       "    Is last 3 Barcode Digits? Is Barcode Valid?  Composite Key  \\\n",
       "181                      TRUE             Valid  PLAWhiteL1920   \n",
       "460                      TRUE             Valid  PLAWhiteL1920   \n",
       "\n",
       "    Is Composite Key Duplicated  \n",
       "181                       False  \n",
       "460                        True  \n",
       "\n",
       "[2 rows x 21 columns]"
      ],
      "text/html": [
       "<div>\n",
       "<style scoped>\n",
       "    .dataframe tbody tr th:only-of-type {\n",
       "        vertical-align: middle;\n",
       "    }\n",
       "\n",
       "    .dataframe tbody tr th {\n",
       "        vertical-align: top;\n",
       "    }\n",
       "\n",
       "    .dataframe thead th {\n",
       "        text-align: right;\n",
       "    }\n",
       "</style>\n",
       "<table border=\"1\" class=\"dataframe\">\n",
       "  <thead>\n",
       "    <tr style=\"text-align: right;\">\n",
       "      <th></th>\n",
       "      <th>Batch ID</th>\n",
       "      <th>Date Produced</th>\n",
       "      <th>Material Type</th>\n",
       "      <th>Color</th>\n",
       "      <th>Production Line</th>\n",
       "      <th>Weight (g)</th>\n",
       "      <th>Scrap Rate (%)</th>\n",
       "      <th>Pass/Fail</th>\n",
       "      <th>Operator</th>\n",
       "      <th>Phone</th>\n",
       "      <th>...</th>\n",
       "      <th>Shift</th>\n",
       "      <th>Machine Barcode</th>\n",
       "      <th>Lot Number</th>\n",
       "      <th>Standardized Material</th>\n",
       "      <th>Standardized Color</th>\n",
       "      <th>Barcode Numeric Part</th>\n",
       "      <th>Is last 3 Barcode Digits?</th>\n",
       "      <th>Is Barcode Valid?</th>\n",
       "      <th>Composite Key</th>\n",
       "      <th>Is Composite Key Duplicated</th>\n",
       "    </tr>\n",
       "  </thead>\n",
       "  <tbody>\n",
       "    <tr>\n",
       "      <th>181</th>\n",
       "      <td>f6da2d6e-ad58-411f-b93e-50d01c229539</td>\n",
       "      <td>2025-05-11</td>\n",
       "      <td>PLA</td>\n",
       "      <td>White</td>\n",
       "      <td>Line 4</td>\n",
       "      <td>994.56</td>\n",
       "      <td>2.60</td>\n",
       "      <td>Pass</td>\n",
       "      <td>Paul Macdonald</td>\n",
       "      <td>493-813-3210x19538</td>\n",
       "      <td>...</td>\n",
       "      <td>Shift A</td>\n",
       "      <td>MCH-003</td>\n",
       "      <td>L1920</td>\n",
       "      <td>Pla</td>\n",
       "      <td>White</td>\n",
       "      <td>003</td>\n",
       "      <td>TRUE</td>\n",
       "      <td>Valid</td>\n",
       "      <td>PLAWhiteL1920</td>\n",
       "      <td>False</td>\n",
       "    </tr>\n",
       "    <tr>\n",
       "      <th>460</th>\n",
       "      <td>335a6dd7-33be-4e4c-8785-4c3171607e7d</td>\n",
       "      <td>2025-05-26</td>\n",
       "      <td>PLA</td>\n",
       "      <td>White</td>\n",
       "      <td>Line 6</td>\n",
       "      <td>1053.68</td>\n",
       "      <td>0.46</td>\n",
       "      <td>Pass</td>\n",
       "      <td>Paul Macdonald</td>\n",
       "      <td>493-813-3210x19538</td>\n",
       "      <td>...</td>\n",
       "      <td>Shift A</td>\n",
       "      <td>MCH-003</td>\n",
       "      <td>L1920</td>\n",
       "      <td>Pla</td>\n",
       "      <td>White</td>\n",
       "      <td>003</td>\n",
       "      <td>TRUE</td>\n",
       "      <td>Valid</td>\n",
       "      <td>PLAWhiteL1920</td>\n",
       "      <td>True</td>\n",
       "    </tr>\n",
       "  </tbody>\n",
       "</table>\n",
       "<p>2 rows × 21 columns</p>\n",
       "</div>"
      ]
     },
     "execution_count": 216,
     "metadata": {},
     "output_type": "execute_result"
    }
   ],
   "execution_count": 216
  },
  {
   "metadata": {
    "ExecuteTime": {
     "end_time": "2025-06-08T16:45:59.600130Z",
     "start_time": "2025-06-08T16:45:59.596636Z"
    }
   },
   "cell_type": "code",
   "source": [
    "# 5. Group by `Material Type` and compute average batch weight and scrap.\n",
    "average_weight_per_material = round(df.groupby('Material Type')['Weight (g)'].mean())"
   ],
   "id": "d0006fbc8a95154a",
   "outputs": [],
   "execution_count": 217
  },
  {
   "metadata": {
    "ExecuteTime": {
     "end_time": "2025-06-08T16:45:59.620425Z",
     "start_time": "2025-06-08T16:45:59.616625Z"
    }
   },
   "cell_type": "code",
   "source": "average_weight_per_material",
   "id": "bfb437d0cdc00902",
   "outputs": [
    {
     "data": {
      "text/plain": [
       "Material Type\n",
       "ABS     998.0\n",
       "PLA    1006.0\n",
       "TPU    1000.0\n",
       "Name: Weight (g), dtype: float64"
      ]
     },
     "execution_count": 218,
     "metadata": {},
     "output_type": "execute_result"
    }
   ],
   "execution_count": 218
  },
  {
   "metadata": {
    "ExecuteTime": {
     "end_time": "2025-06-08T16:45:59.662655Z",
     "start_time": "2025-06-08T16:45:59.659244Z"
    }
   },
   "cell_type": "code",
   "source": "df['Average Weight (g) per Material'] = df['Material Type'].map(average_weight_per_material)",
   "id": "15e01c7a753ffa7c",
   "outputs": [],
   "execution_count": 219
  },
  {
   "metadata": {
    "ExecuteTime": {
     "end_time": "2025-06-08T16:45:59.679527Z",
     "start_time": "2025-06-08T16:45:59.676560Z"
    }
   },
   "cell_type": "code",
   "source": "average_scrap_per_material = round(df.groupby('Material Type')['Scrap Rate (%)'].mean(), 2)",
   "id": "354741af39bafaf0",
   "outputs": [],
   "execution_count": 220
  },
  {
   "metadata": {
    "ExecuteTime": {
     "end_time": "2025-06-08T16:45:59.698855Z",
     "start_time": "2025-06-08T16:45:59.695258Z"
    }
   },
   "cell_type": "code",
   "source": "average_weight_per_material",
   "id": "e3799189394850e2",
   "outputs": [
    {
     "data": {
      "text/plain": [
       "Material Type\n",
       "ABS     998.0\n",
       "PLA    1006.0\n",
       "TPU    1000.0\n",
       "Name: Weight (g), dtype: float64"
      ]
     },
     "execution_count": 221,
     "metadata": {},
     "output_type": "execute_result"
    }
   ],
   "execution_count": 221
  },
  {
   "metadata": {
    "ExecuteTime": {
     "end_time": "2025-06-08T16:45:59.774386Z",
     "start_time": "2025-06-08T16:45:59.771533Z"
    }
   },
   "cell_type": "code",
   "source": "df['Average Scrap Rate (%) per Material'] = df['Material Type'].map(average_scrap_per_material)",
   "id": "f0d96fd0730aa42d",
   "outputs": [],
   "execution_count": 222
  },
  {
   "metadata": {
    "ExecuteTime": {
     "end_time": "2025-06-08T16:45:59.820637Z",
     "start_time": "2025-06-08T16:45:59.814972Z"
    }
   },
   "cell_type": "code",
   "source": "df[['Material Type','Average Weight (g) per Material', 'Average Scrap Rate (%) per Material']].head()",
   "id": "ce679a04a23714eb",
   "outputs": [
    {
     "data": {
      "text/plain": [
       "  Material Type  Average Weight (g) per Material  \\\n",
       "0           PLA                           1006.0   \n",
       "1           PLA                           1006.0   \n",
       "2           ABS                            998.0   \n",
       "3           ABS                            998.0   \n",
       "4           PLA                           1006.0   \n",
       "\n",
       "   Average Scrap Rate (%) per Material  \n",
       "0                                 2.06  \n",
       "1                                 2.06  \n",
       "2                                 2.27  \n",
       "3                                 2.27  \n",
       "4                                 2.06  "
      ],
      "text/html": [
       "<div>\n",
       "<style scoped>\n",
       "    .dataframe tbody tr th:only-of-type {\n",
       "        vertical-align: middle;\n",
       "    }\n",
       "\n",
       "    .dataframe tbody tr th {\n",
       "        vertical-align: top;\n",
       "    }\n",
       "\n",
       "    .dataframe thead th {\n",
       "        text-align: right;\n",
       "    }\n",
       "</style>\n",
       "<table border=\"1\" class=\"dataframe\">\n",
       "  <thead>\n",
       "    <tr style=\"text-align: right;\">\n",
       "      <th></th>\n",
       "      <th>Material Type</th>\n",
       "      <th>Average Weight (g) per Material</th>\n",
       "      <th>Average Scrap Rate (%) per Material</th>\n",
       "    </tr>\n",
       "  </thead>\n",
       "  <tbody>\n",
       "    <tr>\n",
       "      <th>0</th>\n",
       "      <td>PLA</td>\n",
       "      <td>1006.0</td>\n",
       "      <td>2.06</td>\n",
       "    </tr>\n",
       "    <tr>\n",
       "      <th>1</th>\n",
       "      <td>PLA</td>\n",
       "      <td>1006.0</td>\n",
       "      <td>2.06</td>\n",
       "    </tr>\n",
       "    <tr>\n",
       "      <th>2</th>\n",
       "      <td>ABS</td>\n",
       "      <td>998.0</td>\n",
       "      <td>2.27</td>\n",
       "    </tr>\n",
       "    <tr>\n",
       "      <th>3</th>\n",
       "      <td>ABS</td>\n",
       "      <td>998.0</td>\n",
       "      <td>2.27</td>\n",
       "    </tr>\n",
       "    <tr>\n",
       "      <th>4</th>\n",
       "      <td>PLA</td>\n",
       "      <td>1006.0</td>\n",
       "      <td>2.06</td>\n",
       "    </tr>\n",
       "  </tbody>\n",
       "</table>\n",
       "</div>"
      ]
     },
     "execution_count": 223,
     "metadata": {},
     "output_type": "execute_result"
    }
   ],
   "execution_count": 223
  },
  {
   "metadata": {
    "ExecuteTime": {
     "end_time": "2025-06-08T16:45:59.850526Z",
     "start_time": "2025-06-08T16:45:59.847154Z"
    }
   },
   "cell_type": "code",
   "source": [
    "# Alternative solution\n",
    "summary = df.groupby('Material Type')[['Weight (g)', 'Scrap Rate (%)']].sum()"
   ],
   "id": "46a3e0a56a3af17a",
   "outputs": [],
   "execution_count": 224
  },
  {
   "metadata": {
    "ExecuteTime": {
     "end_time": "2025-06-08T16:45:59.865130Z",
     "start_time": "2025-06-08T16:45:59.860329Z"
    }
   },
   "cell_type": "code",
   "source": "summary",
   "id": "9d09f9f235dc13fb",
   "outputs": [
    {
     "data": {
      "text/plain": [
       "               Weight (g)  Scrap Rate (%)\n",
       "Material Type                            \n",
       "ABS             181644.27          413.92\n",
       "PLA             192119.41          394.36\n",
       "TPU             167081.99          347.35"
      ],
      "text/html": [
       "<div>\n",
       "<style scoped>\n",
       "    .dataframe tbody tr th:only-of-type {\n",
       "        vertical-align: middle;\n",
       "    }\n",
       "\n",
       "    .dataframe tbody tr th {\n",
       "        vertical-align: top;\n",
       "    }\n",
       "\n",
       "    .dataframe thead th {\n",
       "        text-align: right;\n",
       "    }\n",
       "</style>\n",
       "<table border=\"1\" class=\"dataframe\">\n",
       "  <thead>\n",
       "    <tr style=\"text-align: right;\">\n",
       "      <th></th>\n",
       "      <th>Weight (g)</th>\n",
       "      <th>Scrap Rate (%)</th>\n",
       "    </tr>\n",
       "    <tr>\n",
       "      <th>Material Type</th>\n",
       "      <th></th>\n",
       "      <th></th>\n",
       "    </tr>\n",
       "  </thead>\n",
       "  <tbody>\n",
       "    <tr>\n",
       "      <th>ABS</th>\n",
       "      <td>181644.27</td>\n",
       "      <td>413.92</td>\n",
       "    </tr>\n",
       "    <tr>\n",
       "      <th>PLA</th>\n",
       "      <td>192119.41</td>\n",
       "      <td>394.36</td>\n",
       "    </tr>\n",
       "    <tr>\n",
       "      <th>TPU</th>\n",
       "      <td>167081.99</td>\n",
       "      <td>347.35</td>\n",
       "    </tr>\n",
       "  </tbody>\n",
       "</table>\n",
       "</div>"
      ]
     },
     "execution_count": 225,
     "metadata": {},
     "output_type": "execute_result"
    }
   ],
   "execution_count": 225
  },
  {
   "metadata": {
    "ExecuteTime": {
     "end_time": "2025-06-08T16:45:59.880436Z",
     "start_time": "2025-06-08T16:45:59.877564Z"
    }
   },
   "cell_type": "code",
   "source": [
    "# 6. Identify if any `Material Type` shows high scrap and low weight simultaneously.\n",
    "scrap_threshold = average_scrap_per_material.mean() - average_scrap_per_material.std()"
   ],
   "id": "cb06f4daff4fdb4e",
   "outputs": [],
   "execution_count": 226
  },
  {
   "metadata": {
    "ExecuteTime": {
     "end_time": "2025-06-08T16:45:59.930308Z",
     "start_time": "2025-06-08T16:45:59.927630Z"
    }
   },
   "cell_type": "code",
   "source": "weight_threshold = average_weight_per_material.mean() - average_weight_per_material",
   "id": "b15fa6491b36f257",
   "outputs": [],
   "execution_count": 227
  },
  {
   "metadata": {
    "ExecuteTime": {
     "end_time": "2025-06-08T16:45:59.948680Z",
     "start_time": "2025-06-08T16:45:59.946228Z"
    }
   },
   "cell_type": "code",
   "source": "high_scarp_low_weight = (average_scrap_per_material > scrap_threshold) & (average_weight_per_material < weight_threshold)",
   "id": "fa89ce8831d2587b",
   "outputs": [],
   "execution_count": 228
  },
  {
   "metadata": {
    "ExecuteTime": {
     "end_time": "2025-06-08T16:45:59.982417Z",
     "start_time": "2025-06-08T16:45:59.979489Z"
    }
   },
   "cell_type": "code",
   "source": [
    "result = pd.DataFrame(\n",
    "    {\n",
    "        'Average Weight (g)': average_weight_per_material,\n",
    "        'Average Scrap Rate (%)': average_scrap_per_material,\n",
    "        'High Scrap and Low Weight?': high_scarp_low_weight\n",
    "    }\n",
    ")"
   ],
   "id": "62e8f8aacfcc1445",
   "outputs": [],
   "execution_count": 229
  },
  {
   "metadata": {
    "ExecuteTime": {
     "end_time": "2025-06-08T16:46:00.052389Z",
     "start_time": "2025-06-08T16:46:00.046810Z"
    }
   },
   "cell_type": "code",
   "source": "result.head()",
   "id": "ff94b867ba20842b",
   "outputs": [
    {
     "data": {
      "text/plain": [
       "               Average Weight (g)  Average Scrap Rate (%)  \\\n",
       "Material Type                                               \n",
       "ABS                         998.0                    2.27   \n",
       "PLA                        1006.0                    2.06   \n",
       "TPU                        1000.0                    2.08   \n",
       "\n",
       "               High Scrap and Low Weight?  \n",
       "Material Type                              \n",
       "ABS                                 False  \n",
       "PLA                                 False  \n",
       "TPU                                 False  "
      ],
      "text/html": [
       "<div>\n",
       "<style scoped>\n",
       "    .dataframe tbody tr th:only-of-type {\n",
       "        vertical-align: middle;\n",
       "    }\n",
       "\n",
       "    .dataframe tbody tr th {\n",
       "        vertical-align: top;\n",
       "    }\n",
       "\n",
       "    .dataframe thead th {\n",
       "        text-align: right;\n",
       "    }\n",
       "</style>\n",
       "<table border=\"1\" class=\"dataframe\">\n",
       "  <thead>\n",
       "    <tr style=\"text-align: right;\">\n",
       "      <th></th>\n",
       "      <th>Average Weight (g)</th>\n",
       "      <th>Average Scrap Rate (%)</th>\n",
       "      <th>High Scrap and Low Weight?</th>\n",
       "    </tr>\n",
       "    <tr>\n",
       "      <th>Material Type</th>\n",
       "      <th></th>\n",
       "      <th></th>\n",
       "      <th></th>\n",
       "    </tr>\n",
       "  </thead>\n",
       "  <tbody>\n",
       "    <tr>\n",
       "      <th>ABS</th>\n",
       "      <td>998.0</td>\n",
       "      <td>2.27</td>\n",
       "      <td>False</td>\n",
       "    </tr>\n",
       "    <tr>\n",
       "      <th>PLA</th>\n",
       "      <td>1006.0</td>\n",
       "      <td>2.06</td>\n",
       "      <td>False</td>\n",
       "    </tr>\n",
       "    <tr>\n",
       "      <th>TPU</th>\n",
       "      <td>1000.0</td>\n",
       "      <td>2.08</td>\n",
       "      <td>False</td>\n",
       "    </tr>\n",
       "  </tbody>\n",
       "</table>\n",
       "</div>"
      ]
     },
     "execution_count": 230,
     "metadata": {},
     "output_type": "execute_result"
    }
   ],
   "execution_count": 230
  },
  {
   "metadata": {
    "ExecuteTime": {
     "end_time": "2025-06-08T16:46:00.058078Z",
     "start_time": "2025-06-08T16:46:00.053983Z"
    }
   },
   "cell_type": "code",
   "source": [
    "# display flagged materials\n",
    "result[result['High Scrap and Low Weight?'] == True]"
   ],
   "id": "2c4bd49df8854add",
   "outputs": [
    {
     "data": {
      "text/plain": [
       "Empty DataFrame\n",
       "Columns: [Average Weight (g), Average Scrap Rate (%), High Scrap and Low Weight?]\n",
       "Index: []"
      ],
      "text/html": [
       "<div>\n",
       "<style scoped>\n",
       "    .dataframe tbody tr th:only-of-type {\n",
       "        vertical-align: middle;\n",
       "    }\n",
       "\n",
       "    .dataframe tbody tr th {\n",
       "        vertical-align: top;\n",
       "    }\n",
       "\n",
       "    .dataframe thead th {\n",
       "        text-align: right;\n",
       "    }\n",
       "</style>\n",
       "<table border=\"1\" class=\"dataframe\">\n",
       "  <thead>\n",
       "    <tr style=\"text-align: right;\">\n",
       "      <th></th>\n",
       "      <th>Average Weight (g)</th>\n",
       "      <th>Average Scrap Rate (%)</th>\n",
       "      <th>High Scrap and Low Weight?</th>\n",
       "    </tr>\n",
       "    <tr>\n",
       "      <th>Material Type</th>\n",
       "      <th></th>\n",
       "      <th></th>\n",
       "      <th></th>\n",
       "    </tr>\n",
       "  </thead>\n",
       "  <tbody>\n",
       "  </tbody>\n",
       "</table>\n",
       "</div>"
      ]
     },
     "execution_count": 231,
     "metadata": {},
     "output_type": "execute_result"
    }
   ],
   "execution_count": 231
  },
  {
   "metadata": {
    "ExecuteTime": {
     "end_time": "2025-06-08T16:48:01.553007Z",
     "start_time": "2025-06-08T16:48:01.549383Z"
    }
   },
   "cell_type": "code",
   "source": [
    "# 7. Recommend whether to isolate any material for QA recheck based on findings.\n",
    "result['Quality Recommendation'] = result['High Scrap and Low Weight?'].apply(lambda x: 'Isolate' if x else 'No Problem')"
   ],
   "id": "81304e0bcbd31af3",
   "outputs": [],
   "execution_count": 234
  },
  {
   "metadata": {
    "ExecuteTime": {
     "end_time": "2025-06-08T16:48:13.614588Z",
     "start_time": "2025-06-08T16:48:13.609630Z"
    }
   },
   "cell_type": "code",
   "source": "result[['High Scrap and Low Weight?', 'Quality Recommendation']]",
   "id": "ecc926078b8cd46",
   "outputs": [
    {
     "data": {
      "text/plain": [
       "               High Scrap and Low Weight? Quality Recommendation\n",
       "Material Type                                                   \n",
       "ABS                                 False             No Problem\n",
       "PLA                                 False             No Problem\n",
       "TPU                                 False             No Problem"
      ],
      "text/html": [
       "<div>\n",
       "<style scoped>\n",
       "    .dataframe tbody tr th:only-of-type {\n",
       "        vertical-align: middle;\n",
       "    }\n",
       "\n",
       "    .dataframe tbody tr th {\n",
       "        vertical-align: top;\n",
       "    }\n",
       "\n",
       "    .dataframe thead th {\n",
       "        text-align: right;\n",
       "    }\n",
       "</style>\n",
       "<table border=\"1\" class=\"dataframe\">\n",
       "  <thead>\n",
       "    <tr style=\"text-align: right;\">\n",
       "      <th></th>\n",
       "      <th>High Scrap and Low Weight?</th>\n",
       "      <th>Quality Recommendation</th>\n",
       "    </tr>\n",
       "    <tr>\n",
       "      <th>Material Type</th>\n",
       "      <th></th>\n",
       "      <th></th>\n",
       "    </tr>\n",
       "  </thead>\n",
       "  <tbody>\n",
       "    <tr>\n",
       "      <th>ABS</th>\n",
       "      <td>False</td>\n",
       "      <td>No Problem</td>\n",
       "    </tr>\n",
       "    <tr>\n",
       "      <th>PLA</th>\n",
       "      <td>False</td>\n",
       "      <td>No Problem</td>\n",
       "    </tr>\n",
       "    <tr>\n",
       "      <th>TPU</th>\n",
       "      <td>False</td>\n",
       "      <td>No Problem</td>\n",
       "    </tr>\n",
       "  </tbody>\n",
       "</table>\n",
       "</div>"
      ]
     },
     "execution_count": 235,
     "metadata": {},
     "output_type": "execute_result"
    }
   ],
   "execution_count": 235
  },
  {
   "metadata": {},
   "cell_type": "code",
   "outputs": [],
   "execution_count": null,
   "source": "",
   "id": "a9ace8a95fcb9c99"
  }
 ],
 "metadata": {
  "kernelspec": {
   "display_name": "Python 3",
   "language": "python",
   "name": "python3"
  },
  "language_info": {
   "codemirror_mode": {
    "name": "ipython",
    "version": 2
   },
   "file_extension": ".py",
   "mimetype": "text/x-python",
   "name": "python",
   "nbconvert_exporter": "python",
   "pygments_lexer": "ipython2",
   "version": "2.7.6"
  }
 },
 "nbformat": 4,
 "nbformat_minor": 5
}
