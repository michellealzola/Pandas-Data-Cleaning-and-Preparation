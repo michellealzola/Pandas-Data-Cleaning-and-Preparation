{
 "cells": [
  {
   "metadata": {},
   "cell_type": "markdown",
   "source": [
    "### **Problem 5: Customer Purchase Behavior and Retargeting**\n",
    "\n",
    "The marketing team wants to segment customers by behavior for retargeting:\n",
    "\n",
    "* Extract first and last names from `Customer Name`.\n",
    "* Create a full address breakdown including house number and city.\n",
    "* Categorize customers based on total spent: Low (<50), Medium (50–100), High (100–200), Very High (>200).\n",
    "* Flag customers who made multiple purchases (same name and email).\n",
    "* Detect outliers: customers whose total price is > 3 std deviations from the mean.\n",
    "* Randomly sample 20% of the dataset to simulate an A/B test group.\n",
    "\n",
    "*Hint: For segmentation, use bins with manual labels; for sampling, draw from entire DataFrame.*\n"
   ],
   "id": "60375f8eba0217d9"
  },
  {
   "metadata": {
    "ExecuteTime": {
     "end_time": "2025-06-06T23:15:25.897337Z",
     "start_time": "2025-06-06T23:15:25.894986Z"
    }
   },
   "cell_type": "code",
   "source": [
    "import pandas as pd\n",
    "import numpy as np\n",
    "import re"
   ],
   "id": "6d3d3bdc05ec631b",
   "outputs": [],
   "execution_count": 117
  },
  {
   "metadata": {
    "ExecuteTime": {
     "end_time": "2025-06-06T23:15:25.971580Z",
     "start_time": "2025-06-06T23:15:25.965185Z"
    }
   },
   "cell_type": "code",
   "source": "data = pd.read_csv('fila_heat_filament_sales_april2025.csv')",
   "id": "c01a3faf7774ffa5",
   "outputs": [],
   "execution_count": 118
  },
  {
   "metadata": {
    "ExecuteTime": {
     "end_time": "2025-06-06T23:15:25.975317Z",
     "start_time": "2025-06-06T23:15:25.972856Z"
    }
   },
   "cell_type": "code",
   "source": "df = pd.DataFrame(data)",
   "id": "8b53f8171ccac687",
   "outputs": [],
   "execution_count": 119
  },
  {
   "metadata": {
    "ExecuteTime": {
     "end_time": "2025-06-06T23:15:25.996015Z",
     "start_time": "2025-06-06T23:15:25.988308Z"
    }
   },
   "cell_type": "code",
   "source": "df.head(3)",
   "id": "d9ef2e749af0363c",
   "outputs": [
    {
     "data": {
      "text/plain": [
       "  Date Purchased                        Receipt Number     Customer Name  \\\n",
       "0     2025-04-01  1ff49b78-8946-4e85-b59c-de66bacfb3d0  Danielle Johnson   \n",
       "1     2025-04-01  434308bc-89fa-4a68-8fb5-d27bbeb79919      Tracie Wyatt   \n",
       "2     2025-04-01  52fbe43b-9954-4eb4-8025-7ad1eb2263dd        Eric Moore   \n",
       "\n",
       "                                  Customer Address           Phone Number  \\\n",
       "0  3321 Brittany Bypass, North Jefferyhaven, 79408             8386379402   \n",
       "1        64752 Kelly Skyway, Jacquelineland, 80341   +1-283-276-4835x0305   \n",
       "2             691 James Mountain, Tashatown, 89667  001-184-514-6270x4828   \n",
       "\n",
       "                          Email                              Store Location  \\\n",
       "0  danielle.johnson@hotmail.com  5423 Garcia Light, West Melanieview, 06196   \n",
       "1        tracie.wyatt@yahoo.com         1395 Diana Locks, Thomasberg, 32826   \n",
       "2          eric.moore@gmail.com        489 Eric Track, New Stephanie, 70015   \n",
       "\n",
       "            Product Name Product Code      Bar Code Material Name   Color  \\\n",
       "0  Standard PLA Filament      PLA-792  6.184960e+12           PLA    Blue   \n",
       "1  Flexible TPU Filament      TPU-338  9.696530e+12           TPU  Purple   \n",
       "2  Flexible TPU Filament      TPU-325  7.015430e+12           TPU  Purple   \n",
       "\n",
       "   Weight       Supplier Lot Number  Price  Quantity    Tax  Total Price  \n",
       "0     500    3DFilaments      L5012  26.69         1   1.87        28.56  \n",
       "1     500  ProtoPolymers      L1520  20.88         2   2.92        44.68  \n",
       "2    1000       PrintPro      L4257  41.47         4  11.61       177.49  "
      ],
      "text/html": [
       "<div>\n",
       "<style scoped>\n",
       "    .dataframe tbody tr th:only-of-type {\n",
       "        vertical-align: middle;\n",
       "    }\n",
       "\n",
       "    .dataframe tbody tr th {\n",
       "        vertical-align: top;\n",
       "    }\n",
       "\n",
       "    .dataframe thead th {\n",
       "        text-align: right;\n",
       "    }\n",
       "</style>\n",
       "<table border=\"1\" class=\"dataframe\">\n",
       "  <thead>\n",
       "    <tr style=\"text-align: right;\">\n",
       "      <th></th>\n",
       "      <th>Date Purchased</th>\n",
       "      <th>Receipt Number</th>\n",
       "      <th>Customer Name</th>\n",
       "      <th>Customer Address</th>\n",
       "      <th>Phone Number</th>\n",
       "      <th>Email</th>\n",
       "      <th>Store Location</th>\n",
       "      <th>Product Name</th>\n",
       "      <th>Product Code</th>\n",
       "      <th>Bar Code</th>\n",
       "      <th>Material Name</th>\n",
       "      <th>Color</th>\n",
       "      <th>Weight</th>\n",
       "      <th>Supplier</th>\n",
       "      <th>Lot Number</th>\n",
       "      <th>Price</th>\n",
       "      <th>Quantity</th>\n",
       "      <th>Tax</th>\n",
       "      <th>Total Price</th>\n",
       "    </tr>\n",
       "  </thead>\n",
       "  <tbody>\n",
       "    <tr>\n",
       "      <th>0</th>\n",
       "      <td>2025-04-01</td>\n",
       "      <td>1ff49b78-8946-4e85-b59c-de66bacfb3d0</td>\n",
       "      <td>Danielle Johnson</td>\n",
       "      <td>3321 Brittany Bypass, North Jefferyhaven, 79408</td>\n",
       "      <td>8386379402</td>\n",
       "      <td>danielle.johnson@hotmail.com</td>\n",
       "      <td>5423 Garcia Light, West Melanieview, 06196</td>\n",
       "      <td>Standard PLA Filament</td>\n",
       "      <td>PLA-792</td>\n",
       "      <td>6.184960e+12</td>\n",
       "      <td>PLA</td>\n",
       "      <td>Blue</td>\n",
       "      <td>500</td>\n",
       "      <td>3DFilaments</td>\n",
       "      <td>L5012</td>\n",
       "      <td>26.69</td>\n",
       "      <td>1</td>\n",
       "      <td>1.87</td>\n",
       "      <td>28.56</td>\n",
       "    </tr>\n",
       "    <tr>\n",
       "      <th>1</th>\n",
       "      <td>2025-04-01</td>\n",
       "      <td>434308bc-89fa-4a68-8fb5-d27bbeb79919</td>\n",
       "      <td>Tracie Wyatt</td>\n",
       "      <td>64752 Kelly Skyway, Jacquelineland, 80341</td>\n",
       "      <td>+1-283-276-4835x0305</td>\n",
       "      <td>tracie.wyatt@yahoo.com</td>\n",
       "      <td>1395 Diana Locks, Thomasberg, 32826</td>\n",
       "      <td>Flexible TPU Filament</td>\n",
       "      <td>TPU-338</td>\n",
       "      <td>9.696530e+12</td>\n",
       "      <td>TPU</td>\n",
       "      <td>Purple</td>\n",
       "      <td>500</td>\n",
       "      <td>ProtoPolymers</td>\n",
       "      <td>L1520</td>\n",
       "      <td>20.88</td>\n",
       "      <td>2</td>\n",
       "      <td>2.92</td>\n",
       "      <td>44.68</td>\n",
       "    </tr>\n",
       "    <tr>\n",
       "      <th>2</th>\n",
       "      <td>2025-04-01</td>\n",
       "      <td>52fbe43b-9954-4eb4-8025-7ad1eb2263dd</td>\n",
       "      <td>Eric Moore</td>\n",
       "      <td>691 James Mountain, Tashatown, 89667</td>\n",
       "      <td>001-184-514-6270x4828</td>\n",
       "      <td>eric.moore@gmail.com</td>\n",
       "      <td>489 Eric Track, New Stephanie, 70015</td>\n",
       "      <td>Flexible TPU Filament</td>\n",
       "      <td>TPU-325</td>\n",
       "      <td>7.015430e+12</td>\n",
       "      <td>TPU</td>\n",
       "      <td>Purple</td>\n",
       "      <td>1000</td>\n",
       "      <td>PrintPro</td>\n",
       "      <td>L4257</td>\n",
       "      <td>41.47</td>\n",
       "      <td>4</td>\n",
       "      <td>11.61</td>\n",
       "      <td>177.49</td>\n",
       "    </tr>\n",
       "  </tbody>\n",
       "</table>\n",
       "</div>"
      ]
     },
     "execution_count": 120,
     "metadata": {},
     "output_type": "execute_result"
    }
   ],
   "execution_count": 120
  },
  {
   "metadata": {
    "ExecuteTime": {
     "end_time": "2025-06-06T23:15:25.999237Z",
     "start_time": "2025-06-06T23:15:25.997255Z"
    }
   },
   "cell_type": "code",
   "source": [
    "# 1. Extract first and last names from `Customer Name`.\n",
    "names_pattern = r'^([A-Za-z]+)\\s+([A-Za-z]+)$'"
   ],
   "id": "cdcbf8e8926fcb5a",
   "outputs": [],
   "execution_count": 121
  },
  {
   "metadata": {
    "ExecuteTime": {
     "end_time": "2025-06-06T23:15:26.003952Z",
     "start_time": "2025-06-06T23:15:26.000236Z"
    }
   },
   "cell_type": "code",
   "source": "df[['First Name', 'Last Name']] = df['Customer Name'].str.extract(names_pattern)",
   "id": "ab8dbc2c2c077c4b",
   "outputs": [],
   "execution_count": 122
  },
  {
   "metadata": {
    "ExecuteTime": {
     "end_time": "2025-06-06T23:15:26.053865Z",
     "start_time": "2025-06-06T23:15:26.048529Z"
    }
   },
   "cell_type": "code",
   "source": "df[['Customer Name', 'First Name', 'Last Name']].head(3)",
   "id": "6a17e407d2f3d338",
   "outputs": [
    {
     "data": {
      "text/plain": [
       "      Customer Name First Name Last Name\n",
       "0  Danielle Johnson   Danielle   Johnson\n",
       "1      Tracie Wyatt     Tracie     Wyatt\n",
       "2        Eric Moore       Eric     Moore"
      ],
      "text/html": [
       "<div>\n",
       "<style scoped>\n",
       "    .dataframe tbody tr th:only-of-type {\n",
       "        vertical-align: middle;\n",
       "    }\n",
       "\n",
       "    .dataframe tbody tr th {\n",
       "        vertical-align: top;\n",
       "    }\n",
       "\n",
       "    .dataframe thead th {\n",
       "        text-align: right;\n",
       "    }\n",
       "</style>\n",
       "<table border=\"1\" class=\"dataframe\">\n",
       "  <thead>\n",
       "    <tr style=\"text-align: right;\">\n",
       "      <th></th>\n",
       "      <th>Customer Name</th>\n",
       "      <th>First Name</th>\n",
       "      <th>Last Name</th>\n",
       "    </tr>\n",
       "  </thead>\n",
       "  <tbody>\n",
       "    <tr>\n",
       "      <th>0</th>\n",
       "      <td>Danielle Johnson</td>\n",
       "      <td>Danielle</td>\n",
       "      <td>Johnson</td>\n",
       "    </tr>\n",
       "    <tr>\n",
       "      <th>1</th>\n",
       "      <td>Tracie Wyatt</td>\n",
       "      <td>Tracie</td>\n",
       "      <td>Wyatt</td>\n",
       "    </tr>\n",
       "    <tr>\n",
       "      <th>2</th>\n",
       "      <td>Eric Moore</td>\n",
       "      <td>Eric</td>\n",
       "      <td>Moore</td>\n",
       "    </tr>\n",
       "  </tbody>\n",
       "</table>\n",
       "</div>"
      ]
     },
     "execution_count": 123,
     "metadata": {},
     "output_type": "execute_result"
    }
   ],
   "execution_count": 123
  },
  {
   "metadata": {
    "ExecuteTime": {
     "end_time": "2025-06-06T23:15:26.090777Z",
     "start_time": "2025-06-06T23:15:26.088318Z"
    }
   },
   "cell_type": "code",
   "source": [
    "# 2. Create a full address breakdown including house number and city.\n",
    "customer_address_pattern = r'^(\\d+)\\s+([A-Za-z\\s]+),\\s+([A-Za-z\\s]+),\\s+(\\d{5})$'"
   ],
   "id": "e06f2f4a95fba27d",
   "outputs": [],
   "execution_count": 124
  },
  {
   "metadata": {
    "ExecuteTime": {
     "end_time": "2025-06-06T23:15:26.151232Z",
     "start_time": "2025-06-06T23:15:26.147312Z"
    }
   },
   "cell_type": "code",
   "source": "df[['House No.', 'Street', 'City', 'Zip Code']] = df['Customer Address'].str.extract(customer_address_pattern)",
   "id": "27a3d1a1d17bc09d",
   "outputs": [],
   "execution_count": 125
  },
  {
   "metadata": {
    "ExecuteTime": {
     "end_time": "2025-06-06T23:15:26.171364Z",
     "start_time": "2025-06-06T23:15:26.165966Z"
    }
   },
   "cell_type": "code",
   "source": "df[['Customer Address', 'House No.', 'Street', 'City', 'Zip Code']].head(3)",
   "id": "29cec56238f54b8f",
   "outputs": [
    {
     "data": {
      "text/plain": [
       "                                  Customer Address House No.           Street  \\\n",
       "0  3321 Brittany Bypass, North Jefferyhaven, 79408      3321  Brittany Bypass   \n",
       "1        64752 Kelly Skyway, Jacquelineland, 80341     64752     Kelly Skyway   \n",
       "2             691 James Mountain, Tashatown, 89667       691   James Mountain   \n",
       "\n",
       "                 City Zip Code  \n",
       "0  North Jefferyhaven    79408  \n",
       "1      Jacquelineland    80341  \n",
       "2           Tashatown    89667  "
      ],
      "text/html": [
       "<div>\n",
       "<style scoped>\n",
       "    .dataframe tbody tr th:only-of-type {\n",
       "        vertical-align: middle;\n",
       "    }\n",
       "\n",
       "    .dataframe tbody tr th {\n",
       "        vertical-align: top;\n",
       "    }\n",
       "\n",
       "    .dataframe thead th {\n",
       "        text-align: right;\n",
       "    }\n",
       "</style>\n",
       "<table border=\"1\" class=\"dataframe\">\n",
       "  <thead>\n",
       "    <tr style=\"text-align: right;\">\n",
       "      <th></th>\n",
       "      <th>Customer Address</th>\n",
       "      <th>House No.</th>\n",
       "      <th>Street</th>\n",
       "      <th>City</th>\n",
       "      <th>Zip Code</th>\n",
       "    </tr>\n",
       "  </thead>\n",
       "  <tbody>\n",
       "    <tr>\n",
       "      <th>0</th>\n",
       "      <td>3321 Brittany Bypass, North Jefferyhaven, 79408</td>\n",
       "      <td>3321</td>\n",
       "      <td>Brittany Bypass</td>\n",
       "      <td>North Jefferyhaven</td>\n",
       "      <td>79408</td>\n",
       "    </tr>\n",
       "    <tr>\n",
       "      <th>1</th>\n",
       "      <td>64752 Kelly Skyway, Jacquelineland, 80341</td>\n",
       "      <td>64752</td>\n",
       "      <td>Kelly Skyway</td>\n",
       "      <td>Jacquelineland</td>\n",
       "      <td>80341</td>\n",
       "    </tr>\n",
       "    <tr>\n",
       "      <th>2</th>\n",
       "      <td>691 James Mountain, Tashatown, 89667</td>\n",
       "      <td>691</td>\n",
       "      <td>James Mountain</td>\n",
       "      <td>Tashatown</td>\n",
       "      <td>89667</td>\n",
       "    </tr>\n",
       "  </tbody>\n",
       "</table>\n",
       "</div>"
      ]
     },
     "execution_count": 126,
     "metadata": {},
     "output_type": "execute_result"
    }
   ],
   "execution_count": 126
  },
  {
   "metadata": {
    "ExecuteTime": {
     "end_time": "2025-06-06T23:15:26.242097Z",
     "start_time": "2025-06-06T23:15:26.239665Z"
    }
   },
   "cell_type": "code",
   "source": [
    "# 3. Categorize customers based on total spent: Low (<50), Medium (50–100), High (100–200), Very High (>200).\n",
    "customer_bins = [0, 50, 100, 200, df['Total Price'].max()]"
   ],
   "id": "8c7b83c73c931ef9",
   "outputs": [],
   "execution_count": 127
  },
  {
   "metadata": {
    "ExecuteTime": {
     "end_time": "2025-06-06T23:15:26.273627Z",
     "start_time": "2025-06-06T23:15:26.270402Z"
    }
   },
   "cell_type": "code",
   "source": "df['Customer Categories'] = pd.cut(df['Total Price'], customer_bins, labels=['low', 'medium', 'high', 'very high'])",
   "id": "a06a2e68dae41eee",
   "outputs": [],
   "execution_count": 128
  },
  {
   "metadata": {
    "ExecuteTime": {
     "end_time": "2025-06-06T23:15:26.284994Z",
     "start_time": "2025-06-06T23:15:26.279951Z"
    }
   },
   "cell_type": "code",
   "source": "df[['Customer Name', 'Total Price', 'Customer Categories']].head(3)",
   "id": "21b4a64a16d7f46c",
   "outputs": [
    {
     "data": {
      "text/plain": [
       "      Customer Name  Total Price Customer Categories\n",
       "0  Danielle Johnson        28.56                 low\n",
       "1      Tracie Wyatt        44.68                 low\n",
       "2        Eric Moore       177.49                high"
      ],
      "text/html": [
       "<div>\n",
       "<style scoped>\n",
       "    .dataframe tbody tr th:only-of-type {\n",
       "        vertical-align: middle;\n",
       "    }\n",
       "\n",
       "    .dataframe tbody tr th {\n",
       "        vertical-align: top;\n",
       "    }\n",
       "\n",
       "    .dataframe thead th {\n",
       "        text-align: right;\n",
       "    }\n",
       "</style>\n",
       "<table border=\"1\" class=\"dataframe\">\n",
       "  <thead>\n",
       "    <tr style=\"text-align: right;\">\n",
       "      <th></th>\n",
       "      <th>Customer Name</th>\n",
       "      <th>Total Price</th>\n",
       "      <th>Customer Categories</th>\n",
       "    </tr>\n",
       "  </thead>\n",
       "  <tbody>\n",
       "    <tr>\n",
       "      <th>0</th>\n",
       "      <td>Danielle Johnson</td>\n",
       "      <td>28.56</td>\n",
       "      <td>low</td>\n",
       "    </tr>\n",
       "    <tr>\n",
       "      <th>1</th>\n",
       "      <td>Tracie Wyatt</td>\n",
       "      <td>44.68</td>\n",
       "      <td>low</td>\n",
       "    </tr>\n",
       "    <tr>\n",
       "      <th>2</th>\n",
       "      <td>Eric Moore</td>\n",
       "      <td>177.49</td>\n",
       "      <td>high</td>\n",
       "    </tr>\n",
       "  </tbody>\n",
       "</table>\n",
       "</div>"
      ]
     },
     "execution_count": 129,
     "metadata": {},
     "output_type": "execute_result"
    }
   ],
   "execution_count": 129
  },
  {
   "metadata": {
    "ExecuteTime": {
     "end_time": "2025-06-06T23:15:26.308346Z",
     "start_time": "2025-06-06T23:15:26.303344Z"
    }
   },
   "cell_type": "code",
   "source": [
    "# replace NaNs (from missing values) with a label\n",
    "df['Customer Categories'].cat.add_categories('missing').fillna('missing')"
   ],
   "id": "d10a520fb7a73b4c",
   "outputs": [
    {
     "data": {
      "text/plain": [
       "0         low\n",
       "1         low\n",
       "2        high\n",
       "3      medium\n",
       "4      medium\n",
       "        ...  \n",
       "355      high\n",
       "356      high\n",
       "357      high\n",
       "358      high\n",
       "359      high\n",
       "Name: Customer Categories, Length: 360, dtype: category\n",
       "Categories (5, object): ['low' < 'medium' < 'high' < 'very high' < 'missing']"
      ]
     },
     "execution_count": 130,
     "metadata": {},
     "output_type": "execute_result"
    }
   ],
   "execution_count": 130
  },
  {
   "metadata": {
    "ExecuteTime": {
     "end_time": "2025-06-06T23:15:26.348990Z",
     "start_time": "2025-06-06T23:15:26.344206Z"
    }
   },
   "cell_type": "code",
   "source": [
    "# 4. Flag customers who made multiple purchases (same name and email).\n",
    "multiple_purchaser = (\n",
    "    df.groupby(['Customer Name', 'Email'])['Product Code']\n",
    "    .size()\n",
    "    .reset_index(name='Total Purchases')\n",
    ")"
   ],
   "id": "12dcb342e5fb517b",
   "outputs": [],
   "execution_count": 131
  },
  {
   "metadata": {
    "ExecuteTime": {
     "end_time": "2025-06-06T23:15:26.412679Z",
     "start_time": "2025-06-06T23:15:26.408166Z"
    }
   },
   "cell_type": "code",
   "source": "multiple_purchaser.head(3)",
   "id": "f0b4ba7e6ae761c6",
   "outputs": [
    {
     "data": {
      "text/plain": [
       "   Customer Name                    Email  Total Purchases\n",
       "0  Aaron Johnson  aaron.johnson@yahoo.com                1\n",
       "1     Adam Barry   adam.barry@hotmail.com                1\n",
       "2    Adam Cortez  adam.cortez@hotmail.com                1"
      ],
      "text/html": [
       "<div>\n",
       "<style scoped>\n",
       "    .dataframe tbody tr th:only-of-type {\n",
       "        vertical-align: middle;\n",
       "    }\n",
       "\n",
       "    .dataframe tbody tr th {\n",
       "        vertical-align: top;\n",
       "    }\n",
       "\n",
       "    .dataframe thead th {\n",
       "        text-align: right;\n",
       "    }\n",
       "</style>\n",
       "<table border=\"1\" class=\"dataframe\">\n",
       "  <thead>\n",
       "    <tr style=\"text-align: right;\">\n",
       "      <th></th>\n",
       "      <th>Customer Name</th>\n",
       "      <th>Email</th>\n",
       "      <th>Total Purchases</th>\n",
       "    </tr>\n",
       "  </thead>\n",
       "  <tbody>\n",
       "    <tr>\n",
       "      <th>0</th>\n",
       "      <td>Aaron Johnson</td>\n",
       "      <td>aaron.johnson@yahoo.com</td>\n",
       "      <td>1</td>\n",
       "    </tr>\n",
       "    <tr>\n",
       "      <th>1</th>\n",
       "      <td>Adam Barry</td>\n",
       "      <td>adam.barry@hotmail.com</td>\n",
       "      <td>1</td>\n",
       "    </tr>\n",
       "    <tr>\n",
       "      <th>2</th>\n",
       "      <td>Adam Cortez</td>\n",
       "      <td>adam.cortez@hotmail.com</td>\n",
       "      <td>1</td>\n",
       "    </tr>\n",
       "  </tbody>\n",
       "</table>\n",
       "</div>"
      ]
     },
     "execution_count": 132,
     "metadata": {},
     "output_type": "execute_result"
    }
   ],
   "execution_count": 132
  },
  {
   "metadata": {
    "ExecuteTime": {
     "end_time": "2025-06-06T23:15:26.511736Z",
     "start_time": "2025-06-06T23:15:26.508763Z"
    }
   },
   "cell_type": "code",
   "source": "multiple_purchaser['Flag (more than 1 purchase)'] = multiple_purchaser['Total Purchases'].apply(lambda x: 'FLAGGED' if x > 1 else '')",
   "id": "6c3fe6e4c87fd1fb",
   "outputs": [],
   "execution_count": 133
  },
  {
   "metadata": {
    "ExecuteTime": {
     "end_time": "2025-06-06T23:15:26.540285Z",
     "start_time": "2025-06-06T23:15:26.535805Z"
    }
   },
   "cell_type": "code",
   "source": "multiple_purchaser.head(3)",
   "id": "da490cb9a2727274",
   "outputs": [
    {
     "data": {
      "text/plain": [
       "   Customer Name                    Email  Total Purchases  \\\n",
       "0  Aaron Johnson  aaron.johnson@yahoo.com                1   \n",
       "1     Adam Barry   adam.barry@hotmail.com                1   \n",
       "2    Adam Cortez  adam.cortez@hotmail.com                1   \n",
       "\n",
       "  Flag (more than 1 purchase)  \n",
       "0                              \n",
       "1                              \n",
       "2                              "
      ],
      "text/html": [
       "<div>\n",
       "<style scoped>\n",
       "    .dataframe tbody tr th:only-of-type {\n",
       "        vertical-align: middle;\n",
       "    }\n",
       "\n",
       "    .dataframe tbody tr th {\n",
       "        vertical-align: top;\n",
       "    }\n",
       "\n",
       "    .dataframe thead th {\n",
       "        text-align: right;\n",
       "    }\n",
       "</style>\n",
       "<table border=\"1\" class=\"dataframe\">\n",
       "  <thead>\n",
       "    <tr style=\"text-align: right;\">\n",
       "      <th></th>\n",
       "      <th>Customer Name</th>\n",
       "      <th>Email</th>\n",
       "      <th>Total Purchases</th>\n",
       "      <th>Flag (more than 1 purchase)</th>\n",
       "    </tr>\n",
       "  </thead>\n",
       "  <tbody>\n",
       "    <tr>\n",
       "      <th>0</th>\n",
       "      <td>Aaron Johnson</td>\n",
       "      <td>aaron.johnson@yahoo.com</td>\n",
       "      <td>1</td>\n",
       "      <td></td>\n",
       "    </tr>\n",
       "    <tr>\n",
       "      <th>1</th>\n",
       "      <td>Adam Barry</td>\n",
       "      <td>adam.barry@hotmail.com</td>\n",
       "      <td>1</td>\n",
       "      <td></td>\n",
       "    </tr>\n",
       "    <tr>\n",
       "      <th>2</th>\n",
       "      <td>Adam Cortez</td>\n",
       "      <td>adam.cortez@hotmail.com</td>\n",
       "      <td>1</td>\n",
       "      <td></td>\n",
       "    </tr>\n",
       "  </tbody>\n",
       "</table>\n",
       "</div>"
      ]
     },
     "execution_count": 134,
     "metadata": {},
     "output_type": "execute_result"
    }
   ],
   "execution_count": 134
  },
  {
   "metadata": {
    "ExecuteTime": {
     "end_time": "2025-06-06T23:15:26.546421Z",
     "start_time": "2025-06-06T23:15:26.541529Z"
    }
   },
   "cell_type": "code",
   "source": [
    "# merge back to original df\n",
    "df = df.merge(\n",
    "    multiple_purchaser[['Customer Name', 'Email', 'Flag (more than 1 purchase)']],\n",
    "    on=['Customer Name', 'Email'],\n",
    "    how='left' # keeps original rows\n",
    ")"
   ],
   "id": "37214b6a19338848",
   "outputs": [],
   "execution_count": 135
  },
  {
   "metadata": {
    "ExecuteTime": {
     "end_time": "2025-06-06T23:15:26.556318Z",
     "start_time": "2025-06-06T23:15:26.547538Z"
    }
   },
   "cell_type": "code",
   "source": "df.head(3)",
   "id": "98592d74ae4f0e67",
   "outputs": [
    {
     "data": {
      "text/plain": [
       "  Date Purchased                        Receipt Number     Customer Name  \\\n",
       "0     2025-04-01  1ff49b78-8946-4e85-b59c-de66bacfb3d0  Danielle Johnson   \n",
       "1     2025-04-01  434308bc-89fa-4a68-8fb5-d27bbeb79919      Tracie Wyatt   \n",
       "2     2025-04-01  52fbe43b-9954-4eb4-8025-7ad1eb2263dd        Eric Moore   \n",
       "\n",
       "                                  Customer Address           Phone Number  \\\n",
       "0  3321 Brittany Bypass, North Jefferyhaven, 79408             8386379402   \n",
       "1        64752 Kelly Skyway, Jacquelineland, 80341   +1-283-276-4835x0305   \n",
       "2             691 James Mountain, Tashatown, 89667  001-184-514-6270x4828   \n",
       "\n",
       "                          Email                              Store Location  \\\n",
       "0  danielle.johnson@hotmail.com  5423 Garcia Light, West Melanieview, 06196   \n",
       "1        tracie.wyatt@yahoo.com         1395 Diana Locks, Thomasberg, 32826   \n",
       "2          eric.moore@gmail.com        489 Eric Track, New Stephanie, 70015   \n",
       "\n",
       "            Product Name Product Code      Bar Code  ...    Tax Total Price  \\\n",
       "0  Standard PLA Filament      PLA-792  6.184960e+12  ...   1.87       28.56   \n",
       "1  Flexible TPU Filament      TPU-338  9.696530e+12  ...   2.92       44.68   \n",
       "2  Flexible TPU Filament      TPU-325  7.015430e+12  ...  11.61      177.49   \n",
       "\n",
       "   First Name Last Name House No.           Street                City  \\\n",
       "0    Danielle   Johnson      3321  Brittany Bypass  North Jefferyhaven   \n",
       "1      Tracie     Wyatt     64752     Kelly Skyway      Jacquelineland   \n",
       "2        Eric     Moore       691   James Mountain           Tashatown   \n",
       "\n",
       "   Zip Code  Customer Categories Flag (more than 1 purchase)  \n",
       "0     79408                  low                              \n",
       "1     80341                  low                              \n",
       "2     89667                 high                              \n",
       "\n",
       "[3 rows x 27 columns]"
      ],
      "text/html": [
       "<div>\n",
       "<style scoped>\n",
       "    .dataframe tbody tr th:only-of-type {\n",
       "        vertical-align: middle;\n",
       "    }\n",
       "\n",
       "    .dataframe tbody tr th {\n",
       "        vertical-align: top;\n",
       "    }\n",
       "\n",
       "    .dataframe thead th {\n",
       "        text-align: right;\n",
       "    }\n",
       "</style>\n",
       "<table border=\"1\" class=\"dataframe\">\n",
       "  <thead>\n",
       "    <tr style=\"text-align: right;\">\n",
       "      <th></th>\n",
       "      <th>Date Purchased</th>\n",
       "      <th>Receipt Number</th>\n",
       "      <th>Customer Name</th>\n",
       "      <th>Customer Address</th>\n",
       "      <th>Phone Number</th>\n",
       "      <th>Email</th>\n",
       "      <th>Store Location</th>\n",
       "      <th>Product Name</th>\n",
       "      <th>Product Code</th>\n",
       "      <th>Bar Code</th>\n",
       "      <th>...</th>\n",
       "      <th>Tax</th>\n",
       "      <th>Total Price</th>\n",
       "      <th>First Name</th>\n",
       "      <th>Last Name</th>\n",
       "      <th>House No.</th>\n",
       "      <th>Street</th>\n",
       "      <th>City</th>\n",
       "      <th>Zip Code</th>\n",
       "      <th>Customer Categories</th>\n",
       "      <th>Flag (more than 1 purchase)</th>\n",
       "    </tr>\n",
       "  </thead>\n",
       "  <tbody>\n",
       "    <tr>\n",
       "      <th>0</th>\n",
       "      <td>2025-04-01</td>\n",
       "      <td>1ff49b78-8946-4e85-b59c-de66bacfb3d0</td>\n",
       "      <td>Danielle Johnson</td>\n",
       "      <td>3321 Brittany Bypass, North Jefferyhaven, 79408</td>\n",
       "      <td>8386379402</td>\n",
       "      <td>danielle.johnson@hotmail.com</td>\n",
       "      <td>5423 Garcia Light, West Melanieview, 06196</td>\n",
       "      <td>Standard PLA Filament</td>\n",
       "      <td>PLA-792</td>\n",
       "      <td>6.184960e+12</td>\n",
       "      <td>...</td>\n",
       "      <td>1.87</td>\n",
       "      <td>28.56</td>\n",
       "      <td>Danielle</td>\n",
       "      <td>Johnson</td>\n",
       "      <td>3321</td>\n",
       "      <td>Brittany Bypass</td>\n",
       "      <td>North Jefferyhaven</td>\n",
       "      <td>79408</td>\n",
       "      <td>low</td>\n",
       "      <td></td>\n",
       "    </tr>\n",
       "    <tr>\n",
       "      <th>1</th>\n",
       "      <td>2025-04-01</td>\n",
       "      <td>434308bc-89fa-4a68-8fb5-d27bbeb79919</td>\n",
       "      <td>Tracie Wyatt</td>\n",
       "      <td>64752 Kelly Skyway, Jacquelineland, 80341</td>\n",
       "      <td>+1-283-276-4835x0305</td>\n",
       "      <td>tracie.wyatt@yahoo.com</td>\n",
       "      <td>1395 Diana Locks, Thomasberg, 32826</td>\n",
       "      <td>Flexible TPU Filament</td>\n",
       "      <td>TPU-338</td>\n",
       "      <td>9.696530e+12</td>\n",
       "      <td>...</td>\n",
       "      <td>2.92</td>\n",
       "      <td>44.68</td>\n",
       "      <td>Tracie</td>\n",
       "      <td>Wyatt</td>\n",
       "      <td>64752</td>\n",
       "      <td>Kelly Skyway</td>\n",
       "      <td>Jacquelineland</td>\n",
       "      <td>80341</td>\n",
       "      <td>low</td>\n",
       "      <td></td>\n",
       "    </tr>\n",
       "    <tr>\n",
       "      <th>2</th>\n",
       "      <td>2025-04-01</td>\n",
       "      <td>52fbe43b-9954-4eb4-8025-7ad1eb2263dd</td>\n",
       "      <td>Eric Moore</td>\n",
       "      <td>691 James Mountain, Tashatown, 89667</td>\n",
       "      <td>001-184-514-6270x4828</td>\n",
       "      <td>eric.moore@gmail.com</td>\n",
       "      <td>489 Eric Track, New Stephanie, 70015</td>\n",
       "      <td>Flexible TPU Filament</td>\n",
       "      <td>TPU-325</td>\n",
       "      <td>7.015430e+12</td>\n",
       "      <td>...</td>\n",
       "      <td>11.61</td>\n",
       "      <td>177.49</td>\n",
       "      <td>Eric</td>\n",
       "      <td>Moore</td>\n",
       "      <td>691</td>\n",
       "      <td>James Mountain</td>\n",
       "      <td>Tashatown</td>\n",
       "      <td>89667</td>\n",
       "      <td>high</td>\n",
       "      <td></td>\n",
       "    </tr>\n",
       "  </tbody>\n",
       "</table>\n",
       "<p>3 rows × 27 columns</p>\n",
       "</div>"
      ]
     },
     "execution_count": 136,
     "metadata": {},
     "output_type": "execute_result"
    }
   ],
   "execution_count": 136
  },
  {
   "metadata": {
    "ExecuteTime": {
     "end_time": "2025-06-06T23:15:26.562598Z",
     "start_time": "2025-06-06T23:15:26.560068Z"
    }
   },
   "cell_type": "code",
   "source": [
    "# 5. Detect outliers: customers whose total price is > 3 std deviations from the mean.\n",
    "mean_price = df['Total Price'].mean()"
   ],
   "id": "3907866e47189499",
   "outputs": [],
   "execution_count": 137
  },
  {
   "metadata": {
    "ExecuteTime": {
     "end_time": "2025-06-06T23:15:26.617176Z",
     "start_time": "2025-06-06T23:15:26.614776Z"
    }
   },
   "cell_type": "code",
   "source": "std_price = df['Total Price'].std()",
   "id": "3a0e3c8acc51327b",
   "outputs": [],
   "execution_count": 138
  },
  {
   "metadata": {
    "ExecuteTime": {
     "end_time": "2025-06-06T23:15:26.737768Z",
     "start_time": "2025-06-06T23:15:26.735272Z"
    }
   },
   "cell_type": "code",
   "source": "threshold = mean_price + 3 * std_price",
   "id": "e3f5b6d79550c17a",
   "outputs": [],
   "execution_count": 139
  },
  {
   "metadata": {
    "ExecuteTime": {
     "end_time": "2025-06-06T23:15:26.755275Z",
     "start_time": "2025-06-06T23:15:26.752104Z"
    }
   },
   "cell_type": "code",
   "source": "df['Outlier (3 * std Rule)'] = df['Total Price'].apply(lambda x: 'OUTLIER' if x > threshold else '')",
   "id": "cd6923b45b13fcb1",
   "outputs": [],
   "execution_count": 140
  },
  {
   "metadata": {
    "ExecuteTime": {
     "end_time": "2025-06-06T23:15:26.837119Z",
     "start_time": "2025-06-06T23:15:26.832172Z"
    }
   },
   "cell_type": "code",
   "source": "df[['Total Price', 'Outlier (3 * std Rule)']].head(3)",
   "id": "2cbc47048de1f2c0",
   "outputs": [
    {
     "data": {
      "text/plain": [
       "   Total Price Outlier (3 * std Rule)\n",
       "0        28.56                       \n",
       "1        44.68                       \n",
       "2       177.49                       "
      ],
      "text/html": [
       "<div>\n",
       "<style scoped>\n",
       "    .dataframe tbody tr th:only-of-type {\n",
       "        vertical-align: middle;\n",
       "    }\n",
       "\n",
       "    .dataframe tbody tr th {\n",
       "        vertical-align: top;\n",
       "    }\n",
       "\n",
       "    .dataframe thead th {\n",
       "        text-align: right;\n",
       "    }\n",
       "</style>\n",
       "<table border=\"1\" class=\"dataframe\">\n",
       "  <thead>\n",
       "    <tr style=\"text-align: right;\">\n",
       "      <th></th>\n",
       "      <th>Total Price</th>\n",
       "      <th>Outlier (3 * std Rule)</th>\n",
       "    </tr>\n",
       "  </thead>\n",
       "  <tbody>\n",
       "    <tr>\n",
       "      <th>0</th>\n",
       "      <td>28.56</td>\n",
       "      <td></td>\n",
       "    </tr>\n",
       "    <tr>\n",
       "      <th>1</th>\n",
       "      <td>44.68</td>\n",
       "      <td></td>\n",
       "    </tr>\n",
       "    <tr>\n",
       "      <th>2</th>\n",
       "      <td>177.49</td>\n",
       "      <td></td>\n",
       "    </tr>\n",
       "  </tbody>\n",
       "</table>\n",
       "</div>"
      ]
     },
     "execution_count": 141,
     "metadata": {},
     "output_type": "execute_result"
    }
   ],
   "execution_count": 141
  },
  {
   "metadata": {
    "ExecuteTime": {
     "end_time": "2025-06-06T23:15:26.856715Z",
     "start_time": "2025-06-06T23:15:26.853779Z"
    }
   },
   "cell_type": "code",
   "source": [
    "# 6. Randomly sample 20% of the dataset to simulate an A/B test group.\n",
    "ab_test_group = df.sample(frac=0.2, random_state=42)"
   ],
   "id": "ca5e04ca5d9ec8b5",
   "outputs": [],
   "execution_count": 142
  },
  {
   "metadata": {
    "ExecuteTime": {
     "end_time": "2025-06-06T23:15:26.868167Z",
     "start_time": "2025-06-06T23:15:26.858366Z"
    }
   },
   "cell_type": "code",
   "source": "ab_test_group.head(3)",
   "id": "40b013e66f5e7d7b",
   "outputs": [
    {
     "data": {
      "text/plain": [
       "    Date Purchased                        Receipt Number    Customer Name  \\\n",
       "224     2025-04-19  d03c9c2c-bc37-49b1-b48b-9a8c7eb3aefc    Andrea Wilson   \n",
       "42      2025-04-04  b787ef8d-3495-411e-ae27-d4321dc1e7eb     Gina Leblanc   \n",
       "285     2025-04-24  28876b7f-6469-4f53-bf50-85e7058cdd44  Kathryn Edwards   \n",
       "\n",
       "                             Customer Address         Phone Number  \\\n",
       "224  95535 Hull Freeway, North Brianna, 30270  (890)030-1027x24055   \n",
       "42       414 Mendez Forges, South Eric, 98508  +1-568-783-3918x785   \n",
       "285      339 Brad Knoll, Marshallmouth, 43016   (777)226-6025x6265   \n",
       "\n",
       "                         Email                               Store Location  \\\n",
       "224  andrea.wilson@hotmail.com  342 Mendoza Crossing, North Johnside, 27483   \n",
       "42      gina.leblanc@gmail.com        108 Ashley Drive, West Melissa, 58413   \n",
       "285  kathryn.edwards@gmail.com        2292 Cody Lock, Hernandezmouth, 26421   \n",
       "\n",
       "         Product Name Product Code      Bar Code  ... Total Price First Name  \\\n",
       "224  Pro ABS Filament      ABS-828  5.374580e+12  ...       39.19     Andrea   \n",
       "42   Pro ABS Filament      ABS-787  9.718710e+12  ...       59.83       Gina   \n",
       "285  Pro ABS Filament      ABS-838  4.843380e+12  ...       59.83    Kathryn   \n",
       "\n",
       "     Last Name House No.         Street           City  Zip Code  \\\n",
       "224     Wilson     95535   Hull Freeway  North Brianna     30270   \n",
       "42     Leblanc       414  Mendez Forges     South Eric     98508   \n",
       "285    Edwards       339     Brad Knoll  Marshallmouth     43016   \n",
       "\n",
       "     Customer Categories  Flag (more than 1 purchase) Outlier (3 * std Rule)  \n",
       "224                  low                                                      \n",
       "42                medium                                                      \n",
       "285               medium                                                      \n",
       "\n",
       "[3 rows x 28 columns]"
      ],
      "text/html": [
       "<div>\n",
       "<style scoped>\n",
       "    .dataframe tbody tr th:only-of-type {\n",
       "        vertical-align: middle;\n",
       "    }\n",
       "\n",
       "    .dataframe tbody tr th {\n",
       "        vertical-align: top;\n",
       "    }\n",
       "\n",
       "    .dataframe thead th {\n",
       "        text-align: right;\n",
       "    }\n",
       "</style>\n",
       "<table border=\"1\" class=\"dataframe\">\n",
       "  <thead>\n",
       "    <tr style=\"text-align: right;\">\n",
       "      <th></th>\n",
       "      <th>Date Purchased</th>\n",
       "      <th>Receipt Number</th>\n",
       "      <th>Customer Name</th>\n",
       "      <th>Customer Address</th>\n",
       "      <th>Phone Number</th>\n",
       "      <th>Email</th>\n",
       "      <th>Store Location</th>\n",
       "      <th>Product Name</th>\n",
       "      <th>Product Code</th>\n",
       "      <th>Bar Code</th>\n",
       "      <th>...</th>\n",
       "      <th>Total Price</th>\n",
       "      <th>First Name</th>\n",
       "      <th>Last Name</th>\n",
       "      <th>House No.</th>\n",
       "      <th>Street</th>\n",
       "      <th>City</th>\n",
       "      <th>Zip Code</th>\n",
       "      <th>Customer Categories</th>\n",
       "      <th>Flag (more than 1 purchase)</th>\n",
       "      <th>Outlier (3 * std Rule)</th>\n",
       "    </tr>\n",
       "  </thead>\n",
       "  <tbody>\n",
       "    <tr>\n",
       "      <th>224</th>\n",
       "      <td>2025-04-19</td>\n",
       "      <td>d03c9c2c-bc37-49b1-b48b-9a8c7eb3aefc</td>\n",
       "      <td>Andrea Wilson</td>\n",
       "      <td>95535 Hull Freeway, North Brianna, 30270</td>\n",
       "      <td>(890)030-1027x24055</td>\n",
       "      <td>andrea.wilson@hotmail.com</td>\n",
       "      <td>342 Mendoza Crossing, North Johnside, 27483</td>\n",
       "      <td>Pro ABS Filament</td>\n",
       "      <td>ABS-828</td>\n",
       "      <td>5.374580e+12</td>\n",
       "      <td>...</td>\n",
       "      <td>39.19</td>\n",
       "      <td>Andrea</td>\n",
       "      <td>Wilson</td>\n",
       "      <td>95535</td>\n",
       "      <td>Hull Freeway</td>\n",
       "      <td>North Brianna</td>\n",
       "      <td>30270</td>\n",
       "      <td>low</td>\n",
       "      <td></td>\n",
       "      <td></td>\n",
       "    </tr>\n",
       "    <tr>\n",
       "      <th>42</th>\n",
       "      <td>2025-04-04</td>\n",
       "      <td>b787ef8d-3495-411e-ae27-d4321dc1e7eb</td>\n",
       "      <td>Gina Leblanc</td>\n",
       "      <td>414 Mendez Forges, South Eric, 98508</td>\n",
       "      <td>+1-568-783-3918x785</td>\n",
       "      <td>gina.leblanc@gmail.com</td>\n",
       "      <td>108 Ashley Drive, West Melissa, 58413</td>\n",
       "      <td>Pro ABS Filament</td>\n",
       "      <td>ABS-787</td>\n",
       "      <td>9.718710e+12</td>\n",
       "      <td>...</td>\n",
       "      <td>59.83</td>\n",
       "      <td>Gina</td>\n",
       "      <td>Leblanc</td>\n",
       "      <td>414</td>\n",
       "      <td>Mendez Forges</td>\n",
       "      <td>South Eric</td>\n",
       "      <td>98508</td>\n",
       "      <td>medium</td>\n",
       "      <td></td>\n",
       "      <td></td>\n",
       "    </tr>\n",
       "    <tr>\n",
       "      <th>285</th>\n",
       "      <td>2025-04-24</td>\n",
       "      <td>28876b7f-6469-4f53-bf50-85e7058cdd44</td>\n",
       "      <td>Kathryn Edwards</td>\n",
       "      <td>339 Brad Knoll, Marshallmouth, 43016</td>\n",
       "      <td>(777)226-6025x6265</td>\n",
       "      <td>kathryn.edwards@gmail.com</td>\n",
       "      <td>2292 Cody Lock, Hernandezmouth, 26421</td>\n",
       "      <td>Pro ABS Filament</td>\n",
       "      <td>ABS-838</td>\n",
       "      <td>4.843380e+12</td>\n",
       "      <td>...</td>\n",
       "      <td>59.83</td>\n",
       "      <td>Kathryn</td>\n",
       "      <td>Edwards</td>\n",
       "      <td>339</td>\n",
       "      <td>Brad Knoll</td>\n",
       "      <td>Marshallmouth</td>\n",
       "      <td>43016</td>\n",
       "      <td>medium</td>\n",
       "      <td></td>\n",
       "      <td></td>\n",
       "    </tr>\n",
       "  </tbody>\n",
       "</table>\n",
       "<p>3 rows × 28 columns</p>\n",
       "</div>"
      ]
     },
     "execution_count": 143,
     "metadata": {},
     "output_type": "execute_result"
    }
   ],
   "execution_count": 143
  },
  {
   "metadata": {
    "ExecuteTime": {
     "end_time": "2025-06-06T23:15:26.890084Z",
     "start_time": "2025-06-06T23:15:26.882038Z"
    }
   },
   "cell_type": "code",
   "source": "df['AB Group'] = pd.Series(df.index.isin(ab_test_group.index), index=df.index).map({True: 'Test', False: 'Control'})",
   "id": "5db6e276273a2726",
   "outputs": [],
   "execution_count": 144
  },
  {
   "metadata": {
    "ExecuteTime": {
     "end_time": "2025-06-06T23:15:46.571800Z",
     "start_time": "2025-06-06T23:15:46.563121Z"
    }
   },
   "cell_type": "code",
   "source": "df.head(3)",
   "id": "ee36f91544b60aef",
   "outputs": [
    {
     "data": {
      "text/plain": [
       "  Date Purchased                        Receipt Number     Customer Name  \\\n",
       "0     2025-04-01  1ff49b78-8946-4e85-b59c-de66bacfb3d0  Danielle Johnson   \n",
       "1     2025-04-01  434308bc-89fa-4a68-8fb5-d27bbeb79919      Tracie Wyatt   \n",
       "2     2025-04-01  52fbe43b-9954-4eb4-8025-7ad1eb2263dd        Eric Moore   \n",
       "\n",
       "                                  Customer Address           Phone Number  \\\n",
       "0  3321 Brittany Bypass, North Jefferyhaven, 79408             8386379402   \n",
       "1        64752 Kelly Skyway, Jacquelineland, 80341   +1-283-276-4835x0305   \n",
       "2             691 James Mountain, Tashatown, 89667  001-184-514-6270x4828   \n",
       "\n",
       "                          Email                              Store Location  \\\n",
       "0  danielle.johnson@hotmail.com  5423 Garcia Light, West Melanieview, 06196   \n",
       "1        tracie.wyatt@yahoo.com         1395 Diana Locks, Thomasberg, 32826   \n",
       "2          eric.moore@gmail.com        489 Eric Track, New Stephanie, 70015   \n",
       "\n",
       "            Product Name Product Code      Bar Code  ... First Name Last Name  \\\n",
       "0  Standard PLA Filament      PLA-792  6.184960e+12  ...   Danielle   Johnson   \n",
       "1  Flexible TPU Filament      TPU-338  9.696530e+12  ...     Tracie     Wyatt   \n",
       "2  Flexible TPU Filament      TPU-325  7.015430e+12  ...       Eric     Moore   \n",
       "\n",
       "   House No.           Street                City  Zip Code  \\\n",
       "0       3321  Brittany Bypass  North Jefferyhaven     79408   \n",
       "1      64752     Kelly Skyway      Jacquelineland     80341   \n",
       "2        691   James Mountain           Tashatown     89667   \n",
       "\n",
       "   Customer Categories  Flag (more than 1 purchase)  Outlier (3 * std Rule)  \\\n",
       "0                  low                                                        \n",
       "1                  low                                                        \n",
       "2                 high                                                        \n",
       "\n",
       "  AB Group  \n",
       "0  Control  \n",
       "1  Control  \n",
       "2  Control  \n",
       "\n",
       "[3 rows x 29 columns]"
      ],
      "text/html": [
       "<div>\n",
       "<style scoped>\n",
       "    .dataframe tbody tr th:only-of-type {\n",
       "        vertical-align: middle;\n",
       "    }\n",
       "\n",
       "    .dataframe tbody tr th {\n",
       "        vertical-align: top;\n",
       "    }\n",
       "\n",
       "    .dataframe thead th {\n",
       "        text-align: right;\n",
       "    }\n",
       "</style>\n",
       "<table border=\"1\" class=\"dataframe\">\n",
       "  <thead>\n",
       "    <tr style=\"text-align: right;\">\n",
       "      <th></th>\n",
       "      <th>Date Purchased</th>\n",
       "      <th>Receipt Number</th>\n",
       "      <th>Customer Name</th>\n",
       "      <th>Customer Address</th>\n",
       "      <th>Phone Number</th>\n",
       "      <th>Email</th>\n",
       "      <th>Store Location</th>\n",
       "      <th>Product Name</th>\n",
       "      <th>Product Code</th>\n",
       "      <th>Bar Code</th>\n",
       "      <th>...</th>\n",
       "      <th>First Name</th>\n",
       "      <th>Last Name</th>\n",
       "      <th>House No.</th>\n",
       "      <th>Street</th>\n",
       "      <th>City</th>\n",
       "      <th>Zip Code</th>\n",
       "      <th>Customer Categories</th>\n",
       "      <th>Flag (more than 1 purchase)</th>\n",
       "      <th>Outlier (3 * std Rule)</th>\n",
       "      <th>AB Group</th>\n",
       "    </tr>\n",
       "  </thead>\n",
       "  <tbody>\n",
       "    <tr>\n",
       "      <th>0</th>\n",
       "      <td>2025-04-01</td>\n",
       "      <td>1ff49b78-8946-4e85-b59c-de66bacfb3d0</td>\n",
       "      <td>Danielle Johnson</td>\n",
       "      <td>3321 Brittany Bypass, North Jefferyhaven, 79408</td>\n",
       "      <td>8386379402</td>\n",
       "      <td>danielle.johnson@hotmail.com</td>\n",
       "      <td>5423 Garcia Light, West Melanieview, 06196</td>\n",
       "      <td>Standard PLA Filament</td>\n",
       "      <td>PLA-792</td>\n",
       "      <td>6.184960e+12</td>\n",
       "      <td>...</td>\n",
       "      <td>Danielle</td>\n",
       "      <td>Johnson</td>\n",
       "      <td>3321</td>\n",
       "      <td>Brittany Bypass</td>\n",
       "      <td>North Jefferyhaven</td>\n",
       "      <td>79408</td>\n",
       "      <td>low</td>\n",
       "      <td></td>\n",
       "      <td></td>\n",
       "      <td>Control</td>\n",
       "    </tr>\n",
       "    <tr>\n",
       "      <th>1</th>\n",
       "      <td>2025-04-01</td>\n",
       "      <td>434308bc-89fa-4a68-8fb5-d27bbeb79919</td>\n",
       "      <td>Tracie Wyatt</td>\n",
       "      <td>64752 Kelly Skyway, Jacquelineland, 80341</td>\n",
       "      <td>+1-283-276-4835x0305</td>\n",
       "      <td>tracie.wyatt@yahoo.com</td>\n",
       "      <td>1395 Diana Locks, Thomasberg, 32826</td>\n",
       "      <td>Flexible TPU Filament</td>\n",
       "      <td>TPU-338</td>\n",
       "      <td>9.696530e+12</td>\n",
       "      <td>...</td>\n",
       "      <td>Tracie</td>\n",
       "      <td>Wyatt</td>\n",
       "      <td>64752</td>\n",
       "      <td>Kelly Skyway</td>\n",
       "      <td>Jacquelineland</td>\n",
       "      <td>80341</td>\n",
       "      <td>low</td>\n",
       "      <td></td>\n",
       "      <td></td>\n",
       "      <td>Control</td>\n",
       "    </tr>\n",
       "    <tr>\n",
       "      <th>2</th>\n",
       "      <td>2025-04-01</td>\n",
       "      <td>52fbe43b-9954-4eb4-8025-7ad1eb2263dd</td>\n",
       "      <td>Eric Moore</td>\n",
       "      <td>691 James Mountain, Tashatown, 89667</td>\n",
       "      <td>001-184-514-6270x4828</td>\n",
       "      <td>eric.moore@gmail.com</td>\n",
       "      <td>489 Eric Track, New Stephanie, 70015</td>\n",
       "      <td>Flexible TPU Filament</td>\n",
       "      <td>TPU-325</td>\n",
       "      <td>7.015430e+12</td>\n",
       "      <td>...</td>\n",
       "      <td>Eric</td>\n",
       "      <td>Moore</td>\n",
       "      <td>691</td>\n",
       "      <td>James Mountain</td>\n",
       "      <td>Tashatown</td>\n",
       "      <td>89667</td>\n",
       "      <td>high</td>\n",
       "      <td></td>\n",
       "      <td></td>\n",
       "      <td>Control</td>\n",
       "    </tr>\n",
       "  </tbody>\n",
       "</table>\n",
       "<p>3 rows × 29 columns</p>\n",
       "</div>"
      ]
     },
     "execution_count": 145,
     "metadata": {},
     "output_type": "execute_result"
    }
   ],
   "execution_count": 145
  },
  {
   "metadata": {},
   "cell_type": "code",
   "outputs": [],
   "execution_count": null,
   "source": "",
   "id": "30129c37e0695087"
  }
 ],
 "metadata": {
  "kernelspec": {
   "display_name": "Python 3",
   "language": "python",
   "name": "python3"
  },
  "language_info": {
   "codemirror_mode": {
    "name": "ipython",
    "version": 2
   },
   "file_extension": ".py",
   "mimetype": "text/x-python",
   "name": "python",
   "nbconvert_exporter": "python",
   "pygments_lexer": "ipython2",
   "version": "2.7.6"
  }
 },
 "nbformat": 4,
 "nbformat_minor": 5
}
